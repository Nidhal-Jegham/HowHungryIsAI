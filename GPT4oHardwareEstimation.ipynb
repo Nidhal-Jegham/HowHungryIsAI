{
 "cells": [
  {
   "cell_type": "code",
   "execution_count": 7,
   "metadata": {},
   "outputs": [],
   "source": [
    "import pandas as pd \n",
    "import numpy as np \n",
    "import plotly.express as px \n",
    "import plotly.graph_objects as go\n",
    "import plotly.subplots as sp\n",
    "import statsmodels.api as sm\n",
    "from IPython.display import display\n",
    "import pandas as pd\n",
    "import statsmodels.api as sm\n",
    "from statsmodels.formula.api import ols\n",
    "from statsmodels.stats.multicomp import pairwise_tukeyhsd\n"
   ]
  },
  {
   "cell_type": "code",
   "execution_count": 49,
   "metadata": {},
   "outputs": [],
   "source": [
    "df= pd.read_csv(r'/Users/nidhaljegham/AI Environmental Foorprint Project/GPT4oHardware.csv')"
   ]
  },
  {
   "cell_type": "code",
   "execution_count": 148,
   "metadata": {},
   "outputs": [],
   "source": [
    "df_boxplot= pd.read_csv(r'/Users/nidhaljegham/AI Environmental Foorprint Project/GPT4oHardware.csv')"
   ]
  },
  {
   "cell_type": "code",
   "execution_count": 50,
   "metadata": {},
   "outputs": [
    {
     "data": {
      "text/html": [
       "<div>\n",
       "<style scoped>\n",
       "    .dataframe tbody tr th:only-of-type {\n",
       "        vertical-align: middle;\n",
       "    }\n",
       "\n",
       "    .dataframe tbody tr th {\n",
       "        vertical-align: top;\n",
       "    }\n",
       "\n",
       "    .dataframe thead th {\n",
       "        text-align: right;\n",
       "    }\n",
       "</style>\n",
       "<table border=\"1\" class=\"dataframe\">\n",
       "  <thead>\n",
       "    <tr style=\"text-align: right;\">\n",
       "      <th></th>\n",
       "      <th>Model</th>\n",
       "      <th>Organization</th>\n",
       "      <th>API Provider</th>\n",
       "      <th>GPUs Used</th>\n",
       "      <th>System (DGX/HGX)</th>\n",
       "      <th>Critical Power (kW)</th>\n",
       "      <th>Non GPU</th>\n",
       "      <th>Utilization Rate (min)</th>\n",
       "      <th>Utilization Rate (max)</th>\n",
       "      <th>PUE</th>\n",
       "      <th>...</th>\n",
       "      <th>P25.4</th>\n",
       "      <th>P75.4</th>\n",
       "      <th>P95.4</th>\n",
       "      <th>Mean.5</th>\n",
       "      <th>Median.5</th>\n",
       "      <th>Variance.5</th>\n",
       "      <th>P5.5</th>\n",
       "      <th>P25.5</th>\n",
       "      <th>P75.5</th>\n",
       "      <th>P95.5</th>\n",
       "    </tr>\n",
       "  </thead>\n",
       "  <tbody>\n",
       "    <tr>\n",
       "      <th>0</th>\n",
       "      <td>GPT-4o (Mar '25)</td>\n",
       "      <td>OpenAI</td>\n",
       "      <td>OpenAI</td>\n",
       "      <td>Nvidia H100</td>\n",
       "      <td>HGX H100</td>\n",
       "      <td>5.6</td>\n",
       "      <td>0.29</td>\n",
       "      <td>5.50%</td>\n",
       "      <td>7.50%</td>\n",
       "      <td>1.12</td>\n",
       "      <td>...</td>\n",
       "      <td>0.000106</td>\n",
       "      <td>0.000157</td>\n",
       "      <td>0.000191</td>\n",
       "      <td>0.000161</td>\n",
       "      <td>0.000155</td>\n",
       "      <td>6.000000e-09</td>\n",
       "      <td>0.000092343</td>\n",
       "      <td>0.000125</td>\n",
       "      <td>0.000186</td>\n",
       "      <td>0.000225</td>\n",
       "    </tr>\n",
       "    <tr>\n",
       "      <th>1</th>\n",
       "      <td>GPT-4o mini</td>\n",
       "      <td>OpenAI</td>\n",
       "      <td>OpenAI</td>\n",
       "      <td>Nvidia H100</td>\n",
       "      <td>HGX H100</td>\n",
       "      <td>5.6</td>\n",
       "      <td>0.14</td>\n",
       "      <td>3.00%</td>\n",
       "      <td>4.50%</td>\n",
       "      <td>1.12</td>\n",
       "      <td>...</td>\n",
       "      <td>0.000127</td>\n",
       "      <td>0.000161</td>\n",
       "      <td>0.000197</td>\n",
       "      <td>0.000188</td>\n",
       "      <td>0.000175</td>\n",
       "      <td>4.000000e-09</td>\n",
       "      <td>0.000146418</td>\n",
       "      <td>0.000161</td>\n",
       "      <td>0.000204</td>\n",
       "      <td>0.000249</td>\n",
       "    </tr>\n",
       "    <tr>\n",
       "      <th>2</th>\n",
       "      <td>GPT-4 Turbo</td>\n",
       "      <td>OpenAI</td>\n",
       "      <td>OpenAI</td>\n",
       "      <td>Nvidia H100</td>\n",
       "      <td>HGX H100</td>\n",
       "      <td>5.6</td>\n",
       "      <td>0.29</td>\n",
       "      <td>5.50%</td>\n",
       "      <td>7.50%</td>\n",
       "      <td>1.12</td>\n",
       "      <td>...</td>\n",
       "      <td>0.000461</td>\n",
       "      <td>0.000645</td>\n",
       "      <td>0.000716</td>\n",
       "      <td>0.000649</td>\n",
       "      <td>0.000630</td>\n",
       "      <td>6.200000e-08</td>\n",
       "      <td>0.000426840</td>\n",
       "      <td>0.000545</td>\n",
       "      <td>0.000763</td>\n",
       "      <td>0.000847</td>\n",
       "    </tr>\n",
       "    <tr>\n",
       "      <th>3</th>\n",
       "      <td>GPT-4o mini</td>\n",
       "      <td>OpenAI</td>\n",
       "      <td>OpenAI</td>\n",
       "      <td>Nvidia A100</td>\n",
       "      <td>HGX A100</td>\n",
       "      <td>3.2</td>\n",
       "      <td>0.10</td>\n",
       "      <td>6.25%</td>\n",
       "      <td>7.00%</td>\n",
       "      <td>1.12</td>\n",
       "      <td>...</td>\n",
       "      <td>0.000122</td>\n",
       "      <td>0.000156</td>\n",
       "      <td>0.000190</td>\n",
       "      <td>0.000154</td>\n",
       "      <td>0.000144</td>\n",
       "      <td>2.000000e-09</td>\n",
       "      <td>0.000120324</td>\n",
       "      <td>0.000132</td>\n",
       "      <td>0.000168</td>\n",
       "      <td>0.000205</td>\n",
       "    </tr>\n",
       "    <tr>\n",
       "      <th>4</th>\n",
       "      <td>GPT-4 Turbo</td>\n",
       "      <td>OpenAI</td>\n",
       "      <td>OpenAI</td>\n",
       "      <td>Nvidia A100</td>\n",
       "      <td>HGX A100</td>\n",
       "      <td>3.2</td>\n",
       "      <td>0.21</td>\n",
       "      <td>12.50%</td>\n",
       "      <td>15.00%</td>\n",
       "      <td>1.12</td>\n",
       "      <td>...</td>\n",
       "      <td>0.000461</td>\n",
       "      <td>0.000646</td>\n",
       "      <td>0.000717</td>\n",
       "      <td>0.000620</td>\n",
       "      <td>0.000602</td>\n",
       "      <td>5.700000e-08</td>\n",
       "      <td>0.000407783</td>\n",
       "      <td>0.000521</td>\n",
       "      <td>0.000729</td>\n",
       "      <td>0.000809</td>\n",
       "    </tr>\n",
       "  </tbody>\n",
       "</table>\n",
       "<p>5 rows × 118 columns</p>\n",
       "</div>"
      ],
      "text/plain": [
       "              Model Organization API Provider    GPUs Used System (DGX/HGX)  \\\n",
       "0  GPT-4o (Mar '25)       OpenAI       OpenAI  Nvidia H100         HGX H100   \n",
       "1       GPT-4o mini       OpenAI       OpenAI  Nvidia H100         HGX H100   \n",
       "2       GPT-4 Turbo       OpenAI       OpenAI  Nvidia H100         HGX H100   \n",
       "3       GPT-4o mini       OpenAI       OpenAI  Nvidia A100         HGX A100   \n",
       "4       GPT-4 Turbo       OpenAI       OpenAI  Nvidia A100         HGX A100   \n",
       "\n",
       "   Critical Power (kW)  Non GPU Utilization Rate (min) Utilization Rate (max)  \\\n",
       "0                  5.6     0.29                  5.50%                  7.50%   \n",
       "1                  5.6     0.14                  3.00%                  4.50%   \n",
       "2                  5.6     0.29                  5.50%                  7.50%   \n",
       "3                  3.2     0.10                  6.25%                  7.00%   \n",
       "4                  3.2     0.21                 12.50%                 15.00%   \n",
       "\n",
       "    PUE  ...     P25.4     P75.4     P95.4    Mean.5  Median.5    Variance.5  \\\n",
       "0  1.12  ...  0.000106  0.000157  0.000191  0.000161  0.000155  6.000000e-09   \n",
       "1  1.12  ...  0.000127  0.000161  0.000197  0.000188  0.000175  4.000000e-09   \n",
       "2  1.12  ...  0.000461  0.000645  0.000716  0.000649  0.000630  6.200000e-08   \n",
       "3  1.12  ...  0.000122  0.000156  0.000190  0.000154  0.000144  2.000000e-09   \n",
       "4  1.12  ...  0.000461  0.000646  0.000717  0.000620  0.000602  5.700000e-08   \n",
       "\n",
       "          P5.5     P25.5     P75.5     P95.5  \n",
       "0  0.000092343  0.000125  0.000186  0.000225  \n",
       "1  0.000146418  0.000161  0.000204  0.000249  \n",
       "2  0.000426840  0.000545  0.000763  0.000847  \n",
       "3  0.000120324  0.000132  0.000168  0.000205  \n",
       "4  0.000407783  0.000521  0.000729  0.000809  \n",
       "\n",
       "[5 rows x 118 columns]"
      ]
     },
     "execution_count": 50,
     "metadata": {},
     "output_type": "execute_result"
    }
   ],
   "source": [
    "df.head()"
   ]
  },
  {
   "cell_type": "code",
   "execution_count": null,
   "metadata": {},
   "outputs": [],
   "source": []
  },
  {
   "cell_type": "code",
   "execution_count": 51,
   "metadata": {},
   "outputs": [
    {
     "data": {
      "text/html": [
       "<div>\n",
       "<style scoped>\n",
       "    .dataframe tbody tr th:only-of-type {\n",
       "        vertical-align: middle;\n",
       "    }\n",
       "\n",
       "    .dataframe tbody tr th {\n",
       "        vertical-align: top;\n",
       "    }\n",
       "\n",
       "    .dataframe thead th {\n",
       "        text-align: right;\n",
       "    }\n",
       "</style>\n",
       "<table border=\"1\" class=\"dataframe\">\n",
       "  <thead>\n",
       "    <tr style=\"text-align: right;\">\n",
       "      <th></th>\n",
       "      <th>Model</th>\n",
       "      <th>Organization</th>\n",
       "      <th>API Provider</th>\n",
       "      <th>GPUs Used</th>\n",
       "      <th>Output Token Size</th>\n",
       "      <th>Output Speed (100 Tokens input 300 tokens output) (P5) Latency (100 Tokens input 300 tokens output) (P5)</th>\n",
       "      <th>Output Speed (100 Tokens input 300 tokens output) (P5) Latency (100 Tokens input 300 tokens output) (P25)</th>\n",
       "      <th>Output Speed (100 Tokens input 300 tokens output) (P5) Latency (100 Tokens input 300 tokens output) (median)</th>\n",
       "      <th>Output Speed (100 Tokens input 300 tokens output) (P5) Output Speed (100 Tokens input 300 tokens output) (P75)</th>\n",
       "      <th>Output Speed (100 Tokens input 300 tokens output) (P5) Latency (100 Tokens input 300 tokens output) (P95)</th>\n",
       "      <th>...</th>\n",
       "      <th>Output Speed (100 Tokens input 300 tokens output) (P75) Latency (100 Tokens input 300 tokens output) (P5)</th>\n",
       "      <th>Output Speed (100 Tokens input 300 tokens output) (P75) Latency (100 Tokens input 300 tokens output) (P25)</th>\n",
       "      <th>Output Speed (100 Tokens input 300 tokens output) (P75) Latency (100 Tokens input 300 tokens output) (median)</th>\n",
       "      <th>Output Speed (100 Tokens input 300 tokens output) (P75) Output Speed (100 Tokens input 300 tokens output) (P75)</th>\n",
       "      <th>Output Speed (100 Tokens input 300 tokens output) (P75) Latency (100 Tokens input 300 tokens output) (P95)</th>\n",
       "      <th>Output Speed (100 Tokens input 300 tokens output) (P95) Latency (100 Tokens input 300 tokens output) (P5)</th>\n",
       "      <th>Output Speed (100 Tokens input 300 tokens output) (P95) Latency (100 Tokens input 300 tokens output) (P25)</th>\n",
       "      <th>Output Speed (100 Tokens input 300 tokens output) (P95) Latency (100 Tokens input 300 tokens output) (median)</th>\n",
       "      <th>Output Speed (100 Tokens input 300 tokens output) (P95) Output Speed (100 Tokens input 300 tokens output) (P75)</th>\n",
       "      <th>Output Speed (100 Tokens input 300 tokens output) (P95) Latency (100 Tokens input 300 tokens output) (P95)</th>\n",
       "    </tr>\n",
       "  </thead>\n",
       "  <tbody>\n",
       "    <tr>\n",
       "      <th>0</th>\n",
       "      <td>GPT-4o (Mar '25)</td>\n",
       "      <td>OpenAI</td>\n",
       "      <td>OpenAI</td>\n",
       "      <td>Nvidia H100</td>\n",
       "      <td>300.0</td>\n",
       "      <td>0.000523</td>\n",
       "      <td>0.000530</td>\n",
       "      <td>0.000536</td>\n",
       "      <td>0.000541</td>\n",
       "      <td>0.000599</td>\n",
       "      <td>...</td>\n",
       "      <td>0.000292</td>\n",
       "      <td>0.000299</td>\n",
       "      <td>0.000305</td>\n",
       "      <td>0.000310</td>\n",
       "      <td>0.000368</td>\n",
       "      <td>0.000213</td>\n",
       "      <td>0.000220</td>\n",
       "      <td>0.000226</td>\n",
       "      <td>0.000231</td>\n",
       "      <td>0.000289</td>\n",
       "    </tr>\n",
       "    <tr>\n",
       "      <th>1</th>\n",
       "      <td>GPT-4o mini</td>\n",
       "      <td>OpenAI</td>\n",
       "      <td>OpenAI</td>\n",
       "      <td>Nvidia H100</td>\n",
       "      <td>300.0</td>\n",
       "      <td>0.000546</td>\n",
       "      <td>0.000549</td>\n",
       "      <td>0.000555</td>\n",
       "      <td>0.000559</td>\n",
       "      <td>0.000569</td>\n",
       "      <td>...</td>\n",
       "      <td>0.000357</td>\n",
       "      <td>0.000360</td>\n",
       "      <td>0.000366</td>\n",
       "      <td>0.000370</td>\n",
       "      <td>0.000380</td>\n",
       "      <td>0.000324</td>\n",
       "      <td>0.000326</td>\n",
       "      <td>0.000333</td>\n",
       "      <td>0.000337</td>\n",
       "      <td>0.000347</td>\n",
       "    </tr>\n",
       "    <tr>\n",
       "      <th>2</th>\n",
       "      <td>GPT-4 Turbo</td>\n",
       "      <td>OpenAI</td>\n",
       "      <td>OpenAI</td>\n",
       "      <td>Nvidia H100</td>\n",
       "      <td>300.0</td>\n",
       "      <td>0.001993</td>\n",
       "      <td>0.001998</td>\n",
       "      <td>0.002009</td>\n",
       "      <td>0.002034</td>\n",
       "      <td>0.002110</td>\n",
       "      <td>...</td>\n",
       "      <td>0.001301</td>\n",
       "      <td>0.001306</td>\n",
       "      <td>0.001317</td>\n",
       "      <td>0.001342</td>\n",
       "      <td>0.001418</td>\n",
       "      <td>0.001015</td>\n",
       "      <td>0.001020</td>\n",
       "      <td>0.001031</td>\n",
       "      <td>0.001056</td>\n",
       "      <td>0.001132</td>\n",
       "    </tr>\n",
       "    <tr>\n",
       "      <th>3</th>\n",
       "      <td>GPT-4o mini</td>\n",
       "      <td>OpenAI</td>\n",
       "      <td>OpenAI</td>\n",
       "      <td>Nvidia A100</td>\n",
       "      <td>300.0</td>\n",
       "      <td>0.000527</td>\n",
       "      <td>0.000529</td>\n",
       "      <td>0.000536</td>\n",
       "      <td>0.000540</td>\n",
       "      <td>0.000549</td>\n",
       "      <td>...</td>\n",
       "      <td>0.000344</td>\n",
       "      <td>0.000347</td>\n",
       "      <td>0.000354</td>\n",
       "      <td>0.000357</td>\n",
       "      <td>0.000366</td>\n",
       "      <td>0.000312</td>\n",
       "      <td>0.000315</td>\n",
       "      <td>0.000321</td>\n",
       "      <td>0.000325</td>\n",
       "      <td>0.000334</td>\n",
       "    </tr>\n",
       "    <tr>\n",
       "      <th>4</th>\n",
       "      <td>GPT-4 Turbo</td>\n",
       "      <td>OpenAI</td>\n",
       "      <td>OpenAI</td>\n",
       "      <td>Nvidia A100</td>\n",
       "      <td>300.0</td>\n",
       "      <td>0.001995</td>\n",
       "      <td>0.002001</td>\n",
       "      <td>0.002011</td>\n",
       "      <td>0.002037</td>\n",
       "      <td>0.002113</td>\n",
       "      <td>...</td>\n",
       "      <td>0.001303</td>\n",
       "      <td>0.001308</td>\n",
       "      <td>0.001319</td>\n",
       "      <td>0.001344</td>\n",
       "      <td>0.001420</td>\n",
       "      <td>0.001016</td>\n",
       "      <td>0.001022</td>\n",
       "      <td>0.001033</td>\n",
       "      <td>0.001058</td>\n",
       "      <td>0.001134</td>\n",
       "    </tr>\n",
       "    <tr>\n",
       "      <th>5</th>\n",
       "      <td>GPT-4o mini</td>\n",
       "      <td>OpenAI</td>\n",
       "      <td>Microsoft Azure</td>\n",
       "      <td>Nvidia H100</td>\n",
       "      <td>300.0</td>\n",
       "      <td>0.000465</td>\n",
       "      <td>0.000478</td>\n",
       "      <td>0.000489</td>\n",
       "      <td>0.000499</td>\n",
       "      <td>0.000516</td>\n",
       "      <td>...</td>\n",
       "      <td>0.000208</td>\n",
       "      <td>0.000221</td>\n",
       "      <td>0.000232</td>\n",
       "      <td>0.000242</td>\n",
       "      <td>0.000259</td>\n",
       "      <td>0.000187</td>\n",
       "      <td>0.000200</td>\n",
       "      <td>0.000211</td>\n",
       "      <td>0.000221</td>\n",
       "      <td>0.000239</td>\n",
       "    </tr>\n",
       "    <tr>\n",
       "      <th>6</th>\n",
       "      <td>GPT-4 Turbo</td>\n",
       "      <td>OpenAI</td>\n",
       "      <td>Microsoft Azure</td>\n",
       "      <td>Nvidia H100</td>\n",
       "      <td>300.0</td>\n",
       "      <td>0.001466</td>\n",
       "      <td>0.001475</td>\n",
       "      <td>0.001495</td>\n",
       "      <td>0.001535</td>\n",
       "      <td>0.001558</td>\n",
       "      <td>...</td>\n",
       "      <td>0.001087</td>\n",
       "      <td>0.001096</td>\n",
       "      <td>0.001116</td>\n",
       "      <td>0.001156</td>\n",
       "      <td>0.001179</td>\n",
       "      <td>0.001024</td>\n",
       "      <td>0.001033</td>\n",
       "      <td>0.001053</td>\n",
       "      <td>0.001093</td>\n",
       "      <td>0.001116</td>\n",
       "    </tr>\n",
       "    <tr>\n",
       "      <th>7</th>\n",
       "      <td>GPT-4o (Mar '25)</td>\n",
       "      <td>OpenAI</td>\n",
       "      <td>OpenAI</td>\n",
       "      <td>Nvidia H100</td>\n",
       "      <td>1000.0</td>\n",
       "      <td>0.001736</td>\n",
       "      <td>0.001746</td>\n",
       "      <td>0.001766</td>\n",
       "      <td>0.001781</td>\n",
       "      <td>0.001808</td>\n",
       "      <td>...</td>\n",
       "      <td>0.000869</td>\n",
       "      <td>0.000880</td>\n",
       "      <td>0.000900</td>\n",
       "      <td>0.000914</td>\n",
       "      <td>0.000941</td>\n",
       "      <td>0.000795</td>\n",
       "      <td>0.000806</td>\n",
       "      <td>0.000825</td>\n",
       "      <td>0.000840</td>\n",
       "      <td>0.000867</td>\n",
       "    </tr>\n",
       "    <tr>\n",
       "      <th>8</th>\n",
       "      <td>GPT-4o mini</td>\n",
       "      <td>OpenAI</td>\n",
       "      <td>OpenAI</td>\n",
       "      <td>Nvidia H100</td>\n",
       "      <td>1000.0</td>\n",
       "      <td>0.001912</td>\n",
       "      <td>0.001913</td>\n",
       "      <td>0.001914</td>\n",
       "      <td>0.001919</td>\n",
       "      <td>0.001935</td>\n",
       "      <td>...</td>\n",
       "      <td>0.001150</td>\n",
       "      <td>0.001152</td>\n",
       "      <td>0.001153</td>\n",
       "      <td>0.001158</td>\n",
       "      <td>0.001174</td>\n",
       "      <td>0.001027</td>\n",
       "      <td>0.001029</td>\n",
       "      <td>0.001030</td>\n",
       "      <td>0.001035</td>\n",
       "      <td>0.001051</td>\n",
       "    </tr>\n",
       "    <tr>\n",
       "      <th>9</th>\n",
       "      <td>GPT-4 Turbo</td>\n",
       "      <td>OpenAI</td>\n",
       "      <td>OpenAI</td>\n",
       "      <td>Nvidia H100</td>\n",
       "      <td>1000.0</td>\n",
       "      <td>0.011094</td>\n",
       "      <td>0.011112</td>\n",
       "      <td>0.011123</td>\n",
       "      <td>0.011181</td>\n",
       "      <td>0.011220</td>\n",
       "      <td>...</td>\n",
       "      <td>0.004371</td>\n",
       "      <td>0.004389</td>\n",
       "      <td>0.004400</td>\n",
       "      <td>0.004458</td>\n",
       "      <td>0.004497</td>\n",
       "      <td>0.003450</td>\n",
       "      <td>0.003468</td>\n",
       "      <td>0.003478</td>\n",
       "      <td>0.003536</td>\n",
       "      <td>0.003576</td>\n",
       "    </tr>\n",
       "    <tr>\n",
       "      <th>10</th>\n",
       "      <td>GPT-4o mini</td>\n",
       "      <td>OpenAI</td>\n",
       "      <td>OpenAI</td>\n",
       "      <td>Nvidia A100</td>\n",
       "      <td>1000.0</td>\n",
       "      <td>0.001845</td>\n",
       "      <td>0.001846</td>\n",
       "      <td>0.001847</td>\n",
       "      <td>0.001852</td>\n",
       "      <td>0.001868</td>\n",
       "      <td>...</td>\n",
       "      <td>0.001110</td>\n",
       "      <td>0.001112</td>\n",
       "      <td>0.001113</td>\n",
       "      <td>0.001117</td>\n",
       "      <td>0.001133</td>\n",
       "      <td>0.000991</td>\n",
       "      <td>0.000993</td>\n",
       "      <td>0.000994</td>\n",
       "      <td>0.000999</td>\n",
       "      <td>0.001014</td>\n",
       "    </tr>\n",
       "    <tr>\n",
       "      <th>11</th>\n",
       "      <td>GPT-4 Turbo</td>\n",
       "      <td>OpenAI</td>\n",
       "      <td>OpenAI</td>\n",
       "      <td>Nvidia A100</td>\n",
       "      <td>1000.0</td>\n",
       "      <td>0.011109</td>\n",
       "      <td>0.011127</td>\n",
       "      <td>0.011138</td>\n",
       "      <td>0.011196</td>\n",
       "      <td>0.011236</td>\n",
       "      <td>...</td>\n",
       "      <td>0.004377</td>\n",
       "      <td>0.004395</td>\n",
       "      <td>0.004406</td>\n",
       "      <td>0.004464</td>\n",
       "      <td>0.004503</td>\n",
       "      <td>0.003454</td>\n",
       "      <td>0.003472</td>\n",
       "      <td>0.003483</td>\n",
       "      <td>0.003541</td>\n",
       "      <td>0.003581</td>\n",
       "    </tr>\n",
       "    <tr>\n",
       "      <th>12</th>\n",
       "      <td>GPT-4o mini</td>\n",
       "      <td>OpenAI</td>\n",
       "      <td>Microsoft Azure</td>\n",
       "      <td>Nvidia H100</td>\n",
       "      <td>1000.0</td>\n",
       "      <td>0.001603</td>\n",
       "      <td>0.001611</td>\n",
       "      <td>0.001614</td>\n",
       "      <td>0.001625</td>\n",
       "      <td>0.001641</td>\n",
       "      <td>...</td>\n",
       "      <td>0.000747</td>\n",
       "      <td>0.000755</td>\n",
       "      <td>0.000758</td>\n",
       "      <td>0.000769</td>\n",
       "      <td>0.000785</td>\n",
       "      <td>0.000595</td>\n",
       "      <td>0.000604</td>\n",
       "      <td>0.000607</td>\n",
       "      <td>0.000617</td>\n",
       "      <td>0.000633</td>\n",
       "    </tr>\n",
       "    <tr>\n",
       "      <th>13</th>\n",
       "      <td>GPT-4 Turbo</td>\n",
       "      <td>OpenAI</td>\n",
       "      <td>Microsoft Azure</td>\n",
       "      <td>Nvidia H100</td>\n",
       "      <td>1000.0</td>\n",
       "      <td>0.005150</td>\n",
       "      <td>0.005165</td>\n",
       "      <td>0.005188</td>\n",
       "      <td>0.005213</td>\n",
       "      <td>0.005296</td>\n",
       "      <td>...</td>\n",
       "      <td>0.003549</td>\n",
       "      <td>0.003563</td>\n",
       "      <td>0.003587</td>\n",
       "      <td>0.003612</td>\n",
       "      <td>0.003695</td>\n",
       "      <td>0.003319</td>\n",
       "      <td>0.003333</td>\n",
       "      <td>0.003357</td>\n",
       "      <td>0.003382</td>\n",
       "      <td>0.003465</td>\n",
       "    </tr>\n",
       "    <tr>\n",
       "      <th>14</th>\n",
       "      <td>GPT-4o (Mar '25)</td>\n",
       "      <td>OpenAI</td>\n",
       "      <td>OpenAI</td>\n",
       "      <td>Nvidia H100</td>\n",
       "      <td>1500.0</td>\n",
       "      <td>0.002130</td>\n",
       "      <td>0.002132</td>\n",
       "      <td>0.002155</td>\n",
       "      <td>0.002193</td>\n",
       "      <td>0.002198</td>\n",
       "      <td>...</td>\n",
       "      <td>0.001408</td>\n",
       "      <td>0.001410</td>\n",
       "      <td>0.001434</td>\n",
       "      <td>0.001471</td>\n",
       "      <td>0.001477</td>\n",
       "      <td>0.001272</td>\n",
       "      <td>0.001273</td>\n",
       "      <td>0.001297</td>\n",
       "      <td>0.001335</td>\n",
       "      <td>0.001340</td>\n",
       "    </tr>\n",
       "    <tr>\n",
       "      <th>15</th>\n",
       "      <td>GPT-4o mini</td>\n",
       "      <td>OpenAI</td>\n",
       "      <td>OpenAI</td>\n",
       "      <td>Nvidia H100</td>\n",
       "      <td>1500.0</td>\n",
       "      <td>0.002811</td>\n",
       "      <td>0.002816</td>\n",
       "      <td>0.002818</td>\n",
       "      <td>0.002822</td>\n",
       "      <td>0.002835</td>\n",
       "      <td>...</td>\n",
       "      <td>0.001770</td>\n",
       "      <td>0.001776</td>\n",
       "      <td>0.001778</td>\n",
       "      <td>0.001781</td>\n",
       "      <td>0.001794</td>\n",
       "      <td>0.001469</td>\n",
       "      <td>0.001475</td>\n",
       "      <td>0.001477</td>\n",
       "      <td>0.001481</td>\n",
       "      <td>0.001493</td>\n",
       "    </tr>\n",
       "    <tr>\n",
       "      <th>16</th>\n",
       "      <td>GPT-4 Turbo</td>\n",
       "      <td>OpenAI</td>\n",
       "      <td>OpenAI</td>\n",
       "      <td>Nvidia H100</td>\n",
       "      <td>1500.0</td>\n",
       "      <td>0.012958</td>\n",
       "      <td>0.012969</td>\n",
       "      <td>0.012996</td>\n",
       "      <td>0.013022</td>\n",
       "      <td>0.013124</td>\n",
       "      <td>...</td>\n",
       "      <td>0.006987</td>\n",
       "      <td>0.006998</td>\n",
       "      <td>0.007025</td>\n",
       "      <td>0.007050</td>\n",
       "      <td>0.007153</td>\n",
       "      <td>0.006323</td>\n",
       "      <td>0.006334</td>\n",
       "      <td>0.006361</td>\n",
       "      <td>0.006387</td>\n",
       "      <td>0.006489</td>\n",
       "    </tr>\n",
       "    <tr>\n",
       "      <th>17</th>\n",
       "      <td>GPT-4o mini</td>\n",
       "      <td>OpenAI</td>\n",
       "      <td>OpenAI</td>\n",
       "      <td>Nvidia A100</td>\n",
       "      <td>1500.0</td>\n",
       "      <td>0.002712</td>\n",
       "      <td>0.002718</td>\n",
       "      <td>0.002720</td>\n",
       "      <td>0.002723</td>\n",
       "      <td>0.002735</td>\n",
       "      <td>...</td>\n",
       "      <td>0.001708</td>\n",
       "      <td>0.001713</td>\n",
       "      <td>0.001715</td>\n",
       "      <td>0.001719</td>\n",
       "      <td>0.001731</td>\n",
       "      <td>0.001418</td>\n",
       "      <td>0.001423</td>\n",
       "      <td>0.001425</td>\n",
       "      <td>0.001429</td>\n",
       "      <td>0.001441</td>\n",
       "    </tr>\n",
       "    <tr>\n",
       "      <th>18</th>\n",
       "      <td>GPT-4 Turbo</td>\n",
       "      <td>OpenAI</td>\n",
       "      <td>OpenAI</td>\n",
       "      <td>Nvidia A100</td>\n",
       "      <td>1500.0</td>\n",
       "      <td>0.012976</td>\n",
       "      <td>0.012987</td>\n",
       "      <td>0.013014</td>\n",
       "      <td>0.013039</td>\n",
       "      <td>0.013142</td>\n",
       "      <td>...</td>\n",
       "      <td>0.006997</td>\n",
       "      <td>0.007008</td>\n",
       "      <td>0.007035</td>\n",
       "      <td>0.007060</td>\n",
       "      <td>0.007163</td>\n",
       "      <td>0.006332</td>\n",
       "      <td>0.006343</td>\n",
       "      <td>0.006370</td>\n",
       "      <td>0.006395</td>\n",
       "      <td>0.006498</td>\n",
       "    </tr>\n",
       "    <tr>\n",
       "      <th>19</th>\n",
       "      <td>GPT-4o mini</td>\n",
       "      <td>OpenAI</td>\n",
       "      <td>Microsoft Azure</td>\n",
       "      <td>Nvidia H100</td>\n",
       "      <td>1500.0</td>\n",
       "      <td>0.001839</td>\n",
       "      <td>0.001856</td>\n",
       "      <td>0.001875</td>\n",
       "      <td>0.001891</td>\n",
       "      <td>0.001988</td>\n",
       "      <td>...</td>\n",
       "      <td>0.000894</td>\n",
       "      <td>0.000912</td>\n",
       "      <td>0.000931</td>\n",
       "      <td>0.000946</td>\n",
       "      <td>0.001044</td>\n",
       "      <td>0.000802</td>\n",
       "      <td>0.000820</td>\n",
       "      <td>0.000839</td>\n",
       "      <td>0.000854</td>\n",
       "      <td>0.000952</td>\n",
       "    </tr>\n",
       "    <tr>\n",
       "      <th>20</th>\n",
       "      <td>GPT-4 Turbo</td>\n",
       "      <td>OpenAI</td>\n",
       "      <td>Microsoft Azure</td>\n",
       "      <td>Nvidia H100</td>\n",
       "      <td>1500.0</td>\n",
       "      <td>0.009805</td>\n",
       "      <td>0.009821</td>\n",
       "      <td>0.009828</td>\n",
       "      <td>0.009904</td>\n",
       "      <td>0.009934</td>\n",
       "      <td>...</td>\n",
       "      <td>0.006247</td>\n",
       "      <td>0.006263</td>\n",
       "      <td>0.006270</td>\n",
       "      <td>0.006346</td>\n",
       "      <td>0.006377</td>\n",
       "      <td>0.005980</td>\n",
       "      <td>0.005996</td>\n",
       "      <td>0.006003</td>\n",
       "      <td>0.006079</td>\n",
       "      <td>0.006109</td>\n",
       "    </tr>\n",
       "  </tbody>\n",
       "</table>\n",
       "<p>21 rows × 30 columns</p>\n",
       "</div>"
      ],
      "text/plain": [
       "               Model Organization     API Provider    GPUs Used  \\\n",
       "0   GPT-4o (Mar '25)       OpenAI           OpenAI  Nvidia H100   \n",
       "1        GPT-4o mini       OpenAI           OpenAI  Nvidia H100   \n",
       "2        GPT-4 Turbo       OpenAI           OpenAI  Nvidia H100   \n",
       "3        GPT-4o mini       OpenAI           OpenAI  Nvidia A100   \n",
       "4        GPT-4 Turbo       OpenAI           OpenAI  Nvidia A100   \n",
       "5        GPT-4o mini       OpenAI  Microsoft Azure  Nvidia H100   \n",
       "6        GPT-4 Turbo       OpenAI  Microsoft Azure  Nvidia H100   \n",
       "7   GPT-4o (Mar '25)       OpenAI           OpenAI  Nvidia H100   \n",
       "8        GPT-4o mini       OpenAI           OpenAI  Nvidia H100   \n",
       "9        GPT-4 Turbo       OpenAI           OpenAI  Nvidia H100   \n",
       "10       GPT-4o mini       OpenAI           OpenAI  Nvidia A100   \n",
       "11       GPT-4 Turbo       OpenAI           OpenAI  Nvidia A100   \n",
       "12       GPT-4o mini       OpenAI  Microsoft Azure  Nvidia H100   \n",
       "13       GPT-4 Turbo       OpenAI  Microsoft Azure  Nvidia H100   \n",
       "14  GPT-4o (Mar '25)       OpenAI           OpenAI  Nvidia H100   \n",
       "15       GPT-4o mini       OpenAI           OpenAI  Nvidia H100   \n",
       "16       GPT-4 Turbo       OpenAI           OpenAI  Nvidia H100   \n",
       "17       GPT-4o mini       OpenAI           OpenAI  Nvidia A100   \n",
       "18       GPT-4 Turbo       OpenAI           OpenAI  Nvidia A100   \n",
       "19       GPT-4o mini       OpenAI  Microsoft Azure  Nvidia H100   \n",
       "20       GPT-4 Turbo       OpenAI  Microsoft Azure  Nvidia H100   \n",
       "\n",
       "    Output Token Size  \\\n",
       "0               300.0   \n",
       "1               300.0   \n",
       "2               300.0   \n",
       "3               300.0   \n",
       "4               300.0   \n",
       "5               300.0   \n",
       "6               300.0   \n",
       "7              1000.0   \n",
       "8              1000.0   \n",
       "9              1000.0   \n",
       "10             1000.0   \n",
       "11             1000.0   \n",
       "12             1000.0   \n",
       "13             1000.0   \n",
       "14             1500.0   \n",
       "15             1500.0   \n",
       "16             1500.0   \n",
       "17             1500.0   \n",
       "18             1500.0   \n",
       "19             1500.0   \n",
       "20             1500.0   \n",
       "\n",
       "    Output Speed (100 Tokens input 300 tokens output) (P5) Latency (100 Tokens input 300 tokens output) (P5)  \\\n",
       "0                                            0.000523                                                          \n",
       "1                                            0.000546                                                          \n",
       "2                                            0.001993                                                          \n",
       "3                                            0.000527                                                          \n",
       "4                                            0.001995                                                          \n",
       "5                                            0.000465                                                          \n",
       "6                                            0.001466                                                          \n",
       "7                                            0.001736                                                          \n",
       "8                                            0.001912                                                          \n",
       "9                                            0.011094                                                          \n",
       "10                                           0.001845                                                          \n",
       "11                                           0.011109                                                          \n",
       "12                                           0.001603                                                          \n",
       "13                                           0.005150                                                          \n",
       "14                                           0.002130                                                          \n",
       "15                                           0.002811                                                          \n",
       "16                                           0.012958                                                          \n",
       "17                                           0.002712                                                          \n",
       "18                                           0.012976                                                          \n",
       "19                                           0.001839                                                          \n",
       "20                                           0.009805                                                          \n",
       "\n",
       "    Output Speed (100 Tokens input 300 tokens output) (P5) Latency (100 Tokens input 300 tokens output) (P25)  \\\n",
       "0                                            0.000530                                                           \n",
       "1                                            0.000549                                                           \n",
       "2                                            0.001998                                                           \n",
       "3                                            0.000529                                                           \n",
       "4                                            0.002001                                                           \n",
       "5                                            0.000478                                                           \n",
       "6                                            0.001475                                                           \n",
       "7                                            0.001746                                                           \n",
       "8                                            0.001913                                                           \n",
       "9                                            0.011112                                                           \n",
       "10                                           0.001846                                                           \n",
       "11                                           0.011127                                                           \n",
       "12                                           0.001611                                                           \n",
       "13                                           0.005165                                                           \n",
       "14                                           0.002132                                                           \n",
       "15                                           0.002816                                                           \n",
       "16                                           0.012969                                                           \n",
       "17                                           0.002718                                                           \n",
       "18                                           0.012987                                                           \n",
       "19                                           0.001856                                                           \n",
       "20                                           0.009821                                                           \n",
       "\n",
       "    Output Speed (100 Tokens input 300 tokens output) (P5) Latency (100 Tokens input 300 tokens output) (median)  \\\n",
       "0                                            0.000536                                                              \n",
       "1                                            0.000555                                                              \n",
       "2                                            0.002009                                                              \n",
       "3                                            0.000536                                                              \n",
       "4                                            0.002011                                                              \n",
       "5                                            0.000489                                                              \n",
       "6                                            0.001495                                                              \n",
       "7                                            0.001766                                                              \n",
       "8                                            0.001914                                                              \n",
       "9                                            0.011123                                                              \n",
       "10                                           0.001847                                                              \n",
       "11                                           0.011138                                                              \n",
       "12                                           0.001614                                                              \n",
       "13                                           0.005188                                                              \n",
       "14                                           0.002155                                                              \n",
       "15                                           0.002818                                                              \n",
       "16                                           0.012996                                                              \n",
       "17                                           0.002720                                                              \n",
       "18                                           0.013014                                                              \n",
       "19                                           0.001875                                                              \n",
       "20                                           0.009828                                                              \n",
       "\n",
       "    Output Speed (100 Tokens input 300 tokens output) (P5) Output Speed (100 Tokens input 300 tokens output) (P75)  \\\n",
       "0                                            0.000541                                                                \n",
       "1                                            0.000559                                                                \n",
       "2                                            0.002034                                                                \n",
       "3                                            0.000540                                                                \n",
       "4                                            0.002037                                                                \n",
       "5                                            0.000499                                                                \n",
       "6                                            0.001535                                                                \n",
       "7                                            0.001781                                                                \n",
       "8                                            0.001919                                                                \n",
       "9                                            0.011181                                                                \n",
       "10                                           0.001852                                                                \n",
       "11                                           0.011196                                                                \n",
       "12                                           0.001625                                                                \n",
       "13                                           0.005213                                                                \n",
       "14                                           0.002193                                                                \n",
       "15                                           0.002822                                                                \n",
       "16                                           0.013022                                                                \n",
       "17                                           0.002723                                                                \n",
       "18                                           0.013039                                                                \n",
       "19                                           0.001891                                                                \n",
       "20                                           0.009904                                                                \n",
       "\n",
       "    Output Speed (100 Tokens input 300 tokens output) (P5) Latency (100 Tokens input 300 tokens output) (P95)   \\\n",
       "0                                            0.000599                                                            \n",
       "1                                            0.000569                                                            \n",
       "2                                            0.002110                                                            \n",
       "3                                            0.000549                                                            \n",
       "4                                            0.002113                                                            \n",
       "5                                            0.000516                                                            \n",
       "6                                            0.001558                                                            \n",
       "7                                            0.001808                                                            \n",
       "8                                            0.001935                                                            \n",
       "9                                            0.011220                                                            \n",
       "10                                           0.001868                                                            \n",
       "11                                           0.011236                                                            \n",
       "12                                           0.001641                                                            \n",
       "13                                           0.005296                                                            \n",
       "14                                           0.002198                                                            \n",
       "15                                           0.002835                                                            \n",
       "16                                           0.013124                                                            \n",
       "17                                           0.002735                                                            \n",
       "18                                           0.013142                                                            \n",
       "19                                           0.001988                                                            \n",
       "20                                           0.009934                                                            \n",
       "\n",
       "    ...  \\\n",
       "0   ...   \n",
       "1   ...   \n",
       "2   ...   \n",
       "3   ...   \n",
       "4   ...   \n",
       "5   ...   \n",
       "6   ...   \n",
       "7   ...   \n",
       "8   ...   \n",
       "9   ...   \n",
       "10  ...   \n",
       "11  ...   \n",
       "12  ...   \n",
       "13  ...   \n",
       "14  ...   \n",
       "15  ...   \n",
       "16  ...   \n",
       "17  ...   \n",
       "18  ...   \n",
       "19  ...   \n",
       "20  ...   \n",
       "\n",
       "    Output Speed (100 Tokens input 300 tokens output) (P75) Latency (100 Tokens input 300 tokens output) (P5)  \\\n",
       "0                                            0.000292                                                           \n",
       "1                                            0.000357                                                           \n",
       "2                                            0.001301                                                           \n",
       "3                                            0.000344                                                           \n",
       "4                                            0.001303                                                           \n",
       "5                                            0.000208                                                           \n",
       "6                                            0.001087                                                           \n",
       "7                                            0.000869                                                           \n",
       "8                                            0.001150                                                           \n",
       "9                                            0.004371                                                           \n",
       "10                                           0.001110                                                           \n",
       "11                                           0.004377                                                           \n",
       "12                                           0.000747                                                           \n",
       "13                                           0.003549                                                           \n",
       "14                                           0.001408                                                           \n",
       "15                                           0.001770                                                           \n",
       "16                                           0.006987                                                           \n",
       "17                                           0.001708                                                           \n",
       "18                                           0.006997                                                           \n",
       "19                                           0.000894                                                           \n",
       "20                                           0.006247                                                           \n",
       "\n",
       "    Output Speed (100 Tokens input 300 tokens output) (P75) Latency (100 Tokens input 300 tokens output) (P25)  \\\n",
       "0                                            0.000299                                                            \n",
       "1                                            0.000360                                                            \n",
       "2                                            0.001306                                                            \n",
       "3                                            0.000347                                                            \n",
       "4                                            0.001308                                                            \n",
       "5                                            0.000221                                                            \n",
       "6                                            0.001096                                                            \n",
       "7                                            0.000880                                                            \n",
       "8                                            0.001152                                                            \n",
       "9                                            0.004389                                                            \n",
       "10                                           0.001112                                                            \n",
       "11                                           0.004395                                                            \n",
       "12                                           0.000755                                                            \n",
       "13                                           0.003563                                                            \n",
       "14                                           0.001410                                                            \n",
       "15                                           0.001776                                                            \n",
       "16                                           0.006998                                                            \n",
       "17                                           0.001713                                                            \n",
       "18                                           0.007008                                                            \n",
       "19                                           0.000912                                                            \n",
       "20                                           0.006263                                                            \n",
       "\n",
       "    Output Speed (100 Tokens input 300 tokens output) (P75) Latency (100 Tokens input 300 tokens output) (median)  \\\n",
       "0                                            0.000305                                                               \n",
       "1                                            0.000366                                                               \n",
       "2                                            0.001317                                                               \n",
       "3                                            0.000354                                                               \n",
       "4                                            0.001319                                                               \n",
       "5                                            0.000232                                                               \n",
       "6                                            0.001116                                                               \n",
       "7                                            0.000900                                                               \n",
       "8                                            0.001153                                                               \n",
       "9                                            0.004400                                                               \n",
       "10                                           0.001113                                                               \n",
       "11                                           0.004406                                                               \n",
       "12                                           0.000758                                                               \n",
       "13                                           0.003587                                                               \n",
       "14                                           0.001434                                                               \n",
       "15                                           0.001778                                                               \n",
       "16                                           0.007025                                                               \n",
       "17                                           0.001715                                                               \n",
       "18                                           0.007035                                                               \n",
       "19                                           0.000931                                                               \n",
       "20                                           0.006270                                                               \n",
       "\n",
       "    Output Speed (100 Tokens input 300 tokens output) (P75) Output Speed (100 Tokens input 300 tokens output) (P75)  \\\n",
       "0                                            0.000310                                                                 \n",
       "1                                            0.000370                                                                 \n",
       "2                                            0.001342                                                                 \n",
       "3                                            0.000357                                                                 \n",
       "4                                            0.001344                                                                 \n",
       "5                                            0.000242                                                                 \n",
       "6                                            0.001156                                                                 \n",
       "7                                            0.000914                                                                 \n",
       "8                                            0.001158                                                                 \n",
       "9                                            0.004458                                                                 \n",
       "10                                           0.001117                                                                 \n",
       "11                                           0.004464                                                                 \n",
       "12                                           0.000769                                                                 \n",
       "13                                           0.003612                                                                 \n",
       "14                                           0.001471                                                                 \n",
       "15                                           0.001781                                                                 \n",
       "16                                           0.007050                                                                 \n",
       "17                                           0.001719                                                                 \n",
       "18                                           0.007060                                                                 \n",
       "19                                           0.000946                                                                 \n",
       "20                                           0.006346                                                                 \n",
       "\n",
       "    Output Speed (100 Tokens input 300 tokens output) (P75) Latency (100 Tokens input 300 tokens output) (P95)   \\\n",
       "0                                            0.000368                                                             \n",
       "1                                            0.000380                                                             \n",
       "2                                            0.001418                                                             \n",
       "3                                            0.000366                                                             \n",
       "4                                            0.001420                                                             \n",
       "5                                            0.000259                                                             \n",
       "6                                            0.001179                                                             \n",
       "7                                            0.000941                                                             \n",
       "8                                            0.001174                                                             \n",
       "9                                            0.004497                                                             \n",
       "10                                           0.001133                                                             \n",
       "11                                           0.004503                                                             \n",
       "12                                           0.000785                                                             \n",
       "13                                           0.003695                                                             \n",
       "14                                           0.001477                                                             \n",
       "15                                           0.001794                                                             \n",
       "16                                           0.007153                                                             \n",
       "17                                           0.001731                                                             \n",
       "18                                           0.007163                                                             \n",
       "19                                           0.001044                                                             \n",
       "20                                           0.006377                                                             \n",
       "\n",
       "    Output Speed (100 Tokens input 300 tokens output) (P95) Latency (100 Tokens input 300 tokens output) (P5)  \\\n",
       "0                                            0.000213                                                           \n",
       "1                                            0.000324                                                           \n",
       "2                                            0.001015                                                           \n",
       "3                                            0.000312                                                           \n",
       "4                                            0.001016                                                           \n",
       "5                                            0.000187                                                           \n",
       "6                                            0.001024                                                           \n",
       "7                                            0.000795                                                           \n",
       "8                                            0.001027                                                           \n",
       "9                                            0.003450                                                           \n",
       "10                                           0.000991                                                           \n",
       "11                                           0.003454                                                           \n",
       "12                                           0.000595                                                           \n",
       "13                                           0.003319                                                           \n",
       "14                                           0.001272                                                           \n",
       "15                                           0.001469                                                           \n",
       "16                                           0.006323                                                           \n",
       "17                                           0.001418                                                           \n",
       "18                                           0.006332                                                           \n",
       "19                                           0.000802                                                           \n",
       "20                                           0.005980                                                           \n",
       "\n",
       "    Output Speed (100 Tokens input 300 tokens output) (P95) Latency (100 Tokens input 300 tokens output) (P25)  \\\n",
       "0                                            0.000220                                                            \n",
       "1                                            0.000326                                                            \n",
       "2                                            0.001020                                                            \n",
       "3                                            0.000315                                                            \n",
       "4                                            0.001022                                                            \n",
       "5                                            0.000200                                                            \n",
       "6                                            0.001033                                                            \n",
       "7                                            0.000806                                                            \n",
       "8                                            0.001029                                                            \n",
       "9                                            0.003468                                                            \n",
       "10                                           0.000993                                                            \n",
       "11                                           0.003472                                                            \n",
       "12                                           0.000604                                                            \n",
       "13                                           0.003333                                                            \n",
       "14                                           0.001273                                                            \n",
       "15                                           0.001475                                                            \n",
       "16                                           0.006334                                                            \n",
       "17                                           0.001423                                                            \n",
       "18                                           0.006343                                                            \n",
       "19                                           0.000820                                                            \n",
       "20                                           0.005996                                                            \n",
       "\n",
       "    Output Speed (100 Tokens input 300 tokens output) (P95) Latency (100 Tokens input 300 tokens output) (median)  \\\n",
       "0                                            0.000226                                                               \n",
       "1                                            0.000333                                                               \n",
       "2                                            0.001031                                                               \n",
       "3                                            0.000321                                                               \n",
       "4                                            0.001033                                                               \n",
       "5                                            0.000211                                                               \n",
       "6                                            0.001053                                                               \n",
       "7                                            0.000825                                                               \n",
       "8                                            0.001030                                                               \n",
       "9                                            0.003478                                                               \n",
       "10                                           0.000994                                                               \n",
       "11                                           0.003483                                                               \n",
       "12                                           0.000607                                                               \n",
       "13                                           0.003357                                                               \n",
       "14                                           0.001297                                                               \n",
       "15                                           0.001477                                                               \n",
       "16                                           0.006361                                                               \n",
       "17                                           0.001425                                                               \n",
       "18                                           0.006370                                                               \n",
       "19                                           0.000839                                                               \n",
       "20                                           0.006003                                                               \n",
       "\n",
       "    Output Speed (100 Tokens input 300 tokens output) (P95) Output Speed (100 Tokens input 300 tokens output) (P75)  \\\n",
       "0                                            0.000231                                                                 \n",
       "1                                            0.000337                                                                 \n",
       "2                                            0.001056                                                                 \n",
       "3                                            0.000325                                                                 \n",
       "4                                            0.001058                                                                 \n",
       "5                                            0.000221                                                                 \n",
       "6                                            0.001093                                                                 \n",
       "7                                            0.000840                                                                 \n",
       "8                                            0.001035                                                                 \n",
       "9                                            0.003536                                                                 \n",
       "10                                           0.000999                                                                 \n",
       "11                                           0.003541                                                                 \n",
       "12                                           0.000617                                                                 \n",
       "13                                           0.003382                                                                 \n",
       "14                                           0.001335                                                                 \n",
       "15                                           0.001481                                                                 \n",
       "16                                           0.006387                                                                 \n",
       "17                                           0.001429                                                                 \n",
       "18                                           0.006395                                                                 \n",
       "19                                           0.000854                                                                 \n",
       "20                                           0.006079                                                                 \n",
       "\n",
       "    Output Speed (100 Tokens input 300 tokens output) (P95) Latency (100 Tokens input 300 tokens output) (P95)   \n",
       "0                                            0.000289                                                            \n",
       "1                                            0.000347                                                            \n",
       "2                                            0.001132                                                            \n",
       "3                                            0.000334                                                            \n",
       "4                                            0.001134                                                            \n",
       "5                                            0.000239                                                            \n",
       "6                                            0.001116                                                            \n",
       "7                                            0.000867                                                            \n",
       "8                                            0.001051                                                            \n",
       "9                                            0.003576                                                            \n",
       "10                                           0.001014                                                            \n",
       "11                                           0.003581                                                            \n",
       "12                                           0.000633                                                            \n",
       "13                                           0.003465                                                            \n",
       "14                                           0.001340                                                            \n",
       "15                                           0.001493                                                            \n",
       "16                                           0.006489                                                            \n",
       "17                                           0.001441                                                            \n",
       "18                                           0.006498                                                            \n",
       "19                                           0.000952                                                            \n",
       "20                                           0.006109                                                            \n",
       "\n",
       "[21 rows x 30 columns]"
      ]
     },
     "execution_count": 51,
     "metadata": {},
     "output_type": "execute_result"
    }
   ],
   "source": [
    "df=pd.concat([df.iloc[:, :4], df.iloc[:, 25:51]], axis=1)\n",
    "df[df.columns[4:29]]=df[df.columns[4:29]].astype(float)\n",
    "df"
   ]
  },
  {
   "cell_type": "code",
   "execution_count": null,
   "metadata": {},
   "outputs": [],
   "source": []
  },
  {
   "cell_type": "code",
   "execution_count": 52,
   "metadata": {},
   "outputs": [
    {
     "data": {
      "text/html": [
       "<div>\n",
       "<style scoped>\n",
       "    .dataframe tbody tr th:only-of-type {\n",
       "        vertical-align: middle;\n",
       "    }\n",
       "\n",
       "    .dataframe tbody tr th {\n",
       "        vertical-align: top;\n",
       "    }\n",
       "\n",
       "    .dataframe thead th {\n",
       "        text-align: right;\n",
       "    }\n",
       "</style>\n",
       "<table border=\"1\" class=\"dataframe\">\n",
       "  <thead>\n",
       "    <tr style=\"text-align: right;\">\n",
       "      <th></th>\n",
       "      <th>Model</th>\n",
       "      <th>API Provider</th>\n",
       "      <th>Output Token Size</th>\n",
       "      <th>GPUs Used</th>\n",
       "      <th>Metric</th>\n",
       "      <th>Score</th>\n",
       "    </tr>\n",
       "  </thead>\n",
       "  <tbody>\n",
       "    <tr>\n",
       "      <th>0</th>\n",
       "      <td>GPT-4o (Mar '25)</td>\n",
       "      <td>OpenAI</td>\n",
       "      <td>300.0</td>\n",
       "      <td>Nvidia H100</td>\n",
       "      <td>Output Speed (100 Tokens input 300 tokens outp...</td>\n",
       "      <td>0.000523</td>\n",
       "    </tr>\n",
       "    <tr>\n",
       "      <th>1</th>\n",
       "      <td>GPT-4o mini</td>\n",
       "      <td>OpenAI</td>\n",
       "      <td>300.0</td>\n",
       "      <td>Nvidia H100</td>\n",
       "      <td>Output Speed (100 Tokens input 300 tokens outp...</td>\n",
       "      <td>0.000546</td>\n",
       "    </tr>\n",
       "    <tr>\n",
       "      <th>2</th>\n",
       "      <td>GPT-4 Turbo</td>\n",
       "      <td>OpenAI</td>\n",
       "      <td>300.0</td>\n",
       "      <td>Nvidia H100</td>\n",
       "      <td>Output Speed (100 Tokens input 300 tokens outp...</td>\n",
       "      <td>0.001993</td>\n",
       "    </tr>\n",
       "    <tr>\n",
       "      <th>3</th>\n",
       "      <td>GPT-4o mini</td>\n",
       "      <td>OpenAI</td>\n",
       "      <td>300.0</td>\n",
       "      <td>Nvidia A100</td>\n",
       "      <td>Output Speed (100 Tokens input 300 tokens outp...</td>\n",
       "      <td>0.000527</td>\n",
       "    </tr>\n",
       "    <tr>\n",
       "      <th>4</th>\n",
       "      <td>GPT-4 Turbo</td>\n",
       "      <td>OpenAI</td>\n",
       "      <td>300.0</td>\n",
       "      <td>Nvidia A100</td>\n",
       "      <td>Output Speed (100 Tokens input 300 tokens outp...</td>\n",
       "      <td>0.001995</td>\n",
       "    </tr>\n",
       "  </tbody>\n",
       "</table>\n",
       "</div>"
      ],
      "text/plain": [
       "              Model API Provider  Output Token Size    GPUs Used  \\\n",
       "0  GPT-4o (Mar '25)       OpenAI              300.0  Nvidia H100   \n",
       "1       GPT-4o mini       OpenAI              300.0  Nvidia H100   \n",
       "2       GPT-4 Turbo       OpenAI              300.0  Nvidia H100   \n",
       "3       GPT-4o mini       OpenAI              300.0  Nvidia A100   \n",
       "4       GPT-4 Turbo       OpenAI              300.0  Nvidia A100   \n",
       "\n",
       "                                              Metric     Score  \n",
       "0  Output Speed (100 Tokens input 300 tokens outp...  0.000523  \n",
       "1  Output Speed (100 Tokens input 300 tokens outp...  0.000546  \n",
       "2  Output Speed (100 Tokens input 300 tokens outp...  0.001993  \n",
       "3  Output Speed (100 Tokens input 300 tokens outp...  0.000527  \n",
       "4  Output Speed (100 Tokens input 300 tokens outp...  0.001995  "
      ]
     },
     "execution_count": 52,
     "metadata": {},
     "output_type": "execute_result"
    }
   ],
   "source": [
    "df=df.melt(id_vars=[\"Model\", \"API Provider\", \"Output Token Size\", \"GPUs Used\"], value_vars=df.columns[4:29], var_name=\"Metric\", value_name=\"Score\")\n",
    "df.head()"
   ]
  },
  {
   "cell_type": "code",
   "execution_count": 53,
   "metadata": {},
   "outputs": [
    {
     "data": {
      "text/html": [
       "<div>\n",
       "<style scoped>\n",
       "    .dataframe tbody tr th:only-of-type {\n",
       "        vertical-align: middle;\n",
       "    }\n",
       "\n",
       "    .dataframe tbody tr th {\n",
       "        vertical-align: top;\n",
       "    }\n",
       "\n",
       "    .dataframe thead th {\n",
       "        text-align: right;\n",
       "    }\n",
       "</style>\n",
       "<table border=\"1\" class=\"dataframe\">\n",
       "  <thead>\n",
       "    <tr style=\"text-align: right;\">\n",
       "      <th></th>\n",
       "      <th>Model</th>\n",
       "      <th>API Provider</th>\n",
       "      <th>Output Token Size</th>\n",
       "      <th>GPUs Used</th>\n",
       "      <th>Metric</th>\n",
       "      <th>Score</th>\n",
       "    </tr>\n",
       "  </thead>\n",
       "  <tbody>\n",
       "    <tr>\n",
       "      <th>0</th>\n",
       "      <td>GPT-4o (Mar '25)</td>\n",
       "      <td>OpenAI</td>\n",
       "      <td>300.0</td>\n",
       "      <td>Nvidia H100</td>\n",
       "      <td>Output Speed (100 Tokens input 300 tokens outp...</td>\n",
       "      <td>0.000523</td>\n",
       "    </tr>\n",
       "    <tr>\n",
       "      <th>1</th>\n",
       "      <td>GPT-4o mini</td>\n",
       "      <td>OpenAI</td>\n",
       "      <td>300.0</td>\n",
       "      <td>Nvidia H100</td>\n",
       "      <td>Output Speed (100 Tokens input 300 tokens outp...</td>\n",
       "      <td>0.000546</td>\n",
       "    </tr>\n",
       "    <tr>\n",
       "      <th>2</th>\n",
       "      <td>GPT-4 Turbo</td>\n",
       "      <td>OpenAI</td>\n",
       "      <td>300.0</td>\n",
       "      <td>Nvidia H100</td>\n",
       "      <td>Output Speed (100 Tokens input 300 tokens outp...</td>\n",
       "      <td>0.001993</td>\n",
       "    </tr>\n",
       "    <tr>\n",
       "      <th>3</th>\n",
       "      <td>GPT-4o mini</td>\n",
       "      <td>OpenAI</td>\n",
       "      <td>300.0</td>\n",
       "      <td>Nvidia A100</td>\n",
       "      <td>Output Speed (100 Tokens input 300 tokens outp...</td>\n",
       "      <td>0.000527</td>\n",
       "    </tr>\n",
       "    <tr>\n",
       "      <th>4</th>\n",
       "      <td>GPT-4 Turbo</td>\n",
       "      <td>OpenAI</td>\n",
       "      <td>300.0</td>\n",
       "      <td>Nvidia A100</td>\n",
       "      <td>Output Speed (100 Tokens input 300 tokens outp...</td>\n",
       "      <td>0.001995</td>\n",
       "    </tr>\n",
       "    <tr>\n",
       "      <th>...</th>\n",
       "      <td>...</td>\n",
       "      <td>...</td>\n",
       "      <td>...</td>\n",
       "      <td>...</td>\n",
       "      <td>...</td>\n",
       "      <td>...</td>\n",
       "    </tr>\n",
       "    <tr>\n",
       "      <th>499</th>\n",
       "      <td>GPT-4 Turbo</td>\n",
       "      <td>OpenAI</td>\n",
       "      <td>1500.0</td>\n",
       "      <td>Nvidia H100</td>\n",
       "      <td>Output Speed (100 Tokens input 300 tokens outp...</td>\n",
       "      <td>0.006387</td>\n",
       "    </tr>\n",
       "    <tr>\n",
       "      <th>500</th>\n",
       "      <td>GPT-4o mini</td>\n",
       "      <td>OpenAI</td>\n",
       "      <td>1500.0</td>\n",
       "      <td>Nvidia A100</td>\n",
       "      <td>Output Speed (100 Tokens input 300 tokens outp...</td>\n",
       "      <td>0.001429</td>\n",
       "    </tr>\n",
       "    <tr>\n",
       "      <th>501</th>\n",
       "      <td>GPT-4 Turbo</td>\n",
       "      <td>OpenAI</td>\n",
       "      <td>1500.0</td>\n",
       "      <td>Nvidia A100</td>\n",
       "      <td>Output Speed (100 Tokens input 300 tokens outp...</td>\n",
       "      <td>0.006395</td>\n",
       "    </tr>\n",
       "    <tr>\n",
       "      <th>502</th>\n",
       "      <td>GPT-4o mini</td>\n",
       "      <td>Microsoft Azure</td>\n",
       "      <td>1500.0</td>\n",
       "      <td>Nvidia H100</td>\n",
       "      <td>Output Speed (100 Tokens input 300 tokens outp...</td>\n",
       "      <td>0.000854</td>\n",
       "    </tr>\n",
       "    <tr>\n",
       "      <th>503</th>\n",
       "      <td>GPT-4 Turbo</td>\n",
       "      <td>Microsoft Azure</td>\n",
       "      <td>1500.0</td>\n",
       "      <td>Nvidia H100</td>\n",
       "      <td>Output Speed (100 Tokens input 300 tokens outp...</td>\n",
       "      <td>0.006079</td>\n",
       "    </tr>\n",
       "  </tbody>\n",
       "</table>\n",
       "<p>504 rows × 6 columns</p>\n",
       "</div>"
      ],
      "text/plain": [
       "                Model     API Provider  Output Token Size    GPUs Used  \\\n",
       "0    GPT-4o (Mar '25)           OpenAI              300.0  Nvidia H100   \n",
       "1         GPT-4o mini           OpenAI              300.0  Nvidia H100   \n",
       "2         GPT-4 Turbo           OpenAI              300.0  Nvidia H100   \n",
       "3         GPT-4o mini           OpenAI              300.0  Nvidia A100   \n",
       "4         GPT-4 Turbo           OpenAI              300.0  Nvidia A100   \n",
       "..                ...              ...                ...          ...   \n",
       "499       GPT-4 Turbo           OpenAI             1500.0  Nvidia H100   \n",
       "500       GPT-4o mini           OpenAI             1500.0  Nvidia A100   \n",
       "501       GPT-4 Turbo           OpenAI             1500.0  Nvidia A100   \n",
       "502       GPT-4o mini  Microsoft Azure             1500.0  Nvidia H100   \n",
       "503       GPT-4 Turbo  Microsoft Azure             1500.0  Nvidia H100   \n",
       "\n",
       "                                                Metric     Score  \n",
       "0    Output Speed (100 Tokens input 300 tokens outp...  0.000523  \n",
       "1    Output Speed (100 Tokens input 300 tokens outp...  0.000546  \n",
       "2    Output Speed (100 Tokens input 300 tokens outp...  0.001993  \n",
       "3    Output Speed (100 Tokens input 300 tokens outp...  0.000527  \n",
       "4    Output Speed (100 Tokens input 300 tokens outp...  0.001995  \n",
       "..                                                 ...       ...  \n",
       "499  Output Speed (100 Tokens input 300 tokens outp...  0.006387  \n",
       "500  Output Speed (100 Tokens input 300 tokens outp...  0.001429  \n",
       "501  Output Speed (100 Tokens input 300 tokens outp...  0.006395  \n",
       "502  Output Speed (100 Tokens input 300 tokens outp...  0.000854  \n",
       "503  Output Speed (100 Tokens input 300 tokens outp...  0.006079  \n",
       "\n",
       "[504 rows x 6 columns]"
      ]
     },
     "execution_count": 53,
     "metadata": {},
     "output_type": "execute_result"
    }
   ],
   "source": [
    "df"
   ]
  },
  {
   "cell_type": "code",
   "execution_count": 106,
   "metadata": {},
   "outputs": [],
   "source": [
    "df.loc[df['Model']==(\"GPT-4o (Mar '25)\"),\"GPUs Used\"]= 'Nvidia H100/H200'\n",
    "df.loc[df['Model']==(\"GPT-4o (Mar '25)\"),\"Model\"]= 'GPT-4o'"
   ]
  },
  {
   "cell_type": "code",
   "execution_count": 107,
   "metadata": {},
   "outputs": [
    {
     "data": {
      "text/html": [
       "<div>\n",
       "<style scoped>\n",
       "    .dataframe tbody tr th:only-of-type {\n",
       "        vertical-align: middle;\n",
       "    }\n",
       "\n",
       "    .dataframe tbody tr th {\n",
       "        vertical-align: top;\n",
       "    }\n",
       "\n",
       "    .dataframe thead th {\n",
       "        text-align: right;\n",
       "    }\n",
       "</style>\n",
       "<table border=\"1\" class=\"dataframe\">\n",
       "  <thead>\n",
       "    <tr style=\"text-align: right;\">\n",
       "      <th></th>\n",
       "      <th>Model</th>\n",
       "      <th>API Provider</th>\n",
       "      <th>Output Token Size</th>\n",
       "      <th>GPUs Used</th>\n",
       "      <th>Metric</th>\n",
       "      <th>Score</th>\n",
       "    </tr>\n",
       "  </thead>\n",
       "  <tbody>\n",
       "    <tr>\n",
       "      <th>0</th>\n",
       "      <td>GPT-4o</td>\n",
       "      <td>OpenAI</td>\n",
       "      <td>300.0</td>\n",
       "      <td>Nvidia H100/H200</td>\n",
       "      <td>Output Speed (100 Tokens input 300 tokens outp...</td>\n",
       "      <td>0.000523</td>\n",
       "    </tr>\n",
       "    <tr>\n",
       "      <th>1</th>\n",
       "      <td>GPT-4o mini</td>\n",
       "      <td>OpenAI</td>\n",
       "      <td>300.0</td>\n",
       "      <td>Nvidia H100</td>\n",
       "      <td>Output Speed (100 Tokens input 300 tokens outp...</td>\n",
       "      <td>0.000546</td>\n",
       "    </tr>\n",
       "    <tr>\n",
       "      <th>2</th>\n",
       "      <td>GPT-4 Turbo</td>\n",
       "      <td>OpenAI</td>\n",
       "      <td>300.0</td>\n",
       "      <td>Nvidia H100</td>\n",
       "      <td>Output Speed (100 Tokens input 300 tokens outp...</td>\n",
       "      <td>0.001993</td>\n",
       "    </tr>\n",
       "    <tr>\n",
       "      <th>3</th>\n",
       "      <td>GPT-4o mini</td>\n",
       "      <td>OpenAI</td>\n",
       "      <td>300.0</td>\n",
       "      <td>Nvidia A100</td>\n",
       "      <td>Output Speed (100 Tokens input 300 tokens outp...</td>\n",
       "      <td>0.000527</td>\n",
       "    </tr>\n",
       "    <tr>\n",
       "      <th>4</th>\n",
       "      <td>GPT-4 Turbo</td>\n",
       "      <td>OpenAI</td>\n",
       "      <td>300.0</td>\n",
       "      <td>Nvidia A100</td>\n",
       "      <td>Output Speed (100 Tokens input 300 tokens outp...</td>\n",
       "      <td>0.001995</td>\n",
       "    </tr>\n",
       "    <tr>\n",
       "      <th>...</th>\n",
       "      <td>...</td>\n",
       "      <td>...</td>\n",
       "      <td>...</td>\n",
       "      <td>...</td>\n",
       "      <td>...</td>\n",
       "      <td>...</td>\n",
       "    </tr>\n",
       "    <tr>\n",
       "      <th>499</th>\n",
       "      <td>GPT-4 Turbo</td>\n",
       "      <td>OpenAI</td>\n",
       "      <td>1500.0</td>\n",
       "      <td>Nvidia H100</td>\n",
       "      <td>Output Speed (100 Tokens input 300 tokens outp...</td>\n",
       "      <td>0.006387</td>\n",
       "    </tr>\n",
       "    <tr>\n",
       "      <th>500</th>\n",
       "      <td>GPT-4o mini</td>\n",
       "      <td>OpenAI</td>\n",
       "      <td>1500.0</td>\n",
       "      <td>Nvidia A100</td>\n",
       "      <td>Output Speed (100 Tokens input 300 tokens outp...</td>\n",
       "      <td>0.001429</td>\n",
       "    </tr>\n",
       "    <tr>\n",
       "      <th>501</th>\n",
       "      <td>GPT-4 Turbo</td>\n",
       "      <td>OpenAI</td>\n",
       "      <td>1500.0</td>\n",
       "      <td>Nvidia A100</td>\n",
       "      <td>Output Speed (100 Tokens input 300 tokens outp...</td>\n",
       "      <td>0.006395</td>\n",
       "    </tr>\n",
       "    <tr>\n",
       "      <th>502</th>\n",
       "      <td>GPT-4o mini</td>\n",
       "      <td>Microsoft Azure</td>\n",
       "      <td>1500.0</td>\n",
       "      <td>Nvidia H100</td>\n",
       "      <td>Output Speed (100 Tokens input 300 tokens outp...</td>\n",
       "      <td>0.000854</td>\n",
       "    </tr>\n",
       "    <tr>\n",
       "      <th>503</th>\n",
       "      <td>GPT-4 Turbo</td>\n",
       "      <td>Microsoft Azure</td>\n",
       "      <td>1500.0</td>\n",
       "      <td>Nvidia H100</td>\n",
       "      <td>Output Speed (100 Tokens input 300 tokens outp...</td>\n",
       "      <td>0.006079</td>\n",
       "    </tr>\n",
       "  </tbody>\n",
       "</table>\n",
       "<p>504 rows × 6 columns</p>\n",
       "</div>"
      ],
      "text/plain": [
       "           Model     API Provider  Output Token Size         GPUs Used  \\\n",
       "0         GPT-4o           OpenAI              300.0  Nvidia H100/H200   \n",
       "1    GPT-4o mini           OpenAI              300.0       Nvidia H100   \n",
       "2    GPT-4 Turbo           OpenAI              300.0       Nvidia H100   \n",
       "3    GPT-4o mini           OpenAI              300.0       Nvidia A100   \n",
       "4    GPT-4 Turbo           OpenAI              300.0       Nvidia A100   \n",
       "..           ...              ...                ...               ...   \n",
       "499  GPT-4 Turbo           OpenAI             1500.0       Nvidia H100   \n",
       "500  GPT-4o mini           OpenAI             1500.0       Nvidia A100   \n",
       "501  GPT-4 Turbo           OpenAI             1500.0       Nvidia A100   \n",
       "502  GPT-4o mini  Microsoft Azure             1500.0       Nvidia H100   \n",
       "503  GPT-4 Turbo  Microsoft Azure             1500.0       Nvidia H100   \n",
       "\n",
       "                                                Metric     Score  \n",
       "0    Output Speed (100 Tokens input 300 tokens outp...  0.000523  \n",
       "1    Output Speed (100 Tokens input 300 tokens outp...  0.000546  \n",
       "2    Output Speed (100 Tokens input 300 tokens outp...  0.001993  \n",
       "3    Output Speed (100 Tokens input 300 tokens outp...  0.000527  \n",
       "4    Output Speed (100 Tokens input 300 tokens outp...  0.001995  \n",
       "..                                                 ...       ...  \n",
       "499  Output Speed (100 Tokens input 300 tokens outp...  0.006387  \n",
       "500  Output Speed (100 Tokens input 300 tokens outp...  0.001429  \n",
       "501  Output Speed (100 Tokens input 300 tokens outp...  0.006395  \n",
       "502  Output Speed (100 Tokens input 300 tokens outp...  0.000854  \n",
       "503  Output Speed (100 Tokens input 300 tokens outp...  0.006079  \n",
       "\n",
       "[504 rows x 6 columns]"
      ]
     },
     "execution_count": 107,
     "metadata": {},
     "output_type": "execute_result"
    }
   ],
   "source": [
    "df"
   ]
  },
  {
   "cell_type": "code",
   "execution_count": null,
   "metadata": {},
   "outputs": [],
   "source": []
  },
  {
   "cell_type": "code",
   "execution_count": null,
   "metadata": {},
   "outputs": [
    {
     "data": {
      "application/vnd.plotly.v1+json": {
       "config": {
        "plotlyServerURL": "https://plot.ly"
       },
       "data": [
        {
         "alignmentgroup": "True",
         "error_y": {
          "array": {
           "bdata": "NjFnVgK1lz/BNwdP7WCyP+2cYssh2a8/",
           "dtype": "f8"
          }
         },
         "hovertemplate": "Provider & Model=OpenAI - GPT-4o<br>GPU Used=Nvidia H100/H200<br>Output Size (tokens)=%{x}<br>Mean Energy (Wh)=%{y}<br>bar_label=%{text}<extra></extra>",
         "legendgroup": "OpenAI - GPT-4o, Nvidia H100/H200",
         "marker": {
          "color": "#a6d854",
          "line": {
           "width": 0
          },
          "pattern": {
           "shape": "\\"
          }
         },
         "name": "OpenAI - GPT-4o, Nvidia H100/H200",
         "offsetgroup": "OpenAI - GPT-4o, Nvidia H100/H200",
         "orientation": "v",
         "showlegend": true,
         "text": [
          "GPT-4o<br>0.39 Wh",
          "GPT-4o<br>1.122 Wh",
          "GPT-4o<br>1.65 Wh"
         ],
         "textfont": {
          "color": "black"
         },
         "textposition": "outside",
         "texttemplate": "%{text}",
         "type": "bar",
         "x": [
          "300",
          "1000",
          "1500"
         ],
         "xaxis": "x",
         "y": {
          "bdata": "7+7u7u7u2D902kCnDfTxPzSl4uzDZ/o/",
          "dtype": "f8"
         },
         "yaxis": "y"
        },
        {
         "alignmentgroup": "True",
         "error_y": {
          "array": {
           "bdata": "80eSAnbklT9BCHmwVpyyP7OGRX6HzLQ/",
           "dtype": "f8"
          }
         },
         "hovertemplate": "Provider & Model=Microsoft Azure - GPT-4o mini<br>GPU Used=Nvidia H100<br>Output Size (tokens)=%{x}<br>Mean Energy (Wh)=%{y}<br>bar_label=%{text}<extra></extra>",
         "legendgroup": "Microsoft Azure - GPT-4o mini, Nvidia H100",
         "marker": {
          "color": "#5B8CC4",
          "line": {
           "width": 0
          },
          "pattern": {
           "shape": "x"
          }
         },
         "name": "Microsoft Azure - GPT-4o mini, Nvidia H100",
         "offsetgroup": "Microsoft Azure - GPT-4o mini, Nvidia H100",
         "orientation": "v",
         "showlegend": true,
         "text": [
          "GPT-4o mini<br>0.31 Wh",
          "GPT-4o mini<br>0.98 Wh",
          "GPT-4o mini<br>1.237 Wh"
         ],
         "textfont": {
          "color": "black"
         },
         "textposition": "outside",
         "texttemplate": "%{text}",
         "type": "bar",
         "x": [
          "300",
          "1000",
          "1500"
         ],
         "xaxis": "x",
         "y": {
          "bdata": "N4lBYOXQ0z9CYOXQIlvvP/NE/RuhzPM/",
          "dtype": "f8"
         },
         "yaxis": "y"
        },
        {
         "alignmentgroup": "True",
         "error_y": {
          "array": {
           "bdata": "GituUkfckD8kaWoBBByxP9FVkh7KVrg/",
           "dtype": "f8"
          }
         },
         "hovertemplate": "Provider & Model=OpenAI - GPT-4o mini<br>GPU Used=Nvidia H100<br>Output Size (tokens)=%{x}<br>Mean Energy (Wh)=%{y}<br>bar_label=%{text}<extra></extra>",
         "legendgroup": "OpenAI - GPT-4o mini, Nvidia H100",
         "marker": {
          "color": "#a6d854",
          "line": {
           "width": 0
          },
          "pattern": {
           "shape": "x"
          }
         },
         "name": "OpenAI - GPT-4o mini, Nvidia H100",
         "offsetgroup": "OpenAI - GPT-4o mini, Nvidia H100",
         "orientation": "v",
         "showlegend": true,
         "text": [
          "GPT-4o mini<br>0.423 Wh",
          "GPT-4o mini<br>1.429 Wh",
          "GPT-4o mini<br>2.126 Wh"
         ],
         "textfont": {
          "color": "black"
         },
         "textposition": "outside",
         "texttemplate": "%{text}",
         "type": "bar",
         "x": [
          "300",
          "1000",
          "1500"
         ],
         "xaxis": "x",
         "y": {
          "bdata": "SgwCK4cW2z+CB/NE/dv2PwfzRP0bAQFA",
          "dtype": "f8"
         },
         "yaxis": "y"
        },
        {
         "alignmentgroup": "True",
         "error_y": {
          "array": {
           "bdata": "rWoYOFFLkD8WMWguyoOwP4LmsssBfbc/",
           "dtype": "f8"
          }
         },
         "hovertemplate": "Provider & Model=OpenAI - GPT-4o mini<br>GPU Used=Nvidia A100<br>Output Size (tokens)=%{x}<br>Mean Energy (Wh)=%{y}<br>bar_label=%{text}<extra></extra>",
         "legendgroup": "OpenAI - GPT-4o mini, Nvidia A100",
         "marker": {
          "color": "#a6d854",
          "line": {
           "width": 0
          },
          "pattern": {
           "shape": "+"
          }
         },
         "name": "OpenAI - GPT-4o mini, Nvidia A100",
         "offsetgroup": "OpenAI - GPT-4o mini, Nvidia A100",
         "orientation": "v",
         "showlegend": true,
         "text": [
          "GPT-4o mini<br>0.408 Wh",
          "GPT-4o mini<br>1.379 Wh",
          "GPT-4o mini<br>2.051 Wh"
         ],
         "textfont": {
          "color": "black"
         },
         "textposition": "outside",
         "texttemplate": "%{text}",
         "type": "bar",
         "x": [
          "300",
          "1000",
          "1500"
         ],
         "xaxis": "x",
         "y": {
          "bdata": "IiIiIiIi2j9qSsXZhw/2P2IQWDm0aABA",
          "dtype": "f8"
         },
         "yaxis": "y"
        }
       ],
       "layout": {
        "barmode": "group",
        "legend": {
         "bgcolor": "white",
         "bordercolor": "black",
         "borderwidth": 1,
         "orientation": "v",
         "title": {
          "text": "Provider & Model"
         },
         "tracegroupgap": 0,
         "x": 0.2,
         "xanchor": "right",
         "y": 1,
         "yanchor": "top"
        },
        "plot_bgcolor": "white",
        "template": {
         "data": {
          "bar": [
           {
            "error_x": {
             "color": "#2a3f5f"
            },
            "error_y": {
             "color": "#2a3f5f"
            },
            "marker": {
             "line": {
              "color": "#E5ECF6",
              "width": 0.5
             },
             "pattern": {
              "fillmode": "overlay",
              "size": 10,
              "solidity": 0.2
             }
            },
            "type": "bar"
           }
          ],
          "barpolar": [
           {
            "marker": {
             "line": {
              "color": "#E5ECF6",
              "width": 0.5
             },
             "pattern": {
              "fillmode": "overlay",
              "size": 10,
              "solidity": 0.2
             }
            },
            "type": "barpolar"
           }
          ],
          "carpet": [
           {
            "aaxis": {
             "endlinecolor": "#2a3f5f",
             "gridcolor": "white",
             "linecolor": "white",
             "minorgridcolor": "white",
             "startlinecolor": "#2a3f5f"
            },
            "baxis": {
             "endlinecolor": "#2a3f5f",
             "gridcolor": "white",
             "linecolor": "white",
             "minorgridcolor": "white",
             "startlinecolor": "#2a3f5f"
            },
            "type": "carpet"
           }
          ],
          "choropleth": [
           {
            "colorbar": {
             "outlinewidth": 0,
             "ticks": ""
            },
            "type": "choropleth"
           }
          ],
          "contour": [
           {
            "colorbar": {
             "outlinewidth": 0,
             "ticks": ""
            },
            "colorscale": [
             [
              0,
              "#0d0887"
             ],
             [
              0.1111111111111111,
              "#46039f"
             ],
             [
              0.2222222222222222,
              "#7201a8"
             ],
             [
              0.3333333333333333,
              "#9c179e"
             ],
             [
              0.4444444444444444,
              "#bd3786"
             ],
             [
              0.5555555555555556,
              "#d8576b"
             ],
             [
              0.6666666666666666,
              "#ed7953"
             ],
             [
              0.7777777777777778,
              "#fb9f3a"
             ],
             [
              0.8888888888888888,
              "#fdca26"
             ],
             [
              1,
              "#f0f921"
             ]
            ],
            "type": "contour"
           }
          ],
          "contourcarpet": [
           {
            "colorbar": {
             "outlinewidth": 0,
             "ticks": ""
            },
            "type": "contourcarpet"
           }
          ],
          "heatmap": [
           {
            "colorbar": {
             "outlinewidth": 0,
             "ticks": ""
            },
            "colorscale": [
             [
              0,
              "#0d0887"
             ],
             [
              0.1111111111111111,
              "#46039f"
             ],
             [
              0.2222222222222222,
              "#7201a8"
             ],
             [
              0.3333333333333333,
              "#9c179e"
             ],
             [
              0.4444444444444444,
              "#bd3786"
             ],
             [
              0.5555555555555556,
              "#d8576b"
             ],
             [
              0.6666666666666666,
              "#ed7953"
             ],
             [
              0.7777777777777778,
              "#fb9f3a"
             ],
             [
              0.8888888888888888,
              "#fdca26"
             ],
             [
              1,
              "#f0f921"
             ]
            ],
            "type": "heatmap"
           }
          ],
          "histogram": [
           {
            "marker": {
             "pattern": {
              "fillmode": "overlay",
              "size": 10,
              "solidity": 0.2
             }
            },
            "type": "histogram"
           }
          ],
          "histogram2d": [
           {
            "colorbar": {
             "outlinewidth": 0,
             "ticks": ""
            },
            "colorscale": [
             [
              0,
              "#0d0887"
             ],
             [
              0.1111111111111111,
              "#46039f"
             ],
             [
              0.2222222222222222,
              "#7201a8"
             ],
             [
              0.3333333333333333,
              "#9c179e"
             ],
             [
              0.4444444444444444,
              "#bd3786"
             ],
             [
              0.5555555555555556,
              "#d8576b"
             ],
             [
              0.6666666666666666,
              "#ed7953"
             ],
             [
              0.7777777777777778,
              "#fb9f3a"
             ],
             [
              0.8888888888888888,
              "#fdca26"
             ],
             [
              1,
              "#f0f921"
             ]
            ],
            "type": "histogram2d"
           }
          ],
          "histogram2dcontour": [
           {
            "colorbar": {
             "outlinewidth": 0,
             "ticks": ""
            },
            "colorscale": [
             [
              0,
              "#0d0887"
             ],
             [
              0.1111111111111111,
              "#46039f"
             ],
             [
              0.2222222222222222,
              "#7201a8"
             ],
             [
              0.3333333333333333,
              "#9c179e"
             ],
             [
              0.4444444444444444,
              "#bd3786"
             ],
             [
              0.5555555555555556,
              "#d8576b"
             ],
             [
              0.6666666666666666,
              "#ed7953"
             ],
             [
              0.7777777777777778,
              "#fb9f3a"
             ],
             [
              0.8888888888888888,
              "#fdca26"
             ],
             [
              1,
              "#f0f921"
             ]
            ],
            "type": "histogram2dcontour"
           }
          ],
          "mesh3d": [
           {
            "colorbar": {
             "outlinewidth": 0,
             "ticks": ""
            },
            "type": "mesh3d"
           }
          ],
          "parcoords": [
           {
            "line": {
             "colorbar": {
              "outlinewidth": 0,
              "ticks": ""
             }
            },
            "type": "parcoords"
           }
          ],
          "pie": [
           {
            "automargin": true,
            "type": "pie"
           }
          ],
          "scatter": [
           {
            "fillpattern": {
             "fillmode": "overlay",
             "size": 10,
             "solidity": 0.2
            },
            "type": "scatter"
           }
          ],
          "scatter3d": [
           {
            "line": {
             "colorbar": {
              "outlinewidth": 0,
              "ticks": ""
             }
            },
            "marker": {
             "colorbar": {
              "outlinewidth": 0,
              "ticks": ""
             }
            },
            "type": "scatter3d"
           }
          ],
          "scattercarpet": [
           {
            "marker": {
             "colorbar": {
              "outlinewidth": 0,
              "ticks": ""
             }
            },
            "type": "scattercarpet"
           }
          ],
          "scattergeo": [
           {
            "marker": {
             "colorbar": {
              "outlinewidth": 0,
              "ticks": ""
             }
            },
            "type": "scattergeo"
           }
          ],
          "scattergl": [
           {
            "marker": {
             "colorbar": {
              "outlinewidth": 0,
              "ticks": ""
             }
            },
            "type": "scattergl"
           }
          ],
          "scattermap": [
           {
            "marker": {
             "colorbar": {
              "outlinewidth": 0,
              "ticks": ""
             }
            },
            "type": "scattermap"
           }
          ],
          "scattermapbox": [
           {
            "marker": {
             "colorbar": {
              "outlinewidth": 0,
              "ticks": ""
             }
            },
            "type": "scattermapbox"
           }
          ],
          "scatterpolar": [
           {
            "marker": {
             "colorbar": {
              "outlinewidth": 0,
              "ticks": ""
             }
            },
            "type": "scatterpolar"
           }
          ],
          "scatterpolargl": [
           {
            "marker": {
             "colorbar": {
              "outlinewidth": 0,
              "ticks": ""
             }
            },
            "type": "scatterpolargl"
           }
          ],
          "scatterternary": [
           {
            "marker": {
             "colorbar": {
              "outlinewidth": 0,
              "ticks": ""
             }
            },
            "type": "scatterternary"
           }
          ],
          "surface": [
           {
            "colorbar": {
             "outlinewidth": 0,
             "ticks": ""
            },
            "colorscale": [
             [
              0,
              "#0d0887"
             ],
             [
              0.1111111111111111,
              "#46039f"
             ],
             [
              0.2222222222222222,
              "#7201a8"
             ],
             [
              0.3333333333333333,
              "#9c179e"
             ],
             [
              0.4444444444444444,
              "#bd3786"
             ],
             [
              0.5555555555555556,
              "#d8576b"
             ],
             [
              0.6666666666666666,
              "#ed7953"
             ],
             [
              0.7777777777777778,
              "#fb9f3a"
             ],
             [
              0.8888888888888888,
              "#fdca26"
             ],
             [
              1,
              "#f0f921"
             ]
            ],
            "type": "surface"
           }
          ],
          "table": [
           {
            "cells": {
             "fill": {
              "color": "#EBF0F8"
             },
             "line": {
              "color": "white"
             }
            },
            "header": {
             "fill": {
              "color": "#C8D4E3"
             },
             "line": {
              "color": "white"
             }
            },
            "type": "table"
           }
          ]
         },
         "layout": {
          "annotationdefaults": {
           "arrowcolor": "#2a3f5f",
           "arrowhead": 0,
           "arrowwidth": 1
          },
          "autotypenumbers": "strict",
          "coloraxis": {
           "colorbar": {
            "outlinewidth": 0,
            "ticks": ""
           }
          },
          "colorscale": {
           "diverging": [
            [
             0,
             "#8e0152"
            ],
            [
             0.1,
             "#c51b7d"
            ],
            [
             0.2,
             "#de77ae"
            ],
            [
             0.3,
             "#f1b6da"
            ],
            [
             0.4,
             "#fde0ef"
            ],
            [
             0.5,
             "#f7f7f7"
            ],
            [
             0.6,
             "#e6f5d0"
            ],
            [
             0.7,
             "#b8e186"
            ],
            [
             0.8,
             "#7fbc41"
            ],
            [
             0.9,
             "#4d9221"
            ],
            [
             1,
             "#276419"
            ]
           ],
           "sequential": [
            [
             0,
             "#0d0887"
            ],
            [
             0.1111111111111111,
             "#46039f"
            ],
            [
             0.2222222222222222,
             "#7201a8"
            ],
            [
             0.3333333333333333,
             "#9c179e"
            ],
            [
             0.4444444444444444,
             "#bd3786"
            ],
            [
             0.5555555555555556,
             "#d8576b"
            ],
            [
             0.6666666666666666,
             "#ed7953"
            ],
            [
             0.7777777777777778,
             "#fb9f3a"
            ],
            [
             0.8888888888888888,
             "#fdca26"
            ],
            [
             1,
             "#f0f921"
            ]
           ],
           "sequentialminus": [
            [
             0,
             "#0d0887"
            ],
            [
             0.1111111111111111,
             "#46039f"
            ],
            [
             0.2222222222222222,
             "#7201a8"
            ],
            [
             0.3333333333333333,
             "#9c179e"
            ],
            [
             0.4444444444444444,
             "#bd3786"
            ],
            [
             0.5555555555555556,
             "#d8576b"
            ],
            [
             0.6666666666666666,
             "#ed7953"
            ],
            [
             0.7777777777777778,
             "#fb9f3a"
            ],
            [
             0.8888888888888888,
             "#fdca26"
            ],
            [
             1,
             "#f0f921"
            ]
           ]
          },
          "colorway": [
           "#636efa",
           "#EF553B",
           "#00cc96",
           "#ab63fa",
           "#FFA15A",
           "#19d3f3",
           "#FF6692",
           "#B6E880",
           "#FF97FF",
           "#FECB52"
          ],
          "font": {
           "color": "#2a3f5f"
          },
          "geo": {
           "bgcolor": "white",
           "lakecolor": "white",
           "landcolor": "#E5ECF6",
           "showlakes": true,
           "showland": true,
           "subunitcolor": "white"
          },
          "hoverlabel": {
           "align": "left"
          },
          "hovermode": "closest",
          "mapbox": {
           "style": "light"
          },
          "paper_bgcolor": "white",
          "plot_bgcolor": "#E5ECF6",
          "polar": {
           "angularaxis": {
            "gridcolor": "white",
            "linecolor": "white",
            "ticks": ""
           },
           "bgcolor": "#E5ECF6",
           "radialaxis": {
            "gridcolor": "white",
            "linecolor": "white",
            "ticks": ""
           }
          },
          "scene": {
           "xaxis": {
            "backgroundcolor": "#E5ECF6",
            "gridcolor": "white",
            "gridwidth": 2,
            "linecolor": "white",
            "showbackground": true,
            "ticks": "",
            "zerolinecolor": "white"
           },
           "yaxis": {
            "backgroundcolor": "#E5ECF6",
            "gridcolor": "white",
            "gridwidth": 2,
            "linecolor": "white",
            "showbackground": true,
            "ticks": "",
            "zerolinecolor": "white"
           },
           "zaxis": {
            "backgroundcolor": "#E5ECF6",
            "gridcolor": "white",
            "gridwidth": 2,
            "linecolor": "white",
            "showbackground": true,
            "ticks": "",
            "zerolinecolor": "white"
           }
          },
          "shapedefaults": {
           "line": {
            "color": "#2a3f5f"
           }
          },
          "ternary": {
           "aaxis": {
            "gridcolor": "white",
            "linecolor": "white",
            "ticks": ""
           },
           "baxis": {
            "gridcolor": "white",
            "linecolor": "white",
            "ticks": ""
           },
           "bgcolor": "#E5ECF6",
           "caxis": {
            "gridcolor": "white",
            "linecolor": "white",
            "ticks": ""
           }
          },
          "title": {
           "x": 0.05
          },
          "xaxis": {
           "automargin": true,
           "gridcolor": "white",
           "linecolor": "white",
           "ticks": "",
           "title": {
            "standoff": 15
           },
           "zerolinecolor": "white",
           "zerolinewidth": 2
          },
          "yaxis": {
           "automargin": true,
           "gridcolor": "white",
           "linecolor": "white",
           "ticks": "",
           "title": {
            "standoff": 15
           },
           "zerolinecolor": "white",
           "zerolinewidth": 2
          }
         }
        },
        "title": {
         "text": "Mean Minimum Energy Consumption by Output Size, Provider & Model, GPU"
        },
        "xaxis": {
         "anchor": "y",
         "categoryarray": [
          "300",
          "1000",
          "1500"
         ],
         "categoryorder": "array",
         "domain": [
          0,
          1
         ],
         "linecolor": "black",
         "linewidth": 1,
         "showgrid": false,
         "showline": true,
         "title": {
          "text": "Output Size (tokens)"
         }
        },
        "yaxis": {
         "anchor": "x",
         "domain": [
          0,
          1
         ],
         "gridcolor": "lightgray",
         "gridwidth": 1,
         "linecolor": "black",
         "linewidth": 1,
         "showgrid": true,
         "showline": true,
         "title": {
          "text": "Energy Consumption (Wh)"
         }
        }
       }
      }
     },
     "metadata": {},
     "output_type": "display_data"
    }
   ],
   "source": []
  },
  {
   "cell_type": "code",
   "execution_count": 140,
   "metadata": {},
   "outputs": [
    {
     "data": {
      "application/vnd.plotly.v1+json": {
       "config": {
        "plotlyServerURL": "https://plot.ly"
       },
       "data": [
        {
         "alignmentgroup": "True",
         "error_y": {
          "array": {
           "bdata": "NjFnVgK1lz/BNwdP7WCyP+2cYssh2a8/",
           "dtype": "f8"
          }
         },
         "hovertemplate": "Provider & Model=OpenAI - GPT-4o - Nvidia H100/H200<br>Output Size (tokens)=%{x}<br>Mean Energy (Wh)=%{y}<br>bar_label=%{text}<extra></extra>",
         "legendgroup": "OpenAI - GPT-4o - Nvidia H100/H200",
         "marker": {
          "color": "#33540D",
          "line": {
           "width": 0
          },
          "pattern": {
           "shape": ""
          }
         },
         "name": "OpenAI - GPT-4o - Nvidia H100/H200",
         "offsetgroup": "OpenAI - GPT-4o - Nvidia H100/H200",
         "orientation": "v",
         "showlegend": true,
         "text": [
          "GPT-4o<br>0.39 Wh",
          "GPT-4o<br>1.122 Wh",
          "GPT-4o<br>1.65 Wh"
         ],
         "textfont": {
          "color": "black"
         },
         "textposition": "outside",
         "texttemplate": "%{text}",
         "type": "bar",
         "x": [
          "300",
          "1000",
          "1500"
         ],
         "xaxis": "x",
         "y": {
          "bdata": "7+7u7u7u2D902kCnDfTxPzSl4uzDZ/o/",
          "dtype": "f8"
         },
         "yaxis": "y"
        },
        {
         "alignmentgroup": "True",
         "error_y": {
          "array": {
           "bdata": "80eSAnbklT9BCHmwVpyyP7OGRX6HzLQ/",
           "dtype": "f8"
          }
         },
         "hovertemplate": "Provider & Model=Microsoft Azure - GPT-4o mini - Nvidia H100<br>Output Size (tokens)=%{x}<br>Mean Energy (Wh)=%{y}<br>bar_label=%{text}<extra></extra>",
         "legendgroup": "Microsoft Azure - GPT-4o mini - Nvidia H100",
         "marker": {
          "color": "#2F5597",
          "line": {
           "width": 0
          },
          "pattern": {
           "shape": ""
          }
         },
         "name": "Microsoft Azure - GPT-4o mini - Nvidia H100",
         "offsetgroup": "Microsoft Azure - GPT-4o mini - Nvidia H100",
         "orientation": "v",
         "showlegend": true,
         "text": [
          "GPT-4o mini<br>0.31 Wh",
          "GPT-4o mini<br>0.98 Wh",
          "GPT-4o mini<br>1.237 Wh"
         ],
         "textfont": {
          "color": "black"
         },
         "textposition": "outside",
         "texttemplate": "%{text}",
         "type": "bar",
         "x": [
          "300",
          "1000",
          "1500"
         ],
         "xaxis": "x",
         "y": {
          "bdata": "N4lBYOXQ0z9CYOXQIlvvP/NE/RuhzPM/",
          "dtype": "f8"
         },
         "yaxis": "y"
        },
        {
         "alignmentgroup": "True",
         "error_y": {
          "array": {
           "bdata": "rWoYOFFLkD8WMWguyoOwP4LmsssBfbc/",
           "dtype": "f8"
          }
         },
         "hovertemplate": "Provider & Model=OpenAI - GPT-4o mini - Nvidia A100<br>Output Size (tokens)=%{x}<br>Mean Energy (Wh)=%{y}<br>bar_label=%{text}<extra></extra>",
         "legendgroup": "OpenAI - GPT-4o mini - Nvidia A100",
         "marker": {
          "color": "#1F3A93",
          "line": {
           "width": 0
          },
          "pattern": {
           "shape": ""
          }
         },
         "name": "OpenAI - GPT-4o mini - Nvidia A100",
         "offsetgroup": "OpenAI - GPT-4o mini - Nvidia A100",
         "orientation": "v",
         "showlegend": true,
         "text": [
          "GPT-4o mini<br>0.408 Wh",
          "GPT-4o mini<br>1.379 Wh",
          "GPT-4o mini<br>2.051 Wh"
         ],
         "textfont": {
          "color": "black"
         },
         "textposition": "outside",
         "texttemplate": "%{text}",
         "type": "bar",
         "x": [
          "300",
          "1000",
          "1500"
         ],
         "xaxis": "x",
         "y": {
          "bdata": "IiIiIiIi2j9qSsXZhw/2P2IQWDm0aABA",
          "dtype": "f8"
         },
         "yaxis": "y"
        },
        {
         "alignmentgroup": "True",
         "error_y": {
          "array": {
           "bdata": "GituUkfckD8kaWoBBByxP9FVkh7KVrg/",
           "dtype": "f8"
          }
         },
         "hovertemplate": "Provider & Model=OpenAI - GPT-4o mini - Nvidia H100<br>Output Size (tokens)=%{x}<br>Mean Energy (Wh)=%{y}<br>bar_label=%{text}<extra></extra>",
         "legendgroup": "OpenAI - GPT-4o mini - Nvidia H100",
         "marker": {
          "color": "#4A90E2",
          "line": {
           "width": 0
          },
          "pattern": {
           "shape": ""
          }
         },
         "name": "OpenAI - GPT-4o mini - Nvidia H100",
         "offsetgroup": "OpenAI - GPT-4o mini - Nvidia H100",
         "orientation": "v",
         "showlegend": true,
         "text": [
          "GPT-4o mini<br>0.423 Wh",
          "GPT-4o mini<br>1.429 Wh",
          "GPT-4o mini<br>2.126 Wh"
         ],
         "textfont": {
          "color": "black"
         },
         "textposition": "outside",
         "texttemplate": "%{text}",
         "type": "bar",
         "x": [
          "300",
          "1000",
          "1500"
         ],
         "xaxis": "x",
         "y": {
          "bdata": "SgwCK4cW2z+CB/NE/dv2PwfzRP0bAQFA",
          "dtype": "f8"
         },
         "yaxis": "y"
        }
       ],
       "layout": {
        "barmode": "group",
        "legend": {
         "bgcolor": "white",
         "bordercolor": "black",
         "borderwidth": 1,
         "orientation": "v",
         "title": {
          "text": "Provider & Model"
         },
         "tracegroupgap": 0,
         "x": 0.2,
         "xanchor": "right",
         "y": 1,
         "yanchor": "top"
        },
        "plot_bgcolor": "white",
        "template": {
         "data": {
          "bar": [
           {
            "error_x": {
             "color": "#2a3f5f"
            },
            "error_y": {
             "color": "#2a3f5f"
            },
            "marker": {
             "line": {
              "color": "#E5ECF6",
              "width": 0.5
             },
             "pattern": {
              "fillmode": "overlay",
              "size": 10,
              "solidity": 0.2
             }
            },
            "type": "bar"
           }
          ],
          "barpolar": [
           {
            "marker": {
             "line": {
              "color": "#E5ECF6",
              "width": 0.5
             },
             "pattern": {
              "fillmode": "overlay",
              "size": 10,
              "solidity": 0.2
             }
            },
            "type": "barpolar"
           }
          ],
          "carpet": [
           {
            "aaxis": {
             "endlinecolor": "#2a3f5f",
             "gridcolor": "white",
             "linecolor": "white",
             "minorgridcolor": "white",
             "startlinecolor": "#2a3f5f"
            },
            "baxis": {
             "endlinecolor": "#2a3f5f",
             "gridcolor": "white",
             "linecolor": "white",
             "minorgridcolor": "white",
             "startlinecolor": "#2a3f5f"
            },
            "type": "carpet"
           }
          ],
          "choropleth": [
           {
            "colorbar": {
             "outlinewidth": 0,
             "ticks": ""
            },
            "type": "choropleth"
           }
          ],
          "contour": [
           {
            "colorbar": {
             "outlinewidth": 0,
             "ticks": ""
            },
            "colorscale": [
             [
              0,
              "#0d0887"
             ],
             [
              0.1111111111111111,
              "#46039f"
             ],
             [
              0.2222222222222222,
              "#7201a8"
             ],
             [
              0.3333333333333333,
              "#9c179e"
             ],
             [
              0.4444444444444444,
              "#bd3786"
             ],
             [
              0.5555555555555556,
              "#d8576b"
             ],
             [
              0.6666666666666666,
              "#ed7953"
             ],
             [
              0.7777777777777778,
              "#fb9f3a"
             ],
             [
              0.8888888888888888,
              "#fdca26"
             ],
             [
              1,
              "#f0f921"
             ]
            ],
            "type": "contour"
           }
          ],
          "contourcarpet": [
           {
            "colorbar": {
             "outlinewidth": 0,
             "ticks": ""
            },
            "type": "contourcarpet"
           }
          ],
          "heatmap": [
           {
            "colorbar": {
             "outlinewidth": 0,
             "ticks": ""
            },
            "colorscale": [
             [
              0,
              "#0d0887"
             ],
             [
              0.1111111111111111,
              "#46039f"
             ],
             [
              0.2222222222222222,
              "#7201a8"
             ],
             [
              0.3333333333333333,
              "#9c179e"
             ],
             [
              0.4444444444444444,
              "#bd3786"
             ],
             [
              0.5555555555555556,
              "#d8576b"
             ],
             [
              0.6666666666666666,
              "#ed7953"
             ],
             [
              0.7777777777777778,
              "#fb9f3a"
             ],
             [
              0.8888888888888888,
              "#fdca26"
             ],
             [
              1,
              "#f0f921"
             ]
            ],
            "type": "heatmap"
           }
          ],
          "histogram": [
           {
            "marker": {
             "pattern": {
              "fillmode": "overlay",
              "size": 10,
              "solidity": 0.2
             }
            },
            "type": "histogram"
           }
          ],
          "histogram2d": [
           {
            "colorbar": {
             "outlinewidth": 0,
             "ticks": ""
            },
            "colorscale": [
             [
              0,
              "#0d0887"
             ],
             [
              0.1111111111111111,
              "#46039f"
             ],
             [
              0.2222222222222222,
              "#7201a8"
             ],
             [
              0.3333333333333333,
              "#9c179e"
             ],
             [
              0.4444444444444444,
              "#bd3786"
             ],
             [
              0.5555555555555556,
              "#d8576b"
             ],
             [
              0.6666666666666666,
              "#ed7953"
             ],
             [
              0.7777777777777778,
              "#fb9f3a"
             ],
             [
              0.8888888888888888,
              "#fdca26"
             ],
             [
              1,
              "#f0f921"
             ]
            ],
            "type": "histogram2d"
           }
          ],
          "histogram2dcontour": [
           {
            "colorbar": {
             "outlinewidth": 0,
             "ticks": ""
            },
            "colorscale": [
             [
              0,
              "#0d0887"
             ],
             [
              0.1111111111111111,
              "#46039f"
             ],
             [
              0.2222222222222222,
              "#7201a8"
             ],
             [
              0.3333333333333333,
              "#9c179e"
             ],
             [
              0.4444444444444444,
              "#bd3786"
             ],
             [
              0.5555555555555556,
              "#d8576b"
             ],
             [
              0.6666666666666666,
              "#ed7953"
             ],
             [
              0.7777777777777778,
              "#fb9f3a"
             ],
             [
              0.8888888888888888,
              "#fdca26"
             ],
             [
              1,
              "#f0f921"
             ]
            ],
            "type": "histogram2dcontour"
           }
          ],
          "mesh3d": [
           {
            "colorbar": {
             "outlinewidth": 0,
             "ticks": ""
            },
            "type": "mesh3d"
           }
          ],
          "parcoords": [
           {
            "line": {
             "colorbar": {
              "outlinewidth": 0,
              "ticks": ""
             }
            },
            "type": "parcoords"
           }
          ],
          "pie": [
           {
            "automargin": true,
            "type": "pie"
           }
          ],
          "scatter": [
           {
            "fillpattern": {
             "fillmode": "overlay",
             "size": 10,
             "solidity": 0.2
            },
            "type": "scatter"
           }
          ],
          "scatter3d": [
           {
            "line": {
             "colorbar": {
              "outlinewidth": 0,
              "ticks": ""
             }
            },
            "marker": {
             "colorbar": {
              "outlinewidth": 0,
              "ticks": ""
             }
            },
            "type": "scatter3d"
           }
          ],
          "scattercarpet": [
           {
            "marker": {
             "colorbar": {
              "outlinewidth": 0,
              "ticks": ""
             }
            },
            "type": "scattercarpet"
           }
          ],
          "scattergeo": [
           {
            "marker": {
             "colorbar": {
              "outlinewidth": 0,
              "ticks": ""
             }
            },
            "type": "scattergeo"
           }
          ],
          "scattergl": [
           {
            "marker": {
             "colorbar": {
              "outlinewidth": 0,
              "ticks": ""
             }
            },
            "type": "scattergl"
           }
          ],
          "scattermap": [
           {
            "marker": {
             "colorbar": {
              "outlinewidth": 0,
              "ticks": ""
             }
            },
            "type": "scattermap"
           }
          ],
          "scattermapbox": [
           {
            "marker": {
             "colorbar": {
              "outlinewidth": 0,
              "ticks": ""
             }
            },
            "type": "scattermapbox"
           }
          ],
          "scatterpolar": [
           {
            "marker": {
             "colorbar": {
              "outlinewidth": 0,
              "ticks": ""
             }
            },
            "type": "scatterpolar"
           }
          ],
          "scatterpolargl": [
           {
            "marker": {
             "colorbar": {
              "outlinewidth": 0,
              "ticks": ""
             }
            },
            "type": "scatterpolargl"
           }
          ],
          "scatterternary": [
           {
            "marker": {
             "colorbar": {
              "outlinewidth": 0,
              "ticks": ""
             }
            },
            "type": "scatterternary"
           }
          ],
          "surface": [
           {
            "colorbar": {
             "outlinewidth": 0,
             "ticks": ""
            },
            "colorscale": [
             [
              0,
              "#0d0887"
             ],
             [
              0.1111111111111111,
              "#46039f"
             ],
             [
              0.2222222222222222,
              "#7201a8"
             ],
             [
              0.3333333333333333,
              "#9c179e"
             ],
             [
              0.4444444444444444,
              "#bd3786"
             ],
             [
              0.5555555555555556,
              "#d8576b"
             ],
             [
              0.6666666666666666,
              "#ed7953"
             ],
             [
              0.7777777777777778,
              "#fb9f3a"
             ],
             [
              0.8888888888888888,
              "#fdca26"
             ],
             [
              1,
              "#f0f921"
             ]
            ],
            "type": "surface"
           }
          ],
          "table": [
           {
            "cells": {
             "fill": {
              "color": "#EBF0F8"
             },
             "line": {
              "color": "white"
             }
            },
            "header": {
             "fill": {
              "color": "#C8D4E3"
             },
             "line": {
              "color": "white"
             }
            },
            "type": "table"
           }
          ]
         },
         "layout": {
          "annotationdefaults": {
           "arrowcolor": "#2a3f5f",
           "arrowhead": 0,
           "arrowwidth": 1
          },
          "autotypenumbers": "strict",
          "coloraxis": {
           "colorbar": {
            "outlinewidth": 0,
            "ticks": ""
           }
          },
          "colorscale": {
           "diverging": [
            [
             0,
             "#8e0152"
            ],
            [
             0.1,
             "#c51b7d"
            ],
            [
             0.2,
             "#de77ae"
            ],
            [
             0.3,
             "#f1b6da"
            ],
            [
             0.4,
             "#fde0ef"
            ],
            [
             0.5,
             "#f7f7f7"
            ],
            [
             0.6,
             "#e6f5d0"
            ],
            [
             0.7,
             "#b8e186"
            ],
            [
             0.8,
             "#7fbc41"
            ],
            [
             0.9,
             "#4d9221"
            ],
            [
             1,
             "#276419"
            ]
           ],
           "sequential": [
            [
             0,
             "#0d0887"
            ],
            [
             0.1111111111111111,
             "#46039f"
            ],
            [
             0.2222222222222222,
             "#7201a8"
            ],
            [
             0.3333333333333333,
             "#9c179e"
            ],
            [
             0.4444444444444444,
             "#bd3786"
            ],
            [
             0.5555555555555556,
             "#d8576b"
            ],
            [
             0.6666666666666666,
             "#ed7953"
            ],
            [
             0.7777777777777778,
             "#fb9f3a"
            ],
            [
             0.8888888888888888,
             "#fdca26"
            ],
            [
             1,
             "#f0f921"
            ]
           ],
           "sequentialminus": [
            [
             0,
             "#0d0887"
            ],
            [
             0.1111111111111111,
             "#46039f"
            ],
            [
             0.2222222222222222,
             "#7201a8"
            ],
            [
             0.3333333333333333,
             "#9c179e"
            ],
            [
             0.4444444444444444,
             "#bd3786"
            ],
            [
             0.5555555555555556,
             "#d8576b"
            ],
            [
             0.6666666666666666,
             "#ed7953"
            ],
            [
             0.7777777777777778,
             "#fb9f3a"
            ],
            [
             0.8888888888888888,
             "#fdca26"
            ],
            [
             1,
             "#f0f921"
            ]
           ]
          },
          "colorway": [
           "#636efa",
           "#EF553B",
           "#00cc96",
           "#ab63fa",
           "#FFA15A",
           "#19d3f3",
           "#FF6692",
           "#B6E880",
           "#FF97FF",
           "#FECB52"
          ],
          "font": {
           "color": "#2a3f5f"
          },
          "geo": {
           "bgcolor": "white",
           "lakecolor": "white",
           "landcolor": "#E5ECF6",
           "showlakes": true,
           "showland": true,
           "subunitcolor": "white"
          },
          "hoverlabel": {
           "align": "left"
          },
          "hovermode": "closest",
          "mapbox": {
           "style": "light"
          },
          "paper_bgcolor": "white",
          "plot_bgcolor": "#E5ECF6",
          "polar": {
           "angularaxis": {
            "gridcolor": "white",
            "linecolor": "white",
            "ticks": ""
           },
           "bgcolor": "#E5ECF6",
           "radialaxis": {
            "gridcolor": "white",
            "linecolor": "white",
            "ticks": ""
           }
          },
          "scene": {
           "xaxis": {
            "backgroundcolor": "#E5ECF6",
            "gridcolor": "white",
            "gridwidth": 2,
            "linecolor": "white",
            "showbackground": true,
            "ticks": "",
            "zerolinecolor": "white"
           },
           "yaxis": {
            "backgroundcolor": "#E5ECF6",
            "gridcolor": "white",
            "gridwidth": 2,
            "linecolor": "white",
            "showbackground": true,
            "ticks": "",
            "zerolinecolor": "white"
           },
           "zaxis": {
            "backgroundcolor": "#E5ECF6",
            "gridcolor": "white",
            "gridwidth": 2,
            "linecolor": "white",
            "showbackground": true,
            "ticks": "",
            "zerolinecolor": "white"
           }
          },
          "shapedefaults": {
           "line": {
            "color": "#2a3f5f"
           }
          },
          "ternary": {
           "aaxis": {
            "gridcolor": "white",
            "linecolor": "white",
            "ticks": ""
           },
           "baxis": {
            "gridcolor": "white",
            "linecolor": "white",
            "ticks": ""
           },
           "bgcolor": "#E5ECF6",
           "caxis": {
            "gridcolor": "white",
            "linecolor": "white",
            "ticks": ""
           }
          },
          "title": {
           "x": 0.05
          },
          "xaxis": {
           "automargin": true,
           "gridcolor": "white",
           "linecolor": "white",
           "ticks": "",
           "title": {
            "standoff": 15
           },
           "zerolinecolor": "white",
           "zerolinewidth": 2
          },
          "yaxis": {
           "automargin": true,
           "gridcolor": "white",
           "linecolor": "white",
           "ticks": "",
           "title": {
            "standoff": 15
           },
           "zerolinecolor": "white",
           "zerolinewidth": 2
          }
         }
        },
        "title": {
         "text": "Mean Minimum Energy Consumption by Output Size, Provider & Model, GPU"
        },
        "width": 1000,
        "xaxis": {
         "anchor": "y",
         "categoryarray": [
          "300",
          "1000",
          "1500"
         ],
         "categoryorder": "array",
         "domain": [
          0,
          1
         ],
         "linecolor": "black",
         "linewidth": 1,
         "showgrid": false,
         "showline": true,
         "title": {
          "text": "Output Size (tokens)"
         }
        },
        "yaxis": {
         "anchor": "x",
         "domain": [
          0,
          1
         ],
         "gridcolor": "lightgray",
         "gridwidth": 1,
         "linecolor": "black",
         "linewidth": 1,
         "showgrid": true,
         "showline": true,
         "title": {
          "text": "Energy Consumption (Wh)"
         }
        }
       }
      }
     },
     "metadata": {},
     "output_type": "display_data"
    }
   ],
   "source": [
    "\n",
    "\n",
    "\n",
    "\n",
    "\n",
    "df_summary_4omini = (\n",
    "    df.loc[df['Model'].str.contains('GPT-4o'),:]\n",
    "    .groupby(['Model', 'Output Token Size', 'API Provider', 'GPUs Used'], as_index=False)\n",
    "    .agg(\n",
    "        mean_score=('Score', 'mean'),\n",
    "        sem_score=('Score', 'sem')\n",
    "    )\n",
    ")\n",
    "\n",
    "df_summary_4omini[['mean_score', 'sem_score']] *= 1000\n",
    "df_summary_4omini['bar_label'] = (\n",
    "    df_summary_4omini['Model'] + '<br>' + df_summary_4omini['mean_score'].round(3).astype(str) + ' Wh'\n",
    ")\n",
    "df_summary_4omini['Output Token Size'] = df_summary_4omini['Output Token Size'].astype(str).str.split(\".\").str[0]\n",
    "\n",
    "\n",
    "\n",
    "df_summary_4omini['provider_model'] = (\n",
    "    df_summary_4omini['API Provider'] + ' - ' + df_summary_4omini['Model'] + ' - ' + df_summary_4omini['GPUs Used']\n",
    ")\n",
    "\n",
    "fig = px.bar(\n",
    "    df_summary_4omini,\n",
    "    x='Output Token Size',\n",
    "    y='mean_score',\n",
    "    color='provider_model',          \n",
    "    error_y='sem_score',\n",
    "    barmode='group',                 \n",
    "    category_orders={\n",
    "        'Output Token Size': ['300', '1000', '1500'],\n",
    "        'GPUs Used': ['A100', 'H100']\n",
    "    },\n",
    "color_discrete_map = {\n",
    "    'OpenAI - GPT-4o - Nvidia H100/H200':    '#33540D',   \n",
    "\n",
    "    'OpenAI - GPT-4o mini - Nvidia H100':    '#4A90E2',   \n",
    "    'OpenAI - GPT-4o mini - Nvidia A100':    '#1F3A93',   \n",
    "    'Microsoft Azure - GPT-4o mini - Nvidia H100': '#2F5597'\n",
    "},\n",
    "\n",
    "\n",
    "\n",
    "\n",
    "    labels={\n",
    "        'mean_score': 'Mean Energy (Wh)',\n",
    "        'Output Token Size': 'Output Size (tokens)',\n",
    "        'provider_model': 'Provider & Model',\n",
    "        'GPUs Used': 'GPU Used'\n",
    "    },\n",
    "    title='Mean Minimum Energy Consumption by Output Size, Provider & Model, GPU',\n",
    "    text='bar_label', \n",
    ")\n",
    "\n",
    "fig.update_traces(\n",
    "    marker_line_width=0,\n",
    "    texttemplate='%{text}',\n",
    "    textposition='outside',  \n",
    "    textfont=dict(color='black')\n",
    ")\n",
    "\n",
    "fig.update_yaxes(\n",
    "    showgrid=True, gridcolor='lightgray', gridwidth=1,\n",
    "    showline=True, linecolor='black', linewidth=1,\n",
    "    title='Energy Consumption (Wh)'\n",
    ")\n",
    "fig.update_xaxes(\n",
    "    showgrid=False, showline=True, linecolor='black', linewidth=1\n",
    ")\n",
    "\n",
    "fig.update_layout(\n",
    "    width=1000,\n",
    "    legend_title_text='Provider & Model',\n",
    "    plot_bgcolor='white',\n",
    "    legend=dict(\n",
    "        orientation='v', yanchor='top', y=1,\n",
    "        xanchor='right', x=0.2,\n",
    "        bordercolor='black', borderwidth=1,\n",
    "        bgcolor='white'\n",
    "    )\n",
    ")\n",
    "\n",
    "fig.show()\n",
    "\n"
   ]
  },
  {
   "cell_type": "code",
   "execution_count": 151,
   "metadata": {},
   "outputs": [
    {
     "data": {
      "text/html": [
       "<div>\n",
       "<style scoped>\n",
       "    .dataframe tbody tr th:only-of-type {\n",
       "        vertical-align: middle;\n",
       "    }\n",
       "\n",
       "    .dataframe tbody tr th {\n",
       "        vertical-align: top;\n",
       "    }\n",
       "\n",
       "    .dataframe thead th {\n",
       "        text-align: right;\n",
       "    }\n",
       "</style>\n",
       "<table border=\"1\" class=\"dataframe\">\n",
       "  <thead>\n",
       "    <tr style=\"text-align: right;\">\n",
       "      <th></th>\n",
       "      <th>Output Speed (100 Tokens input 300 tokens output) (P5)</th>\n",
       "      <th>Output Speed (100 Tokens input) (P25)</th>\n",
       "      <th>Output Speed (100 Tokens input 300 tokens output) (median)</th>\n",
       "      <th>Output Speed (100 Tokens input 300 tokens output) (P75)</th>\n",
       "      <th>Output Speed (100 Tokens input 300 tokens output) (P95)</th>\n",
       "    </tr>\n",
       "  </thead>\n",
       "  <tbody>\n",
       "    <tr>\n",
       "      <th>0</th>\n",
       "      <td>113.6</td>\n",
       "      <td>142.0</td>\n",
       "      <td>174.0</td>\n",
       "      <td>220.6</td>\n",
       "      <td>325.9</td>\n",
       "    </tr>\n",
       "    <tr>\n",
       "      <th>1</th>\n",
       "      <td>55.4</td>\n",
       "      <td>68.9</td>\n",
       "      <td>81.1</td>\n",
       "      <td>87.2</td>\n",
       "      <td>97.0</td>\n",
       "    </tr>\n",
       "    <tr>\n",
       "      <th>2</th>\n",
       "      <td>28.2</td>\n",
       "      <td>31.6</td>\n",
       "      <td>38.1</td>\n",
       "      <td>44.1</td>\n",
       "      <td>57.5</td>\n",
       "    </tr>\n",
       "    <tr>\n",
       "      <th>3</th>\n",
       "      <td>55.4</td>\n",
       "      <td>68.9</td>\n",
       "      <td>81.1</td>\n",
       "      <td>87.2</td>\n",
       "      <td>97.0</td>\n",
       "    </tr>\n",
       "    <tr>\n",
       "      <th>4</th>\n",
       "      <td>28.2</td>\n",
       "      <td>31.6</td>\n",
       "      <td>38.1</td>\n",
       "      <td>44.1</td>\n",
       "      <td>57.5</td>\n",
       "    </tr>\n",
       "    <tr>\n",
       "      <th>5</th>\n",
       "      <td>70.6</td>\n",
       "      <td>115.9</td>\n",
       "      <td>153.4</td>\n",
       "      <td>192.0</td>\n",
       "      <td>223.0</td>\n",
       "    </tr>\n",
       "    <tr>\n",
       "      <th>6</th>\n",
       "      <td>41.9</td>\n",
       "      <td>47.5</td>\n",
       "      <td>52.6</td>\n",
       "      <td>59.3</td>\n",
       "      <td>63.7</td>\n",
       "    </tr>\n",
       "    <tr>\n",
       "      <th>7</th>\n",
       "      <td>107.6</td>\n",
       "      <td>178.3</td>\n",
       "      <td>207.1</td>\n",
       "      <td>222.7</td>\n",
       "      <td>245.3</td>\n",
       "    </tr>\n",
       "    <tr>\n",
       "      <th>8</th>\n",
       "      <td>50.8</td>\n",
       "      <td>59.9</td>\n",
       "      <td>74.2</td>\n",
       "      <td>85.3</td>\n",
       "      <td>95.8</td>\n",
       "    </tr>\n",
       "    <tr>\n",
       "      <th>9</th>\n",
       "      <td>16.4</td>\n",
       "      <td>25.9</td>\n",
       "      <td>33.6</td>\n",
       "      <td>42.2</td>\n",
       "      <td>53.8</td>\n",
       "    </tr>\n",
       "    <tr>\n",
       "      <th>10</th>\n",
       "      <td>50.8</td>\n",
       "      <td>59.9</td>\n",
       "      <td>74.2</td>\n",
       "      <td>85.3</td>\n",
       "      <td>95.8</td>\n",
       "    </tr>\n",
       "    <tr>\n",
       "      <th>11</th>\n",
       "      <td>16.4</td>\n",
       "      <td>25.9</td>\n",
       "      <td>33.6</td>\n",
       "      <td>42.2</td>\n",
       "      <td>53.8</td>\n",
       "    </tr>\n",
       "    <tr>\n",
       "      <th>12</th>\n",
       "      <td>61.7</td>\n",
       "      <td>104.8</td>\n",
       "      <td>121.5</td>\n",
       "      <td>137.8</td>\n",
       "      <td>176.3</td>\n",
       "    </tr>\n",
       "    <tr>\n",
       "      <th>13</th>\n",
       "      <td>36.5</td>\n",
       "      <td>45.7</td>\n",
       "      <td>51.8</td>\n",
       "      <td>54.0</td>\n",
       "      <td>58.0</td>\n",
       "    </tr>\n",
       "    <tr>\n",
       "      <th>14</th>\n",
       "      <td>134.9</td>\n",
       "      <td>171.7</td>\n",
       "      <td>193.7</td>\n",
       "      <td>210.7</td>\n",
       "      <td>235.8</td>\n",
       "    </tr>\n",
       "    <tr>\n",
       "      <th>15</th>\n",
       "      <td>52.0</td>\n",
       "      <td>62.5</td>\n",
       "      <td>71.6</td>\n",
       "      <td>83.5</td>\n",
       "      <td>101.2</td>\n",
       "    </tr>\n",
       "    <tr>\n",
       "      <th>16</th>\n",
       "      <td>21.3</td>\n",
       "      <td>26.3</td>\n",
       "      <td>32.7</td>\n",
       "      <td>40.2</td>\n",
       "      <td>44.6</td>\n",
       "    </tr>\n",
       "    <tr>\n",
       "      <th>17</th>\n",
       "      <td>52.0</td>\n",
       "      <td>62.5</td>\n",
       "      <td>71.6</td>\n",
       "      <td>83.5</td>\n",
       "      <td>101.2</td>\n",
       "    </tr>\n",
       "    <tr>\n",
       "      <th>18</th>\n",
       "      <td>21.3</td>\n",
       "      <td>26.3</td>\n",
       "      <td>32.7</td>\n",
       "      <td>40.2</td>\n",
       "      <td>44.6</td>\n",
       "    </tr>\n",
       "    <tr>\n",
       "      <th>19</th>\n",
       "      <td>82.8</td>\n",
       "      <td>114.4</td>\n",
       "      <td>164.3</td>\n",
       "      <td>182.0</td>\n",
       "      <td>206.1</td>\n",
       "    </tr>\n",
       "    <tr>\n",
       "      <th>20</th>\n",
       "      <td>28.7</td>\n",
       "      <td>37.8</td>\n",
       "      <td>41.1</td>\n",
       "      <td>46.1</td>\n",
       "      <td>48.3</td>\n",
       "    </tr>\n",
       "  </tbody>\n",
       "</table>\n",
       "</div>"
      ],
      "text/plain": [
       "    Output Speed (100 Tokens input 300 tokens output) (P5)  \\\n",
       "0                                               113.6        \n",
       "1                                                55.4        \n",
       "2                                                28.2        \n",
       "3                                                55.4        \n",
       "4                                                28.2        \n",
       "5                                                70.6        \n",
       "6                                                41.9        \n",
       "7                                               107.6        \n",
       "8                                                50.8        \n",
       "9                                                16.4        \n",
       "10                                               50.8        \n",
       "11                                               16.4        \n",
       "12                                               61.7        \n",
       "13                                               36.5        \n",
       "14                                              134.9        \n",
       "15                                               52.0        \n",
       "16                                               21.3        \n",
       "17                                               52.0        \n",
       "18                                               21.3        \n",
       "19                                               82.8        \n",
       "20                                               28.7        \n",
       "\n",
       "    Output Speed (100 Tokens input) (P25)  \\\n",
       "0                                   142.0   \n",
       "1                                    68.9   \n",
       "2                                    31.6   \n",
       "3                                    68.9   \n",
       "4                                    31.6   \n",
       "5                                   115.9   \n",
       "6                                    47.5   \n",
       "7                                   178.3   \n",
       "8                                    59.9   \n",
       "9                                    25.9   \n",
       "10                                   59.9   \n",
       "11                                   25.9   \n",
       "12                                  104.8   \n",
       "13                                   45.7   \n",
       "14                                  171.7   \n",
       "15                                   62.5   \n",
       "16                                   26.3   \n",
       "17                                   62.5   \n",
       "18                                   26.3   \n",
       "19                                  114.4   \n",
       "20                                   37.8   \n",
       "\n",
       "    Output Speed (100 Tokens input 300 tokens output) (median)  \\\n",
       "0                                               174.0            \n",
       "1                                                81.1            \n",
       "2                                                38.1            \n",
       "3                                                81.1            \n",
       "4                                                38.1            \n",
       "5                                               153.4            \n",
       "6                                                52.6            \n",
       "7                                               207.1            \n",
       "8                                                74.2            \n",
       "9                                                33.6            \n",
       "10                                               74.2            \n",
       "11                                               33.6            \n",
       "12                                              121.5            \n",
       "13                                               51.8            \n",
       "14                                              193.7            \n",
       "15                                               71.6            \n",
       "16                                               32.7            \n",
       "17                                               71.6            \n",
       "18                                               32.7            \n",
       "19                                              164.3            \n",
       "20                                               41.1            \n",
       "\n",
       "    Output Speed (100 Tokens input 300 tokens output) (P75)  \\\n",
       "0                                               220.6         \n",
       "1                                                87.2         \n",
       "2                                                44.1         \n",
       "3                                                87.2         \n",
       "4                                                44.1         \n",
       "5                                               192.0         \n",
       "6                                                59.3         \n",
       "7                                               222.7         \n",
       "8                                                85.3         \n",
       "9                                                42.2         \n",
       "10                                               85.3         \n",
       "11                                               42.2         \n",
       "12                                              137.8         \n",
       "13                                               54.0         \n",
       "14                                              210.7         \n",
       "15                                               83.5         \n",
       "16                                               40.2         \n",
       "17                                               83.5         \n",
       "18                                               40.2         \n",
       "19                                              182.0         \n",
       "20                                               46.1         \n",
       "\n",
       "    Output Speed (100 Tokens input 300 tokens output) (P95)  \n",
       "0                                               325.9        \n",
       "1                                                97.0        \n",
       "2                                                57.5        \n",
       "3                                                97.0        \n",
       "4                                                57.5        \n",
       "5                                               223.0        \n",
       "6                                                63.7        \n",
       "7                                               245.3        \n",
       "8                                                95.8        \n",
       "9                                                53.8        \n",
       "10                                               95.8        \n",
       "11                                               53.8        \n",
       "12                                              176.3        \n",
       "13                                               58.0        \n",
       "14                                              235.8        \n",
       "15                                              101.2        \n",
       "16                                               44.6        \n",
       "17                                              101.2        \n",
       "18                                               44.6        \n",
       "19                                              206.1        \n",
       "20                                               48.3        "
      ]
     },
     "execution_count": 151,
     "metadata": {},
     "output_type": "execute_result"
    }
   ],
   "source": [
    "df_boxplot.iloc[:,15:20]"
   ]
  },
  {
   "cell_type": "code",
   "execution_count": 158,
   "metadata": {},
   "outputs": [],
   "source": [
    "df_boxplot_clean=pd.concat([df_boxplot.iloc[:,:4], df_boxplot.iloc[:,15:20]], axis=1)\n",
    "df_boxplot_clean.loc[df_boxplot_clean['Model']==(\"GPT-4o (Mar '25)\"),\"Model\"]= 'GPT-4o'"
   ]
  },
  {
   "cell_type": "code",
   "execution_count": 160,
   "metadata": {},
   "outputs": [
    {
     "data": {
      "application/vnd.plotly.v1+json": {
       "config": {
        "plotlyServerURL": "https://plot.ly"
       },
       "data": [
        {
         "alignmentgroup": "True",
         "boxmean": true,
         "hovertemplate": "Provider & Model=%{x}<br>Score=%{y}<extra></extra>",
         "legendgroup": "OpenAI - GPT-4o",
         "marker": {
          "color": "#4e7d32"
         },
         "name": "OpenAI - GPT-4o",
         "notched": false,
         "offsetgroup": "OpenAI - GPT-4o",
         "orientation": "v",
         "showlegend": true,
         "type": "box",
         "x": [
          "OpenAI - GPT-4o",
          "OpenAI - GPT-4o",
          "OpenAI - GPT-4o",
          "OpenAI - GPT-4o",
          "OpenAI - GPT-4o",
          "OpenAI - GPT-4o",
          "OpenAI - GPT-4o",
          "OpenAI - GPT-4o",
          "OpenAI - GPT-4o",
          "OpenAI - GPT-4o",
          "OpenAI - GPT-4o",
          "OpenAI - GPT-4o",
          "OpenAI - GPT-4o",
          "OpenAI - GPT-4o",
          "OpenAI - GPT-4o"
         ],
         "x0": " ",
         "xaxis": "x",
         "y": {
          "bdata": "ZmZmZmZmXEBmZmZmZuZaQM3MzMzM3GBAAAAAAADAYUCamZmZmUlmQGZmZmZmdmVAAAAAAADAZUAzMzMzM+NpQGZmZmZmNmhAMzMzMzOTa0BmZmZmZtZrQGZmZmZmVmpAZmZmZmZedECamZmZmaluQJqZmZmZeW1A",
          "dtype": "f8"
         },
         "y0": " ",
         "yaxis": "y"
        },
        {
         "alignmentgroup": "True",
         "boxmean": true,
         "hovertemplate": "Provider & Model=%{x}<br>Score=%{y}<extra></extra>",
         "legendgroup": "OpenAI - GPT-4o mini",
         "marker": {
          "color": "#4a90e2"
         },
         "name": "OpenAI - GPT-4o mini",
         "notched": false,
         "offsetgroup": "OpenAI - GPT-4o mini",
         "orientation": "v",
         "showlegend": true,
         "type": "box",
         "x": [
          "OpenAI - GPT-4o mini",
          "OpenAI - GPT-4o mini",
          "OpenAI - GPT-4o mini",
          "OpenAI - GPT-4o mini",
          "OpenAI - GPT-4o mini",
          "OpenAI - GPT-4o mini",
          "OpenAI - GPT-4o mini",
          "OpenAI - GPT-4o mini",
          "OpenAI - GPT-4o mini",
          "OpenAI - GPT-4o mini",
          "OpenAI - GPT-4o mini",
          "OpenAI - GPT-4o mini",
          "OpenAI - GPT-4o mini",
          "OpenAI - GPT-4o mini",
          "OpenAI - GPT-4o mini",
          "OpenAI - GPT-4o mini",
          "OpenAI - GPT-4o mini",
          "OpenAI - GPT-4o mini",
          "OpenAI - GPT-4o mini",
          "OpenAI - GPT-4o mini",
          "OpenAI - GPT-4o mini",
          "OpenAI - GPT-4o mini",
          "OpenAI - GPT-4o mini",
          "OpenAI - GPT-4o mini",
          "OpenAI - GPT-4o mini",
          "OpenAI - GPT-4o mini",
          "OpenAI - GPT-4o mini",
          "OpenAI - GPT-4o mini",
          "OpenAI - GPT-4o mini",
          "OpenAI - GPT-4o mini"
         ],
         "x0": " ",
         "xaxis": "x",
         "y": {
          "bdata": "MzMzMzOzS0AzMzMzM7NLQGZmZmZmZklAZmZmZmZmSUAAAAAAAABKQAAAAAAAAEpAmpmZmZk5UUCamZmZmTlRQDMzMzMz801AMzMzMzPzTUAAAAAAAEBPQAAAAAAAQE9AZmZmZmZGVEBmZmZmZkZUQM3MzMzMjFJAzczMzMyMUkBmZmZmZuZRQGZmZmZm5lFAzczMzMzMVUDNzMzMzMxVQDMzMzMzU1VAMzMzMzNTVUAAAAAAAOBUQAAAAAAA4FRAAAAAAABAWEAAAAAAAEBYQDMzMzMz81dAMzMzMzPzV0DNzMzMzExZQM3MzMzMTFlA",
          "dtype": "f8"
         },
         "y0": " ",
         "yaxis": "y"
        },
        {
         "alignmentgroup": "True",
         "boxmean": true,
         "hovertemplate": "Provider & Model=%{x}<br>Score=%{y}<extra></extra>",
         "legendgroup": "Microsoft Azure - GPT-4o mini",
         "marker": {
          "color": "#2f5597"
         },
         "name": "Microsoft Azure - GPT-4o mini",
         "notched": false,
         "offsetgroup": "Microsoft Azure - GPT-4o mini",
         "orientation": "v",
         "showlegend": true,
         "type": "box",
         "x": [
          "Microsoft Azure - GPT-4o mini",
          "Microsoft Azure - GPT-4o mini",
          "Microsoft Azure - GPT-4o mini",
          "Microsoft Azure - GPT-4o mini",
          "Microsoft Azure - GPT-4o mini",
          "Microsoft Azure - GPT-4o mini",
          "Microsoft Azure - GPT-4o mini",
          "Microsoft Azure - GPT-4o mini",
          "Microsoft Azure - GPT-4o mini",
          "Microsoft Azure - GPT-4o mini",
          "Microsoft Azure - GPT-4o mini",
          "Microsoft Azure - GPT-4o mini",
          "Microsoft Azure - GPT-4o mini",
          "Microsoft Azure - GPT-4o mini",
          "Microsoft Azure - GPT-4o mini"
         ],
         "x0": " ",
         "xaxis": "x",
         "y": {
          "bdata": "ZmZmZmamUUCamZmZmdlOQDMzMzMzs1RAmpmZmZn5XEAzMzMzMzNaQJqZmZmZmVxAzczMzMwsY0AAAAAAAGBeQJqZmZmZiWRAAAAAAAAAaECamZmZmTlhQAAAAAAAwGZAAAAAAADga0CamZmZmQlmQDMzMzMzw2lA",
          "dtype": "f8"
         },
         "y0": " ",
         "yaxis": "y"
        }
       ],
       "layout": {
        "boxmode": "overlay",
        "legend": {
         "title": {
          "text": "Provider & Model"
         },
         "tracegroupgap": 0
        },
        "plot_bgcolor": "white",
        "template": {
         "data": {
          "bar": [
           {
            "error_x": {
             "color": "#2a3f5f"
            },
            "error_y": {
             "color": "#2a3f5f"
            },
            "marker": {
             "line": {
              "color": "#E5ECF6",
              "width": 0.5
             },
             "pattern": {
              "fillmode": "overlay",
              "size": 10,
              "solidity": 0.2
             }
            },
            "type": "bar"
           }
          ],
          "barpolar": [
           {
            "marker": {
             "line": {
              "color": "#E5ECF6",
              "width": 0.5
             },
             "pattern": {
              "fillmode": "overlay",
              "size": 10,
              "solidity": 0.2
             }
            },
            "type": "barpolar"
           }
          ],
          "carpet": [
           {
            "aaxis": {
             "endlinecolor": "#2a3f5f",
             "gridcolor": "white",
             "linecolor": "white",
             "minorgridcolor": "white",
             "startlinecolor": "#2a3f5f"
            },
            "baxis": {
             "endlinecolor": "#2a3f5f",
             "gridcolor": "white",
             "linecolor": "white",
             "minorgridcolor": "white",
             "startlinecolor": "#2a3f5f"
            },
            "type": "carpet"
           }
          ],
          "choropleth": [
           {
            "colorbar": {
             "outlinewidth": 0,
             "ticks": ""
            },
            "type": "choropleth"
           }
          ],
          "contour": [
           {
            "colorbar": {
             "outlinewidth": 0,
             "ticks": ""
            },
            "colorscale": [
             [
              0,
              "#0d0887"
             ],
             [
              0.1111111111111111,
              "#46039f"
             ],
             [
              0.2222222222222222,
              "#7201a8"
             ],
             [
              0.3333333333333333,
              "#9c179e"
             ],
             [
              0.4444444444444444,
              "#bd3786"
             ],
             [
              0.5555555555555556,
              "#d8576b"
             ],
             [
              0.6666666666666666,
              "#ed7953"
             ],
             [
              0.7777777777777778,
              "#fb9f3a"
             ],
             [
              0.8888888888888888,
              "#fdca26"
             ],
             [
              1,
              "#f0f921"
             ]
            ],
            "type": "contour"
           }
          ],
          "contourcarpet": [
           {
            "colorbar": {
             "outlinewidth": 0,
             "ticks": ""
            },
            "type": "contourcarpet"
           }
          ],
          "heatmap": [
           {
            "colorbar": {
             "outlinewidth": 0,
             "ticks": ""
            },
            "colorscale": [
             [
              0,
              "#0d0887"
             ],
             [
              0.1111111111111111,
              "#46039f"
             ],
             [
              0.2222222222222222,
              "#7201a8"
             ],
             [
              0.3333333333333333,
              "#9c179e"
             ],
             [
              0.4444444444444444,
              "#bd3786"
             ],
             [
              0.5555555555555556,
              "#d8576b"
             ],
             [
              0.6666666666666666,
              "#ed7953"
             ],
             [
              0.7777777777777778,
              "#fb9f3a"
             ],
             [
              0.8888888888888888,
              "#fdca26"
             ],
             [
              1,
              "#f0f921"
             ]
            ],
            "type": "heatmap"
           }
          ],
          "histogram": [
           {
            "marker": {
             "pattern": {
              "fillmode": "overlay",
              "size": 10,
              "solidity": 0.2
             }
            },
            "type": "histogram"
           }
          ],
          "histogram2d": [
           {
            "colorbar": {
             "outlinewidth": 0,
             "ticks": ""
            },
            "colorscale": [
             [
              0,
              "#0d0887"
             ],
             [
              0.1111111111111111,
              "#46039f"
             ],
             [
              0.2222222222222222,
              "#7201a8"
             ],
             [
              0.3333333333333333,
              "#9c179e"
             ],
             [
              0.4444444444444444,
              "#bd3786"
             ],
             [
              0.5555555555555556,
              "#d8576b"
             ],
             [
              0.6666666666666666,
              "#ed7953"
             ],
             [
              0.7777777777777778,
              "#fb9f3a"
             ],
             [
              0.8888888888888888,
              "#fdca26"
             ],
             [
              1,
              "#f0f921"
             ]
            ],
            "type": "histogram2d"
           }
          ],
          "histogram2dcontour": [
           {
            "colorbar": {
             "outlinewidth": 0,
             "ticks": ""
            },
            "colorscale": [
             [
              0,
              "#0d0887"
             ],
             [
              0.1111111111111111,
              "#46039f"
             ],
             [
              0.2222222222222222,
              "#7201a8"
             ],
             [
              0.3333333333333333,
              "#9c179e"
             ],
             [
              0.4444444444444444,
              "#bd3786"
             ],
             [
              0.5555555555555556,
              "#d8576b"
             ],
             [
              0.6666666666666666,
              "#ed7953"
             ],
             [
              0.7777777777777778,
              "#fb9f3a"
             ],
             [
              0.8888888888888888,
              "#fdca26"
             ],
             [
              1,
              "#f0f921"
             ]
            ],
            "type": "histogram2dcontour"
           }
          ],
          "mesh3d": [
           {
            "colorbar": {
             "outlinewidth": 0,
             "ticks": ""
            },
            "type": "mesh3d"
           }
          ],
          "parcoords": [
           {
            "line": {
             "colorbar": {
              "outlinewidth": 0,
              "ticks": ""
             }
            },
            "type": "parcoords"
           }
          ],
          "pie": [
           {
            "automargin": true,
            "type": "pie"
           }
          ],
          "scatter": [
           {
            "fillpattern": {
             "fillmode": "overlay",
             "size": 10,
             "solidity": 0.2
            },
            "type": "scatter"
           }
          ],
          "scatter3d": [
           {
            "line": {
             "colorbar": {
              "outlinewidth": 0,
              "ticks": ""
             }
            },
            "marker": {
             "colorbar": {
              "outlinewidth": 0,
              "ticks": ""
             }
            },
            "type": "scatter3d"
           }
          ],
          "scattercarpet": [
           {
            "marker": {
             "colorbar": {
              "outlinewidth": 0,
              "ticks": ""
             }
            },
            "type": "scattercarpet"
           }
          ],
          "scattergeo": [
           {
            "marker": {
             "colorbar": {
              "outlinewidth": 0,
              "ticks": ""
             }
            },
            "type": "scattergeo"
           }
          ],
          "scattergl": [
           {
            "marker": {
             "colorbar": {
              "outlinewidth": 0,
              "ticks": ""
             }
            },
            "type": "scattergl"
           }
          ],
          "scattermap": [
           {
            "marker": {
             "colorbar": {
              "outlinewidth": 0,
              "ticks": ""
             }
            },
            "type": "scattermap"
           }
          ],
          "scattermapbox": [
           {
            "marker": {
             "colorbar": {
              "outlinewidth": 0,
              "ticks": ""
             }
            },
            "type": "scattermapbox"
           }
          ],
          "scatterpolar": [
           {
            "marker": {
             "colorbar": {
              "outlinewidth": 0,
              "ticks": ""
             }
            },
            "type": "scatterpolar"
           }
          ],
          "scatterpolargl": [
           {
            "marker": {
             "colorbar": {
              "outlinewidth": 0,
              "ticks": ""
             }
            },
            "type": "scatterpolargl"
           }
          ],
          "scatterternary": [
           {
            "marker": {
             "colorbar": {
              "outlinewidth": 0,
              "ticks": ""
             }
            },
            "type": "scatterternary"
           }
          ],
          "surface": [
           {
            "colorbar": {
             "outlinewidth": 0,
             "ticks": ""
            },
            "colorscale": [
             [
              0,
              "#0d0887"
             ],
             [
              0.1111111111111111,
              "#46039f"
             ],
             [
              0.2222222222222222,
              "#7201a8"
             ],
             [
              0.3333333333333333,
              "#9c179e"
             ],
             [
              0.4444444444444444,
              "#bd3786"
             ],
             [
              0.5555555555555556,
              "#d8576b"
             ],
             [
              0.6666666666666666,
              "#ed7953"
             ],
             [
              0.7777777777777778,
              "#fb9f3a"
             ],
             [
              0.8888888888888888,
              "#fdca26"
             ],
             [
              1,
              "#f0f921"
             ]
            ],
            "type": "surface"
           }
          ],
          "table": [
           {
            "cells": {
             "fill": {
              "color": "#EBF0F8"
             },
             "line": {
              "color": "white"
             }
            },
            "header": {
             "fill": {
              "color": "#C8D4E3"
             },
             "line": {
              "color": "white"
             }
            },
            "type": "table"
           }
          ]
         },
         "layout": {
          "annotationdefaults": {
           "arrowcolor": "#2a3f5f",
           "arrowhead": 0,
           "arrowwidth": 1
          },
          "autotypenumbers": "strict",
          "coloraxis": {
           "colorbar": {
            "outlinewidth": 0,
            "ticks": ""
           }
          },
          "colorscale": {
           "diverging": [
            [
             0,
             "#8e0152"
            ],
            [
             0.1,
             "#c51b7d"
            ],
            [
             0.2,
             "#de77ae"
            ],
            [
             0.3,
             "#f1b6da"
            ],
            [
             0.4,
             "#fde0ef"
            ],
            [
             0.5,
             "#f7f7f7"
            ],
            [
             0.6,
             "#e6f5d0"
            ],
            [
             0.7,
             "#b8e186"
            ],
            [
             0.8,
             "#7fbc41"
            ],
            [
             0.9,
             "#4d9221"
            ],
            [
             1,
             "#276419"
            ]
           ],
           "sequential": [
            [
             0,
             "#0d0887"
            ],
            [
             0.1111111111111111,
             "#46039f"
            ],
            [
             0.2222222222222222,
             "#7201a8"
            ],
            [
             0.3333333333333333,
             "#9c179e"
            ],
            [
             0.4444444444444444,
             "#bd3786"
            ],
            [
             0.5555555555555556,
             "#d8576b"
            ],
            [
             0.6666666666666666,
             "#ed7953"
            ],
            [
             0.7777777777777778,
             "#fb9f3a"
            ],
            [
             0.8888888888888888,
             "#fdca26"
            ],
            [
             1,
             "#f0f921"
            ]
           ],
           "sequentialminus": [
            [
             0,
             "#0d0887"
            ],
            [
             0.1111111111111111,
             "#46039f"
            ],
            [
             0.2222222222222222,
             "#7201a8"
            ],
            [
             0.3333333333333333,
             "#9c179e"
            ],
            [
             0.4444444444444444,
             "#bd3786"
            ],
            [
             0.5555555555555556,
             "#d8576b"
            ],
            [
             0.6666666666666666,
             "#ed7953"
            ],
            [
             0.7777777777777778,
             "#fb9f3a"
            ],
            [
             0.8888888888888888,
             "#fdca26"
            ],
            [
             1,
             "#f0f921"
            ]
           ]
          },
          "colorway": [
           "#636efa",
           "#EF553B",
           "#00cc96",
           "#ab63fa",
           "#FFA15A",
           "#19d3f3",
           "#FF6692",
           "#B6E880",
           "#FF97FF",
           "#FECB52"
          ],
          "font": {
           "color": "#2a3f5f"
          },
          "geo": {
           "bgcolor": "white",
           "lakecolor": "white",
           "landcolor": "#E5ECF6",
           "showlakes": true,
           "showland": true,
           "subunitcolor": "white"
          },
          "hoverlabel": {
           "align": "left"
          },
          "hovermode": "closest",
          "mapbox": {
           "style": "light"
          },
          "paper_bgcolor": "white",
          "plot_bgcolor": "#E5ECF6",
          "polar": {
           "angularaxis": {
            "gridcolor": "white",
            "linecolor": "white",
            "ticks": ""
           },
           "bgcolor": "#E5ECF6",
           "radialaxis": {
            "gridcolor": "white",
            "linecolor": "white",
            "ticks": ""
           }
          },
          "scene": {
           "xaxis": {
            "backgroundcolor": "#E5ECF6",
            "gridcolor": "white",
            "gridwidth": 2,
            "linecolor": "white",
            "showbackground": true,
            "ticks": "",
            "zerolinecolor": "white"
           },
           "yaxis": {
            "backgroundcolor": "#E5ECF6",
            "gridcolor": "white",
            "gridwidth": 2,
            "linecolor": "white",
            "showbackground": true,
            "ticks": "",
            "zerolinecolor": "white"
           },
           "zaxis": {
            "backgroundcolor": "#E5ECF6",
            "gridcolor": "white",
            "gridwidth": 2,
            "linecolor": "white",
            "showbackground": true,
            "ticks": "",
            "zerolinecolor": "white"
           }
          },
          "shapedefaults": {
           "line": {
            "color": "#2a3f5f"
           }
          },
          "ternary": {
           "aaxis": {
            "gridcolor": "white",
            "linecolor": "white",
            "ticks": ""
           },
           "baxis": {
            "gridcolor": "white",
            "linecolor": "white",
            "ticks": ""
           },
           "bgcolor": "#E5ECF6",
           "caxis": {
            "gridcolor": "white",
            "linecolor": "white",
            "ticks": ""
           }
          },
          "title": {
           "x": 0.05
          },
          "xaxis": {
           "automargin": true,
           "gridcolor": "white",
           "linecolor": "white",
           "ticks": "",
           "title": {
            "standoff": 15
           },
           "zerolinecolor": "white",
           "zerolinewidth": 2
          },
          "yaxis": {
           "automargin": true,
           "gridcolor": "white",
           "linecolor": "white",
           "ticks": "",
           "title": {
            "standoff": 15
           },
           "zerolinecolor": "white",
           "zerolinewidth": 2
          }
         }
        },
        "title": {
         "text": "Score Distribution for GPT-4o and GPT-4o mini (OpenAI & Azure)"
        },
        "xaxis": {
         "anchor": "y",
         "categoryarray": [
          "OpenAI - GPT-4o",
          "OpenAI - GPT-4o mini",
          "Microsoft Azure - GPT-4o mini"
         ],
         "categoryorder": "array",
         "domain": [
          0,
          1
         ],
         "linecolor": "black",
         "showgrid": false,
         "title": {
          "text": "Provider & Model"
         }
        },
        "yaxis": {
         "anchor": "x",
         "domain": [
          0,
          1
         ],
         "gridcolor": "lightgray",
         "linecolor": "black",
         "showgrid": true,
         "title": {
          "text": "Token Per Second"
         }
        }
       }
      }
     },
     "metadata": {},
     "output_type": "display_data"
    }
   ],
   "source": [
    "\n",
    "df_box = df_boxplot_clean[\n",
    "    ((df_boxplot_clean['Model'] == 'GPT-4o') & (df_boxplot_clean['API Provider'] == 'OpenAI')) |\n",
    "    ((df_boxplot_clean['Model'] == 'GPT-4o mini') & (df_boxplot_clean['API Provider'] == 'OpenAI')) |\n",
    "    ((df_boxplot_clean['Model'] == 'GPT-4o mini') & (df_boxplot_clean['API Provider'] == 'Microsoft Azure'))\n",
    "].copy()\n",
    "df_box=df_box.melt(id_vars=[\"Model\", \"API Provider\", \"GPUs Used\"], value_vars=df_box.columns[4:29], var_name=\"Metric\", value_name=\"Score\")\n",
    "\n",
    "df_box['provider_model'] = df_box['API Provider'] + ' - ' + df_box['Model']\n",
    "\n",
    "color_discrete_map = {\n",
    "    'OpenAI - GPT-4o':             '#4e7d32',   \n",
    "    'OpenAI - GPT-4o mini':        '#4a90e2',  \n",
    "    'Microsoft Azure - GPT-4o mini': '#2f5597' \n",
    "}\n",
    "\n",
    "fig = px.box(\n",
    "    df_box,\n",
    "    x='provider_model',\n",
    "    y='Score',\n",
    "    color='provider_model',\n",
    "    color_discrete_map=color_discrete_map,\n",
    "    labels={\n",
    "        'provider_model': 'Provider & Model',\n",
    "        'Score': 'Score'\n",
    "    },\n",
    "    title='Score Distribution for GPT-4o and GPT-4o mini (OpenAI & Azure)'\n",
    ")\n",
    "\n",
    "fig.update_layout(\n",
    "    plot_bgcolor='white',\n",
    "    legend_title_text='Provider & Model',\n",
    ")\n",
    "fig.update_traces(boxmean=True)\n",
    "fig.update_xaxes(showgrid=False, linecolor='black')\n",
    "fig.update_yaxes(showgrid=True, gridcolor='lightgray', linecolor='black', title='Token Per Second')\n",
    "\n",
    "fig.show()\n"
   ]
  },
  {
   "cell_type": "code",
   "execution_count": null,
   "metadata": {},
   "outputs": [
    {
     "data": {
      "application/vnd.plotly.v1+json": {
       "config": {
        "plotlyServerURL": "https://plot.ly"
       },
       "data": [
        {
         "alignmentgroup": "True",
         "hovertemplate": "Provider & Model=OpenAI - GPT-4o<br>Nvidia H100/H200<br>Output Size (tokens)=%{x}<br>Mean Energy (Wh)=%{y}<extra></extra>",
         "legendgroup": "OpenAI - GPT-4o<br>Nvidia H100/H200",
         "marker": {
          "color": "#33540D",
          "line": {
           "width": 0
          },
          "pattern": {
           "shape": ""
          }
         },
         "name": "OpenAI - GPT-4o<br>Nvidia H100/H200",
         "offsetgroup": "OpenAI - GPT-4o<br>Nvidia H100/H200",
         "orientation": "v",
         "showlegend": true,
         "textposition": "auto",
         "type": "bar",
         "x": [
          "300",
          "1000",
          "1500"
         ],
         "xaxis": "x",
         "y": {
          "bdata": "7+7u7u7u2D902kCnDfTxPzSl4uzDZ/o/",
          "dtype": "f8"
         },
         "yaxis": "y"
        },
        {
         "alignmentgroup": "True",
         "hovertemplate": "Provider & Model=OpenAI - GPT-4o mini<br>Nvidia H100<br>Output Size (tokens)=%{x}<br>Mean Energy (Wh)=%{y}<extra></extra>",
         "legendgroup": "OpenAI - GPT-4o mini<br>Nvidia H100",
         "marker": {
          "color": "#4A90E2",
          "line": {
           "width": 0
          },
          "pattern": {
           "shape": ""
          }
         },
         "name": "OpenAI - GPT-4o mini<br>Nvidia H100",
         "offsetgroup": "OpenAI - GPT-4o mini<br>Nvidia H100",
         "orientation": "v",
         "showlegend": true,
         "textposition": "auto",
         "type": "bar",
         "x": [
          "300",
          "1000",
          "1500"
         ],
         "xaxis": "x",
         "y": {
          "bdata": "SgwCK4cW2z+CB/NE/dv2PwfzRP0bAQFA",
          "dtype": "f8"
         },
         "yaxis": "y"
        },
        {
         "alignmentgroup": "True",
         "hovertemplate": "Provider & Model=OpenAI - GPT-4o mini<br>Nvidia A100<br>Output Size (tokens)=%{x}<br>Mean Energy (Wh)=%{y}<extra></extra>",
         "legendgroup": "OpenAI - GPT-4o mini<br>Nvidia A100",
         "marker": {
          "color": "#1F3A93",
          "line": {
           "width": 0
          },
          "pattern": {
           "shape": ""
          }
         },
         "name": "OpenAI - GPT-4o mini<br>Nvidia A100",
         "offsetgroup": "OpenAI - GPT-4o mini<br>Nvidia A100",
         "orientation": "v",
         "showlegend": true,
         "textposition": "auto",
         "type": "bar",
         "x": [
          "300",
          "1000",
          "1500"
         ],
         "xaxis": "x",
         "y": {
          "bdata": "IiIiIiIi2j9qSsXZhw/2P2IQWDm0aABA",
          "dtype": "f8"
         },
         "yaxis": "y"
        },
        {
         "alignmentgroup": "True",
         "hovertemplate": "Provider & Model=Microsoft Azure - GPT-4o mini<br>Nvidia H100<br>Output Size (tokens)=%{x}<br>Mean Energy (Wh)=%{y}<extra></extra>",
         "legendgroup": "Microsoft Azure - GPT-4o mini<br>Nvidia H100",
         "marker": {
          "color": "#2F5597",
          "line": {
           "width": 0
          },
          "pattern": {
           "shape": ""
          }
         },
         "name": "Microsoft Azure - GPT-4o mini<br>Nvidia H100",
         "offsetgroup": "Microsoft Azure - GPT-4o mini<br>Nvidia H100",
         "orientation": "v",
         "showlegend": true,
         "textposition": "auto",
         "type": "bar",
         "x": [
          "300",
          "1000",
          "1500"
         ],
         "xaxis": "x",
         "y": {
          "bdata": "N4lBYOXQ0z9CYOXQIlvvP/NE/RuhzPM/",
          "dtype": "f8"
         },
         "yaxis": "y"
        },
        {
         "alignmentgroup": "True",
         "boxmean": true,
         "hovertemplate": "Provider & Model=%{x}<br>Token Throughput Score=%{y}<extra></extra>",
         "legendgroup": "OpenAI<br>GPT-4o",
         "marker": {
          "color": "#4e7d32"
         },
         "name": "OpenAI<br>GPT-4o",
         "notched": false,
         "offsetgroup": "OpenAI<br>GPT-4o",
         "orientation": "v",
         "showlegend": true,
         "type": "box",
         "x": [
          "OpenAI<br>GPT-4o",
          "OpenAI<br>GPT-4o",
          "OpenAI<br>GPT-4o",
          "OpenAI<br>GPT-4o",
          "OpenAI<br>GPT-4o",
          "OpenAI<br>GPT-4o",
          "OpenAI<br>GPT-4o",
          "OpenAI<br>GPT-4o",
          "OpenAI<br>GPT-4o",
          "OpenAI<br>GPT-4o",
          "OpenAI<br>GPT-4o",
          "OpenAI<br>GPT-4o",
          "OpenAI<br>GPT-4o",
          "OpenAI<br>GPT-4o",
          "OpenAI<br>GPT-4o"
         ],
         "x0": " ",
         "xaxis": "x2",
         "y": {
          "bdata": "ZmZmZmZmXEBmZmZmZuZaQM3MzMzM3GBAAAAAAADAYUCamZmZmUlmQGZmZmZmdmVAAAAAAADAZUAzMzMzM+NpQGZmZmZmNmhAMzMzMzOTa0BmZmZmZtZrQGZmZmZmVmpAZmZmZmZedECamZmZmaluQJqZmZmZeW1A",
          "dtype": "f8"
         },
         "y0": " ",
         "yaxis": "y2"
        },
        {
         "alignmentgroup": "True",
         "boxmean": true,
         "hovertemplate": "Provider & Model=%{x}<br>Token Throughput Score=%{y}<extra></extra>",
         "legendgroup": "OpenAI<br>GPT-4o mini",
         "marker": {
          "color": "#4a90e2"
         },
         "name": "OpenAI<br>GPT-4o mini",
         "notched": false,
         "offsetgroup": "OpenAI<br>GPT-4o mini",
         "orientation": "v",
         "showlegend": true,
         "type": "box",
         "x": [
          "OpenAI<br>GPT-4o mini",
          "OpenAI<br>GPT-4o mini",
          "OpenAI<br>GPT-4o mini",
          "OpenAI<br>GPT-4o mini",
          "OpenAI<br>GPT-4o mini",
          "OpenAI<br>GPT-4o mini",
          "OpenAI<br>GPT-4o mini",
          "OpenAI<br>GPT-4o mini",
          "OpenAI<br>GPT-4o mini",
          "OpenAI<br>GPT-4o mini",
          "OpenAI<br>GPT-4o mini",
          "OpenAI<br>GPT-4o mini",
          "OpenAI<br>GPT-4o mini",
          "OpenAI<br>GPT-4o mini",
          "OpenAI<br>GPT-4o mini",
          "OpenAI<br>GPT-4o mini",
          "OpenAI<br>GPT-4o mini",
          "OpenAI<br>GPT-4o mini",
          "OpenAI<br>GPT-4o mini",
          "OpenAI<br>GPT-4o mini",
          "OpenAI<br>GPT-4o mini",
          "OpenAI<br>GPT-4o mini",
          "OpenAI<br>GPT-4o mini",
          "OpenAI<br>GPT-4o mini",
          "OpenAI<br>GPT-4o mini",
          "OpenAI<br>GPT-4o mini",
          "OpenAI<br>GPT-4o mini",
          "OpenAI<br>GPT-4o mini",
          "OpenAI<br>GPT-4o mini",
          "OpenAI<br>GPT-4o mini"
         ],
         "x0": " ",
         "xaxis": "x2",
         "y": {
          "bdata": "MzMzMzOzS0AzMzMzM7NLQGZmZmZmZklAZmZmZmZmSUAAAAAAAABKQAAAAAAAAEpAmpmZmZk5UUCamZmZmTlRQDMzMzMz801AMzMzMzPzTUAAAAAAAEBPQAAAAAAAQE9AZmZmZmZGVEBmZmZmZkZUQM3MzMzMjFJAzczMzMyMUkBmZmZmZuZRQGZmZmZm5lFAzczMzMzMVUDNzMzMzMxVQDMzMzMzU1VAMzMzMzNTVUAAAAAAAOBUQAAAAAAA4FRAAAAAAABAWEAAAAAAAEBYQDMzMzMz81dAMzMzMzPzV0DNzMzMzExZQM3MzMzMTFlA",
          "dtype": "f8"
         },
         "y0": " ",
         "yaxis": "y2"
        },
        {
         "alignmentgroup": "True",
         "boxmean": true,
         "hovertemplate": "Provider & Model=%{x}<br>Token Throughput Score=%{y}<extra></extra>",
         "legendgroup": "Microsoft Azure<br>GPT-4o mini",
         "marker": {
          "color": "#2f5597"
         },
         "name": "Microsoft Azure<br>GPT-4o mini",
         "notched": false,
         "offsetgroup": "Microsoft Azure<br>GPT-4o mini",
         "orientation": "v",
         "showlegend": true,
         "type": "box",
         "x": [
          "Microsoft Azure<br>GPT-4o mini",
          "Microsoft Azure<br>GPT-4o mini",
          "Microsoft Azure<br>GPT-4o mini",
          "Microsoft Azure<br>GPT-4o mini",
          "Microsoft Azure<br>GPT-4o mini",
          "Microsoft Azure<br>GPT-4o mini",
          "Microsoft Azure<br>GPT-4o mini",
          "Microsoft Azure<br>GPT-4o mini",
          "Microsoft Azure<br>GPT-4o mini",
          "Microsoft Azure<br>GPT-4o mini",
          "Microsoft Azure<br>GPT-4o mini",
          "Microsoft Azure<br>GPT-4o mini",
          "Microsoft Azure<br>GPT-4o mini",
          "Microsoft Azure<br>GPT-4o mini",
          "Microsoft Azure<br>GPT-4o mini"
         ],
         "x0": " ",
         "xaxis": "x2",
         "y": {
          "bdata": "ZmZmZmamUUCamZmZmdlOQDMzMzMzs1RAmpmZmZn5XEAzMzMzMzNaQJqZmZmZmVxAzczMzMwsY0AAAAAAAGBeQJqZmZmZiWRAAAAAAAAAaECamZmZmTlhQAAAAAAAwGZAAAAAAADga0CamZmZmQlmQDMzMzMzw2lA",
          "dtype": "f8"
         },
         "y0": " ",
         "yaxis": "y2"
        }
       ],
       "layout": {
        "annotations": [
         {
          "font": {
           "size": 30
          },
          "showarrow": false,
          "text": "Mean Energy Consumption by Model, Provider, & GPU",
          "x": 0.2125,
          "xanchor": "center",
          "xref": "paper",
          "y": 1,
          "yanchor": "bottom",
          "yref": "paper"
         },
         {
          "font": {
           "size": 30
          },
          "showarrow": false,
          "text": "Average Token Per Second (TPS) Distribution by Model",
          "x": 0.7875,
          "xanchor": "center",
          "xref": "paper",
          "y": 1,
          "yanchor": "bottom",
          "yref": "paper"
         }
        ],
        "height": 700,
        "legend": {
         "bgcolor": "white",
         "bordercolor": "black",
         "borderwidth": 1,
         "font": {
          "color": "#3b3b3b",
          "family": "Arial",
          "size": 20
         },
         "orientation": "h",
         "x": 0.05,
         "y": -0.2
        },
        "plot_bgcolor": "white",
        "template": {
         "data": {
          "bar": [
           {
            "error_x": {
             "color": "#2a3f5f"
            },
            "error_y": {
             "color": "#2a3f5f"
            },
            "marker": {
             "line": {
              "color": "#E5ECF6",
              "width": 0.5
             },
             "pattern": {
              "fillmode": "overlay",
              "size": 10,
              "solidity": 0.2
             }
            },
            "type": "bar"
           }
          ],
          "barpolar": [
           {
            "marker": {
             "line": {
              "color": "#E5ECF6",
              "width": 0.5
             },
             "pattern": {
              "fillmode": "overlay",
              "size": 10,
              "solidity": 0.2
             }
            },
            "type": "barpolar"
           }
          ],
          "carpet": [
           {
            "aaxis": {
             "endlinecolor": "#2a3f5f",
             "gridcolor": "white",
             "linecolor": "white",
             "minorgridcolor": "white",
             "startlinecolor": "#2a3f5f"
            },
            "baxis": {
             "endlinecolor": "#2a3f5f",
             "gridcolor": "white",
             "linecolor": "white",
             "minorgridcolor": "white",
             "startlinecolor": "#2a3f5f"
            },
            "type": "carpet"
           }
          ],
          "choropleth": [
           {
            "colorbar": {
             "outlinewidth": 0,
             "ticks": ""
            },
            "type": "choropleth"
           }
          ],
          "contour": [
           {
            "colorbar": {
             "outlinewidth": 0,
             "ticks": ""
            },
            "colorscale": [
             [
              0,
              "#0d0887"
             ],
             [
              0.1111111111111111,
              "#46039f"
             ],
             [
              0.2222222222222222,
              "#7201a8"
             ],
             [
              0.3333333333333333,
              "#9c179e"
             ],
             [
              0.4444444444444444,
              "#bd3786"
             ],
             [
              0.5555555555555556,
              "#d8576b"
             ],
             [
              0.6666666666666666,
              "#ed7953"
             ],
             [
              0.7777777777777778,
              "#fb9f3a"
             ],
             [
              0.8888888888888888,
              "#fdca26"
             ],
             [
              1,
              "#f0f921"
             ]
            ],
            "type": "contour"
           }
          ],
          "contourcarpet": [
           {
            "colorbar": {
             "outlinewidth": 0,
             "ticks": ""
            },
            "type": "contourcarpet"
           }
          ],
          "heatmap": [
           {
            "colorbar": {
             "outlinewidth": 0,
             "ticks": ""
            },
            "colorscale": [
             [
              0,
              "#0d0887"
             ],
             [
              0.1111111111111111,
              "#46039f"
             ],
             [
              0.2222222222222222,
              "#7201a8"
             ],
             [
              0.3333333333333333,
              "#9c179e"
             ],
             [
              0.4444444444444444,
              "#bd3786"
             ],
             [
              0.5555555555555556,
              "#d8576b"
             ],
             [
              0.6666666666666666,
              "#ed7953"
             ],
             [
              0.7777777777777778,
              "#fb9f3a"
             ],
             [
              0.8888888888888888,
              "#fdca26"
             ],
             [
              1,
              "#f0f921"
             ]
            ],
            "type": "heatmap"
           }
          ],
          "histogram": [
           {
            "marker": {
             "pattern": {
              "fillmode": "overlay",
              "size": 10,
              "solidity": 0.2
             }
            },
            "type": "histogram"
           }
          ],
          "histogram2d": [
           {
            "colorbar": {
             "outlinewidth": 0,
             "ticks": ""
            },
            "colorscale": [
             [
              0,
              "#0d0887"
             ],
             [
              0.1111111111111111,
              "#46039f"
             ],
             [
              0.2222222222222222,
              "#7201a8"
             ],
             [
              0.3333333333333333,
              "#9c179e"
             ],
             [
              0.4444444444444444,
              "#bd3786"
             ],
             [
              0.5555555555555556,
              "#d8576b"
             ],
             [
              0.6666666666666666,
              "#ed7953"
             ],
             [
              0.7777777777777778,
              "#fb9f3a"
             ],
             [
              0.8888888888888888,
              "#fdca26"
             ],
             [
              1,
              "#f0f921"
             ]
            ],
            "type": "histogram2d"
           }
          ],
          "histogram2dcontour": [
           {
            "colorbar": {
             "outlinewidth": 0,
             "ticks": ""
            },
            "colorscale": [
             [
              0,
              "#0d0887"
             ],
             [
              0.1111111111111111,
              "#46039f"
             ],
             [
              0.2222222222222222,
              "#7201a8"
             ],
             [
              0.3333333333333333,
              "#9c179e"
             ],
             [
              0.4444444444444444,
              "#bd3786"
             ],
             [
              0.5555555555555556,
              "#d8576b"
             ],
             [
              0.6666666666666666,
              "#ed7953"
             ],
             [
              0.7777777777777778,
              "#fb9f3a"
             ],
             [
              0.8888888888888888,
              "#fdca26"
             ],
             [
              1,
              "#f0f921"
             ]
            ],
            "type": "histogram2dcontour"
           }
          ],
          "mesh3d": [
           {
            "colorbar": {
             "outlinewidth": 0,
             "ticks": ""
            },
            "type": "mesh3d"
           }
          ],
          "parcoords": [
           {
            "line": {
             "colorbar": {
              "outlinewidth": 0,
              "ticks": ""
             }
            },
            "type": "parcoords"
           }
          ],
          "pie": [
           {
            "automargin": true,
            "type": "pie"
           }
          ],
          "scatter": [
           {
            "fillpattern": {
             "fillmode": "overlay",
             "size": 10,
             "solidity": 0.2
            },
            "type": "scatter"
           }
          ],
          "scatter3d": [
           {
            "line": {
             "colorbar": {
              "outlinewidth": 0,
              "ticks": ""
             }
            },
            "marker": {
             "colorbar": {
              "outlinewidth": 0,
              "ticks": ""
             }
            },
            "type": "scatter3d"
           }
          ],
          "scattercarpet": [
           {
            "marker": {
             "colorbar": {
              "outlinewidth": 0,
              "ticks": ""
             }
            },
            "type": "scattercarpet"
           }
          ],
          "scattergeo": [
           {
            "marker": {
             "colorbar": {
              "outlinewidth": 0,
              "ticks": ""
             }
            },
            "type": "scattergeo"
           }
          ],
          "scattergl": [
           {
            "marker": {
             "colorbar": {
              "outlinewidth": 0,
              "ticks": ""
             }
            },
            "type": "scattergl"
           }
          ],
          "scattermap": [
           {
            "marker": {
             "colorbar": {
              "outlinewidth": 0,
              "ticks": ""
             }
            },
            "type": "scattermap"
           }
          ],
          "scattermapbox": [
           {
            "marker": {
             "colorbar": {
              "outlinewidth": 0,
              "ticks": ""
             }
            },
            "type": "scattermapbox"
           }
          ],
          "scatterpolar": [
           {
            "marker": {
             "colorbar": {
              "outlinewidth": 0,
              "ticks": ""
             }
            },
            "type": "scatterpolar"
           }
          ],
          "scatterpolargl": [
           {
            "marker": {
             "colorbar": {
              "outlinewidth": 0,
              "ticks": ""
             }
            },
            "type": "scatterpolargl"
           }
          ],
          "scatterternary": [
           {
            "marker": {
             "colorbar": {
              "outlinewidth": 0,
              "ticks": ""
             }
            },
            "type": "scatterternary"
           }
          ],
          "surface": [
           {
            "colorbar": {
             "outlinewidth": 0,
             "ticks": ""
            },
            "colorscale": [
             [
              0,
              "#0d0887"
             ],
             [
              0.1111111111111111,
              "#46039f"
             ],
             [
              0.2222222222222222,
              "#7201a8"
             ],
             [
              0.3333333333333333,
              "#9c179e"
             ],
             [
              0.4444444444444444,
              "#bd3786"
             ],
             [
              0.5555555555555556,
              "#d8576b"
             ],
             [
              0.6666666666666666,
              "#ed7953"
             ],
             [
              0.7777777777777778,
              "#fb9f3a"
             ],
             [
              0.8888888888888888,
              "#fdca26"
             ],
             [
              1,
              "#f0f921"
             ]
            ],
            "type": "surface"
           }
          ],
          "table": [
           {
            "cells": {
             "fill": {
              "color": "#EBF0F8"
             },
             "line": {
              "color": "white"
             }
            },
            "header": {
             "fill": {
              "color": "#C8D4E3"
             },
             "line": {
              "color": "white"
             }
            },
            "type": "table"
           }
          ]
         },
         "layout": {
          "annotationdefaults": {
           "arrowcolor": "#2a3f5f",
           "arrowhead": 0,
           "arrowwidth": 1
          },
          "autotypenumbers": "strict",
          "coloraxis": {
           "colorbar": {
            "outlinewidth": 0,
            "ticks": ""
           }
          },
          "colorscale": {
           "diverging": [
            [
             0,
             "#8e0152"
            ],
            [
             0.1,
             "#c51b7d"
            ],
            [
             0.2,
             "#de77ae"
            ],
            [
             0.3,
             "#f1b6da"
            ],
            [
             0.4,
             "#fde0ef"
            ],
            [
             0.5,
             "#f7f7f7"
            ],
            [
             0.6,
             "#e6f5d0"
            ],
            [
             0.7,
             "#b8e186"
            ],
            [
             0.8,
             "#7fbc41"
            ],
            [
             0.9,
             "#4d9221"
            ],
            [
             1,
             "#276419"
            ]
           ],
           "sequential": [
            [
             0,
             "#0d0887"
            ],
            [
             0.1111111111111111,
             "#46039f"
            ],
            [
             0.2222222222222222,
             "#7201a8"
            ],
            [
             0.3333333333333333,
             "#9c179e"
            ],
            [
             0.4444444444444444,
             "#bd3786"
            ],
            [
             0.5555555555555556,
             "#d8576b"
            ],
            [
             0.6666666666666666,
             "#ed7953"
            ],
            [
             0.7777777777777778,
             "#fb9f3a"
            ],
            [
             0.8888888888888888,
             "#fdca26"
            ],
            [
             1,
             "#f0f921"
            ]
           ],
           "sequentialminus": [
            [
             0,
             "#0d0887"
            ],
            [
             0.1111111111111111,
             "#46039f"
            ],
            [
             0.2222222222222222,
             "#7201a8"
            ],
            [
             0.3333333333333333,
             "#9c179e"
            ],
            [
             0.4444444444444444,
             "#bd3786"
            ],
            [
             0.5555555555555556,
             "#d8576b"
            ],
            [
             0.6666666666666666,
             "#ed7953"
            ],
            [
             0.7777777777777778,
             "#fb9f3a"
            ],
            [
             0.8888888888888888,
             "#fdca26"
            ],
            [
             1,
             "#f0f921"
            ]
           ]
          },
          "colorway": [
           "#636efa",
           "#EF553B",
           "#00cc96",
           "#ab63fa",
           "#FFA15A",
           "#19d3f3",
           "#FF6692",
           "#B6E880",
           "#FF97FF",
           "#FECB52"
          ],
          "font": {
           "color": "#2a3f5f"
          },
          "geo": {
           "bgcolor": "white",
           "lakecolor": "white",
           "landcolor": "#E5ECF6",
           "showlakes": true,
           "showland": true,
           "subunitcolor": "white"
          },
          "hoverlabel": {
           "align": "left"
          },
          "hovermode": "closest",
          "mapbox": {
           "style": "light"
          },
          "paper_bgcolor": "white",
          "plot_bgcolor": "#E5ECF6",
          "polar": {
           "angularaxis": {
            "gridcolor": "white",
            "linecolor": "white",
            "ticks": ""
           },
           "bgcolor": "#E5ECF6",
           "radialaxis": {
            "gridcolor": "white",
            "linecolor": "white",
            "ticks": ""
           }
          },
          "scene": {
           "xaxis": {
            "backgroundcolor": "#E5ECF6",
            "gridcolor": "white",
            "gridwidth": 2,
            "linecolor": "white",
            "showbackground": true,
            "ticks": "",
            "zerolinecolor": "white"
           },
           "yaxis": {
            "backgroundcolor": "#E5ECF6",
            "gridcolor": "white",
            "gridwidth": 2,
            "linecolor": "white",
            "showbackground": true,
            "ticks": "",
            "zerolinecolor": "white"
           },
           "zaxis": {
            "backgroundcolor": "#E5ECF6",
            "gridcolor": "white",
            "gridwidth": 2,
            "linecolor": "white",
            "showbackground": true,
            "ticks": "",
            "zerolinecolor": "white"
           }
          },
          "shapedefaults": {
           "line": {
            "color": "#2a3f5f"
           }
          },
          "ternary": {
           "aaxis": {
            "gridcolor": "white",
            "linecolor": "white",
            "ticks": ""
           },
           "baxis": {
            "gridcolor": "white",
            "linecolor": "white",
            "ticks": ""
           },
           "bgcolor": "#E5ECF6",
           "caxis": {
            "gridcolor": "white",
            "linecolor": "white",
            "ticks": ""
           }
          },
          "title": {
           "x": 0.05
          },
          "xaxis": {
           "automargin": true,
           "gridcolor": "white",
           "linecolor": "white",
           "ticks": "",
           "title": {
            "standoff": 15
           },
           "zerolinecolor": "white",
           "zerolinewidth": 2
          },
          "yaxis": {
           "automargin": true,
           "gridcolor": "white",
           "linecolor": "white",
           "ticks": "",
           "title": {
            "standoff": 15
           },
           "zerolinecolor": "white",
           "zerolinewidth": 2
          }
         }
        },
        "title": {
         "font": {
          "size": 30
         }
        },
        "width": 2000,
        "xaxis": {
         "anchor": "y",
         "domain": [
          0,
          0.425
         ],
         "linecolor": "black",
         "tickfont": {
          "size": 20
         },
         "title": {
          "font": {
           "size": 20
          },
          "text": "Output Size (tokens)"
         }
        },
        "xaxis2": {
         "anchor": "y2",
         "domain": [
          0.575,
          1
         ],
         "linecolor": "black",
         "tickfont": {
          "size": 20
         },
         "title": {
          "font": {
           "size": 20
          },
          "text": "Provider & Model"
         }
        },
        "yaxis": {
         "anchor": "x",
         "domain": [
          0,
          1
         ],
         "gridcolor": "lightgray",
         "linecolor": "black",
         "showgrid": true,
         "tickfont": {
          "size": 25
         },
         "title": {
          "font": {
           "size": 25
          },
          "text": "Energy (Wh)"
         }
        },
        "yaxis2": {
         "anchor": "x2",
         "domain": [
          0,
          1
         ],
         "gridcolor": "lightgray",
         "linecolor": "black",
         "showgrid": true,
         "tickfont": {
          "size": 25
         },
         "title": {
          "font": {
           "size": 25
          },
          "text": "Token Per Second"
         }
        }
       }
      }
     },
     "metadata": {},
     "output_type": "display_data"
    }
   ],
   "source": [
    "from plotly.subplots import make_subplots\n",
    "import plotly.express as px\n",
    "\n",
    "df_summary_4omini = (\n",
    "    df.loc[df['Model'].str.contains('GPT-4o'), :]\n",
    "      .groupby(['Model','Output Token Size','API Provider','GPUs Used'], as_index=False)\n",
    "      .agg(mean_score=('Score','mean'), sem_score=('Score','sem'))\n",
    ")\n",
    "df_summary_4omini[['mean_score','sem_score']] *= 1000\n",
    "df_summary_4omini['bar_label'] = (\n",
    "    df_summary_4omini['Model'] + '<br>' +\n",
    "    df_summary_4omini['mean_score'].round(3).astype(str) + ' Wh'\n",
    ")\n",
    "df_summary_4omini['Output Token Size'] = (\n",
    "    df_summary_4omini['Output Token Size'].astype(str)\n",
    "      .str.split('.').str[0]\n",
    ")\n",
    "df_summary_4omini['provider_model'] = (\n",
    "    df_summary_4omini['API Provider'].str.strip() + ' - ' +\n",
    "    df_summary_4omini['Model'].str.strip() + '<br>' +\n",
    "    df_summary_4omini['GPUs Used'].str.strip()\n",
    ")\n",
    "\n",
    "df_box = df_boxplot_clean.copy()\n",
    "df_box = df_box[\n",
    "    ((df_box['Model']=='GPT-4o') & (df_box['API Provider']=='OpenAI')) |\n",
    "    ((df_box['Model']=='GPT-4o mini') & (df_box['API Provider']=='OpenAI')) |\n",
    "    ((df_box['Model']=='GPT-4o mini') & (df_box['API Provider']=='Microsoft Azure'))\n",
    "]\n",
    "\n",
    "\n",
    "\n",
    "\n",
    "df_box = df_box.melt(\n",
    "    id_vars=['Model','API Provider','GPUs Used'],\n",
    "    value_vars=df_box.columns[4:],\n",
    "    var_name='Metric', value_name='Score'\n",
    ")\n",
    "df_box['provider_model'] = df_box['API Provider'] + ' - ' + df_box['Model']\n",
    "df_box.loc[df_box['provider_model']==(\"OpenAI - GPT-4o\"),\"provider_model\"]= \"OpenAI<br>GPT-4o\"\n",
    "df_box.loc[df_box['provider_model']==(\"OpenAI - GPT-4o mini\"),\"provider_model\"]= \"OpenAI<br>GPT-4o mini\"\n",
    "df_box.loc[df_box['provider_model']==(\"Microsoft Azure - GPT-4o mini\"),\"provider_model\"]= \"Microsoft Azure<br>GPT-4o mini\"\n",
    "\n",
    "fig_bar = px.bar(\n",
    "    df_summary_4omini,\n",
    "    x='Output Token Size',\n",
    "    y='mean_score',\n",
    "    color='provider_model',\n",
    "    barmode='group',\n",
    "    category_orders={\n",
    "        'provider_model': [\n",
    "            'OpenAI - GPT-4o<br>Nvidia H100/H200',\n",
    "            'OpenAI - GPT-4o mini<br>Nvidia H100',\n",
    "            'OpenAI - GPT-4o mini<br>Nvidia A100',\n",
    "            'Microsoft Azure - GPT-4o mini<br>Nvidia H100'\n",
    "        ],\n",
    "        'Output Token Size': ['300','1000','1500']\n",
    "    },\n",
    "    color_discrete_map={\n",
    "        'OpenAI - GPT-4o<br>Nvidia H100/H200': '#33540D',\n",
    "        'OpenAI - GPT-4o mini<br>Nvidia H100': '#4A90E2',\n",
    "        'OpenAI - GPT-4o mini<br>Nvidia A100': '#1F3A93',\n",
    "        'Microsoft Azure - GPT-4o mini<br>Nvidia H100': '#2F5597'\n",
    "    },\n",
    "\n",
    "    labels={\n",
    "        'mean_score': 'Mean Energy (Wh)',\n",
    "        'Output Token Size': 'Output Size (tokens)',\n",
    "        'provider_model': 'Provider & Model',\n",
    "        'GPUs Used': 'GPU Used'\n",
    "    }\n",
    ")\n",
    "fig_bar.update_xaxes(showline=True, linecolor='black', showgrid=False, tickfont=dict(size=24))\n",
    "fig_bar.update_yaxes(showline=True, linecolor='black', showgrid=True, gridcolor='lightgray', gridwidth=1)\n",
    "fig_bar.update_traces(marker_line_width=0, )\n",
    "\n",
    "fig_box = px.box(\n",
    "    df_box,\n",
    "    x='provider_model',\n",
    "    y='Score',\n",
    "    color='provider_model',\n",
    "    color_discrete_map={\n",
    "        'OpenAI<br>GPT-4o': '#4e7d32',\n",
    "        'OpenAI<br>GPT-4o mini': '#4a90e2',\n",
    "        'Microsoft Azure<br>GPT-4o mini': '#2f5597'\n",
    "    },\n",
    "    labels={\n",
    "        'provider_model': 'Provider & Model',\n",
    "        'Score': 'Token Throughput Score'\n",
    "    }\n",
    ")\n",
    "fig_box.update_xaxes(showline=True, linecolor='black', showgrid=False,)\n",
    "fig_box.update_yaxes(showline=True, linecolor='black', showgrid=True, gridcolor='lightgray', gridwidth=1)\n",
    "fig_box.update_traces(boxmean=True)\n",
    "\n",
    "fig = make_subplots(\n",
    "    rows=1, cols=2,\n",
    "    subplot_titles=(\n",
    "        'Mean Energy Consumption by Model, Provider, & GPU',\n",
    "        'Average Token Per Second (TPS) Distribution by Model'\n",
    "    ),\n",
    "    horizontal_spacing=0.15\n",
    ")\n",
    "for tr in fig_bar.data:\n",
    "    fig.add_trace(tr, row=1, col=1)\n",
    "for tr in fig_box.data:\n",
    "    fig.add_trace(tr, row=1, col=2)\n",
    "\n",
    "\n",
    "fig.update_layout(\n",
    "    width=2000, height=700,\n",
    "    plot_bgcolor='white',\n",
    "    legend=dict(\n",
    "        orientation='h',\n",
    "        x=0.05, y=-0.2,\n",
    "        bordercolor='black', borderwidth=1,\n",
    "        bgcolor='white',\n",
    "        font=dict(\n",
    "            family=\"Arial\",\n",
    "            size=20,\n",
    "            color=\"#3b3b3b\"\n",
    "        )\n",
    "    )\n",
    ")\n",
    "fig.update_xaxes(title_text='Output Size (tokens)', row=1, col=1, linecolor='black')\n",
    "fig.update_yaxes(title_text='Energy (Wh)', row=1, col=1, showgrid=True, gridcolor='lightgray', linecolor='black')\n",
    "fig.update_xaxes(title_text='Provider & Model', row=1, col=2, linecolor='black')\n",
    "fig.update_yaxes(title_text='Token Per Second', row=1, col=2, showgrid=True, gridcolor='lightgray', linecolor='black')\n",
    "for col in [1, 2]:\n",
    "    fig.update_xaxes(\n",
    "        tickfont=dict(size=20),\n",
    "        title_font=dict(size=20),\n",
    "        row=1, col=col\n",
    "    )\n",
    "    fig.update_yaxes(\n",
    "        tickfont=dict(size=25),\n",
    "        title_font=dict(size=25),\n",
    "        row=1, col=col\n",
    "    )\n",
    "\n",
    "for ann in fig.layout.annotations:\n",
    "    ann.font = dict(size=30)\n",
    "\n",
    "\n",
    "if fig.layout.title:\n",
    "    fig.layout.title.font.size = 30\n",
    "\n",
    "fig.show()\n"
   ]
  },
  {
   "cell_type": "code",
   "execution_count": 198,
   "metadata": {},
   "outputs": [
    {
     "data": {
      "text/plain": [
       "15"
      ]
     },
     "execution_count": 198,
     "metadata": {},
     "output_type": "execute_result"
    }
   ],
   "source": [
    "len(df_box.loc[df_box['Model']==(\"GPT-4o\")])"
   ]
  },
  {
   "cell_type": "code",
   "execution_count": 122,
   "metadata": {},
   "outputs": [
    {
     "data": {
      "text/plain": [
       "0                   OpenAI - GPT-4o\n",
       "1                   OpenAI - GPT-4o\n",
       "2                   OpenAI - GPT-4o\n",
       "3     Microsoft Azure - GPT-4o mini\n",
       "4              OpenAI - GPT-4o mini\n",
       "5              OpenAI - GPT-4o mini\n",
       "6     Microsoft Azure - GPT-4o mini\n",
       "7              OpenAI - GPT-4o mini\n",
       "8              OpenAI - GPT-4o mini\n",
       "9     Microsoft Azure - GPT-4o mini\n",
       "10             OpenAI - GPT-4o mini\n",
       "11             OpenAI - GPT-4o mini\n",
       "Name: provider_model, dtype: object"
      ]
     },
     "execution_count": 122,
     "metadata": {},
     "output_type": "execute_result"
    }
   ],
   "source": [
    "df_summary_4omini['provider_model']"
   ]
  },
  {
   "cell_type": "code",
   "execution_count": 30,
   "metadata": {},
   "outputs": [
    {
     "data": {
      "text/html": [
       "<div>\n",
       "<style scoped>\n",
       "    .dataframe tbody tr th:only-of-type {\n",
       "        vertical-align: middle;\n",
       "    }\n",
       "\n",
       "    .dataframe tbody tr th {\n",
       "        vertical-align: top;\n",
       "    }\n",
       "\n",
       "    .dataframe thead th {\n",
       "        text-align: right;\n",
       "    }\n",
       "</style>\n",
       "<table border=\"1\" class=\"dataframe\">\n",
       "  <thead>\n",
       "    <tr style=\"text-align: right;\">\n",
       "      <th></th>\n",
       "      <th>Model</th>\n",
       "      <th>Output Token Size</th>\n",
       "      <th>API Provider</th>\n",
       "      <th>GPUs Used</th>\n",
       "      <th>mean_score</th>\n",
       "      <th>sem_score</th>\n",
       "    </tr>\n",
       "  </thead>\n",
       "  <tbody>\n",
       "    <tr>\n",
       "      <th>0</th>\n",
       "      <td>GPT-4o mini</td>\n",
       "      <td>300</td>\n",
       "      <td>Microsoft Azure</td>\n",
       "      <td>Nvidia H100</td>\n",
       "      <td>0.309625</td>\n",
       "      <td>0.021379</td>\n",
       "    </tr>\n",
       "    <tr>\n",
       "      <th>1</th>\n",
       "      <td>GPT-4o mini</td>\n",
       "      <td>300</td>\n",
       "      <td>OpenAI</td>\n",
       "      <td>Nvidia A100</td>\n",
       "      <td>0.408333</td>\n",
       "      <td>0.015912</td>\n",
       "    </tr>\n",
       "    <tr>\n",
       "      <th>2</th>\n",
       "      <td>GPT-4o mini</td>\n",
       "      <td>300</td>\n",
       "      <td>OpenAI</td>\n",
       "      <td>Nvidia H100</td>\n",
       "      <td>0.423250</td>\n",
       "      <td>0.016465</td>\n",
       "    </tr>\n",
       "    <tr>\n",
       "      <th>3</th>\n",
       "      <td>GPT-4o mini</td>\n",
       "      <td>1000</td>\n",
       "      <td>Microsoft Azure</td>\n",
       "      <td>Nvidia H100</td>\n",
       "      <td>0.979875</td>\n",
       "      <td>0.072698</td>\n",
       "    </tr>\n",
       "    <tr>\n",
       "      <th>4</th>\n",
       "      <td>GPT-4o mini</td>\n",
       "      <td>1000</td>\n",
       "      <td>OpenAI</td>\n",
       "      <td>Nvidia A100</td>\n",
       "      <td>1.378792</td>\n",
       "      <td>0.064511</td>\n",
       "    </tr>\n",
       "    <tr>\n",
       "      <th>5</th>\n",
       "      <td>GPT-4o mini</td>\n",
       "      <td>1000</td>\n",
       "      <td>OpenAI</td>\n",
       "      <td>Nvidia H100</td>\n",
       "      <td>1.428708</td>\n",
       "      <td>0.066834</td>\n",
       "    </tr>\n",
       "    <tr>\n",
       "      <th>6</th>\n",
       "      <td>GPT-4o mini</td>\n",
       "      <td>1500</td>\n",
       "      <td>Microsoft Azure</td>\n",
       "      <td>Nvidia H100</td>\n",
       "      <td>1.237458</td>\n",
       "      <td>0.081246</td>\n",
       "    </tr>\n",
       "    <tr>\n",
       "      <th>7</th>\n",
       "      <td>GPT-4o mini</td>\n",
       "      <td>1500</td>\n",
       "      <td>OpenAI</td>\n",
       "      <td>Nvidia A100</td>\n",
       "      <td>2.051125</td>\n",
       "      <td>0.091751</td>\n",
       "    </tr>\n",
       "    <tr>\n",
       "      <th>8</th>\n",
       "      <td>GPT-4o mini</td>\n",
       "      <td>1500</td>\n",
       "      <td>OpenAI</td>\n",
       "      <td>Nvidia H100</td>\n",
       "      <td>2.125542</td>\n",
       "      <td>0.095074</td>\n",
       "    </tr>\n",
       "  </tbody>\n",
       "</table>\n",
       "</div>"
      ],
      "text/plain": [
       "         Model Output Token Size     API Provider    GPUs Used  mean_score  \\\n",
       "0  GPT-4o mini               300  Microsoft Azure  Nvidia H100    0.309625   \n",
       "1  GPT-4o mini               300           OpenAI  Nvidia A100    0.408333   \n",
       "2  GPT-4o mini               300           OpenAI  Nvidia H100    0.423250   \n",
       "3  GPT-4o mini              1000  Microsoft Azure  Nvidia H100    0.979875   \n",
       "4  GPT-4o mini              1000           OpenAI  Nvidia A100    1.378792   \n",
       "5  GPT-4o mini              1000           OpenAI  Nvidia H100    1.428708   \n",
       "6  GPT-4o mini              1500  Microsoft Azure  Nvidia H100    1.237458   \n",
       "7  GPT-4o mini              1500           OpenAI  Nvidia A100    2.051125   \n",
       "8  GPT-4o mini              1500           OpenAI  Nvidia H100    2.125542   \n",
       "\n",
       "   sem_score  \n",
       "0   0.021379  \n",
       "1   0.015912  \n",
       "2   0.016465  \n",
       "3   0.072698  \n",
       "4   0.064511  \n",
       "5   0.066834  \n",
       "6   0.081246  \n",
       "7   0.091751  \n",
       "8   0.095074  "
      ]
     },
     "execution_count": 30,
     "metadata": {},
     "output_type": "execute_result"
    }
   ],
   "source": [
    "df_summary"
   ]
  },
  {
   "cell_type": "code",
   "execution_count": null,
   "metadata": {},
   "outputs": [
    {
     "data": {
      "application/vnd.plotly.v1+json": {
       "config": {
        "plotlyServerURL": "https://plot.ly"
       },
       "data": [
        {
         "alignmentgroup": "True",
         "error_y": {
          "array": {
           "bdata": "SNsSzLxpoT+SDeR4uXXBPx4O9ZenQdI/",
           "dtype": "f8"
          }
         },
         "hovertemplate": "API Provider=Microsoft Azure<br>GPU Used=Nvidia H100<br>Output Size (tokens)=%{x}<br>Mean Energy (Wh)=%{text}<extra></extra>",
         "legendgroup": "Microsoft Azure, Nvidia H100",
         "marker": {
          "color": "#8DA0CB",
          "line": {
           "width": 0
          },
          "pattern": {
           "shape": "\\"
          }
         },
         "name": "Microsoft Azure, Nvidia H100",
         "offsetgroup": "Microsoft Azure, Nvidia H100",
         "orientation": "v",
         "showlegend": true,
         "text": {
          "bdata": "cMtaHRM89D+BThvotDEQQHKvuZA0pR1A",
          "dtype": "f8"
         },
         "textfont": {
          "color": "black"
         },
         "textposition": "outside",
         "texttemplate": "%{text:.3f}",
         "type": "bar",
         "x": [
          "300",
          "1000",
          "1500"
         ],
         "xaxis": "x",
         "y": {
          "bdata": "cMtaHRM89D+BThvotDEQQHKvuZA0pR1A",
          "dtype": "f8"
         },
         "yaxis": "y"
        },
        {
         "alignmentgroup": "True",
         "error_y": {
          "array": {
           "bdata": "uIhaQDdnsj9UJyON/+ThP221DyY4IOA/",
           "dtype": "f8"
          }
         },
         "hovertemplate": "API Provider=OpenAI<br>GPU Used=Nvidia H100<br>Output Size (tokens)=%{x}<br>Mean Energy (Wh)=%{text}<extra></extra>",
         "legendgroup": "OpenAI, Nvidia H100",
         "marker": {
          "color": "#66C2A5",
          "line": {
           "width": 0
          },
          "pattern": {
           "shape": "\\"
          }
         },
         "name": "OpenAI, Nvidia H100",
         "offsetgroup": "OpenAI, Nvidia H100",
         "orientation": "v",
         "showlegend": true,
         "text": {
          "bdata": "pHA9Ctcj+T8sQO41F9IZQCJpSsXZdyJA",
          "dtype": "f8"
         },
         "textfont": {
          "color": "black"
         },
         "textposition": "outside",
         "texttemplate": "%{text:.3f}",
         "type": "bar",
         "x": [
          "300",
          "1000",
          "1500"
         ],
         "xaxis": "x",
         "y": {
          "bdata": "pHA9Ctcj+T8sQO41F9IZQCJpSsXZdyJA",
          "dtype": "f8"
         },
         "yaxis": "y"
        },
        {
         "alignmentgroup": "True",
         "error_y": {
          "array": {
           "bdata": "AMB6Zbhrsj+/1tKdWOvhP9lGfFKxJeA/",
           "dtype": "f8"
          }
         },
         "hovertemplate": "API Provider=OpenAI<br>GPU Used=Nvidia A100<br>Output Size (tokens)=%{x}<br>Mean Energy (Wh)=%{text}<extra></extra>",
         "legendgroup": "OpenAI, Nvidia A100",
         "marker": {
          "color": "#66C2A5",
          "line": {
           "width": 0
          },
          "pattern": {
           "shape": "x"
          }
         },
         "name": "OpenAI, Nvidia A100",
         "offsetgroup": "OpenAI, Nvidia A100",
         "orientation": "v",
         "showlegend": true,
         "text": {
          "bdata": "lBgEVg4t+T9eukkMAtsZQI3elrU6fiJA",
          "dtype": "f8"
         },
         "textfont": {
          "color": "black"
         },
         "textposition": "outside",
         "texttemplate": "%{text:.3f}",
         "type": "bar",
         "x": [
          "300",
          "1000",
          "1500"
         ],
         "xaxis": "x",
         "y": {
          "bdata": "lBgEVg4t+T9eukkMAtsZQI3elrU6fiJA",
          "dtype": "f8"
         },
         "yaxis": "y"
        }
       ],
       "layout": {
        "barmode": "group",
        "legend": {
         "bgcolor": "white",
         "bordercolor": "black",
         "borderwidth": 1,
         "orientation": "v",
         "title": {
          "text": "API Provider / GPU"
         },
         "tracegroupgap": 0,
         "x": 0.27,
         "xanchor": "right",
         "y": 1,
         "yanchor": "top"
        },
        "plot_bgcolor": "white",
        "template": {
         "data": {
          "bar": [
           {
            "error_x": {
             "color": "#2a3f5f"
            },
            "error_y": {
             "color": "#2a3f5f"
            },
            "marker": {
             "line": {
              "color": "#E5ECF6",
              "width": 0.5
             },
             "pattern": {
              "fillmode": "overlay",
              "size": 10,
              "solidity": 0.2
             }
            },
            "type": "bar"
           }
          ],
          "barpolar": [
           {
            "marker": {
             "line": {
              "color": "#E5ECF6",
              "width": 0.5
             },
             "pattern": {
              "fillmode": "overlay",
              "size": 10,
              "solidity": 0.2
             }
            },
            "type": "barpolar"
           }
          ],
          "carpet": [
           {
            "aaxis": {
             "endlinecolor": "#2a3f5f",
             "gridcolor": "white",
             "linecolor": "white",
             "minorgridcolor": "white",
             "startlinecolor": "#2a3f5f"
            },
            "baxis": {
             "endlinecolor": "#2a3f5f",
             "gridcolor": "white",
             "linecolor": "white",
             "minorgridcolor": "white",
             "startlinecolor": "#2a3f5f"
            },
            "type": "carpet"
           }
          ],
          "choropleth": [
           {
            "colorbar": {
             "outlinewidth": 0,
             "ticks": ""
            },
            "type": "choropleth"
           }
          ],
          "contour": [
           {
            "colorbar": {
             "outlinewidth": 0,
             "ticks": ""
            },
            "colorscale": [
             [
              0,
              "#0d0887"
             ],
             [
              0.1111111111111111,
              "#46039f"
             ],
             [
              0.2222222222222222,
              "#7201a8"
             ],
             [
              0.3333333333333333,
              "#9c179e"
             ],
             [
              0.4444444444444444,
              "#bd3786"
             ],
             [
              0.5555555555555556,
              "#d8576b"
             ],
             [
              0.6666666666666666,
              "#ed7953"
             ],
             [
              0.7777777777777778,
              "#fb9f3a"
             ],
             [
              0.8888888888888888,
              "#fdca26"
             ],
             [
              1,
              "#f0f921"
             ]
            ],
            "type": "contour"
           }
          ],
          "contourcarpet": [
           {
            "colorbar": {
             "outlinewidth": 0,
             "ticks": ""
            },
            "type": "contourcarpet"
           }
          ],
          "heatmap": [
           {
            "colorbar": {
             "outlinewidth": 0,
             "ticks": ""
            },
            "colorscale": [
             [
              0,
              "#0d0887"
             ],
             [
              0.1111111111111111,
              "#46039f"
             ],
             [
              0.2222222222222222,
              "#7201a8"
             ],
             [
              0.3333333333333333,
              "#9c179e"
             ],
             [
              0.4444444444444444,
              "#bd3786"
             ],
             [
              0.5555555555555556,
              "#d8576b"
             ],
             [
              0.6666666666666666,
              "#ed7953"
             ],
             [
              0.7777777777777778,
              "#fb9f3a"
             ],
             [
              0.8888888888888888,
              "#fdca26"
             ],
             [
              1,
              "#f0f921"
             ]
            ],
            "type": "heatmap"
           }
          ],
          "histogram": [
           {
            "marker": {
             "pattern": {
              "fillmode": "overlay",
              "size": 10,
              "solidity": 0.2
             }
            },
            "type": "histogram"
           }
          ],
          "histogram2d": [
           {
            "colorbar": {
             "outlinewidth": 0,
             "ticks": ""
            },
            "colorscale": [
             [
              0,
              "#0d0887"
             ],
             [
              0.1111111111111111,
              "#46039f"
             ],
             [
              0.2222222222222222,
              "#7201a8"
             ],
             [
              0.3333333333333333,
              "#9c179e"
             ],
             [
              0.4444444444444444,
              "#bd3786"
             ],
             [
              0.5555555555555556,
              "#d8576b"
             ],
             [
              0.6666666666666666,
              "#ed7953"
             ],
             [
              0.7777777777777778,
              "#fb9f3a"
             ],
             [
              0.8888888888888888,
              "#fdca26"
             ],
             [
              1,
              "#f0f921"
             ]
            ],
            "type": "histogram2d"
           }
          ],
          "histogram2dcontour": [
           {
            "colorbar": {
             "outlinewidth": 0,
             "ticks": ""
            },
            "colorscale": [
             [
              0,
              "#0d0887"
             ],
             [
              0.1111111111111111,
              "#46039f"
             ],
             [
              0.2222222222222222,
              "#7201a8"
             ],
             [
              0.3333333333333333,
              "#9c179e"
             ],
             [
              0.4444444444444444,
              "#bd3786"
             ],
             [
              0.5555555555555556,
              "#d8576b"
             ],
             [
              0.6666666666666666,
              "#ed7953"
             ],
             [
              0.7777777777777778,
              "#fb9f3a"
             ],
             [
              0.8888888888888888,
              "#fdca26"
             ],
             [
              1,
              "#f0f921"
             ]
            ],
            "type": "histogram2dcontour"
           }
          ],
          "mesh3d": [
           {
            "colorbar": {
             "outlinewidth": 0,
             "ticks": ""
            },
            "type": "mesh3d"
           }
          ],
          "parcoords": [
           {
            "line": {
             "colorbar": {
              "outlinewidth": 0,
              "ticks": ""
             }
            },
            "type": "parcoords"
           }
          ],
          "pie": [
           {
            "automargin": true,
            "type": "pie"
           }
          ],
          "scatter": [
           {
            "fillpattern": {
             "fillmode": "overlay",
             "size": 10,
             "solidity": 0.2
            },
            "type": "scatter"
           }
          ],
          "scatter3d": [
           {
            "line": {
             "colorbar": {
              "outlinewidth": 0,
              "ticks": ""
             }
            },
            "marker": {
             "colorbar": {
              "outlinewidth": 0,
              "ticks": ""
             }
            },
            "type": "scatter3d"
           }
          ],
          "scattercarpet": [
           {
            "marker": {
             "colorbar": {
              "outlinewidth": 0,
              "ticks": ""
             }
            },
            "type": "scattercarpet"
           }
          ],
          "scattergeo": [
           {
            "marker": {
             "colorbar": {
              "outlinewidth": 0,
              "ticks": ""
             }
            },
            "type": "scattergeo"
           }
          ],
          "scattergl": [
           {
            "marker": {
             "colorbar": {
              "outlinewidth": 0,
              "ticks": ""
             }
            },
            "type": "scattergl"
           }
          ],
          "scattermap": [
           {
            "marker": {
             "colorbar": {
              "outlinewidth": 0,
              "ticks": ""
             }
            },
            "type": "scattermap"
           }
          ],
          "scattermapbox": [
           {
            "marker": {
             "colorbar": {
              "outlinewidth": 0,
              "ticks": ""
             }
            },
            "type": "scattermapbox"
           }
          ],
          "scatterpolar": [
           {
            "marker": {
             "colorbar": {
              "outlinewidth": 0,
              "ticks": ""
             }
            },
            "type": "scatterpolar"
           }
          ],
          "scatterpolargl": [
           {
            "marker": {
             "colorbar": {
              "outlinewidth": 0,
              "ticks": ""
             }
            },
            "type": "scatterpolargl"
           }
          ],
          "scatterternary": [
           {
            "marker": {
             "colorbar": {
              "outlinewidth": 0,
              "ticks": ""
             }
            },
            "type": "scatterternary"
           }
          ],
          "surface": [
           {
            "colorbar": {
             "outlinewidth": 0,
             "ticks": ""
            },
            "colorscale": [
             [
              0,
              "#0d0887"
             ],
             [
              0.1111111111111111,
              "#46039f"
             ],
             [
              0.2222222222222222,
              "#7201a8"
             ],
             [
              0.3333333333333333,
              "#9c179e"
             ],
             [
              0.4444444444444444,
              "#bd3786"
             ],
             [
              0.5555555555555556,
              "#d8576b"
             ],
             [
              0.6666666666666666,
              "#ed7953"
             ],
             [
              0.7777777777777778,
              "#fb9f3a"
             ],
             [
              0.8888888888888888,
              "#fdca26"
             ],
             [
              1,
              "#f0f921"
             ]
            ],
            "type": "surface"
           }
          ],
          "table": [
           {
            "cells": {
             "fill": {
              "color": "#EBF0F8"
             },
             "line": {
              "color": "white"
             }
            },
            "header": {
             "fill": {
              "color": "#C8D4E3"
             },
             "line": {
              "color": "white"
             }
            },
            "type": "table"
           }
          ]
         },
         "layout": {
          "annotationdefaults": {
           "arrowcolor": "#2a3f5f",
           "arrowhead": 0,
           "arrowwidth": 1
          },
          "autotypenumbers": "strict",
          "coloraxis": {
           "colorbar": {
            "outlinewidth": 0,
            "ticks": ""
           }
          },
          "colorscale": {
           "diverging": [
            [
             0,
             "#8e0152"
            ],
            [
             0.1,
             "#c51b7d"
            ],
            [
             0.2,
             "#de77ae"
            ],
            [
             0.3,
             "#f1b6da"
            ],
            [
             0.4,
             "#fde0ef"
            ],
            [
             0.5,
             "#f7f7f7"
            ],
            [
             0.6,
             "#e6f5d0"
            ],
            [
             0.7,
             "#b8e186"
            ],
            [
             0.8,
             "#7fbc41"
            ],
            [
             0.9,
             "#4d9221"
            ],
            [
             1,
             "#276419"
            ]
           ],
           "sequential": [
            [
             0,
             "#0d0887"
            ],
            [
             0.1111111111111111,
             "#46039f"
            ],
            [
             0.2222222222222222,
             "#7201a8"
            ],
            [
             0.3333333333333333,
             "#9c179e"
            ],
            [
             0.4444444444444444,
             "#bd3786"
            ],
            [
             0.5555555555555556,
             "#d8576b"
            ],
            [
             0.6666666666666666,
             "#ed7953"
            ],
            [
             0.7777777777777778,
             "#fb9f3a"
            ],
            [
             0.8888888888888888,
             "#fdca26"
            ],
            [
             1,
             "#f0f921"
            ]
           ],
           "sequentialminus": [
            [
             0,
             "#0d0887"
            ],
            [
             0.1111111111111111,
             "#46039f"
            ],
            [
             0.2222222222222222,
             "#7201a8"
            ],
            [
             0.3333333333333333,
             "#9c179e"
            ],
            [
             0.4444444444444444,
             "#bd3786"
            ],
            [
             0.5555555555555556,
             "#d8576b"
            ],
            [
             0.6666666666666666,
             "#ed7953"
            ],
            [
             0.7777777777777778,
             "#fb9f3a"
            ],
            [
             0.8888888888888888,
             "#fdca26"
            ],
            [
             1,
             "#f0f921"
            ]
           ]
          },
          "colorway": [
           "#636efa",
           "#EF553B",
           "#00cc96",
           "#ab63fa",
           "#FFA15A",
           "#19d3f3",
           "#FF6692",
           "#B6E880",
           "#FF97FF",
           "#FECB52"
          ],
          "font": {
           "color": "#2a3f5f"
          },
          "geo": {
           "bgcolor": "white",
           "lakecolor": "white",
           "landcolor": "#E5ECF6",
           "showlakes": true,
           "showland": true,
           "subunitcolor": "white"
          },
          "hoverlabel": {
           "align": "left"
          },
          "hovermode": "closest",
          "mapbox": {
           "style": "light"
          },
          "paper_bgcolor": "white",
          "plot_bgcolor": "#E5ECF6",
          "polar": {
           "angularaxis": {
            "gridcolor": "white",
            "linecolor": "white",
            "ticks": ""
           },
           "bgcolor": "#E5ECF6",
           "radialaxis": {
            "gridcolor": "white",
            "linecolor": "white",
            "ticks": ""
           }
          },
          "scene": {
           "xaxis": {
            "backgroundcolor": "#E5ECF6",
            "gridcolor": "white",
            "gridwidth": 2,
            "linecolor": "white",
            "showbackground": true,
            "ticks": "",
            "zerolinecolor": "white"
           },
           "yaxis": {
            "backgroundcolor": "#E5ECF6",
            "gridcolor": "white",
            "gridwidth": 2,
            "linecolor": "white",
            "showbackground": true,
            "ticks": "",
            "zerolinecolor": "white"
           },
           "zaxis": {
            "backgroundcolor": "#E5ECF6",
            "gridcolor": "white",
            "gridwidth": 2,
            "linecolor": "white",
            "showbackground": true,
            "ticks": "",
            "zerolinecolor": "white"
           }
          },
          "shapedefaults": {
           "line": {
            "color": "#2a3f5f"
           }
          },
          "ternary": {
           "aaxis": {
            "gridcolor": "white",
            "linecolor": "white",
            "ticks": ""
           },
           "baxis": {
            "gridcolor": "white",
            "linecolor": "white",
            "ticks": ""
           },
           "bgcolor": "#E5ECF6",
           "caxis": {
            "gridcolor": "white",
            "linecolor": "white",
            "ticks": ""
           }
          },
          "title": {
           "x": 0.05
          },
          "xaxis": {
           "automargin": true,
           "gridcolor": "white",
           "linecolor": "white",
           "ticks": "",
           "title": {
            "standoff": 15
           },
           "zerolinecolor": "white",
           "zerolinewidth": 2
          },
          "yaxis": {
           "automargin": true,
           "gridcolor": "white",
           "linecolor": "white",
           "ticks": "",
           "title": {
            "standoff": 15
           },
           "zerolinecolor": "white",
           "zerolinewidth": 2
          }
         }
        },
        "title": {
         "text": "Mean Minimum Energy Consumption by, Output Size, API Provider, and GPU for GPT-4o mini"
        },
        "xaxis": {
         "anchor": "y",
         "categoryarray": [
          "300",
          "1000",
          "1500"
         ],
         "categoryorder": "array",
         "domain": [
          0,
          1
         ],
         "gridcolor": "white",
         "gridwidth": 1,
         "linecolor": "black",
         "linewidth": 1,
         "showgrid": false,
         "showline": true,
         "title": {
          "text": "Output Size (tokens)"
         }
        },
        "yaxis": {
         "anchor": "x",
         "domain": [
          0,
          1
         ],
         "gridcolor": "lightgray",
         "gridwidth": 1,
         "linecolor": "black",
         "linewidth": 1,
         "showgrid": true,
         "showline": true,
         "title": {
          "text": "Energy Consumption (Wh)"
         }
        }
       }
      }
     },
     "metadata": {},
     "output_type": "display_data"
    }
   ],
   "source": [
    "\n",
    "\n",
    "\n",
    "\n",
    "\n",
    "# Compute mean and standard error\n",
    "df_summary_turbo = (\n",
    "    df.loc[df['Model'].str.contains('GPT-4 Turbo'),:]\n",
    "    .groupby(['Model', 'Output Token Size', 'API Provider', 'GPUs Used'], as_index=False)\n",
    "    .agg(\n",
    "        mean_score=('Score', 'mean'),\n",
    "        sem_score=('Score', 'sem')\n",
    "    )\n",
    ")\n",
    "df_summary_turbo[['mean_score', 'sem_score']] *= 1000\n",
    "df_summary_turbo['Output Token Size'] = df_summary_turbo['Output Token Size'].astype(str).str.split(\".\").str[0]\n",
    "\n",
    "fig = px.bar(\n",
    "    df_summary_turbo,\n",
    "    x='Output Token Size',\n",
    "    y='mean_score',\n",
    "    color='API Provider',\n",
    "    pattern_shape='GPUs Used',\n",
    "       error_y='sem_score',\n",
    "    barmode='group',\n",
    "    category_orders={\n",
    "        'Output Token Size': ['300', '1000', '1500'],\n",
    "        'GPUs Used':   ['A100', 'H100']  \n",
    "    },\n",
    "    color_discrete_map={\n",
    "        'OpenAI': '#66C2A5',         \n",
    "        'Microsoft Azure': '#8DA0CB' \n",
    "    },\n",
    "    pattern_shape_map={\n",
    "        'H100': '/',  \n",
    "        'A100': '.'   \n",
    "    },\n",
    "    labels={\n",
    "        'mean_score': 'Mean Energy (Wh)',\n",
    "        'Output Token Size': 'Output Size (tokens)',\n",
    "        'API Provider': 'API Provider',\n",
    "        'GPUs Used': 'GPU Used'\n",
    "    },\n",
    "    title='Mean Minimum Energy Consumption by, Output Size, API Provider, and GPU for GPT-4o mini',\n",
    "    text='mean_score'  \n",
    ")\n",
    "\n",
    "\n",
    "fig.update_traces(\n",
    "    marker_line_width=0,\n",
    "    texttemplate='%{text:.3f}',  \n",
    "    textposition='outside',\n",
    "    textfont=dict(color='black')\n",
    ")\n",
    "\n",
    "\n",
    "fig.update_yaxes(\n",
    "    showgrid=True,\n",
    "    gridcolor='lightgray',\n",
    "    gridwidth=1,\n",
    "    showline=True,\n",
    "    linecolor='black',\n",
    "    linewidth=1,\n",
    "    title='Energy Consumption (Wh)'\n",
    ")\n",
    "fig.update_xaxes(\n",
    "    showgrid=False,\n",
    "    showline=True,\n",
    "    linecolor='black',\n",
    "    linewidth=1,\n",
    "    gridcolor='white',\n",
    "    gridwidth=1\n",
    ")\n",
    "\n",
    "fig.update_layout(\n",
    "    legend_title_text='API Provider / GPU',\n",
    "    plot_bgcolor='white',\n",
    "    legend=dict(\n",
    "        orientation='v',\n",
    "        yanchor='top',\n",
    "        y=1,\n",
    "        xanchor='right',\n",
    "        x=0.27,\n",
    "        bordercolor='black',\n",
    "        borderwidth=1,\n",
    "        bgcolor='white',\n",
    "\n",
    "    ))\n",
    "fig.show()\n"
   ]
  },
  {
   "cell_type": "code",
   "execution_count": 18,
   "metadata": {},
   "outputs": [],
   "source": []
  },
  {
   "cell_type": "code",
   "execution_count": 35,
   "metadata": {},
   "outputs": [],
   "source": []
  },
  {
   "cell_type": "code",
   "execution_count": 37,
   "metadata": {},
   "outputs": [],
   "source": [
    "\n",
    "\n",
    "# ensure both are string dtype\n",
    "df_summary_4omini['Group'] = (\n",
    "    df_summary_4omini['API Provider'].astype(str)\n",
    "    + \"_\"\n",
    "    + df_summary_4omini['GPUs Used'].astype(str)\n",
    ")\n",
    "\n",
    "# 1) convert categories (or anything) to string\n",
    "df_summary_4omini['Provider_str'] = df_summary_4omini['API Provider'].astype(str)\n",
    "df_summary_4omini['GPU_str']      = df_summary_4omini['GPUs Used'].astype(str)\n",
    "\n",
    "df_summary_4omini['OutputSize'] = df_summary_4omini['Output Token Size'].astype('category')\n",
    "df_summary_4omini['weight']     = 1 / df_summary_4omini['sem_score']**2\n",
    "\n",
    "\n"
   ]
  },
  {
   "cell_type": "code",
   "execution_count": 38,
   "metadata": {},
   "outputs": [
    {
     "name": "stdout",
     "output_type": "stream",
     "text": [
      "Model           0\n",
      "Output_Size     0\n",
      "API_Provider    0\n",
      "GPUs_Used       0\n",
      "Energy          0\n",
      "sem_score       0\n",
      "Group           0\n",
      "dtype: int64\n",
      "Energy       0\n",
      "sem_score    0\n",
      "dtype: int64\n"
     ]
    }
   ],
   "source": [
    "print(df_summary_4omini.isnull().sum())\n",
    "print(np.isinf(df_summary_4omini.select_dtypes(include=[np.number])).sum())\n"
   ]
  },
  {
   "cell_type": "code",
   "execution_count": 47,
   "metadata": {},
   "outputs": [
    {
     "data": {
      "text/html": [
       "<div>\n",
       "<style scoped>\n",
       "    .dataframe tbody tr th:only-of-type {\n",
       "        vertical-align: middle;\n",
       "    }\n",
       "\n",
       "    .dataframe tbody tr th {\n",
       "        vertical-align: top;\n",
       "    }\n",
       "\n",
       "    .dataframe thead th {\n",
       "        text-align: right;\n",
       "    }\n",
       "</style>\n",
       "<table border=\"1\" class=\"dataframe\">\n",
       "  <thead>\n",
       "    <tr style=\"text-align: right;\">\n",
       "      <th></th>\n",
       "      <th>Model</th>\n",
       "      <th>API Provider</th>\n",
       "      <th>Output Token Size</th>\n",
       "      <th>GPUs Used</th>\n",
       "      <th>Metric</th>\n",
       "      <th>Score</th>\n",
       "    </tr>\n",
       "  </thead>\n",
       "  <tbody>\n",
       "    <tr>\n",
       "      <th>0</th>\n",
       "      <td>GPT-4o (Mar '25)</td>\n",
       "      <td>OpenAI</td>\n",
       "      <td>300.0</td>\n",
       "      <td>Nvidia H100</td>\n",
       "      <td>Output Speed (100 Tokens input 300 tokens outp...</td>\n",
       "      <td>0.000523</td>\n",
       "    </tr>\n",
       "    <tr>\n",
       "      <th>1</th>\n",
       "      <td>GPT-4o mini</td>\n",
       "      <td>OpenAI</td>\n",
       "      <td>300.0</td>\n",
       "      <td>Nvidia H100</td>\n",
       "      <td>Output Speed (100 Tokens input 300 tokens outp...</td>\n",
       "      <td>0.000546</td>\n",
       "    </tr>\n",
       "    <tr>\n",
       "      <th>2</th>\n",
       "      <td>GPT-4 Turbo</td>\n",
       "      <td>OpenAI</td>\n",
       "      <td>300.0</td>\n",
       "      <td>Nvidia H100</td>\n",
       "      <td>Output Speed (100 Tokens input 300 tokens outp...</td>\n",
       "      <td>0.001993</td>\n",
       "    </tr>\n",
       "    <tr>\n",
       "      <th>3</th>\n",
       "      <td>GPT-4o mini</td>\n",
       "      <td>OpenAI</td>\n",
       "      <td>300.0</td>\n",
       "      <td>Nvidia A100</td>\n",
       "      <td>Output Speed (100 Tokens input 300 tokens outp...</td>\n",
       "      <td>0.000527</td>\n",
       "    </tr>\n",
       "    <tr>\n",
       "      <th>4</th>\n",
       "      <td>GPT-4 Turbo</td>\n",
       "      <td>OpenAI</td>\n",
       "      <td>300.0</td>\n",
       "      <td>Nvidia A100</td>\n",
       "      <td>Output Speed (100 Tokens input 300 tokens outp...</td>\n",
       "      <td>0.001995</td>\n",
       "    </tr>\n",
       "    <tr>\n",
       "      <th>...</th>\n",
       "      <td>...</td>\n",
       "      <td>...</td>\n",
       "      <td>...</td>\n",
       "      <td>...</td>\n",
       "      <td>...</td>\n",
       "      <td>...</td>\n",
       "    </tr>\n",
       "    <tr>\n",
       "      <th>499</th>\n",
       "      <td>GPT-4 Turbo</td>\n",
       "      <td>OpenAI</td>\n",
       "      <td>1500.0</td>\n",
       "      <td>Nvidia H100</td>\n",
       "      <td>Output Speed (100 Tokens input 300 tokens outp...</td>\n",
       "      <td>0.006387</td>\n",
       "    </tr>\n",
       "    <tr>\n",
       "      <th>500</th>\n",
       "      <td>GPT-4o mini</td>\n",
       "      <td>OpenAI</td>\n",
       "      <td>1500.0</td>\n",
       "      <td>Nvidia A100</td>\n",
       "      <td>Output Speed (100 Tokens input 300 tokens outp...</td>\n",
       "      <td>0.001429</td>\n",
       "    </tr>\n",
       "    <tr>\n",
       "      <th>501</th>\n",
       "      <td>GPT-4 Turbo</td>\n",
       "      <td>OpenAI</td>\n",
       "      <td>1500.0</td>\n",
       "      <td>Nvidia A100</td>\n",
       "      <td>Output Speed (100 Tokens input 300 tokens outp...</td>\n",
       "      <td>0.006395</td>\n",
       "    </tr>\n",
       "    <tr>\n",
       "      <th>502</th>\n",
       "      <td>GPT-4o mini</td>\n",
       "      <td>Microsoft Azure</td>\n",
       "      <td>1500.0</td>\n",
       "      <td>Nvidia H100</td>\n",
       "      <td>Output Speed (100 Tokens input 300 tokens outp...</td>\n",
       "      <td>0.000854</td>\n",
       "    </tr>\n",
       "    <tr>\n",
       "      <th>503</th>\n",
       "      <td>GPT-4 Turbo</td>\n",
       "      <td>Microsoft Azure</td>\n",
       "      <td>1500.0</td>\n",
       "      <td>Nvidia H100</td>\n",
       "      <td>Output Speed (100 Tokens input 300 tokens outp...</td>\n",
       "      <td>0.006079</td>\n",
       "    </tr>\n",
       "  </tbody>\n",
       "</table>\n",
       "<p>504 rows × 6 columns</p>\n",
       "</div>"
      ],
      "text/plain": [
       "                Model     API Provider  Output Token Size    GPUs Used  \\\n",
       "0    GPT-4o (Mar '25)           OpenAI              300.0  Nvidia H100   \n",
       "1         GPT-4o mini           OpenAI              300.0  Nvidia H100   \n",
       "2         GPT-4 Turbo           OpenAI              300.0  Nvidia H100   \n",
       "3         GPT-4o mini           OpenAI              300.0  Nvidia A100   \n",
       "4         GPT-4 Turbo           OpenAI              300.0  Nvidia A100   \n",
       "..                ...              ...                ...          ...   \n",
       "499       GPT-4 Turbo           OpenAI             1500.0  Nvidia H100   \n",
       "500       GPT-4o mini           OpenAI             1500.0  Nvidia A100   \n",
       "501       GPT-4 Turbo           OpenAI             1500.0  Nvidia A100   \n",
       "502       GPT-4o mini  Microsoft Azure             1500.0  Nvidia H100   \n",
       "503       GPT-4 Turbo  Microsoft Azure             1500.0  Nvidia H100   \n",
       "\n",
       "                                                Metric     Score  \n",
       "0    Output Speed (100 Tokens input 300 tokens outp...  0.000523  \n",
       "1    Output Speed (100 Tokens input 300 tokens outp...  0.000546  \n",
       "2    Output Speed (100 Tokens input 300 tokens outp...  0.001993  \n",
       "3    Output Speed (100 Tokens input 300 tokens outp...  0.000527  \n",
       "4    Output Speed (100 Tokens input 300 tokens outp...  0.001995  \n",
       "..                                                 ...       ...  \n",
       "499  Output Speed (100 Tokens input 300 tokens outp...  0.006387  \n",
       "500  Output Speed (100 Tokens input 300 tokens outp...  0.001429  \n",
       "501  Output Speed (100 Tokens input 300 tokens outp...  0.006395  \n",
       "502  Output Speed (100 Tokens input 300 tokens outp...  0.000854  \n",
       "503  Output Speed (100 Tokens input 300 tokens outp...  0.006079  \n",
       "\n",
       "[504 rows x 6 columns]"
      ]
     },
     "execution_count": 47,
     "metadata": {},
     "output_type": "execute_result"
    }
   ],
   "source": [
    "df"
   ]
  },
  {
   "cell_type": "code",
   "execution_count": 54,
   "metadata": {},
   "outputs": [],
   "source": [
    "df_4omini_clean= df.loc[df['Model'].str.contains('GPT-4o mini'),:]\n"
   ]
  },
  {
   "cell_type": "code",
   "execution_count": 56,
   "metadata": {},
   "outputs": [
    {
     "data": {
      "text/html": [
       "<div>\n",
       "<style scoped>\n",
       "    .dataframe tbody tr th:only-of-type {\n",
       "        vertical-align: middle;\n",
       "    }\n",
       "\n",
       "    .dataframe tbody tr th {\n",
       "        vertical-align: top;\n",
       "    }\n",
       "\n",
       "    .dataframe thead th {\n",
       "        text-align: right;\n",
       "    }\n",
       "</style>\n",
       "<table border=\"1\" class=\"dataframe\">\n",
       "  <thead>\n",
       "    <tr style=\"text-align: right;\">\n",
       "      <th></th>\n",
       "      <th>Model</th>\n",
       "      <th>API Provider</th>\n",
       "      <th>Output Token Size</th>\n",
       "      <th>GPUs Used</th>\n",
       "      <th>Metric</th>\n",
       "      <th>Score</th>\n",
       "    </tr>\n",
       "  </thead>\n",
       "  <tbody>\n",
       "    <tr>\n",
       "      <th>1</th>\n",
       "      <td>GPT-4o mini</td>\n",
       "      <td>OpenAI</td>\n",
       "      <td>300.0</td>\n",
       "      <td>Nvidia H100</td>\n",
       "      <td>Output Speed (100 Tokens input 300 tokens outp...</td>\n",
       "      <td>0.000546</td>\n",
       "    </tr>\n",
       "    <tr>\n",
       "      <th>3</th>\n",
       "      <td>GPT-4o mini</td>\n",
       "      <td>OpenAI</td>\n",
       "      <td>300.0</td>\n",
       "      <td>Nvidia A100</td>\n",
       "      <td>Output Speed (100 Tokens input 300 tokens outp...</td>\n",
       "      <td>0.000527</td>\n",
       "    </tr>\n",
       "    <tr>\n",
       "      <th>5</th>\n",
       "      <td>GPT-4o mini</td>\n",
       "      <td>Microsoft Azure</td>\n",
       "      <td>300.0</td>\n",
       "      <td>Nvidia H100</td>\n",
       "      <td>Output Speed (100 Tokens input 300 tokens outp...</td>\n",
       "      <td>0.000465</td>\n",
       "    </tr>\n",
       "    <tr>\n",
       "      <th>8</th>\n",
       "      <td>GPT-4o mini</td>\n",
       "      <td>OpenAI</td>\n",
       "      <td>1000.0</td>\n",
       "      <td>Nvidia H100</td>\n",
       "      <td>Output Speed (100 Tokens input 300 tokens outp...</td>\n",
       "      <td>0.001912</td>\n",
       "    </tr>\n",
       "    <tr>\n",
       "      <th>10</th>\n",
       "      <td>GPT-4o mini</td>\n",
       "      <td>OpenAI</td>\n",
       "      <td>1000.0</td>\n",
       "      <td>Nvidia A100</td>\n",
       "      <td>Output Speed (100 Tokens input 300 tokens outp...</td>\n",
       "      <td>0.001845</td>\n",
       "    </tr>\n",
       "    <tr>\n",
       "      <th>...</th>\n",
       "      <td>...</td>\n",
       "      <td>...</td>\n",
       "      <td>...</td>\n",
       "      <td>...</td>\n",
       "      <td>...</td>\n",
       "      <td>...</td>\n",
       "    </tr>\n",
       "    <tr>\n",
       "      <th>493</th>\n",
       "      <td>GPT-4o mini</td>\n",
       "      <td>OpenAI</td>\n",
       "      <td>1000.0</td>\n",
       "      <td>Nvidia A100</td>\n",
       "      <td>Output Speed (100 Tokens input 300 tokens outp...</td>\n",
       "      <td>0.000999</td>\n",
       "    </tr>\n",
       "    <tr>\n",
       "      <th>495</th>\n",
       "      <td>GPT-4o mini</td>\n",
       "      <td>Microsoft Azure</td>\n",
       "      <td>1000.0</td>\n",
       "      <td>Nvidia H100</td>\n",
       "      <td>Output Speed (100 Tokens input 300 tokens outp...</td>\n",
       "      <td>0.000617</td>\n",
       "    </tr>\n",
       "    <tr>\n",
       "      <th>498</th>\n",
       "      <td>GPT-4o mini</td>\n",
       "      <td>OpenAI</td>\n",
       "      <td>1500.0</td>\n",
       "      <td>Nvidia H100</td>\n",
       "      <td>Output Speed (100 Tokens input 300 tokens outp...</td>\n",
       "      <td>0.001481</td>\n",
       "    </tr>\n",
       "    <tr>\n",
       "      <th>500</th>\n",
       "      <td>GPT-4o mini</td>\n",
       "      <td>OpenAI</td>\n",
       "      <td>1500.0</td>\n",
       "      <td>Nvidia A100</td>\n",
       "      <td>Output Speed (100 Tokens input 300 tokens outp...</td>\n",
       "      <td>0.001429</td>\n",
       "    </tr>\n",
       "    <tr>\n",
       "      <th>502</th>\n",
       "      <td>GPT-4o mini</td>\n",
       "      <td>Microsoft Azure</td>\n",
       "      <td>1500.0</td>\n",
       "      <td>Nvidia H100</td>\n",
       "      <td>Output Speed (100 Tokens input 300 tokens outp...</td>\n",
       "      <td>0.000854</td>\n",
       "    </tr>\n",
       "  </tbody>\n",
       "</table>\n",
       "<p>216 rows × 6 columns</p>\n",
       "</div>"
      ],
      "text/plain": [
       "           Model     API Provider  Output Token Size    GPUs Used  \\\n",
       "1    GPT-4o mini           OpenAI              300.0  Nvidia H100   \n",
       "3    GPT-4o mini           OpenAI              300.0  Nvidia A100   \n",
       "5    GPT-4o mini  Microsoft Azure              300.0  Nvidia H100   \n",
       "8    GPT-4o mini           OpenAI             1000.0  Nvidia H100   \n",
       "10   GPT-4o mini           OpenAI             1000.0  Nvidia A100   \n",
       "..           ...              ...                ...          ...   \n",
       "493  GPT-4o mini           OpenAI             1000.0  Nvidia A100   \n",
       "495  GPT-4o mini  Microsoft Azure             1000.0  Nvidia H100   \n",
       "498  GPT-4o mini           OpenAI             1500.0  Nvidia H100   \n",
       "500  GPT-4o mini           OpenAI             1500.0  Nvidia A100   \n",
       "502  GPT-4o mini  Microsoft Azure             1500.0  Nvidia H100   \n",
       "\n",
       "                                                Metric     Score  \n",
       "1    Output Speed (100 Tokens input 300 tokens outp...  0.000546  \n",
       "3    Output Speed (100 Tokens input 300 tokens outp...  0.000527  \n",
       "5    Output Speed (100 Tokens input 300 tokens outp...  0.000465  \n",
       "8    Output Speed (100 Tokens input 300 tokens outp...  0.001912  \n",
       "10   Output Speed (100 Tokens input 300 tokens outp...  0.001845  \n",
       "..                                                 ...       ...  \n",
       "493  Output Speed (100 Tokens input 300 tokens outp...  0.000999  \n",
       "495  Output Speed (100 Tokens input 300 tokens outp...  0.000617  \n",
       "498  Output Speed (100 Tokens input 300 tokens outp...  0.001481  \n",
       "500  Output Speed (100 Tokens input 300 tokens outp...  0.001429  \n",
       "502  Output Speed (100 Tokens input 300 tokens outp...  0.000854  \n",
       "\n",
       "[216 rows x 6 columns]"
      ]
     },
     "execution_count": 56,
     "metadata": {},
     "output_type": "execute_result"
    }
   ],
   "source": [
    "df_4omini_clean"
   ]
  },
  {
   "cell_type": "code",
   "execution_count": 64,
   "metadata": {},
   "outputs": [
    {
     "name": "stderr",
     "output_type": "stream",
     "text": [
      "/var/folders/k0/5kjb5xhn5hz5qd2_5ccp61th0000gn/T/ipykernel_55677/3690307221.py:3: SettingWithCopyWarning:\n",
      "\n",
      "\n",
      "A value is trying to be set on a copy of a slice from a DataFrame\n",
      "\n",
      "See the caveats in the documentation: https://pandas.pydata.org/pandas-docs/stable/user_guide/indexing.html#returning-a-view-versus-a-copy\n",
      "\n",
      "/var/folders/k0/5kjb5xhn5hz5qd2_5ccp61th0000gn/T/ipykernel_55677/3690307221.py:11: SettingWithCopyWarning:\n",
      "\n",
      "\n",
      "A value is trying to be set on a copy of a slice from a DataFrame.\n",
      "Try using .loc[row_indexer,col_indexer] = value instead\n",
      "\n",
      "See the caveats in the documentation: https://pandas.pydata.org/pandas-docs/stable/user_guide/indexing.html#returning-a-view-versus-a-copy\n",
      "\n",
      "/var/folders/k0/5kjb5xhn5hz5qd2_5ccp61th0000gn/T/ipykernel_55677/3690307221.py:12: SettingWithCopyWarning:\n",
      "\n",
      "\n",
      "A value is trying to be set on a copy of a slice from a DataFrame.\n",
      "Try using .loc[row_indexer,col_indexer] = value instead\n",
      "\n",
      "See the caveats in the documentation: https://pandas.pydata.org/pandas-docs/stable/user_guide/indexing.html#returning-a-view-versus-a-copy\n",
      "\n"
     ]
    },
    {
     "data": {
      "text/html": [
       "<div>\n",
       "<style scoped>\n",
       "    .dataframe tbody tr th:only-of-type {\n",
       "        vertical-align: middle;\n",
       "    }\n",
       "\n",
       "    .dataframe tbody tr th {\n",
       "        vertical-align: top;\n",
       "    }\n",
       "\n",
       "    .dataframe thead th {\n",
       "        text-align: right;\n",
       "    }\n",
       "</style>\n",
       "<table border=\"1\" class=\"dataframe\">\n",
       "  <thead>\n",
       "    <tr style=\"text-align: right;\">\n",
       "      <th></th>\n",
       "      <th>API_Provider</th>\n",
       "      <th>GPUs_Used</th>\n",
       "      <th>Output_Size</th>\n",
       "      <th>Energy</th>\n",
       "    </tr>\n",
       "  </thead>\n",
       "  <tbody>\n",
       "    <tr>\n",
       "      <th>1</th>\n",
       "      <td>OpenAI</td>\n",
       "      <td>Nvidia H100</td>\n",
       "      <td>300.0</td>\n",
       "      <td>0.000546</td>\n",
       "    </tr>\n",
       "    <tr>\n",
       "      <th>3</th>\n",
       "      <td>OpenAI</td>\n",
       "      <td>Nvidia A100</td>\n",
       "      <td>300.0</td>\n",
       "      <td>0.000527</td>\n",
       "    </tr>\n",
       "    <tr>\n",
       "      <th>5</th>\n",
       "      <td>Microsoft Azure</td>\n",
       "      <td>Nvidia H100</td>\n",
       "      <td>300.0</td>\n",
       "      <td>0.000465</td>\n",
       "    </tr>\n",
       "    <tr>\n",
       "      <th>8</th>\n",
       "      <td>OpenAI</td>\n",
       "      <td>Nvidia H100</td>\n",
       "      <td>1000.0</td>\n",
       "      <td>0.001912</td>\n",
       "    </tr>\n",
       "    <tr>\n",
       "      <th>10</th>\n",
       "      <td>OpenAI</td>\n",
       "      <td>Nvidia A100</td>\n",
       "      <td>1000.0</td>\n",
       "      <td>0.001845</td>\n",
       "    </tr>\n",
       "  </tbody>\n",
       "</table>\n",
       "</div>"
      ],
      "text/plain": [
       "       API_Provider    GPUs_Used Output_Size    Energy\n",
       "1            OpenAI  Nvidia H100       300.0  0.000546\n",
       "3            OpenAI  Nvidia A100       300.0  0.000527\n",
       "5   Microsoft Azure  Nvidia H100       300.0  0.000465\n",
       "8            OpenAI  Nvidia H100      1000.0  0.001912\n",
       "10           OpenAI  Nvidia A100      1000.0  0.001845"
      ]
     },
     "metadata": {},
     "output_type": "display_data"
    },
    {
     "name": "stderr",
     "output_type": "stream",
     "text": [
      "/var/folders/k0/5kjb5xhn5hz5qd2_5ccp61th0000gn/T/ipykernel_55677/3690307221.py:16: FutureWarning:\n",
      "\n",
      "The default of observed=False is deprecated and will be changed to True in a future version of pandas. Pass observed=False to retain current behavior or observed=True to adopt the future default and silence this warning.\n",
      "\n"
     ]
    },
    {
     "data": {
      "text/html": [
       "<div>\n",
       "<style scoped>\n",
       "    .dataframe tbody tr th:only-of-type {\n",
       "        vertical-align: middle;\n",
       "    }\n",
       "\n",
       "    .dataframe tbody tr th {\n",
       "        vertical-align: top;\n",
       "    }\n",
       "\n",
       "    .dataframe thead th {\n",
       "        text-align: right;\n",
       "    }\n",
       "</style>\n",
       "<table border=\"1\" class=\"dataframe\">\n",
       "  <thead>\n",
       "    <tr style=\"text-align: right;\">\n",
       "      <th></th>\n",
       "      <th>Group</th>\n",
       "      <th>Output_Size</th>\n",
       "      <th>n</th>\n",
       "    </tr>\n",
       "  </thead>\n",
       "  <tbody>\n",
       "    <tr>\n",
       "      <th>0</th>\n",
       "      <td>Microsoft Azure_Nvidia H100</td>\n",
       "      <td>300.0</td>\n",
       "      <td>24</td>\n",
       "    </tr>\n",
       "    <tr>\n",
       "      <th>1</th>\n",
       "      <td>Microsoft Azure_Nvidia H100</td>\n",
       "      <td>1000.0</td>\n",
       "      <td>24</td>\n",
       "    </tr>\n",
       "    <tr>\n",
       "      <th>2</th>\n",
       "      <td>Microsoft Azure_Nvidia H100</td>\n",
       "      <td>1500.0</td>\n",
       "      <td>24</td>\n",
       "    </tr>\n",
       "    <tr>\n",
       "      <th>3</th>\n",
       "      <td>OpenAI_Nvidia A100</td>\n",
       "      <td>300.0</td>\n",
       "      <td>24</td>\n",
       "    </tr>\n",
       "    <tr>\n",
       "      <th>4</th>\n",
       "      <td>OpenAI_Nvidia A100</td>\n",
       "      <td>1000.0</td>\n",
       "      <td>24</td>\n",
       "    </tr>\n",
       "    <tr>\n",
       "      <th>5</th>\n",
       "      <td>OpenAI_Nvidia A100</td>\n",
       "      <td>1500.0</td>\n",
       "      <td>24</td>\n",
       "    </tr>\n",
       "    <tr>\n",
       "      <th>6</th>\n",
       "      <td>OpenAI_Nvidia H100</td>\n",
       "      <td>300.0</td>\n",
       "      <td>24</td>\n",
       "    </tr>\n",
       "    <tr>\n",
       "      <th>7</th>\n",
       "      <td>OpenAI_Nvidia H100</td>\n",
       "      <td>1000.0</td>\n",
       "      <td>24</td>\n",
       "    </tr>\n",
       "    <tr>\n",
       "      <th>8</th>\n",
       "      <td>OpenAI_Nvidia H100</td>\n",
       "      <td>1500.0</td>\n",
       "      <td>24</td>\n",
       "    </tr>\n",
       "  </tbody>\n",
       "</table>\n",
       "</div>"
      ],
      "text/plain": [
       "                         Group Output_Size   n\n",
       "0  Microsoft Azure_Nvidia H100       300.0  24\n",
       "1  Microsoft Azure_Nvidia H100      1000.0  24\n",
       "2  Microsoft Azure_Nvidia H100      1500.0  24\n",
       "3           OpenAI_Nvidia A100       300.0  24\n",
       "4           OpenAI_Nvidia A100      1000.0  24\n",
       "5           OpenAI_Nvidia A100      1500.0  24\n",
       "6           OpenAI_Nvidia H100       300.0  24\n",
       "7           OpenAI_Nvidia H100      1000.0  24\n",
       "8           OpenAI_Nvidia H100      1500.0  24"
      ]
     },
     "metadata": {},
     "output_type": "display_data"
    },
    {
     "data": {
      "text/html": [
       "<div>\n",
       "<style scoped>\n",
       "    .dataframe tbody tr th:only-of-type {\n",
       "        vertical-align: middle;\n",
       "    }\n",
       "\n",
       "    .dataframe tbody tr th {\n",
       "        vertical-align: top;\n",
       "    }\n",
       "\n",
       "    .dataframe thead th {\n",
       "        text-align: right;\n",
       "    }\n",
       "</style>\n",
       "<table border=\"1\" class=\"dataframe\">\n",
       "  <thead>\n",
       "    <tr style=\"text-align: right;\">\n",
       "      <th></th>\n",
       "      <th>sum_sq</th>\n",
       "      <th>df</th>\n",
       "      <th>F</th>\n",
       "      <th>PR(&gt;F)</th>\n",
       "    </tr>\n",
       "  </thead>\n",
       "  <tbody>\n",
       "    <tr>\n",
       "      <th>C(Group)</th>\n",
       "      <td>0.000010</td>\n",
       "      <td>2.0</td>\n",
       "      <td>49.327882</td>\n",
       "      <td>3.029408e-18</td>\n",
       "    </tr>\n",
       "    <tr>\n",
       "      <th>C(Output_Size)</th>\n",
       "      <td>0.000074</td>\n",
       "      <td>2.0</td>\n",
       "      <td>358.204258</td>\n",
       "      <td>6.090664e-68</td>\n",
       "    </tr>\n",
       "    <tr>\n",
       "      <th>C(Group):C(Output_Size)</th>\n",
       "      <td>0.000004</td>\n",
       "      <td>4.0</td>\n",
       "      <td>10.806358</td>\n",
       "      <td>5.644296e-08</td>\n",
       "    </tr>\n",
       "    <tr>\n",
       "      <th>Residual</th>\n",
       "      <td>0.000022</td>\n",
       "      <td>207.0</td>\n",
       "      <td>NaN</td>\n",
       "      <td>NaN</td>\n",
       "    </tr>\n",
       "  </tbody>\n",
       "</table>\n",
       "</div>"
      ],
      "text/plain": [
       "                           sum_sq     df           F        PR(>F)\n",
       "C(Group)                 0.000010    2.0   49.327882  3.029408e-18\n",
       "C(Output_Size)           0.000074    2.0  358.204258  6.090664e-68\n",
       "C(Group):C(Output_Size)  0.000004    4.0   10.806358  5.644296e-08\n",
       "Residual                 0.000022  207.0         NaN           NaN"
      ]
     },
     "metadata": {},
     "output_type": "display_data"
    },
    {
     "name": "stderr",
     "output_type": "stream",
     "text": [
      "/var/folders/k0/5kjb5xhn5hz5qd2_5ccp61th0000gn/T/ipykernel_55677/3690307221.py:25: SettingWithCopyWarning:\n",
      "\n",
      "\n",
      "A value is trying to be set on a copy of a slice from a DataFrame.\n",
      "Try using .loc[row_indexer,col_indexer] = value instead\n",
      "\n",
      "See the caveats in the documentation: https://pandas.pydata.org/pandas-docs/stable/user_guide/indexing.html#returning-a-view-versus-a-copy\n",
      "\n"
     ]
    },
    {
     "data": {
      "text/html": [
       "<div>\n",
       "<style scoped>\n",
       "    .dataframe tbody tr th:only-of-type {\n",
       "        vertical-align: middle;\n",
       "    }\n",
       "\n",
       "    .dataframe tbody tr th {\n",
       "        vertical-align: top;\n",
       "    }\n",
       "\n",
       "    .dataframe thead th {\n",
       "        text-align: right;\n",
       "    }\n",
       "</style>\n",
       "<table border=\"1\" class=\"dataframe\">\n",
       "  <thead>\n",
       "    <tr style=\"text-align: right;\">\n",
       "      <th></th>\n",
       "      <th>group1</th>\n",
       "      <th>group2</th>\n",
       "      <th>meandiff</th>\n",
       "      <th>p-adj</th>\n",
       "      <th>lower</th>\n",
       "      <th>upper</th>\n",
       "      <th>reject</th>\n",
       "    </tr>\n",
       "  </thead>\n",
       "  <tbody>\n",
       "    <tr>\n",
       "      <th>0</th>\n",
       "      <td>Microsoft Azure_Nvidia H100_1000.0</td>\n",
       "      <td>Microsoft Azure_Nvidia H100_1500.0</td>\n",
       "      <td>0.0003</td>\n",
       "      <td>0.1313</td>\n",
       "      <td>-0.0000</td>\n",
       "      <td>0.0005</td>\n",
       "      <td>False</td>\n",
       "    </tr>\n",
       "    <tr>\n",
       "      <th>1</th>\n",
       "      <td>Microsoft Azure_Nvidia H100_1000.0</td>\n",
       "      <td>Microsoft Azure_Nvidia H100_300.0</td>\n",
       "      <td>-0.0007</td>\n",
       "      <td>0.0000</td>\n",
       "      <td>-0.0010</td>\n",
       "      <td>-0.0004</td>\n",
       "      <td>True</td>\n",
       "    </tr>\n",
       "    <tr>\n",
       "      <th>2</th>\n",
       "      <td>Microsoft Azure_Nvidia H100_1000.0</td>\n",
       "      <td>OpenAI_Nvidia A100_1000.0</td>\n",
       "      <td>0.0004</td>\n",
       "      <td>0.0009</td>\n",
       "      <td>0.0001</td>\n",
       "      <td>0.0007</td>\n",
       "      <td>True</td>\n",
       "    </tr>\n",
       "    <tr>\n",
       "      <th>3</th>\n",
       "      <td>Microsoft Azure_Nvidia H100_1000.0</td>\n",
       "      <td>OpenAI_Nvidia A100_1500.0</td>\n",
       "      <td>0.0011</td>\n",
       "      <td>0.0000</td>\n",
       "      <td>0.0008</td>\n",
       "      <td>0.0014</td>\n",
       "      <td>True</td>\n",
       "    </tr>\n",
       "    <tr>\n",
       "      <th>4</th>\n",
       "      <td>Microsoft Azure_Nvidia H100_1000.0</td>\n",
       "      <td>OpenAI_Nvidia A100_300.0</td>\n",
       "      <td>-0.0006</td>\n",
       "      <td>0.0000</td>\n",
       "      <td>-0.0009</td>\n",
       "      <td>-0.0003</td>\n",
       "      <td>True</td>\n",
       "    </tr>\n",
       "    <tr>\n",
       "      <th>5</th>\n",
       "      <td>Microsoft Azure_Nvidia H100_1000.0</td>\n",
       "      <td>OpenAI_Nvidia H100_1000.0</td>\n",
       "      <td>0.0004</td>\n",
       "      <td>0.0001</td>\n",
       "      <td>0.0002</td>\n",
       "      <td>0.0007</td>\n",
       "      <td>True</td>\n",
       "    </tr>\n",
       "    <tr>\n",
       "      <th>6</th>\n",
       "      <td>Microsoft Azure_Nvidia H100_1000.0</td>\n",
       "      <td>OpenAI_Nvidia H100_1500.0</td>\n",
       "      <td>0.0011</td>\n",
       "      <td>0.0000</td>\n",
       "      <td>0.0009</td>\n",
       "      <td>0.0014</td>\n",
       "      <td>True</td>\n",
       "    </tr>\n",
       "    <tr>\n",
       "      <th>7</th>\n",
       "      <td>Microsoft Azure_Nvidia H100_1000.0</td>\n",
       "      <td>OpenAI_Nvidia H100_300.0</td>\n",
       "      <td>-0.0006</td>\n",
       "      <td>0.0000</td>\n",
       "      <td>-0.0008</td>\n",
       "      <td>-0.0003</td>\n",
       "      <td>True</td>\n",
       "    </tr>\n",
       "    <tr>\n",
       "      <th>8</th>\n",
       "      <td>Microsoft Azure_Nvidia H100_1500.0</td>\n",
       "      <td>Microsoft Azure_Nvidia H100_300.0</td>\n",
       "      <td>-0.0009</td>\n",
       "      <td>0.0000</td>\n",
       "      <td>-0.0012</td>\n",
       "      <td>-0.0006</td>\n",
       "      <td>True</td>\n",
       "    </tr>\n",
       "    <tr>\n",
       "      <th>9</th>\n",
       "      <td>Microsoft Azure_Nvidia H100_1500.0</td>\n",
       "      <td>OpenAI_Nvidia A100_1000.0</td>\n",
       "      <td>0.0001</td>\n",
       "      <td>0.8455</td>\n",
       "      <td>-0.0002</td>\n",
       "      <td>0.0004</td>\n",
       "      <td>False</td>\n",
       "    </tr>\n",
       "    <tr>\n",
       "      <th>10</th>\n",
       "      <td>Microsoft Azure_Nvidia H100_1500.0</td>\n",
       "      <td>OpenAI_Nvidia A100_1500.0</td>\n",
       "      <td>0.0008</td>\n",
       "      <td>0.0000</td>\n",
       "      <td>0.0005</td>\n",
       "      <td>0.0011</td>\n",
       "      <td>True</td>\n",
       "    </tr>\n",
       "    <tr>\n",
       "      <th>11</th>\n",
       "      <td>Microsoft Azure_Nvidia H100_1500.0</td>\n",
       "      <td>OpenAI_Nvidia A100_300.0</td>\n",
       "      <td>-0.0008</td>\n",
       "      <td>0.0000</td>\n",
       "      <td>-0.0011</td>\n",
       "      <td>-0.0005</td>\n",
       "      <td>True</td>\n",
       "    </tr>\n",
       "    <tr>\n",
       "      <th>12</th>\n",
       "      <td>Microsoft Azure_Nvidia H100_1500.0</td>\n",
       "      <td>OpenAI_Nvidia H100_1000.0</td>\n",
       "      <td>0.0002</td>\n",
       "      <td>0.5066</td>\n",
       "      <td>-0.0001</td>\n",
       "      <td>0.0005</td>\n",
       "      <td>False</td>\n",
       "    </tr>\n",
       "    <tr>\n",
       "      <th>13</th>\n",
       "      <td>Microsoft Azure_Nvidia H100_1500.0</td>\n",
       "      <td>OpenAI_Nvidia H100_1500.0</td>\n",
       "      <td>0.0009</td>\n",
       "      <td>0.0000</td>\n",
       "      <td>0.0006</td>\n",
       "      <td>0.0012</td>\n",
       "      <td>True</td>\n",
       "    </tr>\n",
       "    <tr>\n",
       "      <th>14</th>\n",
       "      <td>Microsoft Azure_Nvidia H100_1500.0</td>\n",
       "      <td>OpenAI_Nvidia H100_300.0</td>\n",
       "      <td>-0.0008</td>\n",
       "      <td>0.0000</td>\n",
       "      <td>-0.0011</td>\n",
       "      <td>-0.0005</td>\n",
       "      <td>True</td>\n",
       "    </tr>\n",
       "    <tr>\n",
       "      <th>15</th>\n",
       "      <td>Microsoft Azure_Nvidia H100_300.0</td>\n",
       "      <td>OpenAI_Nvidia A100_1000.0</td>\n",
       "      <td>0.0011</td>\n",
       "      <td>0.0000</td>\n",
       "      <td>0.0008</td>\n",
       "      <td>0.0014</td>\n",
       "      <td>True</td>\n",
       "    </tr>\n",
       "    <tr>\n",
       "      <th>16</th>\n",
       "      <td>Microsoft Azure_Nvidia H100_300.0</td>\n",
       "      <td>OpenAI_Nvidia A100_1500.0</td>\n",
       "      <td>0.0017</td>\n",
       "      <td>0.0000</td>\n",
       "      <td>0.0014</td>\n",
       "      <td>0.0020</td>\n",
       "      <td>True</td>\n",
       "    </tr>\n",
       "    <tr>\n",
       "      <th>17</th>\n",
       "      <td>Microsoft Azure_Nvidia H100_300.0</td>\n",
       "      <td>OpenAI_Nvidia A100_300.0</td>\n",
       "      <td>0.0001</td>\n",
       "      <td>0.9790</td>\n",
       "      <td>-0.0002</td>\n",
       "      <td>0.0004</td>\n",
       "      <td>False</td>\n",
       "    </tr>\n",
       "    <tr>\n",
       "      <th>18</th>\n",
       "      <td>Microsoft Azure_Nvidia H100_300.0</td>\n",
       "      <td>OpenAI_Nvidia H100_1000.0</td>\n",
       "      <td>0.0011</td>\n",
       "      <td>0.0000</td>\n",
       "      <td>0.0008</td>\n",
       "      <td>0.0014</td>\n",
       "      <td>True</td>\n",
       "    </tr>\n",
       "    <tr>\n",
       "      <th>19</th>\n",
       "      <td>Microsoft Azure_Nvidia H100_300.0</td>\n",
       "      <td>OpenAI_Nvidia H100_1500.0</td>\n",
       "      <td>0.0018</td>\n",
       "      <td>0.0000</td>\n",
       "      <td>0.0015</td>\n",
       "      <td>0.0021</td>\n",
       "      <td>True</td>\n",
       "    </tr>\n",
       "    <tr>\n",
       "      <th>20</th>\n",
       "      <td>Microsoft Azure_Nvidia H100_300.0</td>\n",
       "      <td>OpenAI_Nvidia H100_300.0</td>\n",
       "      <td>0.0001</td>\n",
       "      <td>0.9510</td>\n",
       "      <td>-0.0002</td>\n",
       "      <td>0.0004</td>\n",
       "      <td>False</td>\n",
       "    </tr>\n",
       "    <tr>\n",
       "      <th>21</th>\n",
       "      <td>OpenAI_Nvidia A100_1000.0</td>\n",
       "      <td>OpenAI_Nvidia A100_1500.0</td>\n",
       "      <td>0.0007</td>\n",
       "      <td>0.0000</td>\n",
       "      <td>0.0004</td>\n",
       "      <td>0.0010</td>\n",
       "      <td>True</td>\n",
       "    </tr>\n",
       "    <tr>\n",
       "      <th>22</th>\n",
       "      <td>OpenAI_Nvidia A100_1000.0</td>\n",
       "      <td>OpenAI_Nvidia A100_300.0</td>\n",
       "      <td>-0.0010</td>\n",
       "      <td>0.0000</td>\n",
       "      <td>-0.0013</td>\n",
       "      <td>-0.0007</td>\n",
       "      <td>True</td>\n",
       "    </tr>\n",
       "    <tr>\n",
       "      <th>23</th>\n",
       "      <td>OpenAI_Nvidia A100_1000.0</td>\n",
       "      <td>OpenAI_Nvidia H100_1000.0</td>\n",
       "      <td>0.0000</td>\n",
       "      <td>0.9998</td>\n",
       "      <td>-0.0002</td>\n",
       "      <td>0.0003</td>\n",
       "      <td>False</td>\n",
       "    </tr>\n",
       "    <tr>\n",
       "      <th>24</th>\n",
       "      <td>OpenAI_Nvidia A100_1000.0</td>\n",
       "      <td>OpenAI_Nvidia H100_1500.0</td>\n",
       "      <td>0.0007</td>\n",
       "      <td>0.0000</td>\n",
       "      <td>0.0005</td>\n",
       "      <td>0.0010</td>\n",
       "      <td>True</td>\n",
       "    </tr>\n",
       "    <tr>\n",
       "      <th>25</th>\n",
       "      <td>OpenAI_Nvidia A100_1000.0</td>\n",
       "      <td>OpenAI_Nvidia H100_300.0</td>\n",
       "      <td>-0.0010</td>\n",
       "      <td>0.0000</td>\n",
       "      <td>-0.0012</td>\n",
       "      <td>-0.0007</td>\n",
       "      <td>True</td>\n",
       "    </tr>\n",
       "    <tr>\n",
       "      <th>26</th>\n",
       "      <td>OpenAI_Nvidia A100_1500.0</td>\n",
       "      <td>OpenAI_Nvidia A100_300.0</td>\n",
       "      <td>-0.0016</td>\n",
       "      <td>0.0000</td>\n",
       "      <td>-0.0019</td>\n",
       "      <td>-0.0014</td>\n",
       "      <td>True</td>\n",
       "    </tr>\n",
       "    <tr>\n",
       "      <th>27</th>\n",
       "      <td>OpenAI_Nvidia A100_1500.0</td>\n",
       "      <td>OpenAI_Nvidia H100_1000.0</td>\n",
       "      <td>-0.0006</td>\n",
       "      <td>0.0000</td>\n",
       "      <td>-0.0009</td>\n",
       "      <td>-0.0003</td>\n",
       "      <td>True</td>\n",
       "    </tr>\n",
       "    <tr>\n",
       "      <th>28</th>\n",
       "      <td>OpenAI_Nvidia A100_1500.0</td>\n",
       "      <td>OpenAI_Nvidia H100_1500.0</td>\n",
       "      <td>0.0001</td>\n",
       "      <td>0.9968</td>\n",
       "      <td>-0.0002</td>\n",
       "      <td>0.0004</td>\n",
       "      <td>False</td>\n",
       "    </tr>\n",
       "    <tr>\n",
       "      <th>29</th>\n",
       "      <td>OpenAI_Nvidia A100_1500.0</td>\n",
       "      <td>OpenAI_Nvidia H100_300.0</td>\n",
       "      <td>-0.0016</td>\n",
       "      <td>0.0000</td>\n",
       "      <td>-0.0019</td>\n",
       "      <td>-0.0013</td>\n",
       "      <td>True</td>\n",
       "    </tr>\n",
       "    <tr>\n",
       "      <th>30</th>\n",
       "      <td>OpenAI_Nvidia A100_300.0</td>\n",
       "      <td>OpenAI_Nvidia H100_1000.0</td>\n",
       "      <td>0.0010</td>\n",
       "      <td>0.0000</td>\n",
       "      <td>0.0007</td>\n",
       "      <td>0.0013</td>\n",
       "      <td>True</td>\n",
       "    </tr>\n",
       "    <tr>\n",
       "      <th>31</th>\n",
       "      <td>OpenAI_Nvidia A100_300.0</td>\n",
       "      <td>OpenAI_Nvidia H100_1500.0</td>\n",
       "      <td>0.0017</td>\n",
       "      <td>0.0000</td>\n",
       "      <td>0.0014</td>\n",
       "      <td>0.0020</td>\n",
       "      <td>True</td>\n",
       "    </tr>\n",
       "    <tr>\n",
       "      <th>32</th>\n",
       "      <td>OpenAI_Nvidia A100_300.0</td>\n",
       "      <td>OpenAI_Nvidia H100_300.0</td>\n",
       "      <td>0.0000</td>\n",
       "      <td>1.0000</td>\n",
       "      <td>-0.0003</td>\n",
       "      <td>0.0003</td>\n",
       "      <td>False</td>\n",
       "    </tr>\n",
       "    <tr>\n",
       "      <th>33</th>\n",
       "      <td>OpenAI_Nvidia H100_1000.0</td>\n",
       "      <td>OpenAI_Nvidia H100_1500.0</td>\n",
       "      <td>0.0007</td>\n",
       "      <td>0.0000</td>\n",
       "      <td>0.0004</td>\n",
       "      <td>0.0010</td>\n",
       "      <td>True</td>\n",
       "    </tr>\n",
       "    <tr>\n",
       "      <th>34</th>\n",
       "      <td>OpenAI_Nvidia H100_1000.0</td>\n",
       "      <td>OpenAI_Nvidia H100_300.0</td>\n",
       "      <td>-0.0010</td>\n",
       "      <td>0.0000</td>\n",
       "      <td>-0.0013</td>\n",
       "      <td>-0.0007</td>\n",
       "      <td>True</td>\n",
       "    </tr>\n",
       "    <tr>\n",
       "      <th>35</th>\n",
       "      <td>OpenAI_Nvidia H100_1500.0</td>\n",
       "      <td>OpenAI_Nvidia H100_300.0</td>\n",
       "      <td>-0.0017</td>\n",
       "      <td>0.0000</td>\n",
       "      <td>-0.0020</td>\n",
       "      <td>-0.0014</td>\n",
       "      <td>True</td>\n",
       "    </tr>\n",
       "  </tbody>\n",
       "</table>\n",
       "</div>"
      ],
      "text/plain": [
       "                                group1                              group2  \\\n",
       "0   Microsoft Azure_Nvidia H100_1000.0  Microsoft Azure_Nvidia H100_1500.0   \n",
       "1   Microsoft Azure_Nvidia H100_1000.0   Microsoft Azure_Nvidia H100_300.0   \n",
       "2   Microsoft Azure_Nvidia H100_1000.0           OpenAI_Nvidia A100_1000.0   \n",
       "3   Microsoft Azure_Nvidia H100_1000.0           OpenAI_Nvidia A100_1500.0   \n",
       "4   Microsoft Azure_Nvidia H100_1000.0            OpenAI_Nvidia A100_300.0   \n",
       "5   Microsoft Azure_Nvidia H100_1000.0           OpenAI_Nvidia H100_1000.0   \n",
       "6   Microsoft Azure_Nvidia H100_1000.0           OpenAI_Nvidia H100_1500.0   \n",
       "7   Microsoft Azure_Nvidia H100_1000.0            OpenAI_Nvidia H100_300.0   \n",
       "8   Microsoft Azure_Nvidia H100_1500.0   Microsoft Azure_Nvidia H100_300.0   \n",
       "9   Microsoft Azure_Nvidia H100_1500.0           OpenAI_Nvidia A100_1000.0   \n",
       "10  Microsoft Azure_Nvidia H100_1500.0           OpenAI_Nvidia A100_1500.0   \n",
       "11  Microsoft Azure_Nvidia H100_1500.0            OpenAI_Nvidia A100_300.0   \n",
       "12  Microsoft Azure_Nvidia H100_1500.0           OpenAI_Nvidia H100_1000.0   \n",
       "13  Microsoft Azure_Nvidia H100_1500.0           OpenAI_Nvidia H100_1500.0   \n",
       "14  Microsoft Azure_Nvidia H100_1500.0            OpenAI_Nvidia H100_300.0   \n",
       "15   Microsoft Azure_Nvidia H100_300.0           OpenAI_Nvidia A100_1000.0   \n",
       "16   Microsoft Azure_Nvidia H100_300.0           OpenAI_Nvidia A100_1500.0   \n",
       "17   Microsoft Azure_Nvidia H100_300.0            OpenAI_Nvidia A100_300.0   \n",
       "18   Microsoft Azure_Nvidia H100_300.0           OpenAI_Nvidia H100_1000.0   \n",
       "19   Microsoft Azure_Nvidia H100_300.0           OpenAI_Nvidia H100_1500.0   \n",
       "20   Microsoft Azure_Nvidia H100_300.0            OpenAI_Nvidia H100_300.0   \n",
       "21           OpenAI_Nvidia A100_1000.0           OpenAI_Nvidia A100_1500.0   \n",
       "22           OpenAI_Nvidia A100_1000.0            OpenAI_Nvidia A100_300.0   \n",
       "23           OpenAI_Nvidia A100_1000.0           OpenAI_Nvidia H100_1000.0   \n",
       "24           OpenAI_Nvidia A100_1000.0           OpenAI_Nvidia H100_1500.0   \n",
       "25           OpenAI_Nvidia A100_1000.0            OpenAI_Nvidia H100_300.0   \n",
       "26           OpenAI_Nvidia A100_1500.0            OpenAI_Nvidia A100_300.0   \n",
       "27           OpenAI_Nvidia A100_1500.0           OpenAI_Nvidia H100_1000.0   \n",
       "28           OpenAI_Nvidia A100_1500.0           OpenAI_Nvidia H100_1500.0   \n",
       "29           OpenAI_Nvidia A100_1500.0            OpenAI_Nvidia H100_300.0   \n",
       "30            OpenAI_Nvidia A100_300.0           OpenAI_Nvidia H100_1000.0   \n",
       "31            OpenAI_Nvidia A100_300.0           OpenAI_Nvidia H100_1500.0   \n",
       "32            OpenAI_Nvidia A100_300.0            OpenAI_Nvidia H100_300.0   \n",
       "33           OpenAI_Nvidia H100_1000.0           OpenAI_Nvidia H100_1500.0   \n",
       "34           OpenAI_Nvidia H100_1000.0            OpenAI_Nvidia H100_300.0   \n",
       "35           OpenAI_Nvidia H100_1500.0            OpenAI_Nvidia H100_300.0   \n",
       "\n",
       "    meandiff   p-adj   lower   upper  reject  \n",
       "0     0.0003  0.1313 -0.0000  0.0005   False  \n",
       "1    -0.0007  0.0000 -0.0010 -0.0004    True  \n",
       "2     0.0004  0.0009  0.0001  0.0007    True  \n",
       "3     0.0011  0.0000  0.0008  0.0014    True  \n",
       "4    -0.0006  0.0000 -0.0009 -0.0003    True  \n",
       "5     0.0004  0.0001  0.0002  0.0007    True  \n",
       "6     0.0011  0.0000  0.0009  0.0014    True  \n",
       "7    -0.0006  0.0000 -0.0008 -0.0003    True  \n",
       "8    -0.0009  0.0000 -0.0012 -0.0006    True  \n",
       "9     0.0001  0.8455 -0.0002  0.0004   False  \n",
       "10    0.0008  0.0000  0.0005  0.0011    True  \n",
       "11   -0.0008  0.0000 -0.0011 -0.0005    True  \n",
       "12    0.0002  0.5066 -0.0001  0.0005   False  \n",
       "13    0.0009  0.0000  0.0006  0.0012    True  \n",
       "14   -0.0008  0.0000 -0.0011 -0.0005    True  \n",
       "15    0.0011  0.0000  0.0008  0.0014    True  \n",
       "16    0.0017  0.0000  0.0014  0.0020    True  \n",
       "17    0.0001  0.9790 -0.0002  0.0004   False  \n",
       "18    0.0011  0.0000  0.0008  0.0014    True  \n",
       "19    0.0018  0.0000  0.0015  0.0021    True  \n",
       "20    0.0001  0.9510 -0.0002  0.0004   False  \n",
       "21    0.0007  0.0000  0.0004  0.0010    True  \n",
       "22   -0.0010  0.0000 -0.0013 -0.0007    True  \n",
       "23    0.0000  0.9998 -0.0002  0.0003   False  \n",
       "24    0.0007  0.0000  0.0005  0.0010    True  \n",
       "25   -0.0010  0.0000 -0.0012 -0.0007    True  \n",
       "26   -0.0016  0.0000 -0.0019 -0.0014    True  \n",
       "27   -0.0006  0.0000 -0.0009 -0.0003    True  \n",
       "28    0.0001  0.9968 -0.0002  0.0004   False  \n",
       "29   -0.0016  0.0000 -0.0019 -0.0013    True  \n",
       "30    0.0010  0.0000  0.0007  0.0013    True  \n",
       "31    0.0017  0.0000  0.0014  0.0020    True  \n",
       "32    0.0000  1.0000 -0.0003  0.0003   False  \n",
       "33    0.0007  0.0000  0.0004  0.0010    True  \n",
       "34   -0.0010  0.0000 -0.0013 -0.0007    True  \n",
       "35   -0.0017  0.0000 -0.0020 -0.0014    True  "
      ]
     },
     "metadata": {},
     "output_type": "display_data"
    }
   ],
   "source": [
    "\n",
    "df_4omini_clean= df.loc[df['Model'].str.contains('GPT-4o mini'),:]\n",
    "\n",
    "df_4omini_clean.rename(columns={\n",
    "    'API Provider': 'API_Provider',\n",
    "    'GPUs Used': 'GPUs_Used',\n",
    "    'Output Token Size': 'Output_Size',\n",
    "    'Score': 'Energy'\n",
    "}, inplace=True)\n",
    "\n",
    "# 3. Create composite 'Group' factor and convert Output_Size to categorical\n",
    "df_4omini_clean['Group'] = df_4omini_clean['API_Provider'] + \"_\" + df_4omini_clean['GPUs_Used']\n",
    "df_4omini_clean['Output_Size'] = df_4omini_clean['Output_Size'].astype('category')\n",
    "display(df_4omini_clean[['API_Provider', 'GPUs_Used', 'Output_Size', 'Energy']].head())\n",
    "\n",
    "# 4. Check number of observations per cell\n",
    "counts = df_4omini_clean.groupby(['Group', 'Output_Size']).size().reset_index(name='n')\n",
    "display(counts)\n",
    "\n",
    "# 5. Fit the two-way ANOVA with interaction: Group × Output_Size\n",
    "model = ols('Energy ~ C(Group) * C(Output_Size)', data=df_4omini_clean).fit()\n",
    "anova_table = sm.stats.anova_lm(model, typ=2)\n",
    "display(anova_table)\n",
    "\n",
    "# 6. Post-hoc Tukey HSD for pairwise comparisons across all cells\n",
    "df_4omini_clean['Cell'] = df_4omini_clean['Group'] + \"_\" + df_4omini_clean['Output_Size'].astype(str)\n",
    "tukey_4omini = pairwise_tukeyhsd(endog=df_4omini_clean['Energy'], groups=df_4omini_clean['Cell'], alpha=0.05)\n",
    "tukey_df_4omini = pd.DataFrame(data=tukey_4omini.summary().data[1:], columns=tukey_4omini.summary().data[0])\n",
    "display(tukey_df_4omini)"
   ]
  },
  {
   "cell_type": "code",
   "execution_count": 58,
   "metadata": {},
   "outputs": [],
   "source": []
  },
  {
   "cell_type": "code",
   "execution_count": 65,
   "metadata": {},
   "outputs": [],
   "source": [
    "tukey_df_4omini= tukey_df_4omini[tukey_df_4omini[\"group1\"].astype(str).str.split(\"_\").str[-1]==tukey_df_4omini[\"group2\"].astype(str).str.split(\"_\").str[-1]]\n",
    "def extract_output_size(name):\n",
    "    return name.split(\"_\")[-1]\n",
    "\n",
    "tukey_df_4omini[\"output_size\"] = tukey_df_4omini[\"group1\"].apply(extract_output_size)\n",
    "\n",
    "# Step 2: Remove output size from group1 and group2\n",
    "tukey_df_4omini[\"g1_clean\"] = tukey_df_4omini[\"group1\"].apply(lambda x: \"_\".join(x.split(\"_\")[:-1]))\n",
    "tukey_df_4omini[\"g2_clean\"] = tukey_df_4omini[\"group2\"].apply(lambda x: \"_\".join(x.split(\"_\")[:-1]))\n",
    "\n",
    "# Step 3: Label result\n",
    "tukey_df_4omini[\"result\"] = tukey_df_4omini[\"reject\"].map({True: \"Reject\", False: \"Not Reject\"})\n",
    "\n",
    "# Step 4: Pivot the table\n",
    "pivot_df_4omini = tukey_df_4omini.pivot_table(\n",
    "    index=[\"g1_clean\", \"g2_clean\"],\n",
    "    columns=\"output_size\",\n",
    "    values=\"result\",\n",
    "    aggfunc=\"first\"\n",
    ").reset_index()\n",
    "\n",
    "# Clean column names\n",
    "pivot_df_4omini.columns.name = None\n",
    "pivot_df_4omini.rename(columns={\"g1_clean\": \"Group 1\", \"g2_clean\": \"Group 2\"}, inplace=True)"
   ]
  },
  {
   "cell_type": "code",
   "execution_count": 66,
   "metadata": {},
   "outputs": [
    {
     "data": {
      "text/html": [
       "<div>\n",
       "<style scoped>\n",
       "    .dataframe tbody tr th:only-of-type {\n",
       "        vertical-align: middle;\n",
       "    }\n",
       "\n",
       "    .dataframe tbody tr th {\n",
       "        vertical-align: top;\n",
       "    }\n",
       "\n",
       "    .dataframe thead th {\n",
       "        text-align: right;\n",
       "    }\n",
       "</style>\n",
       "<table border=\"1\" class=\"dataframe\">\n",
       "  <thead>\n",
       "    <tr style=\"text-align: right;\">\n",
       "      <th></th>\n",
       "      <th>Group 1</th>\n",
       "      <th>Group 2</th>\n",
       "      <th>1000.0</th>\n",
       "      <th>1500.0</th>\n",
       "      <th>300.0</th>\n",
       "    </tr>\n",
       "  </thead>\n",
       "  <tbody>\n",
       "    <tr>\n",
       "      <th>0</th>\n",
       "      <td>Microsoft Azure_Nvidia H100</td>\n",
       "      <td>OpenAI_Nvidia A100</td>\n",
       "      <td>Reject</td>\n",
       "      <td>Reject</td>\n",
       "      <td>Not Reject</td>\n",
       "    </tr>\n",
       "    <tr>\n",
       "      <th>1</th>\n",
       "      <td>Microsoft Azure_Nvidia H100</td>\n",
       "      <td>OpenAI_Nvidia H100</td>\n",
       "      <td>Reject</td>\n",
       "      <td>Reject</td>\n",
       "      <td>Not Reject</td>\n",
       "    </tr>\n",
       "    <tr>\n",
       "      <th>2</th>\n",
       "      <td>OpenAI_Nvidia A100</td>\n",
       "      <td>OpenAI_Nvidia H100</td>\n",
       "      <td>Not Reject</td>\n",
       "      <td>Not Reject</td>\n",
       "      <td>Not Reject</td>\n",
       "    </tr>\n",
       "  </tbody>\n",
       "</table>\n",
       "</div>"
      ],
      "text/plain": [
       "                       Group 1             Group 2      1000.0      1500.0  \\\n",
       "0  Microsoft Azure_Nvidia H100  OpenAI_Nvidia A100      Reject      Reject   \n",
       "1  Microsoft Azure_Nvidia H100  OpenAI_Nvidia H100      Reject      Reject   \n",
       "2           OpenAI_Nvidia A100  OpenAI_Nvidia H100  Not Reject  Not Reject   \n",
       "\n",
       "        300.0  \n",
       "0  Not Reject  \n",
       "1  Not Reject  \n",
       "2  Not Reject  "
      ]
     },
     "execution_count": 66,
     "metadata": {},
     "output_type": "execute_result"
    }
   ],
   "source": [
    "pivot_df_4omini"
   ]
  },
  {
   "cell_type": "code",
   "execution_count": 67,
   "metadata": {},
   "outputs": [
    {
     "name": "stderr",
     "output_type": "stream",
     "text": [
      "/var/folders/k0/5kjb5xhn5hz5qd2_5ccp61th0000gn/T/ipykernel_55677/3859546954.py:3: SettingWithCopyWarning:\n",
      "\n",
      "\n",
      "A value is trying to be set on a copy of a slice from a DataFrame\n",
      "\n",
      "See the caveats in the documentation: https://pandas.pydata.org/pandas-docs/stable/user_guide/indexing.html#returning-a-view-versus-a-copy\n",
      "\n",
      "/var/folders/k0/5kjb5xhn5hz5qd2_5ccp61th0000gn/T/ipykernel_55677/3859546954.py:11: SettingWithCopyWarning:\n",
      "\n",
      "\n",
      "A value is trying to be set on a copy of a slice from a DataFrame.\n",
      "Try using .loc[row_indexer,col_indexer] = value instead\n",
      "\n",
      "See the caveats in the documentation: https://pandas.pydata.org/pandas-docs/stable/user_guide/indexing.html#returning-a-view-versus-a-copy\n",
      "\n",
      "/var/folders/k0/5kjb5xhn5hz5qd2_5ccp61th0000gn/T/ipykernel_55677/3859546954.py:12: SettingWithCopyWarning:\n",
      "\n",
      "\n",
      "A value is trying to be set on a copy of a slice from a DataFrame.\n",
      "Try using .loc[row_indexer,col_indexer] = value instead\n",
      "\n",
      "See the caveats in the documentation: https://pandas.pydata.org/pandas-docs/stable/user_guide/indexing.html#returning-a-view-versus-a-copy\n",
      "\n"
     ]
    },
    {
     "data": {
      "text/html": [
       "<div>\n",
       "<style scoped>\n",
       "    .dataframe tbody tr th:only-of-type {\n",
       "        vertical-align: middle;\n",
       "    }\n",
       "\n",
       "    .dataframe tbody tr th {\n",
       "        vertical-align: top;\n",
       "    }\n",
       "\n",
       "    .dataframe thead th {\n",
       "        text-align: right;\n",
       "    }\n",
       "</style>\n",
       "<table border=\"1\" class=\"dataframe\">\n",
       "  <thead>\n",
       "    <tr style=\"text-align: right;\">\n",
       "      <th></th>\n",
       "      <th>API_Provider</th>\n",
       "      <th>GPUs_Used</th>\n",
       "      <th>Output_Size</th>\n",
       "      <th>Energy</th>\n",
       "    </tr>\n",
       "  </thead>\n",
       "  <tbody>\n",
       "    <tr>\n",
       "      <th>2</th>\n",
       "      <td>OpenAI</td>\n",
       "      <td>Nvidia H100</td>\n",
       "      <td>300.0</td>\n",
       "      <td>0.001993</td>\n",
       "    </tr>\n",
       "    <tr>\n",
       "      <th>4</th>\n",
       "      <td>OpenAI</td>\n",
       "      <td>Nvidia A100</td>\n",
       "      <td>300.0</td>\n",
       "      <td>0.001995</td>\n",
       "    </tr>\n",
       "    <tr>\n",
       "      <th>6</th>\n",
       "      <td>Microsoft Azure</td>\n",
       "      <td>Nvidia H100</td>\n",
       "      <td>300.0</td>\n",
       "      <td>0.001466</td>\n",
       "    </tr>\n",
       "    <tr>\n",
       "      <th>9</th>\n",
       "      <td>OpenAI</td>\n",
       "      <td>Nvidia H100</td>\n",
       "      <td>1000.0</td>\n",
       "      <td>0.011094</td>\n",
       "    </tr>\n",
       "    <tr>\n",
       "      <th>11</th>\n",
       "      <td>OpenAI</td>\n",
       "      <td>Nvidia A100</td>\n",
       "      <td>1000.0</td>\n",
       "      <td>0.011109</td>\n",
       "    </tr>\n",
       "  </tbody>\n",
       "</table>\n",
       "</div>"
      ],
      "text/plain": [
       "       API_Provider    GPUs_Used Output_Size    Energy\n",
       "2            OpenAI  Nvidia H100       300.0  0.001993\n",
       "4            OpenAI  Nvidia A100       300.0  0.001995\n",
       "6   Microsoft Azure  Nvidia H100       300.0  0.001466\n",
       "9            OpenAI  Nvidia H100      1000.0  0.011094\n",
       "11           OpenAI  Nvidia A100      1000.0  0.011109"
      ]
     },
     "metadata": {},
     "output_type": "display_data"
    },
    {
     "name": "stderr",
     "output_type": "stream",
     "text": [
      "/var/folders/k0/5kjb5xhn5hz5qd2_5ccp61th0000gn/T/ipykernel_55677/3859546954.py:16: FutureWarning:\n",
      "\n",
      "The default of observed=False is deprecated and will be changed to True in a future version of pandas. Pass observed=False to retain current behavior or observed=True to adopt the future default and silence this warning.\n",
      "\n"
     ]
    },
    {
     "data": {
      "text/html": [
       "<div>\n",
       "<style scoped>\n",
       "    .dataframe tbody tr th:only-of-type {\n",
       "        vertical-align: middle;\n",
       "    }\n",
       "\n",
       "    .dataframe tbody tr th {\n",
       "        vertical-align: top;\n",
       "    }\n",
       "\n",
       "    .dataframe thead th {\n",
       "        text-align: right;\n",
       "    }\n",
       "</style>\n",
       "<table border=\"1\" class=\"dataframe\">\n",
       "  <thead>\n",
       "    <tr style=\"text-align: right;\">\n",
       "      <th></th>\n",
       "      <th>Group</th>\n",
       "      <th>Output_Size</th>\n",
       "      <th>n</th>\n",
       "    </tr>\n",
       "  </thead>\n",
       "  <tbody>\n",
       "    <tr>\n",
       "      <th>0</th>\n",
       "      <td>Microsoft Azure_Nvidia H100</td>\n",
       "      <td>300.0</td>\n",
       "      <td>24</td>\n",
       "    </tr>\n",
       "    <tr>\n",
       "      <th>1</th>\n",
       "      <td>Microsoft Azure_Nvidia H100</td>\n",
       "      <td>1000.0</td>\n",
       "      <td>24</td>\n",
       "    </tr>\n",
       "    <tr>\n",
       "      <th>2</th>\n",
       "      <td>Microsoft Azure_Nvidia H100</td>\n",
       "      <td>1500.0</td>\n",
       "      <td>24</td>\n",
       "    </tr>\n",
       "    <tr>\n",
       "      <th>3</th>\n",
       "      <td>OpenAI_Nvidia A100</td>\n",
       "      <td>300.0</td>\n",
       "      <td>24</td>\n",
       "    </tr>\n",
       "    <tr>\n",
       "      <th>4</th>\n",
       "      <td>OpenAI_Nvidia A100</td>\n",
       "      <td>1000.0</td>\n",
       "      <td>24</td>\n",
       "    </tr>\n",
       "    <tr>\n",
       "      <th>5</th>\n",
       "      <td>OpenAI_Nvidia A100</td>\n",
       "      <td>1500.0</td>\n",
       "      <td>24</td>\n",
       "    </tr>\n",
       "    <tr>\n",
       "      <th>6</th>\n",
       "      <td>OpenAI_Nvidia H100</td>\n",
       "      <td>300.0</td>\n",
       "      <td>24</td>\n",
       "    </tr>\n",
       "    <tr>\n",
       "      <th>7</th>\n",
       "      <td>OpenAI_Nvidia H100</td>\n",
       "      <td>1000.0</td>\n",
       "      <td>24</td>\n",
       "    </tr>\n",
       "    <tr>\n",
       "      <th>8</th>\n",
       "      <td>OpenAI_Nvidia H100</td>\n",
       "      <td>1500.0</td>\n",
       "      <td>24</td>\n",
       "    </tr>\n",
       "  </tbody>\n",
       "</table>\n",
       "</div>"
      ],
      "text/plain": [
       "                         Group Output_Size   n\n",
       "0  Microsoft Azure_Nvidia H100       300.0  24\n",
       "1  Microsoft Azure_Nvidia H100      1000.0  24\n",
       "2  Microsoft Azure_Nvidia H100      1500.0  24\n",
       "3           OpenAI_Nvidia A100       300.0  24\n",
       "4           OpenAI_Nvidia A100      1000.0  24\n",
       "5           OpenAI_Nvidia A100      1500.0  24\n",
       "6           OpenAI_Nvidia H100       300.0  24\n",
       "7           OpenAI_Nvidia H100      1000.0  24\n",
       "8           OpenAI_Nvidia H100      1500.0  24"
      ]
     },
     "metadata": {},
     "output_type": "display_data"
    },
    {
     "data": {
      "text/html": [
       "<div>\n",
       "<style scoped>\n",
       "    .dataframe tbody tr th:only-of-type {\n",
       "        vertical-align: middle;\n",
       "    }\n",
       "\n",
       "    .dataframe tbody tr th {\n",
       "        vertical-align: top;\n",
       "    }\n",
       "\n",
       "    .dataframe thead th {\n",
       "        text-align: right;\n",
       "    }\n",
       "</style>\n",
       "<table border=\"1\" class=\"dataframe\">\n",
       "  <thead>\n",
       "    <tr style=\"text-align: right;\">\n",
       "      <th></th>\n",
       "      <th>sum_sq</th>\n",
       "      <th>df</th>\n",
       "      <th>F</th>\n",
       "      <th>PR(&gt;F)</th>\n",
       "    </tr>\n",
       "  </thead>\n",
       "  <tbody>\n",
       "    <tr>\n",
       "      <th>C(Group)</th>\n",
       "      <td>0.000110</td>\n",
       "      <td>2.0</td>\n",
       "      <td>16.593983</td>\n",
       "      <td>2.069554e-07</td>\n",
       "    </tr>\n",
       "    <tr>\n",
       "      <th>C(Output_Size)</th>\n",
       "      <td>0.001864</td>\n",
       "      <td>2.0</td>\n",
       "      <td>280.362384</td>\n",
       "      <td>1.213825e-59</td>\n",
       "    </tr>\n",
       "    <tr>\n",
       "      <th>C(Group):C(Output_Size)</th>\n",
       "      <td>0.000038</td>\n",
       "      <td>4.0</td>\n",
       "      <td>2.839064</td>\n",
       "      <td>2.536878e-02</td>\n",
       "    </tr>\n",
       "    <tr>\n",
       "      <th>Residual</th>\n",
       "      <td>0.000688</td>\n",
       "      <td>207.0</td>\n",
       "      <td>NaN</td>\n",
       "      <td>NaN</td>\n",
       "    </tr>\n",
       "  </tbody>\n",
       "</table>\n",
       "</div>"
      ],
      "text/plain": [
       "                           sum_sq     df           F        PR(>F)\n",
       "C(Group)                 0.000110    2.0   16.593983  2.069554e-07\n",
       "C(Output_Size)           0.001864    2.0  280.362384  1.213825e-59\n",
       "C(Group):C(Output_Size)  0.000038    4.0    2.839064  2.536878e-02\n",
       "Residual                 0.000688  207.0         NaN           NaN"
      ]
     },
     "metadata": {},
     "output_type": "display_data"
    },
    {
     "name": "stderr",
     "output_type": "stream",
     "text": [
      "/var/folders/k0/5kjb5xhn5hz5qd2_5ccp61th0000gn/T/ipykernel_55677/3859546954.py:25: SettingWithCopyWarning:\n",
      "\n",
      "\n",
      "A value is trying to be set on a copy of a slice from a DataFrame.\n",
      "Try using .loc[row_indexer,col_indexer] = value instead\n",
      "\n",
      "See the caveats in the documentation: https://pandas.pydata.org/pandas-docs/stable/user_guide/indexing.html#returning-a-view-versus-a-copy\n",
      "\n"
     ]
    },
    {
     "data": {
      "text/html": [
       "<div>\n",
       "<style scoped>\n",
       "    .dataframe tbody tr th:only-of-type {\n",
       "        vertical-align: middle;\n",
       "    }\n",
       "\n",
       "    .dataframe tbody tr th {\n",
       "        vertical-align: top;\n",
       "    }\n",
       "\n",
       "    .dataframe thead th {\n",
       "        text-align: right;\n",
       "    }\n",
       "</style>\n",
       "<table border=\"1\" class=\"dataframe\">\n",
       "  <thead>\n",
       "    <tr style=\"text-align: right;\">\n",
       "      <th></th>\n",
       "      <th>group1</th>\n",
       "      <th>group2</th>\n",
       "      <th>meandiff</th>\n",
       "      <th>p-adj</th>\n",
       "      <th>lower</th>\n",
       "      <th>upper</th>\n",
       "      <th>reject</th>\n",
       "    </tr>\n",
       "  </thead>\n",
       "  <tbody>\n",
       "    <tr>\n",
       "      <th>0</th>\n",
       "      <td>Microsoft Azure_Nvidia H100_1000.0</td>\n",
       "      <td>Microsoft Azure_Nvidia H100_1500.0</td>\n",
       "      <td>0.0034</td>\n",
       "      <td>0.0000</td>\n",
       "      <td>0.0017</td>\n",
       "      <td>0.0050</td>\n",
       "      <td>True</td>\n",
       "    </tr>\n",
       "    <tr>\n",
       "      <th>1</th>\n",
       "      <td>Microsoft Azure_Nvidia H100_1000.0</td>\n",
       "      <td>Microsoft Azure_Nvidia H100_300.0</td>\n",
       "      <td>-0.0028</td>\n",
       "      <td>0.0000</td>\n",
       "      <td>-0.0044</td>\n",
       "      <td>-0.0011</td>\n",
       "      <td>True</td>\n",
       "    </tr>\n",
       "    <tr>\n",
       "      <th>2</th>\n",
       "      <td>Microsoft Azure_Nvidia H100_1000.0</td>\n",
       "      <td>OpenAI_Nvidia A100_1000.0</td>\n",
       "      <td>0.0024</td>\n",
       "      <td>0.0003</td>\n",
       "      <td>0.0008</td>\n",
       "      <td>0.0041</td>\n",
       "      <td>True</td>\n",
       "    </tr>\n",
       "    <tr>\n",
       "      <th>3</th>\n",
       "      <td>Microsoft Azure_Nvidia H100_1000.0</td>\n",
       "      <td>OpenAI_Nvidia A100_1500.0</td>\n",
       "      <td>0.0052</td>\n",
       "      <td>0.0000</td>\n",
       "      <td>0.0035</td>\n",
       "      <td>0.0068</td>\n",
       "      <td>True</td>\n",
       "    </tr>\n",
       "    <tr>\n",
       "      <th>4</th>\n",
       "      <td>Microsoft Azure_Nvidia H100_1000.0</td>\n",
       "      <td>OpenAI_Nvidia A100_300.0</td>\n",
       "      <td>-0.0025</td>\n",
       "      <td>0.0002</td>\n",
       "      <td>-0.0041</td>\n",
       "      <td>-0.0008</td>\n",
       "      <td>True</td>\n",
       "    </tr>\n",
       "    <tr>\n",
       "      <th>5</th>\n",
       "      <td>Microsoft Azure_Nvidia H100_1000.0</td>\n",
       "      <td>OpenAI_Nvidia H100_1000.0</td>\n",
       "      <td>0.0024</td>\n",
       "      <td>0.0003</td>\n",
       "      <td>0.0008</td>\n",
       "      <td>0.0041</td>\n",
       "      <td>True</td>\n",
       "    </tr>\n",
       "    <tr>\n",
       "      <th>6</th>\n",
       "      <td>Microsoft Azure_Nvidia H100_1000.0</td>\n",
       "      <td>OpenAI_Nvidia H100_1500.0</td>\n",
       "      <td>0.0052</td>\n",
       "      <td>0.0000</td>\n",
       "      <td>0.0035</td>\n",
       "      <td>0.0068</td>\n",
       "      <td>True</td>\n",
       "    </tr>\n",
       "    <tr>\n",
       "      <th>7</th>\n",
       "      <td>Microsoft Azure_Nvidia H100_1000.0</td>\n",
       "      <td>OpenAI_Nvidia H100_300.0</td>\n",
       "      <td>-0.0025</td>\n",
       "      <td>0.0002</td>\n",
       "      <td>-0.0041</td>\n",
       "      <td>-0.0008</td>\n",
       "      <td>True</td>\n",
       "    </tr>\n",
       "    <tr>\n",
       "      <th>8</th>\n",
       "      <td>Microsoft Azure_Nvidia H100_1500.0</td>\n",
       "      <td>Microsoft Azure_Nvidia H100_300.0</td>\n",
       "      <td>-0.0061</td>\n",
       "      <td>0.0000</td>\n",
       "      <td>-0.0078</td>\n",
       "      <td>-0.0045</td>\n",
       "      <td>True</td>\n",
       "    </tr>\n",
       "    <tr>\n",
       "      <th>9</th>\n",
       "      <td>Microsoft Azure_Nvidia H100_1500.0</td>\n",
       "      <td>OpenAI_Nvidia A100_1000.0</td>\n",
       "      <td>-0.0009</td>\n",
       "      <td>0.6820</td>\n",
       "      <td>-0.0026</td>\n",
       "      <td>0.0007</td>\n",
       "      <td>False</td>\n",
       "    </tr>\n",
       "    <tr>\n",
       "      <th>10</th>\n",
       "      <td>Microsoft Azure_Nvidia H100_1500.0</td>\n",
       "      <td>OpenAI_Nvidia A100_1500.0</td>\n",
       "      <td>0.0018</td>\n",
       "      <td>0.0170</td>\n",
       "      <td>0.0002</td>\n",
       "      <td>0.0035</td>\n",
       "      <td>True</td>\n",
       "    </tr>\n",
       "    <tr>\n",
       "      <th>11</th>\n",
       "      <td>Microsoft Azure_Nvidia H100_1500.0</td>\n",
       "      <td>OpenAI_Nvidia A100_300.0</td>\n",
       "      <td>-0.0058</td>\n",
       "      <td>0.0000</td>\n",
       "      <td>-0.0075</td>\n",
       "      <td>-0.0042</td>\n",
       "      <td>True</td>\n",
       "    </tr>\n",
       "    <tr>\n",
       "      <th>12</th>\n",
       "      <td>Microsoft Azure_Nvidia H100_1500.0</td>\n",
       "      <td>OpenAI_Nvidia H100_1000.0</td>\n",
       "      <td>-0.0010</td>\n",
       "      <td>0.6710</td>\n",
       "      <td>-0.0026</td>\n",
       "      <td>0.0007</td>\n",
       "      <td>False</td>\n",
       "    </tr>\n",
       "    <tr>\n",
       "      <th>13</th>\n",
       "      <td>Microsoft Azure_Nvidia H100_1500.0</td>\n",
       "      <td>OpenAI_Nvidia H100_1500.0</td>\n",
       "      <td>0.0018</td>\n",
       "      <td>0.0184</td>\n",
       "      <td>0.0002</td>\n",
       "      <td>0.0035</td>\n",
       "      <td>True</td>\n",
       "    </tr>\n",
       "    <tr>\n",
       "      <th>14</th>\n",
       "      <td>Microsoft Azure_Nvidia H100_1500.0</td>\n",
       "      <td>OpenAI_Nvidia H100_300.0</td>\n",
       "      <td>-0.0058</td>\n",
       "      <td>0.0000</td>\n",
       "      <td>-0.0075</td>\n",
       "      <td>-0.0042</td>\n",
       "      <td>True</td>\n",
       "    </tr>\n",
       "    <tr>\n",
       "      <th>15</th>\n",
       "      <td>Microsoft Azure_Nvidia H100_300.0</td>\n",
       "      <td>OpenAI_Nvidia A100_1000.0</td>\n",
       "      <td>0.0052</td>\n",
       "      <td>0.0000</td>\n",
       "      <td>0.0035</td>\n",
       "      <td>0.0068</td>\n",
       "      <td>True</td>\n",
       "    </tr>\n",
       "    <tr>\n",
       "      <th>16</th>\n",
       "      <td>Microsoft Azure_Nvidia H100_300.0</td>\n",
       "      <td>OpenAI_Nvidia A100_1500.0</td>\n",
       "      <td>0.0080</td>\n",
       "      <td>0.0000</td>\n",
       "      <td>0.0063</td>\n",
       "      <td>0.0096</td>\n",
       "      <td>True</td>\n",
       "    </tr>\n",
       "    <tr>\n",
       "      <th>17</th>\n",
       "      <td>Microsoft Azure_Nvidia H100_300.0</td>\n",
       "      <td>OpenAI_Nvidia A100_300.0</td>\n",
       "      <td>0.0003</td>\n",
       "      <td>0.9997</td>\n",
       "      <td>-0.0013</td>\n",
       "      <td>0.0020</td>\n",
       "      <td>False</td>\n",
       "    </tr>\n",
       "    <tr>\n",
       "      <th>18</th>\n",
       "      <td>Microsoft Azure_Nvidia H100_300.0</td>\n",
       "      <td>OpenAI_Nvidia H100_1000.0</td>\n",
       "      <td>0.0052</td>\n",
       "      <td>0.0000</td>\n",
       "      <td>0.0035</td>\n",
       "      <td>0.0068</td>\n",
       "      <td>True</td>\n",
       "    </tr>\n",
       "    <tr>\n",
       "      <th>19</th>\n",
       "      <td>Microsoft Azure_Nvidia H100_300.0</td>\n",
       "      <td>OpenAI_Nvidia H100_1500.0</td>\n",
       "      <td>0.0080</td>\n",
       "      <td>0.0000</td>\n",
       "      <td>0.0063</td>\n",
       "      <td>0.0096</td>\n",
       "      <td>True</td>\n",
       "    </tr>\n",
       "    <tr>\n",
       "      <th>20</th>\n",
       "      <td>Microsoft Azure_Nvidia H100_300.0</td>\n",
       "      <td>OpenAI_Nvidia H100_300.0</td>\n",
       "      <td>0.0003</td>\n",
       "      <td>0.9997</td>\n",
       "      <td>-0.0013</td>\n",
       "      <td>0.0020</td>\n",
       "      <td>False</td>\n",
       "    </tr>\n",
       "    <tr>\n",
       "      <th>21</th>\n",
       "      <td>OpenAI_Nvidia A100_1000.0</td>\n",
       "      <td>OpenAI_Nvidia A100_1500.0</td>\n",
       "      <td>0.0028</td>\n",
       "      <td>0.0000</td>\n",
       "      <td>0.0011</td>\n",
       "      <td>0.0044</td>\n",
       "      <td>True</td>\n",
       "    </tr>\n",
       "    <tr>\n",
       "      <th>22</th>\n",
       "      <td>OpenAI_Nvidia A100_1000.0</td>\n",
       "      <td>OpenAI_Nvidia A100_300.0</td>\n",
       "      <td>-0.0049</td>\n",
       "      <td>0.0000</td>\n",
       "      <td>-0.0065</td>\n",
       "      <td>-0.0032</td>\n",
       "      <td>True</td>\n",
       "    </tr>\n",
       "    <tr>\n",
       "      <th>23</th>\n",
       "      <td>OpenAI_Nvidia A100_1000.0</td>\n",
       "      <td>OpenAI_Nvidia H100_1000.0</td>\n",
       "      <td>-0.0000</td>\n",
       "      <td>1.0000</td>\n",
       "      <td>-0.0017</td>\n",
       "      <td>0.0016</td>\n",
       "      <td>False</td>\n",
       "    </tr>\n",
       "    <tr>\n",
       "      <th>24</th>\n",
       "      <td>OpenAI_Nvidia A100_1000.0</td>\n",
       "      <td>OpenAI_Nvidia H100_1500.0</td>\n",
       "      <td>0.0028</td>\n",
       "      <td>0.0000</td>\n",
       "      <td>0.0011</td>\n",
       "      <td>0.0044</td>\n",
       "      <td>True</td>\n",
       "    </tr>\n",
       "    <tr>\n",
       "      <th>25</th>\n",
       "      <td>OpenAI_Nvidia A100_1000.0</td>\n",
       "      <td>OpenAI_Nvidia H100_300.0</td>\n",
       "      <td>-0.0049</td>\n",
       "      <td>0.0000</td>\n",
       "      <td>-0.0065</td>\n",
       "      <td>-0.0032</td>\n",
       "      <td>True</td>\n",
       "    </tr>\n",
       "    <tr>\n",
       "      <th>26</th>\n",
       "      <td>OpenAI_Nvidia A100_1500.0</td>\n",
       "      <td>OpenAI_Nvidia A100_300.0</td>\n",
       "      <td>-0.0077</td>\n",
       "      <td>0.0000</td>\n",
       "      <td>-0.0093</td>\n",
       "      <td>-0.0060</td>\n",
       "      <td>True</td>\n",
       "    </tr>\n",
       "    <tr>\n",
       "      <th>27</th>\n",
       "      <td>OpenAI_Nvidia A100_1500.0</td>\n",
       "      <td>OpenAI_Nvidia H100_1000.0</td>\n",
       "      <td>-0.0028</td>\n",
       "      <td>0.0000</td>\n",
       "      <td>-0.0044</td>\n",
       "      <td>-0.0011</td>\n",
       "      <td>True</td>\n",
       "    </tr>\n",
       "    <tr>\n",
       "      <th>28</th>\n",
       "      <td>OpenAI_Nvidia A100_1500.0</td>\n",
       "      <td>OpenAI_Nvidia H100_1500.0</td>\n",
       "      <td>-0.0000</td>\n",
       "      <td>1.0000</td>\n",
       "      <td>-0.0017</td>\n",
       "      <td>0.0016</td>\n",
       "      <td>False</td>\n",
       "    </tr>\n",
       "    <tr>\n",
       "      <th>29</th>\n",
       "      <td>OpenAI_Nvidia A100_1500.0</td>\n",
       "      <td>OpenAI_Nvidia H100_300.0</td>\n",
       "      <td>-0.0077</td>\n",
       "      <td>0.0000</td>\n",
       "      <td>-0.0093</td>\n",
       "      <td>-0.0060</td>\n",
       "      <td>True</td>\n",
       "    </tr>\n",
       "    <tr>\n",
       "      <th>30</th>\n",
       "      <td>OpenAI_Nvidia A100_300.0</td>\n",
       "      <td>OpenAI_Nvidia H100_1000.0</td>\n",
       "      <td>0.0049</td>\n",
       "      <td>0.0000</td>\n",
       "      <td>0.0032</td>\n",
       "      <td>0.0065</td>\n",
       "      <td>True</td>\n",
       "    </tr>\n",
       "    <tr>\n",
       "      <th>31</th>\n",
       "      <td>OpenAI_Nvidia A100_300.0</td>\n",
       "      <td>OpenAI_Nvidia H100_1500.0</td>\n",
       "      <td>0.0077</td>\n",
       "      <td>0.0000</td>\n",
       "      <td>0.0060</td>\n",
       "      <td>0.0093</td>\n",
       "      <td>True</td>\n",
       "    </tr>\n",
       "    <tr>\n",
       "      <th>32</th>\n",
       "      <td>OpenAI_Nvidia A100_300.0</td>\n",
       "      <td>OpenAI_Nvidia H100_300.0</td>\n",
       "      <td>-0.0000</td>\n",
       "      <td>1.0000</td>\n",
       "      <td>-0.0017</td>\n",
       "      <td>0.0016</td>\n",
       "      <td>False</td>\n",
       "    </tr>\n",
       "    <tr>\n",
       "      <th>33</th>\n",
       "      <td>OpenAI_Nvidia H100_1000.0</td>\n",
       "      <td>OpenAI_Nvidia H100_1500.0</td>\n",
       "      <td>0.0028</td>\n",
       "      <td>0.0000</td>\n",
       "      <td>0.0011</td>\n",
       "      <td>0.0044</td>\n",
       "      <td>True</td>\n",
       "    </tr>\n",
       "    <tr>\n",
       "      <th>34</th>\n",
       "      <td>OpenAI_Nvidia H100_1000.0</td>\n",
       "      <td>OpenAI_Nvidia H100_300.0</td>\n",
       "      <td>-0.0049</td>\n",
       "      <td>0.0000</td>\n",
       "      <td>-0.0065</td>\n",
       "      <td>-0.0032</td>\n",
       "      <td>True</td>\n",
       "    </tr>\n",
       "    <tr>\n",
       "      <th>35</th>\n",
       "      <td>OpenAI_Nvidia H100_1500.0</td>\n",
       "      <td>OpenAI_Nvidia H100_300.0</td>\n",
       "      <td>-0.0077</td>\n",
       "      <td>0.0000</td>\n",
       "      <td>-0.0093</td>\n",
       "      <td>-0.0060</td>\n",
       "      <td>True</td>\n",
       "    </tr>\n",
       "  </tbody>\n",
       "</table>\n",
       "</div>"
      ],
      "text/plain": [
       "                                group1                              group2  \\\n",
       "0   Microsoft Azure_Nvidia H100_1000.0  Microsoft Azure_Nvidia H100_1500.0   \n",
       "1   Microsoft Azure_Nvidia H100_1000.0   Microsoft Azure_Nvidia H100_300.0   \n",
       "2   Microsoft Azure_Nvidia H100_1000.0           OpenAI_Nvidia A100_1000.0   \n",
       "3   Microsoft Azure_Nvidia H100_1000.0           OpenAI_Nvidia A100_1500.0   \n",
       "4   Microsoft Azure_Nvidia H100_1000.0            OpenAI_Nvidia A100_300.0   \n",
       "5   Microsoft Azure_Nvidia H100_1000.0           OpenAI_Nvidia H100_1000.0   \n",
       "6   Microsoft Azure_Nvidia H100_1000.0           OpenAI_Nvidia H100_1500.0   \n",
       "7   Microsoft Azure_Nvidia H100_1000.0            OpenAI_Nvidia H100_300.0   \n",
       "8   Microsoft Azure_Nvidia H100_1500.0   Microsoft Azure_Nvidia H100_300.0   \n",
       "9   Microsoft Azure_Nvidia H100_1500.0           OpenAI_Nvidia A100_1000.0   \n",
       "10  Microsoft Azure_Nvidia H100_1500.0           OpenAI_Nvidia A100_1500.0   \n",
       "11  Microsoft Azure_Nvidia H100_1500.0            OpenAI_Nvidia A100_300.0   \n",
       "12  Microsoft Azure_Nvidia H100_1500.0           OpenAI_Nvidia H100_1000.0   \n",
       "13  Microsoft Azure_Nvidia H100_1500.0           OpenAI_Nvidia H100_1500.0   \n",
       "14  Microsoft Azure_Nvidia H100_1500.0            OpenAI_Nvidia H100_300.0   \n",
       "15   Microsoft Azure_Nvidia H100_300.0           OpenAI_Nvidia A100_1000.0   \n",
       "16   Microsoft Azure_Nvidia H100_300.0           OpenAI_Nvidia A100_1500.0   \n",
       "17   Microsoft Azure_Nvidia H100_300.0            OpenAI_Nvidia A100_300.0   \n",
       "18   Microsoft Azure_Nvidia H100_300.0           OpenAI_Nvidia H100_1000.0   \n",
       "19   Microsoft Azure_Nvidia H100_300.0           OpenAI_Nvidia H100_1500.0   \n",
       "20   Microsoft Azure_Nvidia H100_300.0            OpenAI_Nvidia H100_300.0   \n",
       "21           OpenAI_Nvidia A100_1000.0           OpenAI_Nvidia A100_1500.0   \n",
       "22           OpenAI_Nvidia A100_1000.0            OpenAI_Nvidia A100_300.0   \n",
       "23           OpenAI_Nvidia A100_1000.0           OpenAI_Nvidia H100_1000.0   \n",
       "24           OpenAI_Nvidia A100_1000.0           OpenAI_Nvidia H100_1500.0   \n",
       "25           OpenAI_Nvidia A100_1000.0            OpenAI_Nvidia H100_300.0   \n",
       "26           OpenAI_Nvidia A100_1500.0            OpenAI_Nvidia A100_300.0   \n",
       "27           OpenAI_Nvidia A100_1500.0           OpenAI_Nvidia H100_1000.0   \n",
       "28           OpenAI_Nvidia A100_1500.0           OpenAI_Nvidia H100_1500.0   \n",
       "29           OpenAI_Nvidia A100_1500.0            OpenAI_Nvidia H100_300.0   \n",
       "30            OpenAI_Nvidia A100_300.0           OpenAI_Nvidia H100_1000.0   \n",
       "31            OpenAI_Nvidia A100_300.0           OpenAI_Nvidia H100_1500.0   \n",
       "32            OpenAI_Nvidia A100_300.0            OpenAI_Nvidia H100_300.0   \n",
       "33           OpenAI_Nvidia H100_1000.0           OpenAI_Nvidia H100_1500.0   \n",
       "34           OpenAI_Nvidia H100_1000.0            OpenAI_Nvidia H100_300.0   \n",
       "35           OpenAI_Nvidia H100_1500.0            OpenAI_Nvidia H100_300.0   \n",
       "\n",
       "    meandiff   p-adj   lower   upper  reject  \n",
       "0     0.0034  0.0000  0.0017  0.0050    True  \n",
       "1    -0.0028  0.0000 -0.0044 -0.0011    True  \n",
       "2     0.0024  0.0003  0.0008  0.0041    True  \n",
       "3     0.0052  0.0000  0.0035  0.0068    True  \n",
       "4    -0.0025  0.0002 -0.0041 -0.0008    True  \n",
       "5     0.0024  0.0003  0.0008  0.0041    True  \n",
       "6     0.0052  0.0000  0.0035  0.0068    True  \n",
       "7    -0.0025  0.0002 -0.0041 -0.0008    True  \n",
       "8    -0.0061  0.0000 -0.0078 -0.0045    True  \n",
       "9    -0.0009  0.6820 -0.0026  0.0007   False  \n",
       "10    0.0018  0.0170  0.0002  0.0035    True  \n",
       "11   -0.0058  0.0000 -0.0075 -0.0042    True  \n",
       "12   -0.0010  0.6710 -0.0026  0.0007   False  \n",
       "13    0.0018  0.0184  0.0002  0.0035    True  \n",
       "14   -0.0058  0.0000 -0.0075 -0.0042    True  \n",
       "15    0.0052  0.0000  0.0035  0.0068    True  \n",
       "16    0.0080  0.0000  0.0063  0.0096    True  \n",
       "17    0.0003  0.9997 -0.0013  0.0020   False  \n",
       "18    0.0052  0.0000  0.0035  0.0068    True  \n",
       "19    0.0080  0.0000  0.0063  0.0096    True  \n",
       "20    0.0003  0.9997 -0.0013  0.0020   False  \n",
       "21    0.0028  0.0000  0.0011  0.0044    True  \n",
       "22   -0.0049  0.0000 -0.0065 -0.0032    True  \n",
       "23   -0.0000  1.0000 -0.0017  0.0016   False  \n",
       "24    0.0028  0.0000  0.0011  0.0044    True  \n",
       "25   -0.0049  0.0000 -0.0065 -0.0032    True  \n",
       "26   -0.0077  0.0000 -0.0093 -0.0060    True  \n",
       "27   -0.0028  0.0000 -0.0044 -0.0011    True  \n",
       "28   -0.0000  1.0000 -0.0017  0.0016   False  \n",
       "29   -0.0077  0.0000 -0.0093 -0.0060    True  \n",
       "30    0.0049  0.0000  0.0032  0.0065    True  \n",
       "31    0.0077  0.0000  0.0060  0.0093    True  \n",
       "32   -0.0000  1.0000 -0.0017  0.0016   False  \n",
       "33    0.0028  0.0000  0.0011  0.0044    True  \n",
       "34   -0.0049  0.0000 -0.0065 -0.0032    True  \n",
       "35   -0.0077  0.0000 -0.0093 -0.0060    True  "
      ]
     },
     "metadata": {},
     "output_type": "display_data"
    }
   ],
   "source": [
    "\n",
    "df_4turbo_clean= df.loc[df['Model'].str.contains('GPT-4 Turbo'),:]\n",
    "\n",
    "df_4turbo_clean.rename(columns={\n",
    "    'API Provider': 'API_Provider',\n",
    "    'GPUs Used': 'GPUs_Used',\n",
    "    'Output Token Size': 'Output_Size',\n",
    "    'Score': 'Energy'\n",
    "}, inplace=True)\n",
    "\n",
    "# 3. Create composite 'Group' factor and convert Output_Size to categorical\n",
    "df_4turbo_clean['Group'] = df_4turbo_clean['API_Provider'] + \"_\" + df_4turbo_clean['GPUs_Used']\n",
    "df_4turbo_clean['Output_Size'] = df_4turbo_clean['Output_Size'].astype('category')\n",
    "display(df_4turbo_clean[['API_Provider', 'GPUs_Used', 'Output_Size', 'Energy']].head())\n",
    "\n",
    "# 4. Check number of observations per cell\n",
    "counts = df_4turbo_clean.groupby(['Group', 'Output_Size']).size().reset_index(name='n')\n",
    "display(counts)\n",
    "\n",
    "# 5. Fit the two-way ANOVA with interaction: Group × Output_Size\n",
    "model = ols('Energy ~ C(Group) * C(Output_Size)', data=df_4turbo_clean).fit()\n",
    "anova_table = sm.stats.anova_lm(model, typ=2)\n",
    "display(anova_table)\n",
    "\n",
    "# 6. Post-hoc Tukey HSD for pairwise comparisons across all cells\n",
    "df_4turbo_clean['Cell'] = df_4turbo_clean['Group'] + \"_\" + df_4turbo_clean['Output_Size'].astype(str)\n",
    "tukey_4turbo = pairwise_tukeyhsd(endog=df_4turbo_clean['Energy'], groups=df_4turbo_clean['Cell'], alpha=0.05)\n",
    "tukey_df_4turbo = pd.DataFrame(data=tukey_4turbo.summary().data[1:], columns=tukey_4turbo.summary().data[0])\n",
    "display(tukey_df_4turbo)"
   ]
  },
  {
   "cell_type": "code",
   "execution_count": null,
   "metadata": {},
   "outputs": [],
   "source": [
    "tukey_df_4turbo= tukey_df_4turbo[tukey_df_4turbo[\"group1\"].astype(str).str.split(\"_\").str[-1]==tukey_df_4turbo[\"group2\"].astype(str).str.split(\"_\").str[-1]]\n",
    "def extract_output_size(name):\n",
    "    return name.split(\"_\")[-1]\n",
    "\n",
    "tukey_df_4turbo[\"output_size\"] = tukey_df_4turbo[\"group1\"].apply(extract_output_size)\n",
    "\n",
    "tukey_df_4turbo[\"g1_clean\"] = tukey_df_4turbo[\"group1\"].apply(lambda x: \"_\".join(x.split(\"_\")[:-1]))\n",
    "tukey_df_4turbo[\"g2_clean\"] = tukey_df_4turbo[\"group2\"].apply(lambda x: \"_\".join(x.split(\"_\")[:-1]))\n",
    "\n",
    "tukey_df_4turbo[\"result\"] = tukey_df_4turbo[\"reject\"].map({True: \"Reject\", False: \"Not Reject\"})\n",
    "\n",
    "pivot_df_4turbo = tukey_df_4turbo.pivot_table(\n",
    "    index=[\"g1_clean\", \"g2_clean\"],\n",
    "    columns=\"output_size\",\n",
    "    values=\"result\",\n",
    "    aggfunc=\"first\"\n",
    ").reset_index()\n",
    "\n",
    "pivot_df_4turbo.columns.name = None\n",
    "pivot_df_4turbo.rename(columns={\"g1_clean\": \"Group 1\", \"g2_clean\": \"Group 2\"}, inplace=True)"
   ]
  },
  {
   "cell_type": "code",
   "execution_count": 79,
   "metadata": {},
   "outputs": [],
   "source": [
    "tukey_df_4omini[\"groupcombined\"]=tukey_df_4omini[\"group1\"]+tukey_df_4omini[\"group2\"]"
   ]
  },
  {
   "cell_type": "code",
   "execution_count": 81,
   "metadata": {},
   "outputs": [
    {
     "data": {
      "text/html": [
       "<div>\n",
       "<style scoped>\n",
       "    .dataframe tbody tr th:only-of-type {\n",
       "        vertical-align: middle;\n",
       "    }\n",
       "\n",
       "    .dataframe tbody tr th {\n",
       "        vertical-align: top;\n",
       "    }\n",
       "\n",
       "    .dataframe thead th {\n",
       "        text-align: right;\n",
       "    }\n",
       "</style>\n",
       "<table border=\"1\" class=\"dataframe\">\n",
       "  <thead>\n",
       "    <tr style=\"text-align: right;\">\n",
       "      <th></th>\n",
       "      <th>group1</th>\n",
       "      <th>group2</th>\n",
       "      <th>meandiff</th>\n",
       "      <th>p-adj</th>\n",
       "      <th>lower</th>\n",
       "      <th>upper</th>\n",
       "      <th>reject</th>\n",
       "      <th>output_size</th>\n",
       "      <th>g1_clean</th>\n",
       "      <th>g2_clean</th>\n",
       "      <th>result</th>\n",
       "      <th>groupcombined</th>\n",
       "    </tr>\n",
       "  </thead>\n",
       "  <tbody>\n",
       "    <tr>\n",
       "      <th>2</th>\n",
       "      <td>Microsoft Azure_Nvidia H100_1000.0</td>\n",
       "      <td>OpenAI_Nvidia A100_1000.0</td>\n",
       "      <td>0.0004</td>\n",
       "      <td>0.0009</td>\n",
       "      <td>0.0001</td>\n",
       "      <td>0.0007</td>\n",
       "      <td>True</td>\n",
       "      <td>1000.0</td>\n",
       "      <td>Microsoft Azure_Nvidia H100</td>\n",
       "      <td>OpenAI_Nvidia A100</td>\n",
       "      <td>Reject</td>\n",
       "      <td>Microsoft Azure_Nvidia H100_1000.0OpenAI_Nvidi...</td>\n",
       "    </tr>\n",
       "    <tr>\n",
       "      <th>5</th>\n",
       "      <td>Microsoft Azure_Nvidia H100_1000.0</td>\n",
       "      <td>OpenAI_Nvidia H100_1000.0</td>\n",
       "      <td>0.0004</td>\n",
       "      <td>0.0001</td>\n",
       "      <td>0.0002</td>\n",
       "      <td>0.0007</td>\n",
       "      <td>True</td>\n",
       "      <td>1000.0</td>\n",
       "      <td>Microsoft Azure_Nvidia H100</td>\n",
       "      <td>OpenAI_Nvidia H100</td>\n",
       "      <td>Reject</td>\n",
       "      <td>Microsoft Azure_Nvidia H100_1000.0OpenAI_Nvidi...</td>\n",
       "    </tr>\n",
       "    <tr>\n",
       "      <th>10</th>\n",
       "      <td>Microsoft Azure_Nvidia H100_1500.0</td>\n",
       "      <td>OpenAI_Nvidia A100_1500.0</td>\n",
       "      <td>0.0008</td>\n",
       "      <td>0.0000</td>\n",
       "      <td>0.0005</td>\n",
       "      <td>0.0011</td>\n",
       "      <td>True</td>\n",
       "      <td>1500.0</td>\n",
       "      <td>Microsoft Azure_Nvidia H100</td>\n",
       "      <td>OpenAI_Nvidia A100</td>\n",
       "      <td>Reject</td>\n",
       "      <td>Microsoft Azure_Nvidia H100_1500.0OpenAI_Nvidi...</td>\n",
       "    </tr>\n",
       "    <tr>\n",
       "      <th>13</th>\n",
       "      <td>Microsoft Azure_Nvidia H100_1500.0</td>\n",
       "      <td>OpenAI_Nvidia H100_1500.0</td>\n",
       "      <td>0.0009</td>\n",
       "      <td>0.0000</td>\n",
       "      <td>0.0006</td>\n",
       "      <td>0.0012</td>\n",
       "      <td>True</td>\n",
       "      <td>1500.0</td>\n",
       "      <td>Microsoft Azure_Nvidia H100</td>\n",
       "      <td>OpenAI_Nvidia H100</td>\n",
       "      <td>Reject</td>\n",
       "      <td>Microsoft Azure_Nvidia H100_1500.0OpenAI_Nvidi...</td>\n",
       "    </tr>\n",
       "    <tr>\n",
       "      <th>17</th>\n",
       "      <td>Microsoft Azure_Nvidia H100_300.0</td>\n",
       "      <td>OpenAI_Nvidia A100_300.0</td>\n",
       "      <td>0.0001</td>\n",
       "      <td>0.9790</td>\n",
       "      <td>-0.0002</td>\n",
       "      <td>0.0004</td>\n",
       "      <td>False</td>\n",
       "      <td>300.0</td>\n",
       "      <td>Microsoft Azure_Nvidia H100</td>\n",
       "      <td>OpenAI_Nvidia A100</td>\n",
       "      <td>Not Reject</td>\n",
       "      <td>Microsoft Azure_Nvidia H100_300.0OpenAI_Nvidia...</td>\n",
       "    </tr>\n",
       "    <tr>\n",
       "      <th>20</th>\n",
       "      <td>Microsoft Azure_Nvidia H100_300.0</td>\n",
       "      <td>OpenAI_Nvidia H100_300.0</td>\n",
       "      <td>0.0001</td>\n",
       "      <td>0.9510</td>\n",
       "      <td>-0.0002</td>\n",
       "      <td>0.0004</td>\n",
       "      <td>False</td>\n",
       "      <td>300.0</td>\n",
       "      <td>Microsoft Azure_Nvidia H100</td>\n",
       "      <td>OpenAI_Nvidia H100</td>\n",
       "      <td>Not Reject</td>\n",
       "      <td>Microsoft Azure_Nvidia H100_300.0OpenAI_Nvidia...</td>\n",
       "    </tr>\n",
       "    <tr>\n",
       "      <th>23</th>\n",
       "      <td>OpenAI_Nvidia A100_1000.0</td>\n",
       "      <td>OpenAI_Nvidia H100_1000.0</td>\n",
       "      <td>0.0000</td>\n",
       "      <td>0.9998</td>\n",
       "      <td>-0.0002</td>\n",
       "      <td>0.0003</td>\n",
       "      <td>False</td>\n",
       "      <td>1000.0</td>\n",
       "      <td>OpenAI_Nvidia A100</td>\n",
       "      <td>OpenAI_Nvidia H100</td>\n",
       "      <td>Not Reject</td>\n",
       "      <td>OpenAI_Nvidia A100_1000.0OpenAI_Nvidia H100_10...</td>\n",
       "    </tr>\n",
       "    <tr>\n",
       "      <th>28</th>\n",
       "      <td>OpenAI_Nvidia A100_1500.0</td>\n",
       "      <td>OpenAI_Nvidia H100_1500.0</td>\n",
       "      <td>0.0001</td>\n",
       "      <td>0.9968</td>\n",
       "      <td>-0.0002</td>\n",
       "      <td>0.0004</td>\n",
       "      <td>False</td>\n",
       "      <td>1500.0</td>\n",
       "      <td>OpenAI_Nvidia A100</td>\n",
       "      <td>OpenAI_Nvidia H100</td>\n",
       "      <td>Not Reject</td>\n",
       "      <td>OpenAI_Nvidia A100_1500.0OpenAI_Nvidia H100_15...</td>\n",
       "    </tr>\n",
       "    <tr>\n",
       "      <th>32</th>\n",
       "      <td>OpenAI_Nvidia A100_300.0</td>\n",
       "      <td>OpenAI_Nvidia H100_300.0</td>\n",
       "      <td>0.0000</td>\n",
       "      <td>1.0000</td>\n",
       "      <td>-0.0003</td>\n",
       "      <td>0.0003</td>\n",
       "      <td>False</td>\n",
       "      <td>300.0</td>\n",
       "      <td>OpenAI_Nvidia A100</td>\n",
       "      <td>OpenAI_Nvidia H100</td>\n",
       "      <td>Not Reject</td>\n",
       "      <td>OpenAI_Nvidia A100_300.0OpenAI_Nvidia H100_300.0</td>\n",
       "    </tr>\n",
       "  </tbody>\n",
       "</table>\n",
       "</div>"
      ],
      "text/plain": [
       "                                group1                     group2  meandiff  \\\n",
       "2   Microsoft Azure_Nvidia H100_1000.0  OpenAI_Nvidia A100_1000.0    0.0004   \n",
       "5   Microsoft Azure_Nvidia H100_1000.0  OpenAI_Nvidia H100_1000.0    0.0004   \n",
       "10  Microsoft Azure_Nvidia H100_1500.0  OpenAI_Nvidia A100_1500.0    0.0008   \n",
       "13  Microsoft Azure_Nvidia H100_1500.0  OpenAI_Nvidia H100_1500.0    0.0009   \n",
       "17   Microsoft Azure_Nvidia H100_300.0   OpenAI_Nvidia A100_300.0    0.0001   \n",
       "20   Microsoft Azure_Nvidia H100_300.0   OpenAI_Nvidia H100_300.0    0.0001   \n",
       "23           OpenAI_Nvidia A100_1000.0  OpenAI_Nvidia H100_1000.0    0.0000   \n",
       "28           OpenAI_Nvidia A100_1500.0  OpenAI_Nvidia H100_1500.0    0.0001   \n",
       "32            OpenAI_Nvidia A100_300.0   OpenAI_Nvidia H100_300.0    0.0000   \n",
       "\n",
       "     p-adj   lower   upper  reject output_size                     g1_clean  \\\n",
       "2   0.0009  0.0001  0.0007    True      1000.0  Microsoft Azure_Nvidia H100   \n",
       "5   0.0001  0.0002  0.0007    True      1000.0  Microsoft Azure_Nvidia H100   \n",
       "10  0.0000  0.0005  0.0011    True      1500.0  Microsoft Azure_Nvidia H100   \n",
       "13  0.0000  0.0006  0.0012    True      1500.0  Microsoft Azure_Nvidia H100   \n",
       "17  0.9790 -0.0002  0.0004   False       300.0  Microsoft Azure_Nvidia H100   \n",
       "20  0.9510 -0.0002  0.0004   False       300.0  Microsoft Azure_Nvidia H100   \n",
       "23  0.9998 -0.0002  0.0003   False      1000.0           OpenAI_Nvidia A100   \n",
       "28  0.9968 -0.0002  0.0004   False      1500.0           OpenAI_Nvidia A100   \n",
       "32  1.0000 -0.0003  0.0003   False       300.0           OpenAI_Nvidia A100   \n",
       "\n",
       "              g2_clean      result  \\\n",
       "2   OpenAI_Nvidia A100      Reject   \n",
       "5   OpenAI_Nvidia H100      Reject   \n",
       "10  OpenAI_Nvidia A100      Reject   \n",
       "13  OpenAI_Nvidia H100      Reject   \n",
       "17  OpenAI_Nvidia A100  Not Reject   \n",
       "20  OpenAI_Nvidia H100  Not Reject   \n",
       "23  OpenAI_Nvidia H100  Not Reject   \n",
       "28  OpenAI_Nvidia H100  Not Reject   \n",
       "32  OpenAI_Nvidia H100  Not Reject   \n",
       "\n",
       "                                        groupcombined  \n",
       "2   Microsoft Azure_Nvidia H100_1000.0OpenAI_Nvidi...  \n",
       "5   Microsoft Azure_Nvidia H100_1000.0OpenAI_Nvidi...  \n",
       "10  Microsoft Azure_Nvidia H100_1500.0OpenAI_Nvidi...  \n",
       "13  Microsoft Azure_Nvidia H100_1500.0OpenAI_Nvidi...  \n",
       "17  Microsoft Azure_Nvidia H100_300.0OpenAI_Nvidia...  \n",
       "20  Microsoft Azure_Nvidia H100_300.0OpenAI_Nvidia...  \n",
       "23  OpenAI_Nvidia A100_1000.0OpenAI_Nvidia H100_10...  \n",
       "28  OpenAI_Nvidia A100_1500.0OpenAI_Nvidia H100_15...  \n",
       "32   OpenAI_Nvidia A100_300.0OpenAI_Nvidia H100_300.0  "
      ]
     },
     "execution_count": 81,
     "metadata": {},
     "output_type": "execute_result"
    }
   ],
   "source": [
    "tukey_df_4omini"
   ]
  },
  {
   "cell_type": "code",
   "execution_count": 88,
   "metadata": {},
   "outputs": [
    {
     "data": {
      "text/plain": [
       "groupcombined\n",
       "Microsoft Azure_Nvidia H100OpenAI_Nvidia A100    0.326633\n",
       "Microsoft Azure_Nvidia H100OpenAI_Nvidia H100    0.317033\n",
       "OpenAI_Nvidia A100OpenAI_Nvidia H100             0.998867\n",
       "Name: p-adj, dtype: float64"
      ]
     },
     "execution_count": 88,
     "metadata": {},
     "output_type": "execute_result"
    }
   ],
   "source": [
    "tukey_df_4omini[\"groupcombined\"]=tukey_df_4omini[\"g1_clean\"]+tukey_df_4omini[\"g2_clean\"]\n",
    "tukey_df_4omini.groupby(\"groupcombined\")[\"p-adj\"].mean()\n"
   ]
  },
  {
   "cell_type": "code",
   "execution_count": null,
   "metadata": {},
   "outputs": [],
   "source": []
  }
 ],
 "metadata": {
  "kernelspec": {
   "display_name": "Python 3",
   "language": "python",
   "name": "python3"
  },
  "language_info": {
   "codemirror_mode": {
    "name": "ipython",
    "version": 3
   },
   "file_extension": ".py",
   "mimetype": "text/x-python",
   "name": "python",
   "nbconvert_exporter": "python",
   "pygments_lexer": "ipython3",
   "version": "3.9.6"
  }
 },
 "nbformat": 4,
 "nbformat_minor": 2
}
