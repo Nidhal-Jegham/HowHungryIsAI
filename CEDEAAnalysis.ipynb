{
 "cells": [
  {
   "cell_type": "code",
   "execution_count": 84,
   "metadata": {},
   "outputs": [],
   "source": [
    "import pandas as pd\n",
    "from scipy.optimize import linprog\n",
    "from sklearn.decomposition import PCA\n",
    "from sklearn.preprocessing import StandardScaler\n",
    "from sklearn.preprocessing import MinMaxScaler\n",
    "import numpy as np\n"
   ]
  },
  {
   "cell_type": "code",
   "execution_count": 85,
   "metadata": {},
   "outputs": [],
   "source": [
    "df = pd.read_csv(r'DEA.csv')\n",
    "\n",
    "\n",
    "\n"
   ]
  },
  {
   "cell_type": "code",
   "execution_count": 86,
   "metadata": {},
   "outputs": [],
   "source": [
    "input_cols_300 = [\n",
    "    'Mean Energy Consumption (300 Output Tokens)',\n",
    "    'PUE',\n",
    "    'WUE (Site)',\n",
    "    \"WUE (Source)\",\n",
    "    'CIF'\n",
    "]\n",
    "input_cols_1000 = [\n",
    "    'Mean Energy Consumption (1000 Output Tokens)',\n",
    "    'PUE',\n",
    "    'WUE (Site)',\n",
    "    \"WUE (Source)\",    'CIF'\n",
    "]\n",
    "input_cols_1500 = [\n",
    "    'Mean Energy Consumption (1500 Output Tokens)',\n",
    "    'PUE',\n",
    "    'WUE (Site)',\n",
    "    \"WUE (Source)\",    'CIF'\n",
    "]\n",
    "output_cols = [\n",
    "    'Score',\n",
    "\n",
    "]"
   ]
  },
  {
   "cell_type": "code",
   "execution_count": 87,
   "metadata": {},
   "outputs": [
    {
     "data": {
      "text/html": [
       "<div>\n",
       "<style scoped>\n",
       "    .dataframe tbody tr th:only-of-type {\n",
       "        vertical-align: middle;\n",
       "    }\n",
       "\n",
       "    .dataframe tbody tr th {\n",
       "        vertical-align: top;\n",
       "    }\n",
       "\n",
       "    .dataframe thead th {\n",
       "        text-align: right;\n",
       "    }\n",
       "</style>\n",
       "<table border=\"1\" class=\"dataframe\">\n",
       "  <thead>\n",
       "    <tr style=\"text-align: right;\">\n",
       "      <th></th>\n",
       "      <th>Model</th>\n",
       "      <th>Organization</th>\n",
       "      <th>API Provider</th>\n",
       "      <th>GPUs Used</th>\n",
       "      <th>System (DGX/HGX)</th>\n",
       "      <th>Critical Power (kW)</th>\n",
       "      <th>Idle Power</th>\n",
       "      <th>Utilization Rate (min)</th>\n",
       "      <th>Utilization Rate (max)</th>\n",
       "      <th>PUE</th>\n",
       "      <th>...</th>\n",
       "      <th>Mean Energy Consumption (300 Output Tokens)</th>\n",
       "      <th>Mean Energy Consumption (1000 Output Tokens)</th>\n",
       "      <th>Mean Energy Consumption (1500 Output Tokens)</th>\n",
       "      <th>Score</th>\n",
       "      <th>Min Mean (300 Output Tokens)</th>\n",
       "      <th>Max Mean (300 Output Tokens)</th>\n",
       "      <th>Min Mean (1k Output Tokens)</th>\n",
       "      <th>Max Mean (1k Output Tokens)</th>\n",
       "      <th>Min Mean (1.5k Output Tokens)</th>\n",
       "      <th>Max Mean (1.5k Output Tokens)</th>\n",
       "    </tr>\n",
       "  </thead>\n",
       "  <tbody>\n",
       "    <tr>\n",
       "      <th>0</th>\n",
       "      <td>GPT-4.1</td>\n",
       "      <td>OpenAI</td>\n",
       "      <td>OpenAI</td>\n",
       "      <td>Nvidia H200/H100</td>\n",
       "      <td>HGX H200/H100</td>\n",
       "      <td>10.2</td>\n",
       "      <td>1.84</td>\n",
       "      <td>20.00%</td>\n",
       "      <td>40.00%</td>\n",
       "      <td>1.12</td>\n",
       "      <td>...</td>\n",
       "      <td>0.000918</td>\n",
       "      <td>0.002513</td>\n",
       "      <td>0.004233</td>\n",
       "      <td>53</td>\n",
       "      <td>0.000841</td>\n",
       "      <td>0.000995</td>\n",
       "      <td>0.002302</td>\n",
       "      <td>0.002724</td>\n",
       "      <td>0.003877</td>\n",
       "      <td>0.004588</td>\n",
       "    </tr>\n",
       "    <tr>\n",
       "      <th>1</th>\n",
       "      <td>GPT-4.1 mini</td>\n",
       "      <td>OpenAI</td>\n",
       "      <td>OpenAI</td>\n",
       "      <td>Nvidia H200/H100</td>\n",
       "      <td>HGX H200/H100</td>\n",
       "      <td>10.2</td>\n",
       "      <td>1.84</td>\n",
       "      <td>10.00%</td>\n",
       "      <td>20.00%</td>\n",
       "      <td>1.12</td>\n",
       "      <td>...</td>\n",
       "      <td>0.000421</td>\n",
       "      <td>0.001680</td>\n",
       "      <td>0.001590</td>\n",
       "      <td>53</td>\n",
       "      <td>0.000371</td>\n",
       "      <td>0.000470</td>\n",
       "      <td>0.000748</td>\n",
       "      <td>0.000947</td>\n",
       "      <td>0.001404</td>\n",
       "      <td>0.001777</td>\n",
       "    </tr>\n",
       "    <tr>\n",
       "      <th>2</th>\n",
       "      <td>GPT-4.1 nano</td>\n",
       "      <td>OpenAI</td>\n",
       "      <td>OpenAI</td>\n",
       "      <td>Nvidia H200/H100</td>\n",
       "      <td>HGX H200/H100</td>\n",
       "      <td>10.2</td>\n",
       "      <td>1.84</td>\n",
       "      <td>10.00%</td>\n",
       "      <td>20.00%</td>\n",
       "      <td>1.12</td>\n",
       "      <td>...</td>\n",
       "      <td>0.000103</td>\n",
       "      <td>0.000559</td>\n",
       "      <td>0.000454</td>\n",
       "      <td>41</td>\n",
       "      <td>0.000091</td>\n",
       "      <td>0.000115</td>\n",
       "      <td>0.000239</td>\n",
       "      <td>0.000303</td>\n",
       "      <td>0.000401</td>\n",
       "      <td>0.000507</td>\n",
       "    </tr>\n",
       "    <tr>\n",
       "      <th>3</th>\n",
       "      <td>o4-mini (high)</td>\n",
       "      <td>OpenAI</td>\n",
       "      <td>OpenAI</td>\n",
       "      <td>Nvidia H200/H100</td>\n",
       "      <td>HGX H200/H100</td>\n",
       "      <td>10.2</td>\n",
       "      <td>1.84</td>\n",
       "      <td>10.00%</td>\n",
       "      <td>20.00%</td>\n",
       "      <td>1.12</td>\n",
       "      <td>...</td>\n",
       "      <td>0.002916</td>\n",
       "      <td>0.002655</td>\n",
       "      <td>0.005666</td>\n",
       "      <td>70</td>\n",
       "      <td>0.002574</td>\n",
       "      <td>0.003259</td>\n",
       "      <td>0.004447</td>\n",
       "      <td>0.005631</td>\n",
       "      <td>0.005000</td>\n",
       "      <td>0.006331</td>\n",
       "    </tr>\n",
       "    <tr>\n",
       "      <th>4</th>\n",
       "      <td>GPT-4.5</td>\n",
       "      <td>OpenAI</td>\n",
       "      <td>OpenAI</td>\n",
       "      <td>Nvidia H200/H100</td>\n",
       "      <td>HGX H200/H100</td>\n",
       "      <td>10.2</td>\n",
       "      <td>1.84</td>\n",
       "      <td>20.00%</td>\n",
       "      <td>40.00%</td>\n",
       "      <td>1.12</td>\n",
       "      <td>...</td>\n",
       "      <td>0.006723</td>\n",
       "      <td>0.012769</td>\n",
       "      <td>0.030495</td>\n",
       "      <td>51</td>\n",
       "      <td>0.006158</td>\n",
       "      <td>0.007287</td>\n",
       "      <td>0.018779</td>\n",
       "      <td>0.022220</td>\n",
       "      <td>0.027935</td>\n",
       "      <td>0.033055</td>\n",
       "    </tr>\n",
       "  </tbody>\n",
       "</table>\n",
       "<p>5 rows × 25 columns</p>\n",
       "</div>"
      ],
      "text/plain": [
       "            Model Organization API Provider         GPUs Used  \\\n",
       "0         GPT-4.1       OpenAI       OpenAI  Nvidia H200/H100   \n",
       "1    GPT-4.1 mini       OpenAI       OpenAI  Nvidia H200/H100   \n",
       "2    GPT-4.1 nano       OpenAI       OpenAI  Nvidia H200/H100   \n",
       "3  o4-mini (high)       OpenAI       OpenAI  Nvidia H200/H100   \n",
       "4         GPT-4.5       OpenAI       OpenAI  Nvidia H200/H100   \n",
       "\n",
       "  System (DGX/HGX)  Critical Power (kW)  Idle Power Utilization Rate (min)  \\\n",
       "0    HGX H200/H100                 10.2        1.84                 20.00%   \n",
       "1    HGX H200/H100                 10.2        1.84                 10.00%   \n",
       "2    HGX H200/H100                 10.2        1.84                 10.00%   \n",
       "3    HGX H200/H100                 10.2        1.84                 10.00%   \n",
       "4    HGX H200/H100                 10.2        1.84                 20.00%   \n",
       "\n",
       "  Utilization Rate (max)   PUE  ...  \\\n",
       "0                 40.00%  1.12  ...   \n",
       "1                 20.00%  1.12  ...   \n",
       "2                 20.00%  1.12  ...   \n",
       "3                 20.00%  1.12  ...   \n",
       "4                 40.00%  1.12  ...   \n",
       "\n",
       "   Mean Energy Consumption (300 Output Tokens)  \\\n",
       "0                                     0.000918   \n",
       "1                                     0.000421   \n",
       "2                                     0.000103   \n",
       "3                                     0.002916   \n",
       "4                                     0.006723   \n",
       "\n",
       "   Mean Energy Consumption (1000 Output Tokens)  \\\n",
       "0                                      0.002513   \n",
       "1                                      0.001680   \n",
       "2                                      0.000559   \n",
       "3                                      0.002655   \n",
       "4                                      0.012769   \n",
       "\n",
       "   Mean Energy Consumption (1500 Output Tokens)  Score  \\\n",
       "0                                      0.004233     53   \n",
       "1                                      0.001590     53   \n",
       "2                                      0.000454     41   \n",
       "3                                      0.005666     70   \n",
       "4                                      0.030495     51   \n",
       "\n",
       "   Min Mean (300 Output Tokens)  Max Mean (300 Output Tokens)  \\\n",
       "0                      0.000841                      0.000995   \n",
       "1                      0.000371                      0.000470   \n",
       "2                      0.000091                      0.000115   \n",
       "3                      0.002574                      0.003259   \n",
       "4                      0.006158                      0.007287   \n",
       "\n",
       "   Min Mean (1k Output Tokens)  Max Mean (1k Output Tokens)  \\\n",
       "0                     0.002302                     0.002724   \n",
       "1                     0.000748                     0.000947   \n",
       "2                     0.000239                     0.000303   \n",
       "3                     0.004447                     0.005631   \n",
       "4                     0.018779                     0.022220   \n",
       "\n",
       "   Min Mean (1.5k Output Tokens)  Max Mean (1.5k Output Tokens)  \n",
       "0                       0.003877                       0.004588  \n",
       "1                       0.001404                       0.001777  \n",
       "2                       0.000401                       0.000507  \n",
       "3                       0.005000                       0.006331  \n",
       "4                       0.027935                       0.033055  \n",
       "\n",
       "[5 rows x 25 columns]"
      ]
     },
     "execution_count": 87,
     "metadata": {},
     "output_type": "execute_result"
    }
   ],
   "source": [
    "\n",
    "df.head()"
   ]
  },
  {
   "cell_type": "code",
   "execution_count": 88,
   "metadata": {},
   "outputs": [
    {
     "data": {
      "text/plain": [
       "Model                                           0\n",
       "Organization                                    0\n",
       "API Provider                                    0\n",
       "GPUs Used                                       0\n",
       "System (DGX/HGX)                                0\n",
       "Critical Power (kW)                             0\n",
       "Idle Power                                      0\n",
       "Utilization Rate (min)                          0\n",
       "Utilization Rate (max)                          0\n",
       "PUE                                             0\n",
       "WUE (Site)                                      0\n",
       "WUE (Source)                                    0\n",
       "CIF                                             0\n",
       "Power Consumption per system (Min)(kW)          0\n",
       "Power Consumption per system (Max) (kW)         0\n",
       "Mean Energy Consumption (300 Output Tokens)     0\n",
       "Mean Energy Consumption (1000 Output Tokens)    0\n",
       "Mean Energy Consumption (1500 Output Tokens)    2\n",
       "Score                                           0\n",
       "Min Mean (300 Output Tokens)                    0\n",
       "Max Mean (300 Output Tokens)                    0\n",
       "Min Mean (1k Output Tokens)                     0\n",
       "Max Mean (1k Output Tokens)                     0\n",
       "Min Mean (1.5k Output Tokens)                   2\n",
       "Max Mean (1.5k Output Tokens)                   2\n",
       "dtype: int64"
      ]
     },
     "execution_count": 88,
     "metadata": {},
     "output_type": "execute_result"
    }
   ],
   "source": [
    "df.isna().sum()"
   ]
  },
  {
   "cell_type": "code",
   "execution_count": 89,
   "metadata": {},
   "outputs": [],
   "source": [
    "df.loc[df['Mean Energy Consumption (1500 Output Tokens)'] == '#DIV/0!', 'Mean Energy Consumption (1500 Output Tokens)'] = 0.0"
   ]
  },
  {
   "cell_type": "code",
   "execution_count": 90,
   "metadata": {},
   "outputs": [
    {
     "data": {
      "text/plain": [
       "27"
      ]
     },
     "execution_count": 90,
     "metadata": {},
     "output_type": "execute_result"
    }
   ],
   "source": [
    "len(df[input_cols_1000].dropna())"
   ]
  },
  {
   "cell_type": "code",
   "execution_count": 91,
   "metadata": {},
   "outputs": [],
   "source": [
    "\n",
    "def normalize_matrix(matrix):\n",
    "    scaler = MinMaxScaler()\n",
    "    return scaler.fit_transform(matrix)\n",
    "\n",
    "\n",
    "\n",
    "X_300 = df[input_cols_300].astype(float).values \n",
    "X_1000 = df[input_cols_1000].astype(float).values  \n",
    "X_1500 = df[input_cols_1500].dropna().astype(float).values  \n",
    "X_300 = normalize_matrix(X_300)\n",
    "X_1000 = normalize_matrix(X_1000)\n",
    "X_1500 = normalize_matrix(X_1500)\n",
    "\n",
    "\n",
    "Y = df[output_cols].astype(float).values  \n",
    "Y = normalize_matrix(Y)\n",
    "\n",
    "Y_1500 = df.dropna(subset=['Mean Energy Consumption (1500 Output Tokens)'])[output_cols].astype(float).values  \n",
    "n_dmus, n_inputs = X_300.shape\n",
    "\n",
    "n_dmus_1500, n_inputs_1500 = X_1500.shape\n",
    "\n",
    "\n",
    "\n",
    "\n",
    "_, n_outputs = Y.shape\n",
    "\n",
    "eff_scores = []\n",
    "\n",
    "\n",
    "\n"
   ]
  },
  {
   "cell_type": "code",
   "execution_count": null,
   "metadata": {},
   "outputs": [],
   "source": []
  },
  {
   "cell_type": "code",
   "execution_count": 92,
   "metadata": {},
   "outputs": [
    {
     "name": "stdout",
     "output_type": "stream",
     "text": [
      "Mean Energy Consumption (300 Output Tokens),Score\":\", 0.3975782063738578\n",
      "PUE,Score\":\", 0.02542688762373754\n",
      "WUE (Site),Score\":\", 0.3520112490154502\n",
      "WUE (Source),Score\":\", 0.20530996531204385\n",
      "CIF,Score\":\", 0.029756105606774896\n"
     ]
    }
   ],
   "source": [
    "for i in input_cols_300:\n",
    "    for j in output_cols:\n",
    "        print(f'{i},{j}\":\", {df[i].corr(df[j])}')"
   ]
  },
  {
   "cell_type": "code",
   "execution_count": 93,
   "metadata": {},
   "outputs": [],
   "source": [
    "X_dict = {\n",
    "    '300': X_300,\n",
    "    '1000': X_1000,\n",
    "}"
   ]
  },
  {
   "cell_type": "code",
   "execution_count": null,
   "metadata": {},
   "outputs": [],
   "source": []
  },
  {
   "cell_type": "code",
   "execution_count": null,
   "metadata": {},
   "outputs": [],
   "source": []
  },
  {
   "cell_type": "code",
   "execution_count": 96,
   "metadata": {},
   "outputs": [
    {
     "name": "stderr",
     "output_type": "stream",
     "text": [
      "/var/folders/k0/5kjb5xhn5hz5qd2_5ccp61th0000gn/T/ipykernel_50157/1131832512.py:41: DeprecationWarning:\n",
      "\n",
      "Conversion of an array with ndim > 0 to a scalar is deprecated, and will error in future. Ensure you extract a single element from your array before performing this operation. (Deprecated NumPy 1.25.)\n",
      "\n",
      "/var/folders/k0/5kjb5xhn5hz5qd2_5ccp61th0000gn/T/ipykernel_50157/1131832512.py:41: DeprecationWarning:\n",
      "\n",
      "Conversion of an array with ndim > 0 to a scalar is deprecated, and will error in future. Ensure you extract a single element from your array before performing this operation. (Deprecated NumPy 1.25.)\n",
      "\n"
     ]
    }
   ],
   "source": [
    "for i in X_dict:\n",
    "\n",
    "\n",
    "    u = np.zeros(n_dmus)             \n",
    "    v = np.zeros((n_dmus, n_inputs)) \n",
    "\n",
    "    for k in range(n_dmus):\n",
    " \n",
    "        c = [-Y.flatten()[k]] + [0.0]*n_inputs\n",
    "\n",
    "\n",
    "        A_ub, b_ub = [], []\n",
    "        for j in range(n_dmus):\n",
    "            A_ub.append([ Y.flatten()[j] ] + list(-X_dict[i][j]))\n",
    "            b_ub.append(0.0)\n",
    "\n",
    "        A_eq = [[0.0] + list(X_dict[i][k])]\n",
    "        b_eq = [1.0]\n",
    "\n",
    "        eps = 1e-6\n",
    "        bounds = [(eps, None)] * (1 + n_inputs)\n",
    "\n",
    "        res = linprog(\n",
    "            c=c,\n",
    "            A_ub=A_ub, b_ub=b_ub,\n",
    "            A_eq=A_eq, b_eq=b_eq,\n",
    "            bounds=bounds,\n",
    "            method='highs'\n",
    "        )\n",
    "\n",
    "        if not res.success:\n",
    "            raise RuntimeError(f\"DEA multiplier LP failed for DMU {k}\")\n",
    "\n",
    "        u[k]        = res.x[0]\n",
    "        v[k, :]     = res.x[1:]\n",
    "\n",
    "    CE = np.zeros((n_dmus, n_dmus))\n",
    "    for k in range(n_dmus):\n",
    "        for j in range(n_dmus):\n",
    "            CE[k, j] = (u[k] * Y[j]) / (v[k].dot(X_dict[i][j]))\n",
    "\n",
    "    avg_CE = CE.mean(axis=0)   \n",
    "\n",
    "    # 4) Attach back to your DataFrame\n",
    "    df[f'Cross_Efficiency_Avg_{i}'] = avg_CE\n",
    "\n"
   ]
  },
  {
   "cell_type": "code",
   "execution_count": 97,
   "metadata": {},
   "outputs": [
    {
     "name": "stderr",
     "output_type": "stream",
     "text": [
      "/var/folders/k0/5kjb5xhn5hz5qd2_5ccp61th0000gn/T/ipykernel_50157/1618677704.py:37: DeprecationWarning:\n",
      "\n",
      "Conversion of an array with ndim > 0 to a scalar is deprecated, and will error in future. Ensure you extract a single element from your array before performing this operation. (Deprecated NumPy 1.25.)\n",
      "\n"
     ]
    }
   ],
   "source": [
    "\n",
    "\n",
    "\n",
    "u = np.zeros(n_dmus_1500)             \n",
    "v = np.zeros((n_dmus_1500, n_inputs_1500))\n",
    "\n",
    "for k in range(n_dmus_1500):\n",
    "\n",
    "        c = [-Y_1500.flatten()[k]] + [0.0]*n_inputs_1500\n",
    "\n",
    "\n",
    "        A_ub, b_ub = [], []\n",
    "        for j in range(n_dmus_1500):\n",
    "            A_ub.append([ Y_1500.flatten()[j] ] + list(-X_1500[j]))\n",
    "            b_ub.append(0.0)\n",
    "\n",
    "        A_eq = [[0.0] + list(X_1500[k])]\n",
    "        b_eq = [1.0]\n",
    "\n",
    "        eps = 1e-6\n",
    "        bounds = [(eps, None)] * (1 + n_inputs_1500)\n",
    "\n",
    "        res = linprog(\n",
    "            c=c,\n",
    "            A_ub=A_ub, b_ub=b_ub,\n",
    "            A_eq=A_eq, b_eq=b_eq,\n",
    "            bounds=bounds,\n",
    "            method='highs'\n",
    "        )\n",
    "\n",
    "        if not res.success:\n",
    "            raise RuntimeError(f\"DEA multiplier LP failed for DMU {k}\")\n",
    "\n",
    "        u[k]        = res.x[0]\n",
    "        v[k, :]     = res.x[1:]\n",
    "\n",
    "CE = np.zeros((n_dmus_1500, n_dmus_1500))\n",
    "for k in range(n_dmus_1500):\n",
    "        for j in range(n_dmus_1500):\n",
    "            CE[k, j] = (u[k] * Y_1500[j]) / (v[k].dot(X_1500[j]))\n",
    "\n",
    "avg_CE = CE.mean(axis=0)   \n",
    "\n",
    "\n"
   ]
  },
  {
   "cell_type": "code",
   "execution_count": 98,
   "metadata": {},
   "outputs": [],
   "source": [
    "avg_CE=np.insert(avg_CE, 18, [0,0])"
   ]
  },
  {
   "cell_type": "code",
   "execution_count": 99,
   "metadata": {},
   "outputs": [
    {
     "data": {
      "text/plain": [
       "array([0.74060817, 0.84390585, 0.71434743, 0.93280269, 0.51336907,\n",
       "       0.68045722, 0.91024507, 0.93059912, 0.68081367, 0.77351469,\n",
       "       0.78601841, 0.55514533, 0.06621536, 0.06628096, 1.        ,\n",
       "       0.64168626, 0.73486231, 0.59175174, 0.        , 0.        ,\n",
       "       0.39016367, 0.37999285, 0.43272257, 0.18915197, 0.32418419,\n",
       "       0.4220337 , 0.59827717])"
      ]
     },
     "execution_count": 99,
     "metadata": {},
     "output_type": "execute_result"
    }
   ],
   "source": [
    "avg_CE"
   ]
  },
  {
   "cell_type": "code",
   "execution_count": 100,
   "metadata": {},
   "outputs": [],
   "source": [
    "df[\"Cross_Efficiency_Avg_1500\"] = avg_CE"
   ]
  },
  {
   "cell_type": "code",
   "execution_count": 101,
   "metadata": {},
   "outputs": [
    {
     "data": {
      "text/html": [
       "<div>\n",
       "<style scoped>\n",
       "    .dataframe tbody tr th:only-of-type {\n",
       "        vertical-align: middle;\n",
       "    }\n",
       "\n",
       "    .dataframe tbody tr th {\n",
       "        vertical-align: top;\n",
       "    }\n",
       "\n",
       "    .dataframe thead th {\n",
       "        text-align: right;\n",
       "    }\n",
       "</style>\n",
       "<table border=\"1\" class=\"dataframe\">\n",
       "  <thead>\n",
       "    <tr style=\"text-align: right;\">\n",
       "      <th></th>\n",
       "      <th>Model</th>\n",
       "      <th>Cross_Efficiency_Avg_300</th>\n",
       "      <th>Cross_Efficiency_Avg_1000</th>\n",
       "      <th>Cross_Efficiency_Avg_1500</th>\n",
       "    </tr>\n",
       "  </thead>\n",
       "  <tbody>\n",
       "    <tr>\n",
       "      <th>0</th>\n",
       "      <td>GPT-4.1</td>\n",
       "      <td>0.643694</td>\n",
       "      <td>0.685608</td>\n",
       "      <td>0.740608</td>\n",
       "    </tr>\n",
       "    <tr>\n",
       "      <th>1</th>\n",
       "      <td>GPT-4.1 mini</td>\n",
       "      <td>0.740521</td>\n",
       "      <td>0.764052</td>\n",
       "      <td>0.843906</td>\n",
       "    </tr>\n",
       "    <tr>\n",
       "      <th>2</th>\n",
       "      <td>GPT-4.1 nano</td>\n",
       "      <td>0.719568</td>\n",
       "      <td>0.725861</td>\n",
       "      <td>0.714347</td>\n",
       "    </tr>\n",
       "    <tr>\n",
       "      <th>3</th>\n",
       "      <td>o4-mini (high)</td>\n",
       "      <td>0.715453</td>\n",
       "      <td>0.941840</td>\n",
       "      <td>0.932803</td>\n",
       "    </tr>\n",
       "    <tr>\n",
       "      <th>4</th>\n",
       "      <td>GPT-4.5</td>\n",
       "      <td>0.418056</td>\n",
       "      <td>0.393562</td>\n",
       "      <td>0.513369</td>\n",
       "    </tr>\n",
       "    <tr>\n",
       "      <th>5</th>\n",
       "      <td>o3</td>\n",
       "      <td>0.607045</td>\n",
       "      <td>0.495107</td>\n",
       "      <td>0.680457</td>\n",
       "    </tr>\n",
       "    <tr>\n",
       "      <th>6</th>\n",
       "      <td>o3-mini (high)</td>\n",
       "      <td>0.698657</td>\n",
       "      <td>0.531050</td>\n",
       "      <td>0.910245</td>\n",
       "    </tr>\n",
       "    <tr>\n",
       "      <th>7</th>\n",
       "      <td>o3-mini</td>\n",
       "      <td>0.805018</td>\n",
       "      <td>0.749024</td>\n",
       "      <td>0.930599</td>\n",
       "    </tr>\n",
       "    <tr>\n",
       "      <th>8</th>\n",
       "      <td>o1</td>\n",
       "      <td>0.571803</td>\n",
       "      <td>0.598059</td>\n",
       "      <td>0.680814</td>\n",
       "    </tr>\n",
       "    <tr>\n",
       "      <th>9</th>\n",
       "      <td>o1-mini</td>\n",
       "      <td>0.706002</td>\n",
       "      <td>0.515956</td>\n",
       "      <td>0.773515</td>\n",
       "    </tr>\n",
       "    <tr>\n",
       "      <th>10</th>\n",
       "      <td>GPT-4o (Mar '25)</td>\n",
       "      <td>0.688805</td>\n",
       "      <td>0.743213</td>\n",
       "      <td>0.786018</td>\n",
       "    </tr>\n",
       "    <tr>\n",
       "      <th>11</th>\n",
       "      <td>GPT-4o mini</td>\n",
       "      <td>0.447644</td>\n",
       "      <td>0.490968</td>\n",
       "      <td>0.555145</td>\n",
       "    </tr>\n",
       "    <tr>\n",
       "      <th>12</th>\n",
       "      <td>Deepseek-R1</td>\n",
       "      <td>0.045467</td>\n",
       "      <td>0.060357</td>\n",
       "      <td>0.066215</td>\n",
       "    </tr>\n",
       "    <tr>\n",
       "      <th>13</th>\n",
       "      <td>Deepseek-V3</td>\n",
       "      <td>0.053443</td>\n",
       "      <td>0.058229</td>\n",
       "      <td>0.066281</td>\n",
       "    </tr>\n",
       "    <tr>\n",
       "      <th>14</th>\n",
       "      <td>Claude-3.7 Sonnet</td>\n",
       "      <td>0.852071</td>\n",
       "      <td>0.739752</td>\n",
       "      <td>1.000000</td>\n",
       "    </tr>\n",
       "    <tr>\n",
       "      <th>15</th>\n",
       "      <td>Claude-3.7 Sonnet ET</td>\n",
       "      <td>0.522550</td>\n",
       "      <td>0.696105</td>\n",
       "      <td>0.641686</td>\n",
       "    </tr>\n",
       "    <tr>\n",
       "      <th>16</th>\n",
       "      <td>Claude 3.5 Sonnet</td>\n",
       "      <td>0.573443</td>\n",
       "      <td>0.570375</td>\n",
       "      <td>0.734862</td>\n",
       "    </tr>\n",
       "    <tr>\n",
       "      <th>17</th>\n",
       "      <td>Claude 3.5 Haiku</td>\n",
       "      <td>0.427828</td>\n",
       "      <td>0.456671</td>\n",
       "      <td>0.591752</td>\n",
       "    </tr>\n",
       "    <tr>\n",
       "      <th>18</th>\n",
       "      <td>Llama-3-8B</td>\n",
       "      <td>0.354619</td>\n",
       "      <td>0.278111</td>\n",
       "      <td>0.000000</td>\n",
       "    </tr>\n",
       "    <tr>\n",
       "      <th>19</th>\n",
       "      <td>Llama-3-70B</td>\n",
       "      <td>0.325087</td>\n",
       "      <td>0.554131</td>\n",
       "      <td>0.000000</td>\n",
       "    </tr>\n",
       "    <tr>\n",
       "      <th>20</th>\n",
       "      <td>Llama-3.1-8B</td>\n",
       "      <td>0.417769</td>\n",
       "      <td>0.452958</td>\n",
       "      <td>0.390164</td>\n",
       "    </tr>\n",
       "    <tr>\n",
       "      <th>21</th>\n",
       "      <td>Llama-3.1-70B</td>\n",
       "      <td>0.429316</td>\n",
       "      <td>0.653943</td>\n",
       "      <td>0.379993</td>\n",
       "    </tr>\n",
       "    <tr>\n",
       "      <th>22</th>\n",
       "      <td>Llama-3.1-405B</td>\n",
       "      <td>0.458497</td>\n",
       "      <td>0.499742</td>\n",
       "      <td>0.432723</td>\n",
       "    </tr>\n",
       "    <tr>\n",
       "      <th>23</th>\n",
       "      <td>Llama-3.2 1B</td>\n",
       "      <td>0.000000</td>\n",
       "      <td>0.000000</td>\n",
       "      <td>0.189152</td>\n",
       "    </tr>\n",
       "    <tr>\n",
       "      <th>24</th>\n",
       "      <td>Llama-3.2 3B</td>\n",
       "      <td>0.283313</td>\n",
       "      <td>0.603287</td>\n",
       "      <td>0.324184</td>\n",
       "    </tr>\n",
       "    <tr>\n",
       "      <th>25</th>\n",
       "      <td>Llama-3.2-vision 90B</td>\n",
       "      <td>0.396686</td>\n",
       "      <td>0.462440</td>\n",
       "      <td>0.422034</td>\n",
       "    </tr>\n",
       "    <tr>\n",
       "      <th>26</th>\n",
       "      <td>Llama-3.3 70B</td>\n",
       "      <td>0.713605</td>\n",
       "      <td>0.773800</td>\n",
       "      <td>0.598277</td>\n",
       "    </tr>\n",
       "  </tbody>\n",
       "</table>\n",
       "</div>"
      ],
      "text/plain": [
       "                   Model  Cross_Efficiency_Avg_300  Cross_Efficiency_Avg_1000  \\\n",
       "0                GPT-4.1                  0.643694                   0.685608   \n",
       "1           GPT-4.1 mini                  0.740521                   0.764052   \n",
       "2           GPT-4.1 nano                  0.719568                   0.725861   \n",
       "3         o4-mini (high)                  0.715453                   0.941840   \n",
       "4                GPT-4.5                  0.418056                   0.393562   \n",
       "5                     o3                  0.607045                   0.495107   \n",
       "6         o3-mini (high)                  0.698657                   0.531050   \n",
       "7                o3-mini                  0.805018                   0.749024   \n",
       "8                     o1                  0.571803                   0.598059   \n",
       "9                o1-mini                  0.706002                   0.515956   \n",
       "10      GPT-4o (Mar '25)                  0.688805                   0.743213   \n",
       "11           GPT-4o mini                  0.447644                   0.490968   \n",
       "12           Deepseek-R1                  0.045467                   0.060357   \n",
       "13           Deepseek-V3                  0.053443                   0.058229   \n",
       "14     Claude-3.7 Sonnet                  0.852071                   0.739752   \n",
       "15  Claude-3.7 Sonnet ET                  0.522550                   0.696105   \n",
       "16     Claude 3.5 Sonnet                  0.573443                   0.570375   \n",
       "17      Claude 3.5 Haiku                  0.427828                   0.456671   \n",
       "18            Llama-3-8B                  0.354619                   0.278111   \n",
       "19           Llama-3-70B                  0.325087                   0.554131   \n",
       "20          Llama-3.1-8B                  0.417769                   0.452958   \n",
       "21         Llama-3.1-70B                  0.429316                   0.653943   \n",
       "22        Llama-3.1-405B                  0.458497                   0.499742   \n",
       "23          Llama-3.2 1B                  0.000000                   0.000000   \n",
       "24          Llama-3.2 3B                  0.283313                   0.603287   \n",
       "25  Llama-3.2-vision 90B                  0.396686                   0.462440   \n",
       "26         Llama-3.3 70B                  0.713605                   0.773800   \n",
       "\n",
       "    Cross_Efficiency_Avg_1500  \n",
       "0                    0.740608  \n",
       "1                    0.843906  \n",
       "2                    0.714347  \n",
       "3                    0.932803  \n",
       "4                    0.513369  \n",
       "5                    0.680457  \n",
       "6                    0.910245  \n",
       "7                    0.930599  \n",
       "8                    0.680814  \n",
       "9                    0.773515  \n",
       "10                   0.786018  \n",
       "11                   0.555145  \n",
       "12                   0.066215  \n",
       "13                   0.066281  \n",
       "14                   1.000000  \n",
       "15                   0.641686  \n",
       "16                   0.734862  \n",
       "17                   0.591752  \n",
       "18                   0.000000  \n",
       "19                   0.000000  \n",
       "20                   0.390164  \n",
       "21                   0.379993  \n",
       "22                   0.432723  \n",
       "23                   0.189152  \n",
       "24                   0.324184  \n",
       "25                   0.422034  \n",
       "26                   0.598277  "
      ]
     },
     "execution_count": 101,
     "metadata": {},
     "output_type": "execute_result"
    }
   ],
   "source": [
    "df[[\"Model\", \"Cross_Efficiency_Avg_300\", \"Cross_Efficiency_Avg_1000\", \"Cross_Efficiency_Avg_1500\"]]"
   ]
  },
  {
   "cell_type": "code",
   "execution_count": 102,
   "metadata": {},
   "outputs": [],
   "source": [
    "df[\"Cross_Efficiency_Avg_Total\"] = (\n",
    "    df[[\"Cross_Efficiency_Avg_300\", \"Cross_Efficiency_Avg_1000\", \"Cross_Efficiency_Avg_1500\"]]\n",
    "    .replace(0, pd.NA)  \n",
    "    .mean(axis=1, skipna=True)  \n",
    ")\n"
   ]
  },
  {
   "cell_type": "code",
   "execution_count": null,
   "metadata": {},
   "outputs": [],
   "source": []
  },
  {
   "cell_type": "code",
   "execution_count": 103,
   "metadata": {},
   "outputs": [
    {
     "data": {
      "text/html": [
       "<div>\n",
       "<style scoped>\n",
       "    .dataframe tbody tr th:only-of-type {\n",
       "        vertical-align: middle;\n",
       "    }\n",
       "\n",
       "    .dataframe tbody tr th {\n",
       "        vertical-align: top;\n",
       "    }\n",
       "\n",
       "    .dataframe thead th {\n",
       "        text-align: right;\n",
       "    }\n",
       "</style>\n",
       "<table border=\"1\" class=\"dataframe\">\n",
       "  <thead>\n",
       "    <tr style=\"text-align: right;\">\n",
       "      <th></th>\n",
       "      <th>Model</th>\n",
       "      <th>Cross_Efficiency_Avg_Total</th>\n",
       "    </tr>\n",
       "  </thead>\n",
       "  <tbody>\n",
       "    <tr>\n",
       "      <th>0</th>\n",
       "      <td>GPT-4.1</td>\n",
       "      <td>0.68997</td>\n",
       "    </tr>\n",
       "    <tr>\n",
       "      <th>1</th>\n",
       "      <td>GPT-4.1 mini</td>\n",
       "      <td>0.782826</td>\n",
       "    </tr>\n",
       "    <tr>\n",
       "      <th>2</th>\n",
       "      <td>GPT-4.1 nano</td>\n",
       "      <td>0.719926</td>\n",
       "    </tr>\n",
       "    <tr>\n",
       "      <th>3</th>\n",
       "      <td>o4-mini (high)</td>\n",
       "      <td>0.863365</td>\n",
       "    </tr>\n",
       "    <tr>\n",
       "      <th>4</th>\n",
       "      <td>GPT-4.5</td>\n",
       "      <td>0.441662</td>\n",
       "    </tr>\n",
       "    <tr>\n",
       "      <th>5</th>\n",
       "      <td>o3</td>\n",
       "      <td>0.594203</td>\n",
       "    </tr>\n",
       "    <tr>\n",
       "      <th>6</th>\n",
       "      <td>o3-mini (high)</td>\n",
       "      <td>0.713317</td>\n",
       "    </tr>\n",
       "    <tr>\n",
       "      <th>7</th>\n",
       "      <td>o3-mini</td>\n",
       "      <td>0.828214</td>\n",
       "    </tr>\n",
       "    <tr>\n",
       "      <th>8</th>\n",
       "      <td>o1</td>\n",
       "      <td>0.616892</td>\n",
       "    </tr>\n",
       "    <tr>\n",
       "      <th>9</th>\n",
       "      <td>o1-mini</td>\n",
       "      <td>0.665157</td>\n",
       "    </tr>\n",
       "    <tr>\n",
       "      <th>10</th>\n",
       "      <td>GPT-4o (Mar '25)</td>\n",
       "      <td>0.739346</td>\n",
       "    </tr>\n",
       "    <tr>\n",
       "      <th>11</th>\n",
       "      <td>GPT-4o mini</td>\n",
       "      <td>0.497919</td>\n",
       "    </tr>\n",
       "    <tr>\n",
       "      <th>12</th>\n",
       "      <td>Deepseek-R1</td>\n",
       "      <td>0.057346</td>\n",
       "    </tr>\n",
       "    <tr>\n",
       "      <th>13</th>\n",
       "      <td>Deepseek-V3</td>\n",
       "      <td>0.059318</td>\n",
       "    </tr>\n",
       "    <tr>\n",
       "      <th>14</th>\n",
       "      <td>Claude-3.7 Sonnet</td>\n",
       "      <td>0.863941</td>\n",
       "    </tr>\n",
       "    <tr>\n",
       "      <th>15</th>\n",
       "      <td>Claude-3.7 Sonnet ET</td>\n",
       "      <td>0.620114</td>\n",
       "    </tr>\n",
       "    <tr>\n",
       "      <th>16</th>\n",
       "      <td>Claude 3.5 Sonnet</td>\n",
       "      <td>0.626227</td>\n",
       "    </tr>\n",
       "    <tr>\n",
       "      <th>17</th>\n",
       "      <td>Claude 3.5 Haiku</td>\n",
       "      <td>0.492084</td>\n",
       "    </tr>\n",
       "    <tr>\n",
       "      <th>18</th>\n",
       "      <td>Llama-3-8B</td>\n",
       "      <td>0.316365</td>\n",
       "    </tr>\n",
       "    <tr>\n",
       "      <th>19</th>\n",
       "      <td>Llama-3-70B</td>\n",
       "      <td>0.439609</td>\n",
       "    </tr>\n",
       "    <tr>\n",
       "      <th>20</th>\n",
       "      <td>Llama-3.1-8B</td>\n",
       "      <td>0.420297</td>\n",
       "    </tr>\n",
       "    <tr>\n",
       "      <th>21</th>\n",
       "      <td>Llama-3.1-70B</td>\n",
       "      <td>0.487751</td>\n",
       "    </tr>\n",
       "    <tr>\n",
       "      <th>22</th>\n",
       "      <td>Llama-3.1-405B</td>\n",
       "      <td>0.463654</td>\n",
       "    </tr>\n",
       "    <tr>\n",
       "      <th>23</th>\n",
       "      <td>Llama-3.2 1B</td>\n",
       "      <td>0.189152</td>\n",
       "    </tr>\n",
       "    <tr>\n",
       "      <th>24</th>\n",
       "      <td>Llama-3.2 3B</td>\n",
       "      <td>0.403595</td>\n",
       "    </tr>\n",
       "    <tr>\n",
       "      <th>25</th>\n",
       "      <td>Llama-3.2-vision 90B</td>\n",
       "      <td>0.427053</td>\n",
       "    </tr>\n",
       "    <tr>\n",
       "      <th>26</th>\n",
       "      <td>Llama-3.3 70B</td>\n",
       "      <td>0.695228</td>\n",
       "    </tr>\n",
       "  </tbody>\n",
       "</table>\n",
       "</div>"
      ],
      "text/plain": [
       "                   Model Cross_Efficiency_Avg_Total\n",
       "0                GPT-4.1                    0.68997\n",
       "1           GPT-4.1 mini                   0.782826\n",
       "2           GPT-4.1 nano                   0.719926\n",
       "3         o4-mini (high)                   0.863365\n",
       "4                GPT-4.5                   0.441662\n",
       "5                     o3                   0.594203\n",
       "6         o3-mini (high)                   0.713317\n",
       "7                o3-mini                   0.828214\n",
       "8                     o1                   0.616892\n",
       "9                o1-mini                   0.665157\n",
       "10      GPT-4o (Mar '25)                   0.739346\n",
       "11           GPT-4o mini                   0.497919\n",
       "12           Deepseek-R1                   0.057346\n",
       "13           Deepseek-V3                   0.059318\n",
       "14     Claude-3.7 Sonnet                   0.863941\n",
       "15  Claude-3.7 Sonnet ET                   0.620114\n",
       "16     Claude 3.5 Sonnet                   0.626227\n",
       "17      Claude 3.5 Haiku                   0.492084\n",
       "18            Llama-3-8B                   0.316365\n",
       "19           Llama-3-70B                   0.439609\n",
       "20          Llama-3.1-8B                   0.420297\n",
       "21         Llama-3.1-70B                   0.487751\n",
       "22        Llama-3.1-405B                   0.463654\n",
       "23          Llama-3.2 1B                   0.189152\n",
       "24          Llama-3.2 3B                   0.403595\n",
       "25  Llama-3.2-vision 90B                   0.427053\n",
       "26         Llama-3.3 70B                   0.695228"
      ]
     },
     "execution_count": 103,
     "metadata": {},
     "output_type": "execute_result"
    }
   ],
   "source": [
    "df[[\"Model\", \"Cross_Efficiency_Avg_Total\"]]"
   ]
  },
  {
   "cell_type": "code",
   "execution_count": null,
   "metadata": {},
   "outputs": [],
   "source": []
  },
  {
   "cell_type": "code",
   "execution_count": 104,
   "metadata": {},
   "outputs": [
    {
     "data": {
      "application/vnd.plotly.v1+json": {
       "config": {
        "plotlyServerURL": "https://plot.ly"
       },
       "data": [
        {
         "hovertemplate": "Principal Component=%{x}<br>Variance Ratio=%{y}<extra></extra>",
         "legendgroup": "",
         "marker": {
          "color": "#636efa",
          "pattern": {
           "shape": ""
          }
         },
         "name": "",
         "orientation": "v",
         "showlegend": false,
         "textposition": "auto",
         "type": "bar",
         "x": [
          "PC1",
          "PC2"
         ],
         "xaxis": "x",
         "y": {
          "bdata": "xtiJDpam4z9EBukQjDjIPw==",
          "dtype": "f8"
         },
         "yaxis": "y"
        }
       ],
       "layout": {
        "barmode": "relative",
        "legend": {
         "tracegroupgap": 0
        },
        "paper_bgcolor": "white",
        "plot_bgcolor": "white",
        "template": {
         "data": {
          "bar": [
           {
            "error_x": {
             "color": "#2a3f5f"
            },
            "error_y": {
             "color": "#2a3f5f"
            },
            "marker": {
             "line": {
              "color": "#E5ECF6",
              "width": 0.5
             },
             "pattern": {
              "fillmode": "overlay",
              "size": 10,
              "solidity": 0.2
             }
            },
            "type": "bar"
           }
          ],
          "barpolar": [
           {
            "marker": {
             "line": {
              "color": "#E5ECF6",
              "width": 0.5
             },
             "pattern": {
              "fillmode": "overlay",
              "size": 10,
              "solidity": 0.2
             }
            },
            "type": "barpolar"
           }
          ],
          "carpet": [
           {
            "aaxis": {
             "endlinecolor": "#2a3f5f",
             "gridcolor": "white",
             "linecolor": "white",
             "minorgridcolor": "white",
             "startlinecolor": "#2a3f5f"
            },
            "baxis": {
             "endlinecolor": "#2a3f5f",
             "gridcolor": "white",
             "linecolor": "white",
             "minorgridcolor": "white",
             "startlinecolor": "#2a3f5f"
            },
            "type": "carpet"
           }
          ],
          "choropleth": [
           {
            "colorbar": {
             "outlinewidth": 0,
             "ticks": ""
            },
            "type": "choropleth"
           }
          ],
          "contour": [
           {
            "colorbar": {
             "outlinewidth": 0,
             "ticks": ""
            },
            "colorscale": [
             [
              0,
              "#0d0887"
             ],
             [
              0.1111111111111111,
              "#46039f"
             ],
             [
              0.2222222222222222,
              "#7201a8"
             ],
             [
              0.3333333333333333,
              "#9c179e"
             ],
             [
              0.4444444444444444,
              "#bd3786"
             ],
             [
              0.5555555555555556,
              "#d8576b"
             ],
             [
              0.6666666666666666,
              "#ed7953"
             ],
             [
              0.7777777777777778,
              "#fb9f3a"
             ],
             [
              0.8888888888888888,
              "#fdca26"
             ],
             [
              1,
              "#f0f921"
             ]
            ],
            "type": "contour"
           }
          ],
          "contourcarpet": [
           {
            "colorbar": {
             "outlinewidth": 0,
             "ticks": ""
            },
            "type": "contourcarpet"
           }
          ],
          "heatmap": [
           {
            "colorbar": {
             "outlinewidth": 0,
             "ticks": ""
            },
            "colorscale": [
             [
              0,
              "#0d0887"
             ],
             [
              0.1111111111111111,
              "#46039f"
             ],
             [
              0.2222222222222222,
              "#7201a8"
             ],
             [
              0.3333333333333333,
              "#9c179e"
             ],
             [
              0.4444444444444444,
              "#bd3786"
             ],
             [
              0.5555555555555556,
              "#d8576b"
             ],
             [
              0.6666666666666666,
              "#ed7953"
             ],
             [
              0.7777777777777778,
              "#fb9f3a"
             ],
             [
              0.8888888888888888,
              "#fdca26"
             ],
             [
              1,
              "#f0f921"
             ]
            ],
            "type": "heatmap"
           }
          ],
          "histogram": [
           {
            "marker": {
             "pattern": {
              "fillmode": "overlay",
              "size": 10,
              "solidity": 0.2
             }
            },
            "type": "histogram"
           }
          ],
          "histogram2d": [
           {
            "colorbar": {
             "outlinewidth": 0,
             "ticks": ""
            },
            "colorscale": [
             [
              0,
              "#0d0887"
             ],
             [
              0.1111111111111111,
              "#46039f"
             ],
             [
              0.2222222222222222,
              "#7201a8"
             ],
             [
              0.3333333333333333,
              "#9c179e"
             ],
             [
              0.4444444444444444,
              "#bd3786"
             ],
             [
              0.5555555555555556,
              "#d8576b"
             ],
             [
              0.6666666666666666,
              "#ed7953"
             ],
             [
              0.7777777777777778,
              "#fb9f3a"
             ],
             [
              0.8888888888888888,
              "#fdca26"
             ],
             [
              1,
              "#f0f921"
             ]
            ],
            "type": "histogram2d"
           }
          ],
          "histogram2dcontour": [
           {
            "colorbar": {
             "outlinewidth": 0,
             "ticks": ""
            },
            "colorscale": [
             [
              0,
              "#0d0887"
             ],
             [
              0.1111111111111111,
              "#46039f"
             ],
             [
              0.2222222222222222,
              "#7201a8"
             ],
             [
              0.3333333333333333,
              "#9c179e"
             ],
             [
              0.4444444444444444,
              "#bd3786"
             ],
             [
              0.5555555555555556,
              "#d8576b"
             ],
             [
              0.6666666666666666,
              "#ed7953"
             ],
             [
              0.7777777777777778,
              "#fb9f3a"
             ],
             [
              0.8888888888888888,
              "#fdca26"
             ],
             [
              1,
              "#f0f921"
             ]
            ],
            "type": "histogram2dcontour"
           }
          ],
          "mesh3d": [
           {
            "colorbar": {
             "outlinewidth": 0,
             "ticks": ""
            },
            "type": "mesh3d"
           }
          ],
          "parcoords": [
           {
            "line": {
             "colorbar": {
              "outlinewidth": 0,
              "ticks": ""
             }
            },
            "type": "parcoords"
           }
          ],
          "pie": [
           {
            "automargin": true,
            "type": "pie"
           }
          ],
          "scatter": [
           {
            "fillpattern": {
             "fillmode": "overlay",
             "size": 10,
             "solidity": 0.2
            },
            "type": "scatter"
           }
          ],
          "scatter3d": [
           {
            "line": {
             "colorbar": {
              "outlinewidth": 0,
              "ticks": ""
             }
            },
            "marker": {
             "colorbar": {
              "outlinewidth": 0,
              "ticks": ""
             }
            },
            "type": "scatter3d"
           }
          ],
          "scattercarpet": [
           {
            "marker": {
             "colorbar": {
              "outlinewidth": 0,
              "ticks": ""
             }
            },
            "type": "scattercarpet"
           }
          ],
          "scattergeo": [
           {
            "marker": {
             "colorbar": {
              "outlinewidth": 0,
              "ticks": ""
             }
            },
            "type": "scattergeo"
           }
          ],
          "scattergl": [
           {
            "marker": {
             "colorbar": {
              "outlinewidth": 0,
              "ticks": ""
             }
            },
            "type": "scattergl"
           }
          ],
          "scattermap": [
           {
            "marker": {
             "colorbar": {
              "outlinewidth": 0,
              "ticks": ""
             }
            },
            "type": "scattermap"
           }
          ],
          "scattermapbox": [
           {
            "marker": {
             "colorbar": {
              "outlinewidth": 0,
              "ticks": ""
             }
            },
            "type": "scattermapbox"
           }
          ],
          "scatterpolar": [
           {
            "marker": {
             "colorbar": {
              "outlinewidth": 0,
              "ticks": ""
             }
            },
            "type": "scatterpolar"
           }
          ],
          "scatterpolargl": [
           {
            "marker": {
             "colorbar": {
              "outlinewidth": 0,
              "ticks": ""
             }
            },
            "type": "scatterpolargl"
           }
          ],
          "scatterternary": [
           {
            "marker": {
             "colorbar": {
              "outlinewidth": 0,
              "ticks": ""
             }
            },
            "type": "scatterternary"
           }
          ],
          "surface": [
           {
            "colorbar": {
             "outlinewidth": 0,
             "ticks": ""
            },
            "colorscale": [
             [
              0,
              "#0d0887"
             ],
             [
              0.1111111111111111,
              "#46039f"
             ],
             [
              0.2222222222222222,
              "#7201a8"
             ],
             [
              0.3333333333333333,
              "#9c179e"
             ],
             [
              0.4444444444444444,
              "#bd3786"
             ],
             [
              0.5555555555555556,
              "#d8576b"
             ],
             [
              0.6666666666666666,
              "#ed7953"
             ],
             [
              0.7777777777777778,
              "#fb9f3a"
             ],
             [
              0.8888888888888888,
              "#fdca26"
             ],
             [
              1,
              "#f0f921"
             ]
            ],
            "type": "surface"
           }
          ],
          "table": [
           {
            "cells": {
             "fill": {
              "color": "#EBF0F8"
             },
             "line": {
              "color": "white"
             }
            },
            "header": {
             "fill": {
              "color": "#C8D4E3"
             },
             "line": {
              "color": "white"
             }
            },
            "type": "table"
           }
          ]
         },
         "layout": {
          "annotationdefaults": {
           "arrowcolor": "#2a3f5f",
           "arrowhead": 0,
           "arrowwidth": 1
          },
          "autotypenumbers": "strict",
          "coloraxis": {
           "colorbar": {
            "outlinewidth": 0,
            "ticks": ""
           }
          },
          "colorscale": {
           "diverging": [
            [
             0,
             "#8e0152"
            ],
            [
             0.1,
             "#c51b7d"
            ],
            [
             0.2,
             "#de77ae"
            ],
            [
             0.3,
             "#f1b6da"
            ],
            [
             0.4,
             "#fde0ef"
            ],
            [
             0.5,
             "#f7f7f7"
            ],
            [
             0.6,
             "#e6f5d0"
            ],
            [
             0.7,
             "#b8e186"
            ],
            [
             0.8,
             "#7fbc41"
            ],
            [
             0.9,
             "#4d9221"
            ],
            [
             1,
             "#276419"
            ]
           ],
           "sequential": [
            [
             0,
             "#0d0887"
            ],
            [
             0.1111111111111111,
             "#46039f"
            ],
            [
             0.2222222222222222,
             "#7201a8"
            ],
            [
             0.3333333333333333,
             "#9c179e"
            ],
            [
             0.4444444444444444,
             "#bd3786"
            ],
            [
             0.5555555555555556,
             "#d8576b"
            ],
            [
             0.6666666666666666,
             "#ed7953"
            ],
            [
             0.7777777777777778,
             "#fb9f3a"
            ],
            [
             0.8888888888888888,
             "#fdca26"
            ],
            [
             1,
             "#f0f921"
            ]
           ],
           "sequentialminus": [
            [
             0,
             "#0d0887"
            ],
            [
             0.1111111111111111,
             "#46039f"
            ],
            [
             0.2222222222222222,
             "#7201a8"
            ],
            [
             0.3333333333333333,
             "#9c179e"
            ],
            [
             0.4444444444444444,
             "#bd3786"
            ],
            [
             0.5555555555555556,
             "#d8576b"
            ],
            [
             0.6666666666666666,
             "#ed7953"
            ],
            [
             0.7777777777777778,
             "#fb9f3a"
            ],
            [
             0.8888888888888888,
             "#fdca26"
            ],
            [
             1,
             "#f0f921"
            ]
           ]
          },
          "colorway": [
           "#636efa",
           "#EF553B",
           "#00cc96",
           "#ab63fa",
           "#FFA15A",
           "#19d3f3",
           "#FF6692",
           "#B6E880",
           "#FF97FF",
           "#FECB52"
          ],
          "font": {
           "color": "#2a3f5f"
          },
          "geo": {
           "bgcolor": "white",
           "lakecolor": "white",
           "landcolor": "#E5ECF6",
           "showlakes": true,
           "showland": true,
           "subunitcolor": "white"
          },
          "hoverlabel": {
           "align": "left"
          },
          "hovermode": "closest",
          "mapbox": {
           "style": "light"
          },
          "paper_bgcolor": "white",
          "plot_bgcolor": "#E5ECF6",
          "polar": {
           "angularaxis": {
            "gridcolor": "white",
            "linecolor": "white",
            "ticks": ""
           },
           "bgcolor": "#E5ECF6",
           "radialaxis": {
            "gridcolor": "white",
            "linecolor": "white",
            "ticks": ""
           }
          },
          "scene": {
           "xaxis": {
            "backgroundcolor": "#E5ECF6",
            "gridcolor": "white",
            "gridwidth": 2,
            "linecolor": "white",
            "showbackground": true,
            "ticks": "",
            "zerolinecolor": "white"
           },
           "yaxis": {
            "backgroundcolor": "#E5ECF6",
            "gridcolor": "white",
            "gridwidth": 2,
            "linecolor": "white",
            "showbackground": true,
            "ticks": "",
            "zerolinecolor": "white"
           },
           "zaxis": {
            "backgroundcolor": "#E5ECF6",
            "gridcolor": "white",
            "gridwidth": 2,
            "linecolor": "white",
            "showbackground": true,
            "ticks": "",
            "zerolinecolor": "white"
           }
          },
          "shapedefaults": {
           "line": {
            "color": "#2a3f5f"
           }
          },
          "ternary": {
           "aaxis": {
            "gridcolor": "white",
            "linecolor": "white",
            "ticks": ""
           },
           "baxis": {
            "gridcolor": "white",
            "linecolor": "white",
            "ticks": ""
           },
           "bgcolor": "#E5ECF6",
           "caxis": {
            "gridcolor": "white",
            "linecolor": "white",
            "ticks": ""
           }
          },
          "title": {
           "x": 0.05
          },
          "xaxis": {
           "automargin": true,
           "gridcolor": "white",
           "linecolor": "white",
           "ticks": "",
           "title": {
            "standoff": 15
           },
           "zerolinecolor": "white",
           "zerolinewidth": 2
          },
          "yaxis": {
           "automargin": true,
           "gridcolor": "white",
           "linecolor": "white",
           "ticks": "",
           "title": {
            "standoff": 15
           },
           "zerolinecolor": "white",
           "zerolinewidth": 2
          }
         }
        },
        "title": {
         "text": "Explained Variance by PC"
        },
        "xaxis": {
         "anchor": "y",
         "domain": [
          0,
          1
         ],
         "title": {
          "text": "Principal Component"
         }
        },
        "yaxis": {
         "anchor": "x",
         "domain": [
          0,
          1
         ],
         "title": {
          "text": "Variance Ratio"
         }
        }
       }
      }
     },
     "metadata": {},
     "output_type": "display_data"
    },
    {
     "data": {
      "application/vnd.plotly.v1+json": {
       "config": {
        "plotlyServerURL": "https://plot.ly"
       },
       "data": [
        {
         "marker": {
          "color": [
           0.6899701267476335,
           0.7828263319326476,
           0.7199256258564878,
           0.8633652170813164,
           0.44166234161593776,
           0.5942028784596808,
           0.7133171947380584,
           0.8282137277721323,
           0.6168916481560576,
           0.6651574651094805,
           0.7393457378262515,
           0.49791932263412314,
           0.057346393358287624,
           0.059317553952125214,
           0.8639410917510526,
           0.6201139386633799,
           0.6262266365755039,
           0.49208380410681524,
           0.3163651734194638,
           0.43960872668837,
           0.4202968779892657,
           0.48775059950101346,
           0.4636537463341311,
           0.18915197374990497,
           0.4035947164436265,
           0.42705319406785797,
           0.6952276200995082
          ],
          "colorbar": {
           "title": {
            "text": "Cross-Eff"
           }
          },
          "colorscale": [
           [
            0,
            "#440154"
           ],
           [
            0.1111111111111111,
            "#482878"
           ],
           [
            0.2222222222222222,
            "#3e4989"
           ],
           [
            0.3333333333333333,
            "#31688e"
           ],
           [
            0.4444444444444444,
            "#26828e"
           ],
           [
            0.5555555555555556,
            "#1f9e89"
           ],
           [
            0.6666666666666666,
            "#35b779"
           ],
           [
            0.7777777777777778,
            "#6ece58"
           ],
           [
            0.8888888888888888,
            "#b5de2b"
           ],
           [
            1,
            "#fde725"
           ]
          ],
          "size": 8
         },
         "mode": "markers+text",
         "text": [
          "GPT-4.1",
          "GPT-4.1 mini",
          "GPT-4.1 nano",
          "o4-mini (high)",
          "GPT-4.5",
          "o3",
          "o3-mini (high)",
          "o3-mini",
          "o1",
          "o1-mini",
          "GPT-4o (Mar '25)",
          "GPT-4o mini",
          "Deepseek-R1",
          "Deepseek-V3",
          "Claude-3.7 Sonnet",
          "Claude-3.7 Sonnet ET",
          "Claude 3.5 Sonnet",
          "Claude 3.5 Haiku",
          "Llama-3-8B",
          "Llama-3-70B",
          "Llama-3.1-8B",
          "Llama-3.1-70B",
          "Llama-3.1-405B",
          "Llama-3.2 1B",
          "Llama-3.2 3B",
          "Llama-3.2-vision 90B",
          "Llama-3.3 70B"
         ],
         "textposition": "top center",
         "type": "scatter",
         "x": {
          "bdata": "zZkPdtwo8L/NS8xjYnDzv8/Vpdl/jfS//QaFY99+77/vVeZ25XTRP7Zdsg2qEuQ/G8rzuT5w07/WzqssNzLxvzjQmCKQV9a/EB50zrmW6L8JimObBgXzv9ICpkcJyPK/MJFcPXBMIkCF4J04g1McQMuoUBazAeq/zvCV4aWL27/DHQ0AE7ziv4EeVQ9IYeC/dCkbv+yM4b/4OOpEZuDlv7qIKOsT3ea/JFSBWNcO5L+cGyNuhAHVv04S1JTeqde/4wbK+/No6L/ftZITHNHev8Dp81dbhe2/",
          "dtype": "f8"
         },
         "y": {
          "bdata": "pyDOKRkz5j+7AkMY6i3rP15DHziDhLY/4br7xpDD/z9rNfQrCKrnP2c2YiQSkgJAbuFUSKvE/T/4ip2RrWL4P+f8JNje//Q/1xSoMMIW6z98P9YMYyvjP5eJaWK9+vi/4JbEKToy5T/1IHNzzknxv2Myfme1cvM/Vr39e7cS0z+WbeXltSqqPzKkQnkJ5ua/n4YPLE2K/r9PE0892bP1v2TUAE3UC/m/3u9blWxM6r9bdlVTf+Hdvw7Q6bHONQXApJvym+E2/b/CFA6Nus3vvyrcxm9aYrm/",
          "dtype": "f8"
         }
        }
       ],
       "layout": {
        "annotations": [
         {
          "arrowcolor": "red",
          "arrowhead": 3,
          "arrowwidth": 2,
          "ax": 0,
          "axref": "x",
          "ay": 0,
          "ayref": "y",
          "showarrow": true,
          "x": 0.26676912771930017,
          "xref": "x",
          "y": 1.1514346167532277,
          "yref": "y"
         },
         {
          "font": {
           "color": "red"
          },
          "showarrow": false,
          "text": "Critical Power (kW)",
          "x": 0.2801075841052652,
          "y": 1.2090063475908892
         },
         {
          "arrowcolor": "red",
          "arrowhead": 3,
          "arrowwidth": 2,
          "ax": 0,
          "axref": "x",
          "ay": 0,
          "ayref": "y",
          "showarrow": true,
          "x": 2.2805970233026733,
          "xref": "x",
          "y": 1.8205504687719454,
          "yref": "y"
         },
         {
          "font": {
           "color": "red"
          },
          "showarrow": false,
          "text": "Mean Energy Consumption (1000 Output Tokens)",
          "x": 2.394626874467807,
          "y": 1.9115779922105427
         },
         {
          "arrowcolor": "red",
          "arrowhead": 3,
          "arrowwidth": 2,
          "ax": 0,
          "axref": "x",
          "ay": 0,
          "ayref": "y",
          "showarrow": true,
          "x": 2.186201755616395,
          "xref": "x",
          "y": 1.4698834681983446,
          "yref": "y"
         },
         {
          "font": {
           "color": "red"
          },
          "showarrow": false,
          "text": "Mean Energy Consumption (300 Output Tokens)",
          "x": 2.2955118433972146,
          "y": 1.5433776416082619
         },
         {
          "arrowcolor": "red",
          "arrowhead": 3,
          "arrowwidth": 2,
          "ax": 0,
          "axref": "x",
          "ay": 0,
          "ayref": "y",
          "showarrow": true,
          "x": 2.587479839331534,
          "xref": "x",
          "y": -1.0299067920995468,
          "yref": "y"
         },
         {
          "font": {
           "color": "red"
          },
          "showarrow": false,
          "text": "PUE",
          "x": 2.7168538312981108,
          "y": -1.0814021317045241
         },
         {
          "arrowcolor": "red",
          "arrowhead": 3,
          "arrowwidth": 2,
          "ax": 0,
          "axref": "x",
          "ay": 0,
          "ayref": "y",
          "showarrow": true,
          "x": 2.579708020402398,
          "xref": "x",
          "y": 0.4980281713848023,
          "yref": "y"
         },
         {
          "font": {
           "color": "red"
          },
          "showarrow": false,
          "text": "WUE (Site)",
          "x": 2.708693421422518,
          "y": 0.5229295799540424
         },
         {
          "arrowcolor": "red",
          "arrowhead": 3,
          "arrowwidth": 2,
          "ax": 0,
          "axref": "x",
          "ay": 0,
          "ayref": "y",
          "showarrow": true,
          "x": 2.6599329828080998,
          "xref": "x",
          "y": -0.22238093994310773,
          "yref": "y"
         },
         {
          "font": {
           "color": "red"
          },
          "showarrow": false,
          "text": "WUE (Source)",
          "x": 2.792929631948505,
          "y": -0.23349998694026314
         },
         {
          "arrowcolor": "red",
          "arrowhead": 3,
          "arrowwidth": 2,
          "ax": 0,
          "axref": "x",
          "ay": 0,
          "ayref": "y",
          "showarrow": true,
          "x": 2.5912062021828643,
          "xref": "x",
          "y": -1.0113523016885837,
          "yref": "y"
         },
         {
          "font": {
           "color": "red"
          },
          "showarrow": false,
          "text": "CIF",
          "x": 2.7207665122920077,
          "y": -1.061919916773013
         },
         {
          "arrowcolor": "red",
          "arrowhead": 3,
          "arrowwidth": 2,
          "ax": 0,
          "axref": "x",
          "ay": 0,
          "ayref": "y",
          "showarrow": true,
          "x": -1.8578615762660666,
          "xref": "x",
          "y": 3.191206557902631,
          "yref": "y"
         },
         {
          "font": {
           "color": "red"
          },
          "showarrow": false,
          "text": "Cross_Efficiency_Avg_Total",
          "x": -1.95075465507937,
          "y": 3.350766885797763
         },
         {
          "arrowcolor": "red",
          "arrowhead": 3,
          "arrowwidth": 2,
          "ax": 0,
          "axref": "x",
          "ay": 0,
          "ayref": "y",
          "showarrow": true,
          "x": 0.6121586303011042,
          "xref": "x",
          "y": 4.653182107401647,
          "yref": "y"
         },
         {
          "font": {
           "color": "red"
          },
          "showarrow": false,
          "text": "Score",
          "x": 0.6427665618161594,
          "y": 4.885841212771729
         }
        ],
        "paper_bgcolor": "white",
        "plot_bgcolor": "white",
        "template": {
         "data": {
          "bar": [
           {
            "error_x": {
             "color": "#2a3f5f"
            },
            "error_y": {
             "color": "#2a3f5f"
            },
            "marker": {
             "line": {
              "color": "#E5ECF6",
              "width": 0.5
             },
             "pattern": {
              "fillmode": "overlay",
              "size": 10,
              "solidity": 0.2
             }
            },
            "type": "bar"
           }
          ],
          "barpolar": [
           {
            "marker": {
             "line": {
              "color": "#E5ECF6",
              "width": 0.5
             },
             "pattern": {
              "fillmode": "overlay",
              "size": 10,
              "solidity": 0.2
             }
            },
            "type": "barpolar"
           }
          ],
          "carpet": [
           {
            "aaxis": {
             "endlinecolor": "#2a3f5f",
             "gridcolor": "white",
             "linecolor": "white",
             "minorgridcolor": "white",
             "startlinecolor": "#2a3f5f"
            },
            "baxis": {
             "endlinecolor": "#2a3f5f",
             "gridcolor": "white",
             "linecolor": "white",
             "minorgridcolor": "white",
             "startlinecolor": "#2a3f5f"
            },
            "type": "carpet"
           }
          ],
          "choropleth": [
           {
            "colorbar": {
             "outlinewidth": 0,
             "ticks": ""
            },
            "type": "choropleth"
           }
          ],
          "contour": [
           {
            "colorbar": {
             "outlinewidth": 0,
             "ticks": ""
            },
            "colorscale": [
             [
              0,
              "#0d0887"
             ],
             [
              0.1111111111111111,
              "#46039f"
             ],
             [
              0.2222222222222222,
              "#7201a8"
             ],
             [
              0.3333333333333333,
              "#9c179e"
             ],
             [
              0.4444444444444444,
              "#bd3786"
             ],
             [
              0.5555555555555556,
              "#d8576b"
             ],
             [
              0.6666666666666666,
              "#ed7953"
             ],
             [
              0.7777777777777778,
              "#fb9f3a"
             ],
             [
              0.8888888888888888,
              "#fdca26"
             ],
             [
              1,
              "#f0f921"
             ]
            ],
            "type": "contour"
           }
          ],
          "contourcarpet": [
           {
            "colorbar": {
             "outlinewidth": 0,
             "ticks": ""
            },
            "type": "contourcarpet"
           }
          ],
          "heatmap": [
           {
            "colorbar": {
             "outlinewidth": 0,
             "ticks": ""
            },
            "colorscale": [
             [
              0,
              "#0d0887"
             ],
             [
              0.1111111111111111,
              "#46039f"
             ],
             [
              0.2222222222222222,
              "#7201a8"
             ],
             [
              0.3333333333333333,
              "#9c179e"
             ],
             [
              0.4444444444444444,
              "#bd3786"
             ],
             [
              0.5555555555555556,
              "#d8576b"
             ],
             [
              0.6666666666666666,
              "#ed7953"
             ],
             [
              0.7777777777777778,
              "#fb9f3a"
             ],
             [
              0.8888888888888888,
              "#fdca26"
             ],
             [
              1,
              "#f0f921"
             ]
            ],
            "type": "heatmap"
           }
          ],
          "histogram": [
           {
            "marker": {
             "pattern": {
              "fillmode": "overlay",
              "size": 10,
              "solidity": 0.2
             }
            },
            "type": "histogram"
           }
          ],
          "histogram2d": [
           {
            "colorbar": {
             "outlinewidth": 0,
             "ticks": ""
            },
            "colorscale": [
             [
              0,
              "#0d0887"
             ],
             [
              0.1111111111111111,
              "#46039f"
             ],
             [
              0.2222222222222222,
              "#7201a8"
             ],
             [
              0.3333333333333333,
              "#9c179e"
             ],
             [
              0.4444444444444444,
              "#bd3786"
             ],
             [
              0.5555555555555556,
              "#d8576b"
             ],
             [
              0.6666666666666666,
              "#ed7953"
             ],
             [
              0.7777777777777778,
              "#fb9f3a"
             ],
             [
              0.8888888888888888,
              "#fdca26"
             ],
             [
              1,
              "#f0f921"
             ]
            ],
            "type": "histogram2d"
           }
          ],
          "histogram2dcontour": [
           {
            "colorbar": {
             "outlinewidth": 0,
             "ticks": ""
            },
            "colorscale": [
             [
              0,
              "#0d0887"
             ],
             [
              0.1111111111111111,
              "#46039f"
             ],
             [
              0.2222222222222222,
              "#7201a8"
             ],
             [
              0.3333333333333333,
              "#9c179e"
             ],
             [
              0.4444444444444444,
              "#bd3786"
             ],
             [
              0.5555555555555556,
              "#d8576b"
             ],
             [
              0.6666666666666666,
              "#ed7953"
             ],
             [
              0.7777777777777778,
              "#fb9f3a"
             ],
             [
              0.8888888888888888,
              "#fdca26"
             ],
             [
              1,
              "#f0f921"
             ]
            ],
            "type": "histogram2dcontour"
           }
          ],
          "mesh3d": [
           {
            "colorbar": {
             "outlinewidth": 0,
             "ticks": ""
            },
            "type": "mesh3d"
           }
          ],
          "parcoords": [
           {
            "line": {
             "colorbar": {
              "outlinewidth": 0,
              "ticks": ""
             }
            },
            "type": "parcoords"
           }
          ],
          "pie": [
           {
            "automargin": true,
            "type": "pie"
           }
          ],
          "scatter": [
           {
            "fillpattern": {
             "fillmode": "overlay",
             "size": 10,
             "solidity": 0.2
            },
            "type": "scatter"
           }
          ],
          "scatter3d": [
           {
            "line": {
             "colorbar": {
              "outlinewidth": 0,
              "ticks": ""
             }
            },
            "marker": {
             "colorbar": {
              "outlinewidth": 0,
              "ticks": ""
             }
            },
            "type": "scatter3d"
           }
          ],
          "scattercarpet": [
           {
            "marker": {
             "colorbar": {
              "outlinewidth": 0,
              "ticks": ""
             }
            },
            "type": "scattercarpet"
           }
          ],
          "scattergeo": [
           {
            "marker": {
             "colorbar": {
              "outlinewidth": 0,
              "ticks": ""
             }
            },
            "type": "scattergeo"
           }
          ],
          "scattergl": [
           {
            "marker": {
             "colorbar": {
              "outlinewidth": 0,
              "ticks": ""
             }
            },
            "type": "scattergl"
           }
          ],
          "scattermap": [
           {
            "marker": {
             "colorbar": {
              "outlinewidth": 0,
              "ticks": ""
             }
            },
            "type": "scattermap"
           }
          ],
          "scattermapbox": [
           {
            "marker": {
             "colorbar": {
              "outlinewidth": 0,
              "ticks": ""
             }
            },
            "type": "scattermapbox"
           }
          ],
          "scatterpolar": [
           {
            "marker": {
             "colorbar": {
              "outlinewidth": 0,
              "ticks": ""
             }
            },
            "type": "scatterpolar"
           }
          ],
          "scatterpolargl": [
           {
            "marker": {
             "colorbar": {
              "outlinewidth": 0,
              "ticks": ""
             }
            },
            "type": "scatterpolargl"
           }
          ],
          "scatterternary": [
           {
            "marker": {
             "colorbar": {
              "outlinewidth": 0,
              "ticks": ""
             }
            },
            "type": "scatterternary"
           }
          ],
          "surface": [
           {
            "colorbar": {
             "outlinewidth": 0,
             "ticks": ""
            },
            "colorscale": [
             [
              0,
              "#0d0887"
             ],
             [
              0.1111111111111111,
              "#46039f"
             ],
             [
              0.2222222222222222,
              "#7201a8"
             ],
             [
              0.3333333333333333,
              "#9c179e"
             ],
             [
              0.4444444444444444,
              "#bd3786"
             ],
             [
              0.5555555555555556,
              "#d8576b"
             ],
             [
              0.6666666666666666,
              "#ed7953"
             ],
             [
              0.7777777777777778,
              "#fb9f3a"
             ],
             [
              0.8888888888888888,
              "#fdca26"
             ],
             [
              1,
              "#f0f921"
             ]
            ],
            "type": "surface"
           }
          ],
          "table": [
           {
            "cells": {
             "fill": {
              "color": "#EBF0F8"
             },
             "line": {
              "color": "white"
             }
            },
            "header": {
             "fill": {
              "color": "#C8D4E3"
             },
             "line": {
              "color": "white"
             }
            },
            "type": "table"
           }
          ]
         },
         "layout": {
          "annotationdefaults": {
           "arrowcolor": "#2a3f5f",
           "arrowhead": 0,
           "arrowwidth": 1
          },
          "autotypenumbers": "strict",
          "coloraxis": {
           "colorbar": {
            "outlinewidth": 0,
            "ticks": ""
           }
          },
          "colorscale": {
           "diverging": [
            [
             0,
             "#8e0152"
            ],
            [
             0.1,
             "#c51b7d"
            ],
            [
             0.2,
             "#de77ae"
            ],
            [
             0.3,
             "#f1b6da"
            ],
            [
             0.4,
             "#fde0ef"
            ],
            [
             0.5,
             "#f7f7f7"
            ],
            [
             0.6,
             "#e6f5d0"
            ],
            [
             0.7,
             "#b8e186"
            ],
            [
             0.8,
             "#7fbc41"
            ],
            [
             0.9,
             "#4d9221"
            ],
            [
             1,
             "#276419"
            ]
           ],
           "sequential": [
            [
             0,
             "#0d0887"
            ],
            [
             0.1111111111111111,
             "#46039f"
            ],
            [
             0.2222222222222222,
             "#7201a8"
            ],
            [
             0.3333333333333333,
             "#9c179e"
            ],
            [
             0.4444444444444444,
             "#bd3786"
            ],
            [
             0.5555555555555556,
             "#d8576b"
            ],
            [
             0.6666666666666666,
             "#ed7953"
            ],
            [
             0.7777777777777778,
             "#fb9f3a"
            ],
            [
             0.8888888888888888,
             "#fdca26"
            ],
            [
             1,
             "#f0f921"
            ]
           ],
           "sequentialminus": [
            [
             0,
             "#0d0887"
            ],
            [
             0.1111111111111111,
             "#46039f"
            ],
            [
             0.2222222222222222,
             "#7201a8"
            ],
            [
             0.3333333333333333,
             "#9c179e"
            ],
            [
             0.4444444444444444,
             "#bd3786"
            ],
            [
             0.5555555555555556,
             "#d8576b"
            ],
            [
             0.6666666666666666,
             "#ed7953"
            ],
            [
             0.7777777777777778,
             "#fb9f3a"
            ],
            [
             0.8888888888888888,
             "#fdca26"
            ],
            [
             1,
             "#f0f921"
            ]
           ]
          },
          "colorway": [
           "#636efa",
           "#EF553B",
           "#00cc96",
           "#ab63fa",
           "#FFA15A",
           "#19d3f3",
           "#FF6692",
           "#B6E880",
           "#FF97FF",
           "#FECB52"
          ],
          "font": {
           "color": "#2a3f5f"
          },
          "geo": {
           "bgcolor": "white",
           "lakecolor": "white",
           "landcolor": "#E5ECF6",
           "showlakes": true,
           "showland": true,
           "subunitcolor": "white"
          },
          "hoverlabel": {
           "align": "left"
          },
          "hovermode": "closest",
          "mapbox": {
           "style": "light"
          },
          "paper_bgcolor": "white",
          "plot_bgcolor": "#E5ECF6",
          "polar": {
           "angularaxis": {
            "gridcolor": "white",
            "linecolor": "white",
            "ticks": ""
           },
           "bgcolor": "#E5ECF6",
           "radialaxis": {
            "gridcolor": "white",
            "linecolor": "white",
            "ticks": ""
           }
          },
          "scene": {
           "xaxis": {
            "backgroundcolor": "#E5ECF6",
            "gridcolor": "white",
            "gridwidth": 2,
            "linecolor": "white",
            "showbackground": true,
            "ticks": "",
            "zerolinecolor": "white"
           },
           "yaxis": {
            "backgroundcolor": "#E5ECF6",
            "gridcolor": "white",
            "gridwidth": 2,
            "linecolor": "white",
            "showbackground": true,
            "ticks": "",
            "zerolinecolor": "white"
           },
           "zaxis": {
            "backgroundcolor": "#E5ECF6",
            "gridcolor": "white",
            "gridwidth": 2,
            "linecolor": "white",
            "showbackground": true,
            "ticks": "",
            "zerolinecolor": "white"
           }
          },
          "shapedefaults": {
           "line": {
            "color": "#2a3f5f"
           }
          },
          "ternary": {
           "aaxis": {
            "gridcolor": "white",
            "linecolor": "white",
            "ticks": ""
           },
           "baxis": {
            "gridcolor": "white",
            "linecolor": "white",
            "ticks": ""
           },
           "bgcolor": "#E5ECF6",
           "caxis": {
            "gridcolor": "white",
            "linecolor": "white",
            "ticks": ""
           }
          },
          "title": {
           "x": 0.05
          },
          "xaxis": {
           "automargin": true,
           "gridcolor": "white",
           "linecolor": "white",
           "ticks": "",
           "title": {
            "standoff": 15
           },
           "zerolinecolor": "white",
           "zerolinewidth": 2
          },
          "yaxis": {
           "automargin": true,
           "gridcolor": "white",
           "linecolor": "white",
           "ticks": "",
           "title": {
            "standoff": 15
           },
           "zerolinecolor": "white",
           "zerolinewidth": 2
          }
         }
        },
        "title": {
         "text": "PCA Biplot (Inputs + Cross-Eff)"
        },
        "xaxis": {
         "title": {
          "text": "PC1"
         }
        },
        "yaxis": {
         "title": {
          "text": "PC2"
         }
        }
       }
      }
     },
     "metadata": {},
     "output_type": "display_data"
    }
   ],
   "source": [
    "\n",
    "\n",
    "input_cols = [\n",
    "    \"Critical Power (kW)\",\n",
    "    \"Mean Energy Consumption (1000 Output Tokens)\",\n",
    "        \"Mean Energy Consumption (300 Output Tokens)\",\n",
    "\n",
    "    \"PUE\",\n",
    "    \"WUE (Site)\",\n",
    "    \"WUE (Source)\",\n",
    "    \"CIF\"\n",
    "]\n",
    "output_cols = [\"Cross_Efficiency_Avg_Total\", 'Score']\n",
    "all_cols = input_cols + output_cols\n",
    "\n",
    "df = df.copy()\n",
    "X = df[all_cols].values\n",
    "X_scaled = StandardScaler().fit_transform(X)\n",
    "\n",
    "pca = PCA(n_components=2)\n",
    "pcs = pca.fit_transform(X_scaled)\n",
    "\n",
    "pca_df = pd.DataFrame(pcs, columns=['PC1','PC2'], index=df.index)\n",
    "pca_df['Model'] = df['Model']\n",
    "pca_df['Cross_Efficiency'] = df['Cross_Efficiency_Avg_Total']\n",
    "\n",
    "fig_scree = px.bar(\n",
    "    x=['PC1','PC2'], y=pca.explained_variance_ratio_,\n",
    "    labels={'x':'Principal Component','y':'Variance Ratio'},\n",
    "    title='Explained Variance by PC'\n",
    ")\n",
    "fig_scree.update_layout(plot_bgcolor='white', paper_bgcolor='white')\n",
    "fig_scree.show()\n",
    "\n",
    "scale = max(pca_df[['PC1','PC2']].abs().max()) * 0.7\n",
    "fig = go.Figure()\n",
    "\n",
    "fig.add_trace(go.Scatter(\n",
    "    x=pca_df['PC1'], y=pca_df['PC2'],\n",
    "    mode='markers+text',\n",
    "    text=pca_df['Model'], textposition='top center',\n",
    "    marker=dict(size=8, color=pca_df['Cross_Efficiency'], colorscale='Viridis',\n",
    "                colorbar=dict(title='Cross-Eff'))\n",
    "))\n",
    "\n",
    "for i, var in enumerate(all_cols):\n",
    "    x_arrow = pca.components_[0, i] * scale\n",
    "    y_arrow = pca.components_[1, i] * scale\n",
    "\n",
    "    fig.add_annotation(\n",
    "        x=x_arrow, y=y_arrow,\n",
    "        ax=0, ay=0,\n",
    "        xref='x', yref='y', axref='x', ayref='y',\n",
    "        showarrow=True, arrowhead=3, arrowwidth=2, arrowcolor='red'\n",
    "    )\n",
    "    fig.add_annotation(\n",
    "        x=x_arrow*1.05, y=y_arrow*1.05,\n",
    "        text=var, showarrow=False, font=dict(color='red')\n",
    "    )\n",
    "\n",
    "fig.update_layout(\n",
    "    title='PCA Biplot (Inputs + Cross-Eff)',\n",
    "    xaxis_title='PC1', yaxis_title='PC2',\n",
    "    plot_bgcolor='white', paper_bgcolor='white'\n",
    ")\n",
    "fig.show()\n",
    "\n"
   ]
  },
  {
   "cell_type": "code",
   "execution_count": 105,
   "metadata": {},
   "outputs": [
    {
     "data": {
      "application/vnd.plotly.v1+json": {
       "config": {
        "plotlyServerURL": "https://plot.ly"
       },
       "data": [
        {
         "hovertemplate": "Principal Component=%{x}<br>Variance Ratio=%{y}<extra></extra>",
         "legendgroup": "",
         "marker": {
          "color": "#636efa",
          "pattern": {
           "shape": ""
          }
         },
         "name": "",
         "orientation": "v",
         "showlegend": false,
         "textposition": "auto",
         "type": "bar",
         "x": [
          "PC1",
          "PC2",
          "PC3",
          "PC4",
          "PC5",
          "PC6",
          "PC7"
         ],
         "xaxis": "x",
         "y": {
          "bdata": "01e3uXkA5z87G58c4mrCP3vZ0Efz47g/Hi2bBFi3mT+FMXuAJaWOP1pbOc22jWE5ThaaN5D6MTk=",
          "dtype": "f8"
         },
         "yaxis": "y"
        }
       ],
       "layout": {
        "barmode": "relative",
        "legend": {
         "tracegroupgap": 0
        },
        "paper_bgcolor": "white",
        "plot_bgcolor": "white",
        "template": {
         "data": {
          "bar": [
           {
            "error_x": {
             "color": "#2a3f5f"
            },
            "error_y": {
             "color": "#2a3f5f"
            },
            "marker": {
             "line": {
              "color": "#E5ECF6",
              "width": 0.5
             },
             "pattern": {
              "fillmode": "overlay",
              "size": 10,
              "solidity": 0.2
             }
            },
            "type": "bar"
           }
          ],
          "barpolar": [
           {
            "marker": {
             "line": {
              "color": "#E5ECF6",
              "width": 0.5
             },
             "pattern": {
              "fillmode": "overlay",
              "size": 10,
              "solidity": 0.2
             }
            },
            "type": "barpolar"
           }
          ],
          "carpet": [
           {
            "aaxis": {
             "endlinecolor": "#2a3f5f",
             "gridcolor": "white",
             "linecolor": "white",
             "minorgridcolor": "white",
             "startlinecolor": "#2a3f5f"
            },
            "baxis": {
             "endlinecolor": "#2a3f5f",
             "gridcolor": "white",
             "linecolor": "white",
             "minorgridcolor": "white",
             "startlinecolor": "#2a3f5f"
            },
            "type": "carpet"
           }
          ],
          "choropleth": [
           {
            "colorbar": {
             "outlinewidth": 0,
             "ticks": ""
            },
            "type": "choropleth"
           }
          ],
          "contour": [
           {
            "colorbar": {
             "outlinewidth": 0,
             "ticks": ""
            },
            "colorscale": [
             [
              0,
              "#0d0887"
             ],
             [
              0.1111111111111111,
              "#46039f"
             ],
             [
              0.2222222222222222,
              "#7201a8"
             ],
             [
              0.3333333333333333,
              "#9c179e"
             ],
             [
              0.4444444444444444,
              "#bd3786"
             ],
             [
              0.5555555555555556,
              "#d8576b"
             ],
             [
              0.6666666666666666,
              "#ed7953"
             ],
             [
              0.7777777777777778,
              "#fb9f3a"
             ],
             [
              0.8888888888888888,
              "#fdca26"
             ],
             [
              1,
              "#f0f921"
             ]
            ],
            "type": "contour"
           }
          ],
          "contourcarpet": [
           {
            "colorbar": {
             "outlinewidth": 0,
             "ticks": ""
            },
            "type": "contourcarpet"
           }
          ],
          "heatmap": [
           {
            "colorbar": {
             "outlinewidth": 0,
             "ticks": ""
            },
            "colorscale": [
             [
              0,
              "#0d0887"
             ],
             [
              0.1111111111111111,
              "#46039f"
             ],
             [
              0.2222222222222222,
              "#7201a8"
             ],
             [
              0.3333333333333333,
              "#9c179e"
             ],
             [
              0.4444444444444444,
              "#bd3786"
             ],
             [
              0.5555555555555556,
              "#d8576b"
             ],
             [
              0.6666666666666666,
              "#ed7953"
             ],
             [
              0.7777777777777778,
              "#fb9f3a"
             ],
             [
              0.8888888888888888,
              "#fdca26"
             ],
             [
              1,
              "#f0f921"
             ]
            ],
            "type": "heatmap"
           }
          ],
          "histogram": [
           {
            "marker": {
             "pattern": {
              "fillmode": "overlay",
              "size": 10,
              "solidity": 0.2
             }
            },
            "type": "histogram"
           }
          ],
          "histogram2d": [
           {
            "colorbar": {
             "outlinewidth": 0,
             "ticks": ""
            },
            "colorscale": [
             [
              0,
              "#0d0887"
             ],
             [
              0.1111111111111111,
              "#46039f"
             ],
             [
              0.2222222222222222,
              "#7201a8"
             ],
             [
              0.3333333333333333,
              "#9c179e"
             ],
             [
              0.4444444444444444,
              "#bd3786"
             ],
             [
              0.5555555555555556,
              "#d8576b"
             ],
             [
              0.6666666666666666,
              "#ed7953"
             ],
             [
              0.7777777777777778,
              "#fb9f3a"
             ],
             [
              0.8888888888888888,
              "#fdca26"
             ],
             [
              1,
              "#f0f921"
             ]
            ],
            "type": "histogram2d"
           }
          ],
          "histogram2dcontour": [
           {
            "colorbar": {
             "outlinewidth": 0,
             "ticks": ""
            },
            "colorscale": [
             [
              0,
              "#0d0887"
             ],
             [
              0.1111111111111111,
              "#46039f"
             ],
             [
              0.2222222222222222,
              "#7201a8"
             ],
             [
              0.3333333333333333,
              "#9c179e"
             ],
             [
              0.4444444444444444,
              "#bd3786"
             ],
             [
              0.5555555555555556,
              "#d8576b"
             ],
             [
              0.6666666666666666,
              "#ed7953"
             ],
             [
              0.7777777777777778,
              "#fb9f3a"
             ],
             [
              0.8888888888888888,
              "#fdca26"
             ],
             [
              1,
              "#f0f921"
             ]
            ],
            "type": "histogram2dcontour"
           }
          ],
          "mesh3d": [
           {
            "colorbar": {
             "outlinewidth": 0,
             "ticks": ""
            },
            "type": "mesh3d"
           }
          ],
          "parcoords": [
           {
            "line": {
             "colorbar": {
              "outlinewidth": 0,
              "ticks": ""
             }
            },
            "type": "parcoords"
           }
          ],
          "pie": [
           {
            "automargin": true,
            "type": "pie"
           }
          ],
          "scatter": [
           {
            "fillpattern": {
             "fillmode": "overlay",
             "size": 10,
             "solidity": 0.2
            },
            "type": "scatter"
           }
          ],
          "scatter3d": [
           {
            "line": {
             "colorbar": {
              "outlinewidth": 0,
              "ticks": ""
             }
            },
            "marker": {
             "colorbar": {
              "outlinewidth": 0,
              "ticks": ""
             }
            },
            "type": "scatter3d"
           }
          ],
          "scattercarpet": [
           {
            "marker": {
             "colorbar": {
              "outlinewidth": 0,
              "ticks": ""
             }
            },
            "type": "scattercarpet"
           }
          ],
          "scattergeo": [
           {
            "marker": {
             "colorbar": {
              "outlinewidth": 0,
              "ticks": ""
             }
            },
            "type": "scattergeo"
           }
          ],
          "scattergl": [
           {
            "marker": {
             "colorbar": {
              "outlinewidth": 0,
              "ticks": ""
             }
            },
            "type": "scattergl"
           }
          ],
          "scattermap": [
           {
            "marker": {
             "colorbar": {
              "outlinewidth": 0,
              "ticks": ""
             }
            },
            "type": "scattermap"
           }
          ],
          "scattermapbox": [
           {
            "marker": {
             "colorbar": {
              "outlinewidth": 0,
              "ticks": ""
             }
            },
            "type": "scattermapbox"
           }
          ],
          "scatterpolar": [
           {
            "marker": {
             "colorbar": {
              "outlinewidth": 0,
              "ticks": ""
             }
            },
            "type": "scatterpolar"
           }
          ],
          "scatterpolargl": [
           {
            "marker": {
             "colorbar": {
              "outlinewidth": 0,
              "ticks": ""
             }
            },
            "type": "scatterpolargl"
           }
          ],
          "scatterternary": [
           {
            "marker": {
             "colorbar": {
              "outlinewidth": 0,
              "ticks": ""
             }
            },
            "type": "scatterternary"
           }
          ],
          "surface": [
           {
            "colorbar": {
             "outlinewidth": 0,
             "ticks": ""
            },
            "colorscale": [
             [
              0,
              "#0d0887"
             ],
             [
              0.1111111111111111,
              "#46039f"
             ],
             [
              0.2222222222222222,
              "#7201a8"
             ],
             [
              0.3333333333333333,
              "#9c179e"
             ],
             [
              0.4444444444444444,
              "#bd3786"
             ],
             [
              0.5555555555555556,
              "#d8576b"
             ],
             [
              0.6666666666666666,
              "#ed7953"
             ],
             [
              0.7777777777777778,
              "#fb9f3a"
             ],
             [
              0.8888888888888888,
              "#fdca26"
             ],
             [
              1,
              "#f0f921"
             ]
            ],
            "type": "surface"
           }
          ],
          "table": [
           {
            "cells": {
             "fill": {
              "color": "#EBF0F8"
             },
             "line": {
              "color": "white"
             }
            },
            "header": {
             "fill": {
              "color": "#C8D4E3"
             },
             "line": {
              "color": "white"
             }
            },
            "type": "table"
           }
          ]
         },
         "layout": {
          "annotationdefaults": {
           "arrowcolor": "#2a3f5f",
           "arrowhead": 0,
           "arrowwidth": 1
          },
          "autotypenumbers": "strict",
          "coloraxis": {
           "colorbar": {
            "outlinewidth": 0,
            "ticks": ""
           }
          },
          "colorscale": {
           "diverging": [
            [
             0,
             "#8e0152"
            ],
            [
             0.1,
             "#c51b7d"
            ],
            [
             0.2,
             "#de77ae"
            ],
            [
             0.3,
             "#f1b6da"
            ],
            [
             0.4,
             "#fde0ef"
            ],
            [
             0.5,
             "#f7f7f7"
            ],
            [
             0.6,
             "#e6f5d0"
            ],
            [
             0.7,
             "#b8e186"
            ],
            [
             0.8,
             "#7fbc41"
            ],
            [
             0.9,
             "#4d9221"
            ],
            [
             1,
             "#276419"
            ]
           ],
           "sequential": [
            [
             0,
             "#0d0887"
            ],
            [
             0.1111111111111111,
             "#46039f"
            ],
            [
             0.2222222222222222,
             "#7201a8"
            ],
            [
             0.3333333333333333,
             "#9c179e"
            ],
            [
             0.4444444444444444,
             "#bd3786"
            ],
            [
             0.5555555555555556,
             "#d8576b"
            ],
            [
             0.6666666666666666,
             "#ed7953"
            ],
            [
             0.7777777777777778,
             "#fb9f3a"
            ],
            [
             0.8888888888888888,
             "#fdca26"
            ],
            [
             1,
             "#f0f921"
            ]
           ],
           "sequentialminus": [
            [
             0,
             "#0d0887"
            ],
            [
             0.1111111111111111,
             "#46039f"
            ],
            [
             0.2222222222222222,
             "#7201a8"
            ],
            [
             0.3333333333333333,
             "#9c179e"
            ],
            [
             0.4444444444444444,
             "#bd3786"
            ],
            [
             0.5555555555555556,
             "#d8576b"
            ],
            [
             0.6666666666666666,
             "#ed7953"
            ],
            [
             0.7777777777777778,
             "#fb9f3a"
            ],
            [
             0.8888888888888888,
             "#fdca26"
            ],
            [
             1,
             "#f0f921"
            ]
           ]
          },
          "colorway": [
           "#636efa",
           "#EF553B",
           "#00cc96",
           "#ab63fa",
           "#FFA15A",
           "#19d3f3",
           "#FF6692",
           "#B6E880",
           "#FF97FF",
           "#FECB52"
          ],
          "font": {
           "color": "#2a3f5f"
          },
          "geo": {
           "bgcolor": "white",
           "lakecolor": "white",
           "landcolor": "#E5ECF6",
           "showlakes": true,
           "showland": true,
           "subunitcolor": "white"
          },
          "hoverlabel": {
           "align": "left"
          },
          "hovermode": "closest",
          "mapbox": {
           "style": "light"
          },
          "paper_bgcolor": "white",
          "plot_bgcolor": "#E5ECF6",
          "polar": {
           "angularaxis": {
            "gridcolor": "white",
            "linecolor": "white",
            "ticks": ""
           },
           "bgcolor": "#E5ECF6",
           "radialaxis": {
            "gridcolor": "white",
            "linecolor": "white",
            "ticks": ""
           }
          },
          "scene": {
           "xaxis": {
            "backgroundcolor": "#E5ECF6",
            "gridcolor": "white",
            "gridwidth": 2,
            "linecolor": "white",
            "showbackground": true,
            "ticks": "",
            "zerolinecolor": "white"
           },
           "yaxis": {
            "backgroundcolor": "#E5ECF6",
            "gridcolor": "white",
            "gridwidth": 2,
            "linecolor": "white",
            "showbackground": true,
            "ticks": "",
            "zerolinecolor": "white"
           },
           "zaxis": {
            "backgroundcolor": "#E5ECF6",
            "gridcolor": "white",
            "gridwidth": 2,
            "linecolor": "white",
            "showbackground": true,
            "ticks": "",
            "zerolinecolor": "white"
           }
          },
          "shapedefaults": {
           "line": {
            "color": "#2a3f5f"
           }
          },
          "ternary": {
           "aaxis": {
            "gridcolor": "white",
            "linecolor": "white",
            "ticks": ""
           },
           "baxis": {
            "gridcolor": "white",
            "linecolor": "white",
            "ticks": ""
           },
           "bgcolor": "#E5ECF6",
           "caxis": {
            "gridcolor": "white",
            "linecolor": "white",
            "ticks": ""
           }
          },
          "title": {
           "x": 0.05
          },
          "xaxis": {
           "automargin": true,
           "gridcolor": "white",
           "linecolor": "white",
           "ticks": "",
           "title": {
            "standoff": 15
           },
           "zerolinecolor": "white",
           "zerolinewidth": 2
          },
          "yaxis": {
           "automargin": true,
           "gridcolor": "white",
           "linecolor": "white",
           "ticks": "",
           "title": {
            "standoff": 15
           },
           "zerolinecolor": "white",
           "zerolinewidth": 2
          }
         }
        },
        "title": {
         "text": "Explained Variance by PC"
        },
        "xaxis": {
         "anchor": "y",
         "domain": [
          0,
          1
         ],
         "title": {
          "text": "Principal Component"
         }
        },
        "yaxis": {
         "anchor": "x",
         "domain": [
          0,
          1
         ],
         "title": {
          "text": "Variance Ratio"
         }
        }
       }
      }
     },
     "metadata": {},
     "output_type": "display_data"
    },
    {
     "data": {
      "application/vnd.plotly.v1+json": {
       "config": {
        "plotlyServerURL": "https://plot.ly"
       },
       "data": [
        {
         "marker": {
          "color": [
           0.6899701267476335,
           0.7828263319326476,
           0.7199256258564878,
           0.8633652170813164,
           0.44166234161593776,
           0.5942028784596808,
           0.7133171947380584,
           0.8282137277721323,
           0.6168916481560576,
           0.6651574651094805,
           0.7393457378262515,
           0.49791932263412314,
           0.057346393358287624,
           0.059317553952125214,
           0.8639410917510526,
           0.6201139386633799,
           0.6262266365755039,
           0.49208380410681524,
           0.3163651734194638,
           0.43960872668837,
           0.4202968779892657,
           0.48775059950101346,
           0.4636537463341311,
           0.18915197374990497,
           0.4035947164436265,
           0.42705319406785797,
           0.6952276200995082
          ],
          "colorbar": {
           "title": {
            "text": "Cross-Eff"
           }
          },
          "colorscale": [
           [
            0,
            "#440154"
           ],
           [
            0.1111111111111111,
            "#482878"
           ],
           [
            0.2222222222222222,
            "#3e4989"
           ],
           [
            0.3333333333333333,
            "#31688e"
           ],
           [
            0.4444444444444444,
            "#26828e"
           ],
           [
            0.5555555555555556,
            "#1f9e89"
           ],
           [
            0.6666666666666666,
            "#35b779"
           ],
           [
            0.7777777777777778,
            "#6ece58"
           ],
           [
            0.8888888888888888,
            "#b5de2b"
           ],
           [
            1,
            "#fde725"
           ]
          ],
          "size": 8
         },
         "mode": "markers+text",
         "text": [
          "GPT-4.1",
          "GPT-4.1 mini",
          "GPT-4.1 nano",
          "o4-mini (high)",
          "GPT-4.5",
          "o3",
          "o3-mini (high)",
          "o3-mini",
          "o1",
          "o1-mini",
          "GPT-4o (Mar '25)",
          "GPT-4o mini",
          "Deepseek-R1",
          "Deepseek-V3",
          "Claude-3.7 Sonnet",
          "Claude-3.7 Sonnet ET",
          "Claude 3.5 Sonnet",
          "Claude 3.5 Haiku",
          "Llama-3-8B",
          "Llama-3-70B",
          "Llama-3.1-8B",
          "Llama-3.1-70B",
          "Llama-3.1-405B",
          "Llama-3.2 1B",
          "Llama-3.2 3B",
          "Llama-3.2-vision 90B",
          "Llama-3.3 70B"
         ],
         "textposition": "top center",
         "type": "scatter",
         "x": {
          "bdata": "pUPXNpXn7L8wH5O1mpnvv8S3GRgTLPG/9D+lJ1+i57/Rv6rGSuC7P0r9WEBlc+I/iHRFMIneyr9IbzX9O93qv8KIwLRUjde/3IdtpOEa5r/FMoV+ognwv7MHgDhqTvS/OQG7aBqnIUBHYIJmMsUaQLn7Ewy5qt6//rAoItdM17+NWNpfTJjfvwxL7ULPj+G/AWt8VOPn57+e+OnkaBfov3aN1eulZem/jyGBgYmg5b/R4PTrCV3bv+QazPh2aOW/MYBGTIX26r8PvAXwLBTjvzOjxgKIaee/",
          "dtype": "f8"
         },
         "y": {
          "bdata": "IuVjESjexj/CdToixLPEP3j16jdMTMI/9SYVuKYEyj/6MUiTUYnYP5CpG6Ev2d8/DWpQlU/F1T8Yfr9mLvrIPxtHlrD6HtI/ihsVSh/2zT+ENy/NOjrEP7yfWzXFNhTATc2AKIG2tb+rLbrztMncv9iV8g+PNdA/9/hihjul0D+umwlHb5DPP1/4ChWT5M0/TjY5GVGlyD9L4BD2j+LHP/DP+BMaJcc/bS1U9KbayT8EdqLceGzQP9Bmv8KwKcs/SIlKzY6RxT8S7hx7g2zMP53HLixk+cg/",
          "dtype": "f8"
         }
        }
       ],
       "layout": {
        "annotations": [
         {
          "arrowcolor": "red",
          "arrowhead": 3,
          "arrowwidth": 2,
          "ax": 0,
          "axref": "x",
          "ay": 0,
          "ayref": "y",
          "showarrow": true,
          "x": 0.30562838407749376,
          "xref": "x",
          "y": 6.079470232353934,
          "yref": "y"
         },
         {
          "font": {
           "color": "red"
          },
          "showarrow": false,
          "text": "Critical Power (kW)",
          "x": 0.3209098032813685,
          "y": 6.383443743971631
         },
         {
          "arrowcolor": "red",
          "arrowhead": 3,
          "arrowwidth": 2,
          "ax": 0,
          "axref": "x",
          "ay": 0,
          "ayref": "y",
          "showarrow": true,
          "x": 2.3142295063567775,
          "xref": "x",
          "y": 0.5777066457383506,
          "yref": "y"
         },
         {
          "font": {
           "color": "red"
          },
          "showarrow": false,
          "text": "Mean Energy Consumption (1000 Output Tokens)",
          "x": 2.4299409816746165,
          "y": 0.6065919780252682
         },
         {
          "arrowcolor": "red",
          "arrowhead": 3,
          "arrowwidth": 2,
          "ax": 0,
          "axref": "x",
          "ay": 0,
          "ayref": "y",
          "showarrow": true,
          "x": 2.2272433806088254,
          "xref": "x",
          "y": 0.32188123053825446,
          "yref": "y"
         },
         {
          "font": {
           "color": "red"
          },
          "showarrow": false,
          "text": "Mean Energy Consumption (300 Output Tokens)",
          "x": 2.338605549639267,
          "y": 0.3379752920651672
         },
         {
          "arrowcolor": "red",
          "arrowhead": 3,
          "arrowwidth": 2,
          "ax": 0,
          "axref": "x",
          "ay": 0,
          "ayref": "y",
          "showarrow": true,
          "x": 2.60504531020782,
          "xref": "x",
          "y": -0.1442091381895659,
          "yref": "y"
         },
         {
          "font": {
           "color": "red"
          },
          "showarrow": false,
          "text": "PUE",
          "x": 2.735297575718211,
          "y": -0.1514195950990442
         },
         {
          "arrowcolor": "red",
          "arrowhead": 3,
          "arrowwidth": 2,
          "ax": 0,
          "axref": "x",
          "ay": 0,
          "ayref": "y",
          "showarrow": true,
          "x": 2.6280953489409167,
          "xref": "x",
          "y": -0.7190782679874917,
          "yref": "y"
         },
         {
          "font": {
           "color": "red"
          },
          "showarrow": false,
          "text": "WUE (Site)",
          "x": 2.7595001163879624,
          "y": -0.7550321813868663
         },
         {
          "arrowcolor": "red",
          "arrowhead": 3,
          "arrowwidth": 2,
          "ax": 0,
          "axref": "x",
          "ay": 0,
          "ayref": "y",
          "showarrow": true,
          "x": 2.694924820190379,
          "xref": "x",
          "y": -0.46379640776240344,
          "yref": "y"
         },
         {
          "font": {
           "color": "red"
          },
          "showarrow": false,
          "text": "WUE (Source)",
          "x": 2.8296710611998983,
          "y": -0.4869862281505236
         },
         {
          "arrowcolor": "red",
          "arrowhead": 3,
          "arrowwidth": 2,
          "ax": 0,
          "axref": "x",
          "ay": 0,
          "ayref": "y",
          "showarrow": true,
          "x": 2.6092026886902735,
          "xref": "x",
          "y": -0.15197678163475817,
          "yref": "y"
         },
         {
          "font": {
           "color": "red"
          },
          "showarrow": false,
          "text": "CIF",
          "x": 2.7396628231247875,
          "y": -0.15957562071649609
         }
        ],
        "paper_bgcolor": "white",
        "plot_bgcolor": "white",
        "template": {
         "data": {
          "bar": [
           {
            "error_x": {
             "color": "#2a3f5f"
            },
            "error_y": {
             "color": "#2a3f5f"
            },
            "marker": {
             "line": {
              "color": "#E5ECF6",
              "width": 0.5
             },
             "pattern": {
              "fillmode": "overlay",
              "size": 10,
              "solidity": 0.2
             }
            },
            "type": "bar"
           }
          ],
          "barpolar": [
           {
            "marker": {
             "line": {
              "color": "#E5ECF6",
              "width": 0.5
             },
             "pattern": {
              "fillmode": "overlay",
              "size": 10,
              "solidity": 0.2
             }
            },
            "type": "barpolar"
           }
          ],
          "carpet": [
           {
            "aaxis": {
             "endlinecolor": "#2a3f5f",
             "gridcolor": "white",
             "linecolor": "white",
             "minorgridcolor": "white",
             "startlinecolor": "#2a3f5f"
            },
            "baxis": {
             "endlinecolor": "#2a3f5f",
             "gridcolor": "white",
             "linecolor": "white",
             "minorgridcolor": "white",
             "startlinecolor": "#2a3f5f"
            },
            "type": "carpet"
           }
          ],
          "choropleth": [
           {
            "colorbar": {
             "outlinewidth": 0,
             "ticks": ""
            },
            "type": "choropleth"
           }
          ],
          "contour": [
           {
            "colorbar": {
             "outlinewidth": 0,
             "ticks": ""
            },
            "colorscale": [
             [
              0,
              "#0d0887"
             ],
             [
              0.1111111111111111,
              "#46039f"
             ],
             [
              0.2222222222222222,
              "#7201a8"
             ],
             [
              0.3333333333333333,
              "#9c179e"
             ],
             [
              0.4444444444444444,
              "#bd3786"
             ],
             [
              0.5555555555555556,
              "#d8576b"
             ],
             [
              0.6666666666666666,
              "#ed7953"
             ],
             [
              0.7777777777777778,
              "#fb9f3a"
             ],
             [
              0.8888888888888888,
              "#fdca26"
             ],
             [
              1,
              "#f0f921"
             ]
            ],
            "type": "contour"
           }
          ],
          "contourcarpet": [
           {
            "colorbar": {
             "outlinewidth": 0,
             "ticks": ""
            },
            "type": "contourcarpet"
           }
          ],
          "heatmap": [
           {
            "colorbar": {
             "outlinewidth": 0,
             "ticks": ""
            },
            "colorscale": [
             [
              0,
              "#0d0887"
             ],
             [
              0.1111111111111111,
              "#46039f"
             ],
             [
              0.2222222222222222,
              "#7201a8"
             ],
             [
              0.3333333333333333,
              "#9c179e"
             ],
             [
              0.4444444444444444,
              "#bd3786"
             ],
             [
              0.5555555555555556,
              "#d8576b"
             ],
             [
              0.6666666666666666,
              "#ed7953"
             ],
             [
              0.7777777777777778,
              "#fb9f3a"
             ],
             [
              0.8888888888888888,
              "#fdca26"
             ],
             [
              1,
              "#f0f921"
             ]
            ],
            "type": "heatmap"
           }
          ],
          "histogram": [
           {
            "marker": {
             "pattern": {
              "fillmode": "overlay",
              "size": 10,
              "solidity": 0.2
             }
            },
            "type": "histogram"
           }
          ],
          "histogram2d": [
           {
            "colorbar": {
             "outlinewidth": 0,
             "ticks": ""
            },
            "colorscale": [
             [
              0,
              "#0d0887"
             ],
             [
              0.1111111111111111,
              "#46039f"
             ],
             [
              0.2222222222222222,
              "#7201a8"
             ],
             [
              0.3333333333333333,
              "#9c179e"
             ],
             [
              0.4444444444444444,
              "#bd3786"
             ],
             [
              0.5555555555555556,
              "#d8576b"
             ],
             [
              0.6666666666666666,
              "#ed7953"
             ],
             [
              0.7777777777777778,
              "#fb9f3a"
             ],
             [
              0.8888888888888888,
              "#fdca26"
             ],
             [
              1,
              "#f0f921"
             ]
            ],
            "type": "histogram2d"
           }
          ],
          "histogram2dcontour": [
           {
            "colorbar": {
             "outlinewidth": 0,
             "ticks": ""
            },
            "colorscale": [
             [
              0,
              "#0d0887"
             ],
             [
              0.1111111111111111,
              "#46039f"
             ],
             [
              0.2222222222222222,
              "#7201a8"
             ],
             [
              0.3333333333333333,
              "#9c179e"
             ],
             [
              0.4444444444444444,
              "#bd3786"
             ],
             [
              0.5555555555555556,
              "#d8576b"
             ],
             [
              0.6666666666666666,
              "#ed7953"
             ],
             [
              0.7777777777777778,
              "#fb9f3a"
             ],
             [
              0.8888888888888888,
              "#fdca26"
             ],
             [
              1,
              "#f0f921"
             ]
            ],
            "type": "histogram2dcontour"
           }
          ],
          "mesh3d": [
           {
            "colorbar": {
             "outlinewidth": 0,
             "ticks": ""
            },
            "type": "mesh3d"
           }
          ],
          "parcoords": [
           {
            "line": {
             "colorbar": {
              "outlinewidth": 0,
              "ticks": ""
             }
            },
            "type": "parcoords"
           }
          ],
          "pie": [
           {
            "automargin": true,
            "type": "pie"
           }
          ],
          "scatter": [
           {
            "fillpattern": {
             "fillmode": "overlay",
             "size": 10,
             "solidity": 0.2
            },
            "type": "scatter"
           }
          ],
          "scatter3d": [
           {
            "line": {
             "colorbar": {
              "outlinewidth": 0,
              "ticks": ""
             }
            },
            "marker": {
             "colorbar": {
              "outlinewidth": 0,
              "ticks": ""
             }
            },
            "type": "scatter3d"
           }
          ],
          "scattercarpet": [
           {
            "marker": {
             "colorbar": {
              "outlinewidth": 0,
              "ticks": ""
             }
            },
            "type": "scattercarpet"
           }
          ],
          "scattergeo": [
           {
            "marker": {
             "colorbar": {
              "outlinewidth": 0,
              "ticks": ""
             }
            },
            "type": "scattergeo"
           }
          ],
          "scattergl": [
           {
            "marker": {
             "colorbar": {
              "outlinewidth": 0,
              "ticks": ""
             }
            },
            "type": "scattergl"
           }
          ],
          "scattermap": [
           {
            "marker": {
             "colorbar": {
              "outlinewidth": 0,
              "ticks": ""
             }
            },
            "type": "scattermap"
           }
          ],
          "scattermapbox": [
           {
            "marker": {
             "colorbar": {
              "outlinewidth": 0,
              "ticks": ""
             }
            },
            "type": "scattermapbox"
           }
          ],
          "scatterpolar": [
           {
            "marker": {
             "colorbar": {
              "outlinewidth": 0,
              "ticks": ""
             }
            },
            "type": "scatterpolar"
           }
          ],
          "scatterpolargl": [
           {
            "marker": {
             "colorbar": {
              "outlinewidth": 0,
              "ticks": ""
             }
            },
            "type": "scatterpolargl"
           }
          ],
          "scatterternary": [
           {
            "marker": {
             "colorbar": {
              "outlinewidth": 0,
              "ticks": ""
             }
            },
            "type": "scatterternary"
           }
          ],
          "surface": [
           {
            "colorbar": {
             "outlinewidth": 0,
             "ticks": ""
            },
            "colorscale": [
             [
              0,
              "#0d0887"
             ],
             [
              0.1111111111111111,
              "#46039f"
             ],
             [
              0.2222222222222222,
              "#7201a8"
             ],
             [
              0.3333333333333333,
              "#9c179e"
             ],
             [
              0.4444444444444444,
              "#bd3786"
             ],
             [
              0.5555555555555556,
              "#d8576b"
             ],
             [
              0.6666666666666666,
              "#ed7953"
             ],
             [
              0.7777777777777778,
              "#fb9f3a"
             ],
             [
              0.8888888888888888,
              "#fdca26"
             ],
             [
              1,
              "#f0f921"
             ]
            ],
            "type": "surface"
           }
          ],
          "table": [
           {
            "cells": {
             "fill": {
              "color": "#EBF0F8"
             },
             "line": {
              "color": "white"
             }
            },
            "header": {
             "fill": {
              "color": "#C8D4E3"
             },
             "line": {
              "color": "white"
             }
            },
            "type": "table"
           }
          ]
         },
         "layout": {
          "annotationdefaults": {
           "arrowcolor": "#2a3f5f",
           "arrowhead": 0,
           "arrowwidth": 1
          },
          "autotypenumbers": "strict",
          "coloraxis": {
           "colorbar": {
            "outlinewidth": 0,
            "ticks": ""
           }
          },
          "colorscale": {
           "diverging": [
            [
             0,
             "#8e0152"
            ],
            [
             0.1,
             "#c51b7d"
            ],
            [
             0.2,
             "#de77ae"
            ],
            [
             0.3,
             "#f1b6da"
            ],
            [
             0.4,
             "#fde0ef"
            ],
            [
             0.5,
             "#f7f7f7"
            ],
            [
             0.6,
             "#e6f5d0"
            ],
            [
             0.7,
             "#b8e186"
            ],
            [
             0.8,
             "#7fbc41"
            ],
            [
             0.9,
             "#4d9221"
            ],
            [
             1,
             "#276419"
            ]
           ],
           "sequential": [
            [
             0,
             "#0d0887"
            ],
            [
             0.1111111111111111,
             "#46039f"
            ],
            [
             0.2222222222222222,
             "#7201a8"
            ],
            [
             0.3333333333333333,
             "#9c179e"
            ],
            [
             0.4444444444444444,
             "#bd3786"
            ],
            [
             0.5555555555555556,
             "#d8576b"
            ],
            [
             0.6666666666666666,
             "#ed7953"
            ],
            [
             0.7777777777777778,
             "#fb9f3a"
            ],
            [
             0.8888888888888888,
             "#fdca26"
            ],
            [
             1,
             "#f0f921"
            ]
           ],
           "sequentialminus": [
            [
             0,
             "#0d0887"
            ],
            [
             0.1111111111111111,
             "#46039f"
            ],
            [
             0.2222222222222222,
             "#7201a8"
            ],
            [
             0.3333333333333333,
             "#9c179e"
            ],
            [
             0.4444444444444444,
             "#bd3786"
            ],
            [
             0.5555555555555556,
             "#d8576b"
            ],
            [
             0.6666666666666666,
             "#ed7953"
            ],
            [
             0.7777777777777778,
             "#fb9f3a"
            ],
            [
             0.8888888888888888,
             "#fdca26"
            ],
            [
             1,
             "#f0f921"
            ]
           ]
          },
          "colorway": [
           "#636efa",
           "#EF553B",
           "#00cc96",
           "#ab63fa",
           "#FFA15A",
           "#19d3f3",
           "#FF6692",
           "#B6E880",
           "#FF97FF",
           "#FECB52"
          ],
          "font": {
           "color": "#2a3f5f"
          },
          "geo": {
           "bgcolor": "white",
           "lakecolor": "white",
           "landcolor": "#E5ECF6",
           "showlakes": true,
           "showland": true,
           "subunitcolor": "white"
          },
          "hoverlabel": {
           "align": "left"
          },
          "hovermode": "closest",
          "mapbox": {
           "style": "light"
          },
          "paper_bgcolor": "white",
          "plot_bgcolor": "#E5ECF6",
          "polar": {
           "angularaxis": {
            "gridcolor": "white",
            "linecolor": "white",
            "ticks": ""
           },
           "bgcolor": "#E5ECF6",
           "radialaxis": {
            "gridcolor": "white",
            "linecolor": "white",
            "ticks": ""
           }
          },
          "scene": {
           "xaxis": {
            "backgroundcolor": "#E5ECF6",
            "gridcolor": "white",
            "gridwidth": 2,
            "linecolor": "white",
            "showbackground": true,
            "ticks": "",
            "zerolinecolor": "white"
           },
           "yaxis": {
            "backgroundcolor": "#E5ECF6",
            "gridcolor": "white",
            "gridwidth": 2,
            "linecolor": "white",
            "showbackground": true,
            "ticks": "",
            "zerolinecolor": "white"
           },
           "zaxis": {
            "backgroundcolor": "#E5ECF6",
            "gridcolor": "white",
            "gridwidth": 2,
            "linecolor": "white",
            "showbackground": true,
            "ticks": "",
            "zerolinecolor": "white"
           }
          },
          "shapedefaults": {
           "line": {
            "color": "#2a3f5f"
           }
          },
          "ternary": {
           "aaxis": {
            "gridcolor": "white",
            "linecolor": "white",
            "ticks": ""
           },
           "baxis": {
            "gridcolor": "white",
            "linecolor": "white",
            "ticks": ""
           },
           "bgcolor": "#E5ECF6",
           "caxis": {
            "gridcolor": "white",
            "linecolor": "white",
            "ticks": ""
           }
          },
          "title": {
           "x": 0.05
          },
          "xaxis": {
           "automargin": true,
           "gridcolor": "white",
           "linecolor": "white",
           "ticks": "",
           "title": {
            "standoff": 15
           },
           "zerolinecolor": "white",
           "zerolinewidth": 2
          },
          "yaxis": {
           "automargin": true,
           "gridcolor": "white",
           "linecolor": "white",
           "ticks": "",
           "title": {
            "standoff": 15
           },
           "zerolinecolor": "white",
           "zerolinewidth": 2
          }
         }
        },
        "title": {
         "text": "PCA Biplot (Inputs + Cross-Eff)"
        },
        "xaxis": {
         "title": {
          "text": "PC1"
         }
        },
        "yaxis": {
         "title": {
          "text": "PC2"
         }
        }
       }
      }
     },
     "metadata": {},
     "output_type": "display_data"
    }
   ],
   "source": [
    "input_cols = [\n",
    "    \"Critical Power (kW)\",\n",
    "    \"Mean Energy Consumption (1000 Output Tokens)\",\n",
    "        \"Mean Energy Consumption (300 Output Tokens)\",\n",
    "\n",
    "    \"PUE\",\n",
    "    \"WUE (Site)\",\n",
    "    \"WUE (Source)\",\n",
    "    \"CIF\"\n",
    "]\n",
    "output_cols = [\"Cross_Efficiency_Avg_Total\", 'Score']\n",
    "all_cols = input_cols \n",
    "\n",
    "df = df.copy()\n",
    "X = df[all_cols].values\n",
    "X_scaled = StandardScaler().fit_transform(X)\n",
    "\n",
    "pca = PCA(n_components=7)\n",
    "pcs = pca.fit_transform(X_scaled)\n",
    "\n",
    "pca_df = pd.DataFrame(pcs, columns=['PC1','PC2',\"PC3\",\"PC4\", 'PC5','PC6','PC7'], index=df.index)\n",
    "pca_df['Model'] = df['Model']\n",
    "pca_df['Cross_Efficiency'] = df['Cross_Efficiency_Avg_Total']\n",
    "\n",
    "fig_scree = px.bar(\n",
    "    x=['PC1','PC2',\"PC3\",\"PC4\", 'PC5','PC6','PC7'], y=pca.explained_variance_ratio_,\n",
    "    labels={'x':'Principal Component','y':'Variance Ratio'},\n",
    "    title='Explained Variance by PC'\n",
    ")\n",
    "fig_scree.update_layout(plot_bgcolor='white', paper_bgcolor='white')\n",
    "fig_scree.show()\n",
    "\n",
    "scale = max(pca_df[['PC1','PC2']].abs().max()) * 0.7\n",
    "fig = go.Figure()\n",
    "\n",
    "fig.add_trace(go.Scatter(\n",
    "    x=pca_df['PC1'], y=pca_df['PC2'],\n",
    "    mode='markers+text',\n",
    "    text=pca_df['Model'], textposition='top center',\n",
    "    marker=dict(size=8, color=pca_df['Cross_Efficiency'], colorscale='Viridis',\n",
    "                colorbar=dict(title='Cross-Eff'))\n",
    "))\n",
    "\n",
    "for i, var in enumerate(all_cols):\n",
    "    x_arrow = pca.components_[0, i] * scale\n",
    "    y_arrow = pca.components_[1, i] * scale\n",
    "\n",
    "    fig.add_annotation(\n",
    "        x=x_arrow, y=y_arrow,\n",
    "        ax=0, ay=0,\n",
    "        xref='x', yref='y', axref='x', ayref='y',\n",
    "        showarrow=True, arrowhead=3, arrowwidth=2, arrowcolor='red'\n",
    "    )\n",
    "    fig.add_annotation(\n",
    "        x=x_arrow*1.05, y=y_arrow*1.05,\n",
    "        text=var, showarrow=False, font=dict(color='red')\n",
    "    )\n",
    "\n",
    "fig.update_layout(\n",
    "    title='PCA Biplot (Inputs + Cross-Eff)',\n",
    "    xaxis_title='PC1', yaxis_title='PC2',\n",
    "    plot_bgcolor='white', paper_bgcolor='white'\n",
    ")\n",
    "fig.show()\n",
    "\n"
   ]
  },
  {
   "cell_type": "code",
   "execution_count": null,
   "metadata": {},
   "outputs": [],
   "source": []
  },
  {
   "cell_type": "code",
   "execution_count": 107,
   "metadata": {},
   "outputs": [
    {
     "data": {
      "text/html": [
       "<div>\n",
       "<style scoped>\n",
       "    .dataframe tbody tr th:only-of-type {\n",
       "        vertical-align: middle;\n",
       "    }\n",
       "\n",
       "    .dataframe tbody tr th {\n",
       "        vertical-align: top;\n",
       "    }\n",
       "\n",
       "    .dataframe thead th {\n",
       "        text-align: right;\n",
       "    }\n",
       "</style>\n",
       "<table border=\"1\" class=\"dataframe\">\n",
       "  <thead>\n",
       "    <tr style=\"text-align: right;\">\n",
       "      <th></th>\n",
       "      <th>Min Mean (300 Output Tokens)</th>\n",
       "      <th>Max Mean (300 Output Tokens)</th>\n",
       "      <th>Min Mean (1k Output Tokens)</th>\n",
       "      <th>Max Mean (1k Output Tokens)</th>\n",
       "      <th>Min Mean (1.5k Output Tokens)</th>\n",
       "      <th>Max Mean (1.5k Output Tokens)</th>\n",
       "    </tr>\n",
       "  </thead>\n",
       "  <tbody>\n",
       "    <tr>\n",
       "      <th>10</th>\n",
       "      <td>0.000386</td>\n",
       "      <td>0.000456</td>\n",
       "      <td>0.001112</td>\n",
       "      <td>0.001316</td>\n",
       "      <td>0.001638</td>\n",
       "      <td>0.001938</td>\n",
       "    </tr>\n",
       "    <tr>\n",
       "      <th>11</th>\n",
       "      <td>0.000405</td>\n",
       "      <td>0.000437</td>\n",
       "      <td>0.001364</td>\n",
       "      <td>0.001471</td>\n",
       "      <td>0.002027</td>\n",
       "      <td>0.002185</td>\n",
       "    </tr>\n",
       "  </tbody>\n",
       "</table>\n",
       "</div>"
      ],
      "text/plain": [
       "    Min Mean (300 Output Tokens)  Max Mean (300 Output Tokens)  \\\n",
       "10                      0.000386                      0.000456   \n",
       "11                      0.000405                      0.000437   \n",
       "\n",
       "    Min Mean (1k Output Tokens)  Max Mean (1k Output Tokens)  \\\n",
       "10                     0.001112                     0.001316   \n",
       "11                     0.001364                     0.001471   \n",
       "\n",
       "    Min Mean (1.5k Output Tokens)  Max Mean (1.5k Output Tokens)  \n",
       "10                       0.001638                       0.001938  \n",
       "11                       0.002027                       0.002185  "
      ]
     },
     "execution_count": 107,
     "metadata": {},
     "output_type": "execute_result"
    }
   ],
   "source": [
    "df.loc[df[\"Model\"].isin([\"GPT-4o mini\",\"GPT-4o (Mar '25)\"])].iloc[:,19:25]"
   ]
  },
  {
   "cell_type": "code",
   "execution_count": 108,
   "metadata": {},
   "outputs": [],
   "source": [
    "df.loc[df[\"Model\"]==\"Claude 3.5 Haiku\", \"Model\"]= \"Claude-3.5 Haiku\""
   ]
  },
  {
   "cell_type": "code",
   "execution_count": 109,
   "metadata": {},
   "outputs": [],
   "source": [
    "df_melted=df[[\"Model\", \"Cross_Efficiency_Avg_300\", \"Cross_Efficiency_Avg_1000\", \"Cross_Efficiency_Avg_1500\"]].melt(id_vars=[\"Model\"], var_name=\"Prompt Length\", value_name=\"Cross-Efficiency\")"
   ]
  },
  {
   "cell_type": "code",
   "execution_count": 111,
   "metadata": {},
   "outputs": [
    {
     "data": {
      "application/vnd.plotly.v1+json": {
       "config": {
        "plotlyServerURL": "https://plot.ly"
       },
       "data": [
        {
         "hovertemplate": "Organization=OpenAI<br>Model=%{x}<br>Cross_Efficiency_Avg_Total=%{y}<br>label=%{text}<extra></extra>",
         "legendgroup": "OpenAI",
         "marker": {
          "color": "#3FA98C",
          "pattern": {
           "shape": ""
          }
         },
         "name": "OpenAI",
         "orientation": "v",
         "showlegend": true,
         "text": [
          "53<br>0.690",
          "53<br>0.783",
          "41<br>0.720",
          "70<br>0.863",
          "51<br>0.442",
          "70<br>0.594",
          "66<br>0.713",
          "63<br>0.828",
          "62<br>0.617",
          "54<br>0.665",
          "50<br>0.739",
          "36<br>0.498"
         ],
         "textposition": "outside",
         "type": "bar",
         "x": [
          "GPT-4.1",
          "GPT-4.1 mini",
          "GPT-4.1 nano",
          "o4-mini (high)",
          "GPT-4.5",
          "o3",
          "o3-mini (high)",
          "o3-mini",
          "o1",
          "o1-mini",
          "GPT-4o (Mar '25)",
          "GPT-4o mini"
         ],
         "xaxis": "x",
         "y": [
          0.6899701267476335,
          0.7828263319326476,
          0.7199256258564878,
          0.8633652170813164,
          0.44166234161593776,
          0.5942028784596808,
          0.7133171947380584,
          0.8282137277721323,
          0.6168916481560576,
          0.6651574651094805,
          0.7393457378262515,
          0.49791932263412314
         ],
         "yaxis": "y"
        },
        {
         "hovertemplate": "Organization=Deepseek<br>Model=%{x}<br>Cross_Efficiency_Avg_Total=%{y}<br>label=%{text}<extra></extra>",
         "legendgroup": "Deepseek",
         "marker": {
          "color": "#4B8DB4",
          "pattern": {
           "shape": ""
          }
         },
         "name": "Deepseek",
         "orientation": "v",
         "showlegend": true,
         "text": [
          "60<br>0.057",
          "53<br>0.059"
         ],
         "textposition": "outside",
         "type": "bar",
         "x": [
          "Deepseek-R1",
          "Deepseek-V3"
         ],
         "xaxis": "x",
         "y": [
          0.057346393358287624,
          0.059317553952125214
         ],
         "yaxis": "y"
        },
        {
         "hovertemplate": "Organization=Anthropic<br>Model=%{x}<br>Cross_Efficiency_Avg_Total=%{y}<br>label=%{text}<extra></extra>",
         "legendgroup": "Anthropic",
         "marker": {
          "color": "#D3B641",
          "pattern": {
           "shape": ""
          }
         },
         "name": "Anthropic",
         "orientation": "v",
         "showlegend": true,
         "text": [
          "57<br>0.864",
          "48<br>0.620",
          "44<br>0.626",
          "35<br>0.492"
         ],
         "textposition": "outside",
         "type": "bar",
         "x": [
          "Claude-3.7 Sonnet",
          "Claude-3.7 Sonnet ET",
          "Claude 3.5 Sonnet",
          "Claude-3.5 Haiku"
         ],
         "xaxis": "x",
         "y": [
          0.8639410917510526,
          0.6201139386633799,
          0.6262266365755039,
          0.49208380410681524
         ],
         "yaxis": "y"
        },
        {
         "hovertemplate": "Organization=Meta<br>Model=%{x}<br>Cross_Efficiency_Avg_Total=%{y}<br>label=%{text}<extra></extra>",
         "legendgroup": "Meta",
         "marker": {
          "color": "#9D88AF",
          "pattern": {
           "shape": ""
          }
         },
         "name": "Meta",
         "orientation": "v",
         "showlegend": true,
         "text": [
          "21<br>0.316",
          "27<br>0.440",
          "24<br>0.420",
          "35<br>0.488",
          "40<br>0.464",
          "10<br>0.189",
          "20<br>0.404",
          "33<br>0.427",
          "41<br>0.695"
         ],
         "textposition": "outside",
         "type": "bar",
         "x": [
          "Llama-3-8B",
          "Llama-3-70B",
          "Llama-3.1-8B",
          "Llama-3.1-70B",
          "Llama-3.1-405B",
          "Llama-3.2 1B",
          "Llama-3.2 3B",
          "Llama-3.2-vision 90B",
          "Llama-3.3 70B"
         ],
         "xaxis": "x",
         "y": [
          0.3163651734194638,
          0.43960872668837,
          0.4202968779892657,
          0.48775059950101346,
          0.4636537463341311,
          0.18915197374990497,
          0.4035947164436265,
          0.42705319406785797,
          0.6952276200995082
         ],
         "yaxis": "y"
        }
       ],
       "layout": {
        "bargap": 0.45,
        "barmode": "relative",
        "font": {
         "color": "black",
         "family": "Arial",
         "size": 20
        },
        "height": 1000,
        "legend": {
         "bgcolor": "rgba(255,255,255,0.8)",
         "bordercolor": "black",
         "borderwidth": 1,
         "font": {
          "color": "black",
          "family": "Arial",
          "size": 20
         },
         "itemclick": "toggle",
         "itemdoubleclick": "toggleothers",
         "orientation": "v",
         "title": {
          "font": {
           "color": "black",
           "family": "Arial",
           "size": 25
          },
          "text": "Company"
         },
         "tracegroupgap": 0,
         "x": 1,
         "xanchor": "right",
         "y": 0.92,
         "yanchor": "top"
        },
        "margin": {
         "b": 80,
         "r": 80,
         "t": 80
        },
        "plot_bgcolor": "white",
        "template": {
         "data": {
          "bar": [
           {
            "error_x": {
             "color": "#2a3f5f"
            },
            "error_y": {
             "color": "#2a3f5f"
            },
            "marker": {
             "line": {
              "color": "#E5ECF6",
              "width": 0.5
             },
             "pattern": {
              "fillmode": "overlay",
              "size": 10,
              "solidity": 0.2
             }
            },
            "type": "bar"
           }
          ],
          "barpolar": [
           {
            "marker": {
             "line": {
              "color": "#E5ECF6",
              "width": 0.5
             },
             "pattern": {
              "fillmode": "overlay",
              "size": 10,
              "solidity": 0.2
             }
            },
            "type": "barpolar"
           }
          ],
          "carpet": [
           {
            "aaxis": {
             "endlinecolor": "#2a3f5f",
             "gridcolor": "white",
             "linecolor": "white",
             "minorgridcolor": "white",
             "startlinecolor": "#2a3f5f"
            },
            "baxis": {
             "endlinecolor": "#2a3f5f",
             "gridcolor": "white",
             "linecolor": "white",
             "minorgridcolor": "white",
             "startlinecolor": "#2a3f5f"
            },
            "type": "carpet"
           }
          ],
          "choropleth": [
           {
            "colorbar": {
             "outlinewidth": 0,
             "ticks": ""
            },
            "type": "choropleth"
           }
          ],
          "contour": [
           {
            "colorbar": {
             "outlinewidth": 0,
             "ticks": ""
            },
            "colorscale": [
             [
              0,
              "#0d0887"
             ],
             [
              0.1111111111111111,
              "#46039f"
             ],
             [
              0.2222222222222222,
              "#7201a8"
             ],
             [
              0.3333333333333333,
              "#9c179e"
             ],
             [
              0.4444444444444444,
              "#bd3786"
             ],
             [
              0.5555555555555556,
              "#d8576b"
             ],
             [
              0.6666666666666666,
              "#ed7953"
             ],
             [
              0.7777777777777778,
              "#fb9f3a"
             ],
             [
              0.8888888888888888,
              "#fdca26"
             ],
             [
              1,
              "#f0f921"
             ]
            ],
            "type": "contour"
           }
          ],
          "contourcarpet": [
           {
            "colorbar": {
             "outlinewidth": 0,
             "ticks": ""
            },
            "type": "contourcarpet"
           }
          ],
          "heatmap": [
           {
            "colorbar": {
             "outlinewidth": 0,
             "ticks": ""
            },
            "colorscale": [
             [
              0,
              "#0d0887"
             ],
             [
              0.1111111111111111,
              "#46039f"
             ],
             [
              0.2222222222222222,
              "#7201a8"
             ],
             [
              0.3333333333333333,
              "#9c179e"
             ],
             [
              0.4444444444444444,
              "#bd3786"
             ],
             [
              0.5555555555555556,
              "#d8576b"
             ],
             [
              0.6666666666666666,
              "#ed7953"
             ],
             [
              0.7777777777777778,
              "#fb9f3a"
             ],
             [
              0.8888888888888888,
              "#fdca26"
             ],
             [
              1,
              "#f0f921"
             ]
            ],
            "type": "heatmap"
           }
          ],
          "histogram": [
           {
            "marker": {
             "pattern": {
              "fillmode": "overlay",
              "size": 10,
              "solidity": 0.2
             }
            },
            "type": "histogram"
           }
          ],
          "histogram2d": [
           {
            "colorbar": {
             "outlinewidth": 0,
             "ticks": ""
            },
            "colorscale": [
             [
              0,
              "#0d0887"
             ],
             [
              0.1111111111111111,
              "#46039f"
             ],
             [
              0.2222222222222222,
              "#7201a8"
             ],
             [
              0.3333333333333333,
              "#9c179e"
             ],
             [
              0.4444444444444444,
              "#bd3786"
             ],
             [
              0.5555555555555556,
              "#d8576b"
             ],
             [
              0.6666666666666666,
              "#ed7953"
             ],
             [
              0.7777777777777778,
              "#fb9f3a"
             ],
             [
              0.8888888888888888,
              "#fdca26"
             ],
             [
              1,
              "#f0f921"
             ]
            ],
            "type": "histogram2d"
           }
          ],
          "histogram2dcontour": [
           {
            "colorbar": {
             "outlinewidth": 0,
             "ticks": ""
            },
            "colorscale": [
             [
              0,
              "#0d0887"
             ],
             [
              0.1111111111111111,
              "#46039f"
             ],
             [
              0.2222222222222222,
              "#7201a8"
             ],
             [
              0.3333333333333333,
              "#9c179e"
             ],
             [
              0.4444444444444444,
              "#bd3786"
             ],
             [
              0.5555555555555556,
              "#d8576b"
             ],
             [
              0.6666666666666666,
              "#ed7953"
             ],
             [
              0.7777777777777778,
              "#fb9f3a"
             ],
             [
              0.8888888888888888,
              "#fdca26"
             ],
             [
              1,
              "#f0f921"
             ]
            ],
            "type": "histogram2dcontour"
           }
          ],
          "mesh3d": [
           {
            "colorbar": {
             "outlinewidth": 0,
             "ticks": ""
            },
            "type": "mesh3d"
           }
          ],
          "parcoords": [
           {
            "line": {
             "colorbar": {
              "outlinewidth": 0,
              "ticks": ""
             }
            },
            "type": "parcoords"
           }
          ],
          "pie": [
           {
            "automargin": true,
            "type": "pie"
           }
          ],
          "scatter": [
           {
            "fillpattern": {
             "fillmode": "overlay",
             "size": 10,
             "solidity": 0.2
            },
            "type": "scatter"
           }
          ],
          "scatter3d": [
           {
            "line": {
             "colorbar": {
              "outlinewidth": 0,
              "ticks": ""
             }
            },
            "marker": {
             "colorbar": {
              "outlinewidth": 0,
              "ticks": ""
             }
            },
            "type": "scatter3d"
           }
          ],
          "scattercarpet": [
           {
            "marker": {
             "colorbar": {
              "outlinewidth": 0,
              "ticks": ""
             }
            },
            "type": "scattercarpet"
           }
          ],
          "scattergeo": [
           {
            "marker": {
             "colorbar": {
              "outlinewidth": 0,
              "ticks": ""
             }
            },
            "type": "scattergeo"
           }
          ],
          "scattergl": [
           {
            "marker": {
             "colorbar": {
              "outlinewidth": 0,
              "ticks": ""
             }
            },
            "type": "scattergl"
           }
          ],
          "scattermap": [
           {
            "marker": {
             "colorbar": {
              "outlinewidth": 0,
              "ticks": ""
             }
            },
            "type": "scattermap"
           }
          ],
          "scattermapbox": [
           {
            "marker": {
             "colorbar": {
              "outlinewidth": 0,
              "ticks": ""
             }
            },
            "type": "scattermapbox"
           }
          ],
          "scatterpolar": [
           {
            "marker": {
             "colorbar": {
              "outlinewidth": 0,
              "ticks": ""
             }
            },
            "type": "scatterpolar"
           }
          ],
          "scatterpolargl": [
           {
            "marker": {
             "colorbar": {
              "outlinewidth": 0,
              "ticks": ""
             }
            },
            "type": "scatterpolargl"
           }
          ],
          "scatterternary": [
           {
            "marker": {
             "colorbar": {
              "outlinewidth": 0,
              "ticks": ""
             }
            },
            "type": "scatterternary"
           }
          ],
          "surface": [
           {
            "colorbar": {
             "outlinewidth": 0,
             "ticks": ""
            },
            "colorscale": [
             [
              0,
              "#0d0887"
             ],
             [
              0.1111111111111111,
              "#46039f"
             ],
             [
              0.2222222222222222,
              "#7201a8"
             ],
             [
              0.3333333333333333,
              "#9c179e"
             ],
             [
              0.4444444444444444,
              "#bd3786"
             ],
             [
              0.5555555555555556,
              "#d8576b"
             ],
             [
              0.6666666666666666,
              "#ed7953"
             ],
             [
              0.7777777777777778,
              "#fb9f3a"
             ],
             [
              0.8888888888888888,
              "#fdca26"
             ],
             [
              1,
              "#f0f921"
             ]
            ],
            "type": "surface"
           }
          ],
          "table": [
           {
            "cells": {
             "fill": {
              "color": "#EBF0F8"
             },
             "line": {
              "color": "white"
             }
            },
            "header": {
             "fill": {
              "color": "#C8D4E3"
             },
             "line": {
              "color": "white"
             }
            },
            "type": "table"
           }
          ]
         },
         "layout": {
          "annotationdefaults": {
           "arrowcolor": "#2a3f5f",
           "arrowhead": 0,
           "arrowwidth": 1
          },
          "autotypenumbers": "strict",
          "coloraxis": {
           "colorbar": {
            "outlinewidth": 0,
            "ticks": ""
           }
          },
          "colorscale": {
           "diverging": [
            [
             0,
             "#8e0152"
            ],
            [
             0.1,
             "#c51b7d"
            ],
            [
             0.2,
             "#de77ae"
            ],
            [
             0.3,
             "#f1b6da"
            ],
            [
             0.4,
             "#fde0ef"
            ],
            [
             0.5,
             "#f7f7f7"
            ],
            [
             0.6,
             "#e6f5d0"
            ],
            [
             0.7,
             "#b8e186"
            ],
            [
             0.8,
             "#7fbc41"
            ],
            [
             0.9,
             "#4d9221"
            ],
            [
             1,
             "#276419"
            ]
           ],
           "sequential": [
            [
             0,
             "#0d0887"
            ],
            [
             0.1111111111111111,
             "#46039f"
            ],
            [
             0.2222222222222222,
             "#7201a8"
            ],
            [
             0.3333333333333333,
             "#9c179e"
            ],
            [
             0.4444444444444444,
             "#bd3786"
            ],
            [
             0.5555555555555556,
             "#d8576b"
            ],
            [
             0.6666666666666666,
             "#ed7953"
            ],
            [
             0.7777777777777778,
             "#fb9f3a"
            ],
            [
             0.8888888888888888,
             "#fdca26"
            ],
            [
             1,
             "#f0f921"
            ]
           ],
           "sequentialminus": [
            [
             0,
             "#0d0887"
            ],
            [
             0.1111111111111111,
             "#46039f"
            ],
            [
             0.2222222222222222,
             "#7201a8"
            ],
            [
             0.3333333333333333,
             "#9c179e"
            ],
            [
             0.4444444444444444,
             "#bd3786"
            ],
            [
             0.5555555555555556,
             "#d8576b"
            ],
            [
             0.6666666666666666,
             "#ed7953"
            ],
            [
             0.7777777777777778,
             "#fb9f3a"
            ],
            [
             0.8888888888888888,
             "#fdca26"
            ],
            [
             1,
             "#f0f921"
            ]
           ]
          },
          "colorway": [
           "#636efa",
           "#EF553B",
           "#00cc96",
           "#ab63fa",
           "#FFA15A",
           "#19d3f3",
           "#FF6692",
           "#B6E880",
           "#FF97FF",
           "#FECB52"
          ],
          "font": {
           "color": "#2a3f5f"
          },
          "geo": {
           "bgcolor": "white",
           "lakecolor": "white",
           "landcolor": "#E5ECF6",
           "showlakes": true,
           "showland": true,
           "subunitcolor": "white"
          },
          "hoverlabel": {
           "align": "left"
          },
          "hovermode": "closest",
          "mapbox": {
           "style": "light"
          },
          "paper_bgcolor": "white",
          "plot_bgcolor": "#E5ECF6",
          "polar": {
           "angularaxis": {
            "gridcolor": "white",
            "linecolor": "white",
            "ticks": ""
           },
           "bgcolor": "#E5ECF6",
           "radialaxis": {
            "gridcolor": "white",
            "linecolor": "white",
            "ticks": ""
           }
          },
          "scene": {
           "xaxis": {
            "backgroundcolor": "#E5ECF6",
            "gridcolor": "white",
            "gridwidth": 2,
            "linecolor": "white",
            "showbackground": true,
            "ticks": "",
            "zerolinecolor": "white"
           },
           "yaxis": {
            "backgroundcolor": "#E5ECF6",
            "gridcolor": "white",
            "gridwidth": 2,
            "linecolor": "white",
            "showbackground": true,
            "ticks": "",
            "zerolinecolor": "white"
           },
           "zaxis": {
            "backgroundcolor": "#E5ECF6",
            "gridcolor": "white",
            "gridwidth": 2,
            "linecolor": "white",
            "showbackground": true,
            "ticks": "",
            "zerolinecolor": "white"
           }
          },
          "shapedefaults": {
           "line": {
            "color": "#2a3f5f"
           }
          },
          "ternary": {
           "aaxis": {
            "gridcolor": "white",
            "linecolor": "white",
            "ticks": ""
           },
           "baxis": {
            "gridcolor": "white",
            "linecolor": "white",
            "ticks": ""
           },
           "bgcolor": "#E5ECF6",
           "caxis": {
            "gridcolor": "white",
            "linecolor": "white",
            "ticks": ""
           }
          },
          "title": {
           "x": 0.05
          },
          "xaxis": {
           "automargin": true,
           "gridcolor": "white",
           "linecolor": "white",
           "ticks": "",
           "title": {
            "standoff": 15
           },
           "zerolinecolor": "white",
           "zerolinewidth": 2
          },
          "yaxis": {
           "automargin": true,
           "gridcolor": "white",
           "linecolor": "white",
           "ticks": "",
           "title": {
            "standoff": 15
           },
           "zerolinecolor": "white",
           "zerolinewidth": 2
          }
         }
        },
        "title": {
         "text": "DEA Cross Efficiency Score by Model",
         "x": 0.4
        },
        "uniformtext": {
         "minsize": 8,
         "mode": "hide"
        },
        "width": 2500,
        "xaxis": {
         "anchor": "y",
         "categoryarray": [
          "Claude-3.7 Sonnet",
          "o4-mini (high)",
          "o3-mini",
          "GPT-4.1 mini",
          "GPT-4o (Mar '25)",
          "GPT-4.1 nano",
          "o3-mini (high)",
          "Llama-3.3 70B",
          "GPT-4.1",
          "o1-mini",
          "Claude 3.5 Sonnet",
          "Claude-3.7 Sonnet ET",
          "o1",
          "o3",
          "GPT-4o mini",
          "Claude-3.5 Haiku",
          "Llama-3.1-70B",
          "Llama-3.1-405B",
          "GPT-4.5",
          "Llama-3-70B",
          "Llama-3.2-vision 90B",
          "Llama-3.1-8B",
          "Llama-3.2 3B",
          "Llama-3-8B",
          "Llama-3.2 1B",
          "Deepseek-V3",
          "Deepseek-R1"
         ],
         "categoryorder": "array",
         "domain": [
          0,
          1
         ],
         "linecolor": "black",
         "showgrid": false,
         "showline": true,
         "tickangle": 45,
         "tickcolor": "black",
         "tickfont": {
          "size": 20
         },
         "ticklen": 6,
         "ticks": "outside",
         "tickwidth": 1,
         "title": {
          "text": "Model"
         }
        },
        "yaxis": {
         "anchor": "x",
         "domain": [
          0,
          1
         ],
         "dtick": 0.1,
         "gridcolor": "lightgray",
         "linecolor": "black",
         "range": [
          0,
          1
         ],
         "showgrid": true,
         "showline": true,
         "tickcolor": "black",
         "tickfont": {
          "size": 20
         },
         "ticklen": 6,
         "ticks": "outside",
         "tickwidth": 1,
         "title": {
          "text": "Cross Efficiency Score"
         }
        }
       }
      }
     },
     "metadata": {},
     "output_type": "display_data"
    }
   ],
   "source": [
    "pastel_colors = {\n",
    "    'OpenAI':    '#3FA98C',\n",
    "    'Anthropic': '#D3B641',\n",
    "    'Deepseek':  '#4B8DB4',\n",
    "    'Meta':      '#9D88AF'\n",
    "}\n",
    "df_sorted = df.sort_values(by='Cross_Efficiency_Avg_Total', ascending=False)\n",
    "model_order = df_sorted['Model'].unique()\n",
    "df['label'] = df['Score'].astype(str).apply(lambda x: x.split('.')[0]) + \"<br>\" + df['Cross_Efficiency_Avg_Total'].apply(lambda x: f\"{x:.3f}\")\n",
    "fig = px.bar(\n",
    "    df,\n",
    "    x='Model',\n",
    "    y='Cross_Efficiency_Avg_Total',\n",
    "    color='Organization',\n",
    "    color_discrete_map=pastel_colors,\n",
    "    text='label',\n",
    "    title='DEA Cross Efficiency Score by Model',\n",
    "    category_orders={'Model': model_order}\n",
    ")\n",
    "\n",
    "fig.update_traces(\n",
    "    textposition='outside'\n",
    ")\n",
    "\n",
    "fig.update_yaxes(\n",
    "    title='Cross Efficiency Score',\n",
    "    tickfont=dict(size=20),\n",
    "\n",
    "    showgrid=True,\n",
    "    gridcolor='lightgray',\n",
    "    showline=True,\n",
    "    linecolor='black',\n",
    "    ticks='outside',\n",
    "    ticklen=6,\n",
    "    tickwidth=1,\n",
    "    tickcolor='black',\n",
    "    dtick=0.1,\n",
    "    range=[0,1]\n",
    ")\n",
    "fig.update_xaxes(\n",
    "    title='Model',\n",
    "    tickangle=45,\n",
    "    tickfont=dict(size=20),\n",
    "    showgrid=False,\n",
    "    showline=True,\n",
    "    linecolor='black',\n",
    "    ticks='outside',\n",
    "    ticklen=6,\n",
    "    tickwidth=1,\n",
    "    tickcolor='black'\n",
    ")\n",
    "\n",
    "fig.update_layout(\n",
    "    height=1000,\n",
    "    width=2500,\n",
    "    title_x=0.4,\n",
    "    plot_bgcolor='white',\n",
    "    bargap=0.45,\n",
    "    uniformtext_minsize=8,\n",
    "    uniformtext_mode='hide',\n",
    "    font=dict(family='Arial', size=20, color='black'),\n",
    "    legend_title_text='Company',\n",
    "    legend=dict(\n",
    "        title_text='Company',\n",
    "        orientation='v',\n",
    "        yanchor='top',\n",
    "        y=0.92,\n",
    "        xanchor='right',\n",
    "        x=1,\n",
    "        bordercolor='black',\n",
    "        borderwidth=1,\n",
    "        bgcolor='rgba(255,255,255,0.8)',\n",
    "        title_font=dict(size=25, family='Arial', color='black'),\n",
    "        font=dict(size=20, family='Arial', color='black'),\n",
    "        itemclick='toggle',\n",
    "        itemdoubleclick='toggleothers'\n",
    "    ),\n",
    "    margin=dict(t=80, b=80, r=80)\n",
    ")\n",
    "\n",
    "fig.show()"
   ]
  },
  {
   "cell_type": "code",
   "execution_count": 114,
   "metadata": {},
   "outputs": [],
   "source": [
    "df[[\"Model\", \"Score\", \"Cross_Efficiency_Avg_Total\"]].to_csv('DEATotal.csv')"
   ]
  },
  {
   "cell_type": "code",
   "execution_count": null,
   "metadata": {},
   "outputs": [],
   "source": []
  },
  {
   "cell_type": "code",
   "execution_count": null,
   "metadata": {},
   "outputs": [],
   "source": []
  },
  {
   "cell_type": "code",
   "execution_count": null,
   "metadata": {},
   "outputs": [],
   "source": []
  }
 ],
 "metadata": {
  "kernelspec": {
   "display_name": "Python 3",
   "language": "python",
   "name": "python3"
  },
  "language_info": {
   "codemirror_mode": {
    "name": "ipython",
    "version": 3
   },
   "file_extension": ".py",
   "mimetype": "text/x-python",
   "name": "python",
   "nbconvert_exporter": "python",
   "pygments_lexer": "ipython3",
   "version": "3.9.6"
  }
 },
 "nbformat": 4,
 "nbformat_minor": 2
}
