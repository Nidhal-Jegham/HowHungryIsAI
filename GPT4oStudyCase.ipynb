{
 "cells": [
  {
   "cell_type": "code",
   "execution_count": 17,
   "metadata": {},
   "outputs": [],
   "source": [
    "import pandas as pd \n",
    "import numpy as np \n",
    "import plotly.express as px \n",
    "import plotly.graph_objects as go\n",
    "import plotly.subplots as sp\n",
    "from math import floor, ceil, log10\n",
    "\n",
    "from plotly.subplots import make_subplots"
   ]
  },
  {
   "cell_type": "code",
   "execution_count": 3,
   "metadata": {},
   "outputs": [
    {
     "data": {
      "text/html": [
       "<div>\n",
       "<style scoped>\n",
       "    .dataframe tbody tr th:only-of-type {\n",
       "        vertical-align: middle;\n",
       "    }\n",
       "\n",
       "    .dataframe tbody tr th {\n",
       "        vertical-align: top;\n",
       "    }\n",
       "\n",
       "    .dataframe thead th {\n",
       "        text-align: right;\n",
       "    }\n",
       "</style>\n",
       "<table border=\"1\" class=\"dataframe\">\n",
       "  <thead>\n",
       "    <tr style=\"text-align: right;\">\n",
       "      <th></th>\n",
       "      <th>Model</th>\n",
       "      <th>Organization</th>\n",
       "      <th>API Provider</th>\n",
       "      <th>GPUs Used</th>\n",
       "      <th>System (DGX/HGX)</th>\n",
       "      <th>Critical Power (kW)</th>\n",
       "      <th>Idle Power</th>\n",
       "      <th>Utilization Rate (min)</th>\n",
       "      <th>Utilization Rate (max)</th>\n",
       "      <th>PUE</th>\n",
       "      <th>...</th>\n",
       "      <th>P25.3</th>\n",
       "      <th>P75.3</th>\n",
       "      <th>P95.3</th>\n",
       "      <th>Mean.4</th>\n",
       "      <th>Median.4</th>\n",
       "      <th>Variance.4</th>\n",
       "      <th>P5.4</th>\n",
       "      <th>P25.4</th>\n",
       "      <th>P75.4</th>\n",
       "      <th>P95.4</th>\n",
       "    </tr>\n",
       "  </thead>\n",
       "  <tbody>\n",
       "    <tr>\n",
       "      <th>0</th>\n",
       "      <td>GPT-4.1</td>\n",
       "      <td>OpenAI</td>\n",
       "      <td>OpenAI</td>\n",
       "      <td>Nvidia H200/H100</td>\n",
       "      <td>HGX H200/H100</td>\n",
       "      <td>5.6</td>\n",
       "      <td>0.29</td>\n",
       "      <td>5.50%</td>\n",
       "      <td>7.50%</td>\n",
       "      <td>1.12</td>\n",
       "      <td>...</td>\n",
       "      <td>0.000443</td>\n",
       "      <td>0.000929</td>\n",
       "      <td>0.001343</td>\n",
       "      <td>0.000858</td>\n",
       "      <td>0.000603</td>\n",
       "      <td>6.035000e-07</td>\n",
       "      <td>0.000473</td>\n",
       "      <td>0.000525</td>\n",
       "      <td>0.001099</td>\n",
       "      <td>0.001589</td>\n",
       "    </tr>\n",
       "    <tr>\n",
       "      <th>1</th>\n",
       "      <td>GPT-4.1 mini</td>\n",
       "      <td>OpenAI</td>\n",
       "      <td>OpenAI</td>\n",
       "      <td>Nvidia H200/H100</td>\n",
       "      <td>HGX H200/H100</td>\n",
       "      <td>5.6</td>\n",
       "      <td>0.14</td>\n",
       "      <td>3.00%</td>\n",
       "      <td>4.50%</td>\n",
       "      <td>1.12</td>\n",
       "      <td>...</td>\n",
       "      <td>0.000149</td>\n",
       "      <td>0.000313</td>\n",
       "      <td>0.000390</td>\n",
       "      <td>0.000298</td>\n",
       "      <td>0.000252</td>\n",
       "      <td>5.300000e-08</td>\n",
       "      <td>0.000160</td>\n",
       "      <td>0.000189</td>\n",
       "      <td>0.000396</td>\n",
       "      <td>0.000494</td>\n",
       "    </tr>\n",
       "    <tr>\n",
       "      <th>2</th>\n",
       "      <td>GPT-4.1 nano</td>\n",
       "      <td>OpenAI</td>\n",
       "      <td>OpenAI</td>\n",
       "      <td>Nvidia H200/H100</td>\n",
       "      <td>HGX H200/H100</td>\n",
       "      <td>5.6</td>\n",
       "      <td>0.07</td>\n",
       "      <td>1.70%</td>\n",
       "      <td>2.50%</td>\n",
       "      <td>1.12</td>\n",
       "      <td>...</td>\n",
       "      <td>0.000057</td>\n",
       "      <td>0.000089</td>\n",
       "      <td>0.000113</td>\n",
       "      <td>0.000095</td>\n",
       "      <td>0.000088</td>\n",
       "      <td>2.600000e-09</td>\n",
       "      <td>0.000058</td>\n",
       "      <td>0.000072</td>\n",
       "      <td>0.000113</td>\n",
       "      <td>0.000144</td>\n",
       "    </tr>\n",
       "    <tr>\n",
       "      <th>3</th>\n",
       "      <td>o4-mini (high)</td>\n",
       "      <td>OpenAI</td>\n",
       "      <td>OpenAI</td>\n",
       "      <td>Nvidia H200/H100</td>\n",
       "      <td>HGX H200/H100</td>\n",
       "      <td>5.6</td>\n",
       "      <td>0.14</td>\n",
       "      <td>3.00%</td>\n",
       "      <td>4.50%</td>\n",
       "      <td>1.12</td>\n",
       "      <td>...</td>\n",
       "      <td>0.000882</td>\n",
       "      <td>0.001704</td>\n",
       "      <td>0.002661</td>\n",
       "      <td>0.001774</td>\n",
       "      <td>0.001538</td>\n",
       "      <td>2.885100e-06</td>\n",
       "      <td>0.000555</td>\n",
       "      <td>0.001117</td>\n",
       "      <td>0.002157</td>\n",
       "      <td>0.003369</td>\n",
       "    </tr>\n",
       "    <tr>\n",
       "      <th>4</th>\n",
       "      <td>GPT-4.5</td>\n",
       "      <td>OpenAI</td>\n",
       "      <td>OpenAI</td>\n",
       "      <td>Nvidia H200/H100</td>\n",
       "      <td>HGX H200/H100</td>\n",
       "      <td>5.6</td>\n",
       "      <td>0.29</td>\n",
       "      <td>5.50%</td>\n",
       "      <td>7.50%</td>\n",
       "      <td>1.12</td>\n",
       "      <td>...</td>\n",
       "      <td>0.005344</td>\n",
       "      <td>0.006629</td>\n",
       "      <td>0.007112</td>\n",
       "      <td>0.006999</td>\n",
       "      <td>0.007263</td>\n",
       "      <td>4.344100e-06</td>\n",
       "      <td>0.005156</td>\n",
       "      <td>0.006323</td>\n",
       "      <td>0.007844</td>\n",
       "      <td>0.008415</td>\n",
       "    </tr>\n",
       "  </tbody>\n",
       "</table>\n",
       "<p>5 rows × 118 columns</p>\n",
       "</div>"
      ],
      "text/plain": [
       "            Model Organization API Provider         GPUs Used  \\\n",
       "0         GPT-4.1       OpenAI       OpenAI  Nvidia H200/H100   \n",
       "1    GPT-4.1 mini       OpenAI       OpenAI  Nvidia H200/H100   \n",
       "2    GPT-4.1 nano       OpenAI       OpenAI  Nvidia H200/H100   \n",
       "3  o4-mini (high)       OpenAI       OpenAI  Nvidia H200/H100   \n",
       "4         GPT-4.5       OpenAI       OpenAI  Nvidia H200/H100   \n",
       "\n",
       "  System (DGX/HGX)  Critical Power (kW)  Idle Power Utilization Rate (min)  \\\n",
       "0    HGX H200/H100                  5.6        0.29                  5.50%   \n",
       "1    HGX H200/H100                  5.6        0.14                  3.00%   \n",
       "2    HGX H200/H100                  5.6        0.07                  1.70%   \n",
       "3    HGX H200/H100                  5.6        0.14                  3.00%   \n",
       "4    HGX H200/H100                  5.6        0.29                  5.50%   \n",
       "\n",
       "  Utilization Rate (max)   PUE  ...     P25.3     P75.3     P95.3    Mean.4  \\\n",
       "0                  7.50%  1.12  ...  0.000443  0.000929  0.001343  0.000858   \n",
       "1                  4.50%  1.12  ...  0.000149  0.000313  0.000390  0.000298   \n",
       "2                  2.50%  1.12  ...  0.000057  0.000089  0.000113  0.000095   \n",
       "3                  4.50%  1.12  ...  0.000882  0.001704  0.002661  0.001774   \n",
       "4                  7.50%  1.12  ...  0.005344  0.006629  0.007112  0.006999   \n",
       "\n",
       "   Median.4    Variance.4      P5.4     P25.4     P75.4     P95.4  \n",
       "0  0.000603  6.035000e-07  0.000473  0.000525  0.001099  0.001589  \n",
       "1  0.000252  5.300000e-08  0.000160  0.000189  0.000396  0.000494  \n",
       "2  0.000088  2.600000e-09  0.000058  0.000072  0.000113  0.000144  \n",
       "3  0.001538  2.885100e-06  0.000555  0.001117  0.002157  0.003369  \n",
       "4  0.007263  4.344100e-06  0.005156  0.006323  0.007844  0.008415  \n",
       "\n",
       "[5 rows x 118 columns]"
      ]
     },
     "execution_count": 3,
     "metadata": {},
     "output_type": "execute_result"
    }
   ],
   "source": [
    "df_1000= pd.read_csv(r\"/Users/nidhaljegham/AI Environmental Foorprint Project/1kOutputClean.csv\")\n",
    "df_1000.loc[df_1000['Model'] == 'Claude 3.5 Sonnet', 'Model'] = 'Claude-3.5 Sonnet'\n",
    "df_1000.loc[df_1000['Model'] == 'Claude 3.5 Haiku', 'Model'] = 'Claude-3.5 Haiku'\n",
    "\n",
    "df_1000.head()"
   ]
  },
  {
   "cell_type": "code",
   "execution_count": 4,
   "metadata": {},
   "outputs": [
    {
     "data": {
      "text/html": [
       "<div>\n",
       "<style scoped>\n",
       "    .dataframe tbody tr th:only-of-type {\n",
       "        vertical-align: middle;\n",
       "    }\n",
       "\n",
       "    .dataframe tbody tr th {\n",
       "        vertical-align: top;\n",
       "    }\n",
       "\n",
       "    .dataframe thead th {\n",
       "        text-align: right;\n",
       "    }\n",
       "</style>\n",
       "<table border=\"1\" class=\"dataframe\">\n",
       "  <thead>\n",
       "    <tr style=\"text-align: right;\">\n",
       "      <th></th>\n",
       "      <th>Model</th>\n",
       "      <th>Organization</th>\n",
       "      <th>API Provider</th>\n",
       "      <th>GPUs Used</th>\n",
       "      <th>System (DGX/HGX)</th>\n",
       "      <th>Critical Power (kW)</th>\n",
       "      <th>Idle Power</th>\n",
       "      <th>Utilization Rate (min)</th>\n",
       "      <th>Utilization Rate (max)</th>\n",
       "      <th>PUE</th>\n",
       "      <th>...</th>\n",
       "      <th>P25.4</th>\n",
       "      <th>P75.4</th>\n",
       "      <th>P95.4</th>\n",
       "      <th>Mean.5</th>\n",
       "      <th>Median.5</th>\n",
       "      <th>Variance.5</th>\n",
       "      <th>P5.5</th>\n",
       "      <th>P25.5</th>\n",
       "      <th>P75.5</th>\n",
       "      <th>P95.5</th>\n",
       "    </tr>\n",
       "  </thead>\n",
       "  <tbody>\n",
       "    <tr>\n",
       "      <th>0</th>\n",
       "      <td>GPT-4.1</td>\n",
       "      <td>OpenAI</td>\n",
       "      <td>OpenAI</td>\n",
       "      <td>Nvidia H200/H100</td>\n",
       "      <td>HGX H200/H100</td>\n",
       "      <td>5.6</td>\n",
       "      <td>0.29</td>\n",
       "      <td>5.50%</td>\n",
       "      <td>7.50%</td>\n",
       "      <td>1.12</td>\n",
       "      <td>...</td>\n",
       "      <td>0.000168</td>\n",
       "      <td>0.000370</td>\n",
       "      <td>0.000573</td>\n",
       "      <td>0.000351</td>\n",
       "      <td>0.000255</td>\n",
       "      <td>1.020000e-07</td>\n",
       "      <td>0.000179</td>\n",
       "      <td>0.000198</td>\n",
       "      <td>0.000438</td>\n",
       "      <td>0.000678</td>\n",
       "    </tr>\n",
       "    <tr>\n",
       "      <th>1</th>\n",
       "      <td>GPT-4.1 mini</td>\n",
       "      <td>OpenAI</td>\n",
       "      <td>OpenAI</td>\n",
       "      <td>Nvidia H200/H100</td>\n",
       "      <td>HGX H200/H100</td>\n",
       "      <td>5.6</td>\n",
       "      <td>0.14</td>\n",
       "      <td>3.00%</td>\n",
       "      <td>4.50%</td>\n",
       "      <td>1.12</td>\n",
       "      <td>...</td>\n",
       "      <td>0.000081</td>\n",
       "      <td>0.000152</td>\n",
       "      <td>0.000224</td>\n",
       "      <td>0.000166</td>\n",
       "      <td>0.000138</td>\n",
       "      <td>1.600000e-08</td>\n",
       "      <td>0.000079</td>\n",
       "      <td>0.000103</td>\n",
       "      <td>0.000192</td>\n",
       "      <td>0.000284</td>\n",
       "    </tr>\n",
       "    <tr>\n",
       "      <th>2</th>\n",
       "      <td>GPT-4.1 nano</td>\n",
       "      <td>OpenAI</td>\n",
       "      <td>OpenAI</td>\n",
       "      <td>Nvidia H200/H100</td>\n",
       "      <td>HGX H200/H100</td>\n",
       "      <td>5.6</td>\n",
       "      <td>0.07</td>\n",
       "      <td>1.70%</td>\n",
       "      <td>2.50%</td>\n",
       "      <td>1.12</td>\n",
       "      <td>...</td>\n",
       "      <td>0.000022</td>\n",
       "      <td>0.000038</td>\n",
       "      <td>0.000048</td>\n",
       "      <td>0.000041</td>\n",
       "      <td>0.000036</td>\n",
       "      <td>1.000000e-09</td>\n",
       "      <td>0.000024</td>\n",
       "      <td>0.000028</td>\n",
       "      <td>0.000048</td>\n",
       "      <td>0.000061</td>\n",
       "    </tr>\n",
       "    <tr>\n",
       "      <th>3</th>\n",
       "      <td>o4-mini (high)</td>\n",
       "      <td>OpenAI</td>\n",
       "      <td>OpenAI</td>\n",
       "      <td>Nvidia H200/H100</td>\n",
       "      <td>HGX H200/H100</td>\n",
       "      <td>5.6</td>\n",
       "      <td>0.14</td>\n",
       "      <td>3.00%</td>\n",
       "      <td>4.50%</td>\n",
       "      <td>1.12</td>\n",
       "      <td>...</td>\n",
       "      <td>0.000547</td>\n",
       "      <td>0.001412</td>\n",
       "      <td>0.001595</td>\n",
       "      <td>0.001150</td>\n",
       "      <td>0.000792</td>\n",
       "      <td>1.090000e-06</td>\n",
       "      <td>0.000453</td>\n",
       "      <td>0.000693</td>\n",
       "      <td>0.001788</td>\n",
       "      <td>0.002020</td>\n",
       "    </tr>\n",
       "    <tr>\n",
       "      <th>4</th>\n",
       "      <td>GPT-4.5</td>\n",
       "      <td>OpenAI</td>\n",
       "      <td>OpenAI</td>\n",
       "      <td>Nvidia H200/H100</td>\n",
       "      <td>HGX H200/H100</td>\n",
       "      <td>5.6</td>\n",
       "      <td>0.29</td>\n",
       "      <td>5.50%</td>\n",
       "      <td>7.50%</td>\n",
       "      <td>1.12</td>\n",
       "      <td>...</td>\n",
       "      <td>0.001914</td>\n",
       "      <td>0.002429</td>\n",
       "      <td>0.002617</td>\n",
       "      <td>0.002571</td>\n",
       "      <td>0.002636</td>\n",
       "      <td>4.750000e-07</td>\n",
       "      <td>0.001972</td>\n",
       "      <td>0.002265</td>\n",
       "      <td>0.002874</td>\n",
       "      <td>0.003096</td>\n",
       "    </tr>\n",
       "  </tbody>\n",
       "</table>\n",
       "<p>5 rows × 118 columns</p>\n",
       "</div>"
      ],
      "text/plain": [
       "            Model Organization API Provider         GPUs Used  \\\n",
       "0         GPT-4.1       OpenAI       OpenAI  Nvidia H200/H100   \n",
       "1    GPT-4.1 mini       OpenAI       OpenAI  Nvidia H200/H100   \n",
       "2    GPT-4.1 nano       OpenAI       OpenAI  Nvidia H200/H100   \n",
       "3  o4-mini (high)       OpenAI       OpenAI  Nvidia H200/H100   \n",
       "4         GPT-4.5       OpenAI       OpenAI  Nvidia H200/H100   \n",
       "\n",
       "  System (DGX/HGX)  Critical Power (kW)  Idle Power Utilization Rate (min)  \\\n",
       "0    HGX H200/H100                  5.6        0.29                  5.50%   \n",
       "1    HGX H200/H100                  5.6        0.14                  3.00%   \n",
       "2    HGX H200/H100                  5.6        0.07                  1.70%   \n",
       "3    HGX H200/H100                  5.6        0.14                  3.00%   \n",
       "4    HGX H200/H100                  5.6        0.29                  5.50%   \n",
       "\n",
       "  Utilization Rate (max)   PUE  ...     P25.4     P75.4     P95.4    Mean.5  \\\n",
       "0                  7.50%  1.12  ...  0.000168  0.000370  0.000573  0.000351   \n",
       "1                  4.50%  1.12  ...  0.000081  0.000152  0.000224  0.000166   \n",
       "2                  2.50%  1.12  ...  0.000022  0.000038  0.000048  0.000041   \n",
       "3                  4.50%  1.12  ...  0.000547  0.001412  0.001595  0.001150   \n",
       "4                  7.50%  1.12  ...  0.001914  0.002429  0.002617  0.002571   \n",
       "\n",
       "   Median.5    Variance.5      P5.5     P25.5     P75.5     P95.5  \n",
       "0  0.000255  1.020000e-07  0.000179  0.000198  0.000438  0.000678  \n",
       "1  0.000138  1.600000e-08  0.000079  0.000103  0.000192  0.000284  \n",
       "2  0.000036  1.000000e-09  0.000024  0.000028  0.000048  0.000061  \n",
       "3  0.000792  1.090000e-06  0.000453  0.000693  0.001788  0.002020  \n",
       "4  0.002636  4.750000e-07  0.001972  0.002265  0.002874  0.003096  \n",
       "\n",
       "[5 rows x 118 columns]"
      ]
     },
     "execution_count": 4,
     "metadata": {},
     "output_type": "execute_result"
    }
   ],
   "source": [
    "df_300= pd.read_csv(r\"/Users/nidhaljegham/AI Environmental Foorprint Project/300OutputClean.csv\")\n",
    "df_300.loc[df_300['Model'] == 'Claude 3.5 Sonnet', 'Model'] = 'Claude-3.5 Sonnet'\n",
    "df_300.loc[df_300['Model'] == 'Claude 3.5 Haiku', 'Model'] = 'Claude-3.5 Haiku'\n",
    "df_300.head()"
   ]
  },
  {
   "cell_type": "code",
   "execution_count": 5,
   "metadata": {},
   "outputs": [
    {
     "data": {
      "text/html": [
       "<div>\n",
       "<style scoped>\n",
       "    .dataframe tbody tr th:only-of-type {\n",
       "        vertical-align: middle;\n",
       "    }\n",
       "\n",
       "    .dataframe tbody tr th {\n",
       "        vertical-align: top;\n",
       "    }\n",
       "\n",
       "    .dataframe thead th {\n",
       "        text-align: right;\n",
       "    }\n",
       "</style>\n",
       "<table border=\"1\" class=\"dataframe\">\n",
       "  <thead>\n",
       "    <tr style=\"text-align: right;\">\n",
       "      <th></th>\n",
       "      <th>Model</th>\n",
       "      <th>Organization</th>\n",
       "      <th>API Provider</th>\n",
       "      <th>GPUs Used</th>\n",
       "      <th>System (DGX/HGX)</th>\n",
       "      <th>Critical Power (kW)</th>\n",
       "      <th>Idle Power</th>\n",
       "      <th>Utilization Rate (min)</th>\n",
       "      <th>Utilization Rate (max)</th>\n",
       "      <th>PUE</th>\n",
       "      <th>...</th>\n",
       "      <th>P25.4</th>\n",
       "      <th>P75.4</th>\n",
       "      <th>P95.4</th>\n",
       "      <th>Mean.5</th>\n",
       "      <th>Median.5</th>\n",
       "      <th>Variance.5</th>\n",
       "      <th>P5.5</th>\n",
       "      <th>P25.5</th>\n",
       "      <th>P75.5</th>\n",
       "      <th>P95.5</th>\n",
       "    </tr>\n",
       "  </thead>\n",
       "  <tbody>\n",
       "    <tr>\n",
       "      <th>0</th>\n",
       "      <td>GPT-4.1</td>\n",
       "      <td>OpenAI</td>\n",
       "      <td>OpenAI</td>\n",
       "      <td>Nvidia H200/H100</td>\n",
       "      <td>HGX H200/H100</td>\n",
       "      <td>5.6</td>\n",
       "      <td>0.29</td>\n",
       "      <td>5.50%</td>\n",
       "      <td>7.50%</td>\n",
       "      <td>1.12</td>\n",
       "      <td>...</td>\n",
       "      <td>0.000822</td>\n",
       "      <td>0.001568</td>\n",
       "      <td>0.002453</td>\n",
       "      <td>0.001619</td>\n",
       "      <td>0.001490</td>\n",
       "      <td>1.573190e-06</td>\n",
       "      <td>0.000867</td>\n",
       "      <td>0.000973</td>\n",
       "      <td>0.001855</td>\n",
       "      <td>0.002903</td>\n",
       "    </tr>\n",
       "    <tr>\n",
       "      <th>1</th>\n",
       "      <td>GPT-4.1 mini</td>\n",
       "      <td>OpenAI</td>\n",
       "      <td>OpenAI</td>\n",
       "      <td>Nvidia H200/H100</td>\n",
       "      <td>HGX H200/H100</td>\n",
       "      <td>5.6</td>\n",
       "      <td>0.14</td>\n",
       "      <td>3.00%</td>\n",
       "      <td>4.50%</td>\n",
       "      <td>1.12</td>\n",
       "      <td>...</td>\n",
       "      <td>0.000343</td>\n",
       "      <td>0.000561</td>\n",
       "      <td>0.000926</td>\n",
       "      <td>0.000627</td>\n",
       "      <td>0.000531</td>\n",
       "      <td>2.690400e-07</td>\n",
       "      <td>0.000280</td>\n",
       "      <td>0.000434</td>\n",
       "      <td>0.000711</td>\n",
       "      <td>0.001172</td>\n",
       "    </tr>\n",
       "    <tr>\n",
       "      <th>2</th>\n",
       "      <td>GPT-4.1 nano</td>\n",
       "      <td>OpenAI</td>\n",
       "      <td>OpenAI</td>\n",
       "      <td>Nvidia H200/H100</td>\n",
       "      <td>HGX H200/H100</td>\n",
       "      <td>5.6</td>\n",
       "      <td>0.07</td>\n",
       "      <td>1.70%</td>\n",
       "      <td>2.50%</td>\n",
       "      <td>1.12</td>\n",
       "      <td>...</td>\n",
       "      <td>0.000090</td>\n",
       "      <td>0.000176</td>\n",
       "      <td>0.000247</td>\n",
       "      <td>0.000179</td>\n",
       "      <td>0.000142</td>\n",
       "      <td>1.788000e-08</td>\n",
       "      <td>0.000096</td>\n",
       "      <td>0.000114</td>\n",
       "      <td>0.000223</td>\n",
       "      <td>0.000313</td>\n",
       "    </tr>\n",
       "    <tr>\n",
       "      <th>3</th>\n",
       "      <td>o4-mini (high)</td>\n",
       "      <td>OpenAI</td>\n",
       "      <td>OpenAI</td>\n",
       "      <td>Nvidia H200/H100</td>\n",
       "      <td>HGX H200/H100</td>\n",
       "      <td>5.6</td>\n",
       "      <td>0.14</td>\n",
       "      <td>3.00%</td>\n",
       "      <td>4.50%</td>\n",
       "      <td>1.12</td>\n",
       "      <td>...</td>\n",
       "      <td>0.001211</td>\n",
       "      <td>0.002316</td>\n",
       "      <td>0.002693</td>\n",
       "      <td>0.002234</td>\n",
       "      <td>0.001966</td>\n",
       "      <td>1.789800e-06</td>\n",
       "      <td>0.001337</td>\n",
       "      <td>0.001533</td>\n",
       "      <td>0.002933</td>\n",
       "      <td>0.003410</td>\n",
       "    </tr>\n",
       "    <tr>\n",
       "      <th>4</th>\n",
       "      <td>GPT-4.5</td>\n",
       "      <td>OpenAI</td>\n",
       "      <td>OpenAI</td>\n",
       "      <td>Nvidia H200/H100</td>\n",
       "      <td>HGX H200/H100</td>\n",
       "      <td>5.6</td>\n",
       "      <td>0.29</td>\n",
       "      <td>5.50%</td>\n",
       "      <td>7.50%</td>\n",
       "      <td>1.12</td>\n",
       "      <td>...</td>\n",
       "      <td>0.008931</td>\n",
       "      <td>0.010987</td>\n",
       "      <td>0.011854</td>\n",
       "      <td>0.011662</td>\n",
       "      <td>0.011841</td>\n",
       "      <td>9.550600e-06</td>\n",
       "      <td>0.008801</td>\n",
       "      <td>0.010568</td>\n",
       "      <td>0.013000</td>\n",
       "      <td>0.014026</td>\n",
       "    </tr>\n",
       "  </tbody>\n",
       "</table>\n",
       "<p>5 rows × 118 columns</p>\n",
       "</div>"
      ],
      "text/plain": [
       "            Model Organization API Provider         GPUs Used  \\\n",
       "0         GPT-4.1       OpenAI       OpenAI  Nvidia H200/H100   \n",
       "1    GPT-4.1 mini       OpenAI       OpenAI  Nvidia H200/H100   \n",
       "2    GPT-4.1 nano       OpenAI       OpenAI  Nvidia H200/H100   \n",
       "3  o4-mini (high)       OpenAI       OpenAI  Nvidia H200/H100   \n",
       "4         GPT-4.5       OpenAI       OpenAI  Nvidia H200/H100   \n",
       "\n",
       "  System (DGX/HGX)  Critical Power (kW)  Idle Power Utilization Rate (min)  \\\n",
       "0    HGX H200/H100                  5.6        0.29                  5.50%   \n",
       "1    HGX H200/H100                  5.6        0.14                  3.00%   \n",
       "2    HGX H200/H100                  5.6        0.07                  1.70%   \n",
       "3    HGX H200/H100                  5.6        0.14                  3.00%   \n",
       "4    HGX H200/H100                  5.6        0.29                  5.50%   \n",
       "\n",
       "  Utilization Rate (max)   PUE  ...     P25.4     P75.4     P95.4    Mean.5  \\\n",
       "0                  7.50%  1.12  ...  0.000822  0.001568  0.002453  0.001619   \n",
       "1                  4.50%  1.12  ...  0.000343  0.000561  0.000926  0.000627   \n",
       "2                  2.50%  1.12  ...  0.000090  0.000176  0.000247  0.000179   \n",
       "3                  4.50%  1.12  ...  0.001211  0.002316  0.002693  0.002234   \n",
       "4                  7.50%  1.12  ...  0.008931  0.010987  0.011854  0.011662   \n",
       "\n",
       "   Median.5    Variance.5      P5.5     P25.5     P75.5     P95.5  \n",
       "0  0.001490  1.573190e-06  0.000867  0.000973  0.001855  0.002903  \n",
       "1  0.000531  2.690400e-07  0.000280  0.000434  0.000711  0.001172  \n",
       "2  0.000142  1.788000e-08  0.000096  0.000114  0.000223  0.000313  \n",
       "3  0.001966  1.789800e-06  0.001337  0.001533  0.002933  0.003410  \n",
       "4  0.011841  9.550600e-06  0.008801  0.010568  0.013000  0.014026  \n",
       "\n",
       "[5 rows x 118 columns]"
      ]
     },
     "execution_count": 5,
     "metadata": {},
     "output_type": "execute_result"
    }
   ],
   "source": [
    "df_1500= pd.read_csv(r\"/Users/nidhaljegham/AI Environmental Foorprint Project/1.5kOutputClean.csv\")\n",
    "df_1500.loc[df_1500['Model'] == 'Claude 3.5 Sonnet', 'Model'] = 'Claude-3.5 Sonnet'\n",
    "df_1500.loc[df_1500['Model'] == 'Claude 3.5 Haiku', 'Model'] = 'Claude-3.5 Haiku'\n",
    "df_1500.head()"
   ]
  },
  {
   "cell_type": "code",
   "execution_count": 6,
   "metadata": {},
   "outputs": [
    {
     "data": {
      "text/html": [
       "<div>\n",
       "<style scoped>\n",
       "    .dataframe tbody tr th:only-of-type {\n",
       "        vertical-align: middle;\n",
       "    }\n",
       "\n",
       "    .dataframe tbody tr th {\n",
       "        vertical-align: top;\n",
       "    }\n",
       "\n",
       "    .dataframe thead th {\n",
       "        text-align: right;\n",
       "    }\n",
       "</style>\n",
       "<table border=\"1\" class=\"dataframe\">\n",
       "  <thead>\n",
       "    <tr style=\"text-align: right;\">\n",
       "      <th></th>\n",
       "      <th>Utilization Rate (min)</th>\n",
       "      <th>Utilization Rate (max)</th>\n",
       "    </tr>\n",
       "  </thead>\n",
       "  <tbody>\n",
       "    <tr>\n",
       "      <th>0</th>\n",
       "      <td>5.50%</td>\n",
       "      <td>7.50%</td>\n",
       "    </tr>\n",
       "    <tr>\n",
       "      <th>1</th>\n",
       "      <td>3.00%</td>\n",
       "      <td>4.50%</td>\n",
       "    </tr>\n",
       "    <tr>\n",
       "      <th>2</th>\n",
       "      <td>1.70%</td>\n",
       "      <td>2.50%</td>\n",
       "    </tr>\n",
       "    <tr>\n",
       "      <th>3</th>\n",
       "      <td>3.00%</td>\n",
       "      <td>4.50%</td>\n",
       "    </tr>\n",
       "    <tr>\n",
       "      <th>4</th>\n",
       "      <td>5.50%</td>\n",
       "      <td>7.50%</td>\n",
       "    </tr>\n",
       "    <tr>\n",
       "      <th>5</th>\n",
       "      <td>5.50%</td>\n",
       "      <td>7.50%</td>\n",
       "    </tr>\n",
       "    <tr>\n",
       "      <th>6</th>\n",
       "      <td>3.00%</td>\n",
       "      <td>4.50%</td>\n",
       "    </tr>\n",
       "    <tr>\n",
       "      <th>7</th>\n",
       "      <td>3.00%</td>\n",
       "      <td>4.50%</td>\n",
       "    </tr>\n",
       "    <tr>\n",
       "      <th>8</th>\n",
       "      <td>5.50%</td>\n",
       "      <td>7.50%</td>\n",
       "    </tr>\n",
       "    <tr>\n",
       "      <th>9</th>\n",
       "      <td>3.00%</td>\n",
       "      <td>4.50%</td>\n",
       "    </tr>\n",
       "    <tr>\n",
       "      <th>10</th>\n",
       "      <td>5.50%</td>\n",
       "      <td>7.50%</td>\n",
       "    </tr>\n",
       "    <tr>\n",
       "      <th>11</th>\n",
       "      <td>6.25%</td>\n",
       "      <td>7.00%</td>\n",
       "    </tr>\n",
       "    <tr>\n",
       "      <th>12</th>\n",
       "      <td>12.50%</td>\n",
       "      <td>15.00%</td>\n",
       "    </tr>\n",
       "    <tr>\n",
       "      <th>13</th>\n",
       "      <td>5.50%</td>\n",
       "      <td>7.50%</td>\n",
       "    </tr>\n",
       "    <tr>\n",
       "      <th>14</th>\n",
       "      <td>5.50%</td>\n",
       "      <td>7.50%</td>\n",
       "    </tr>\n",
       "    <tr>\n",
       "      <th>15</th>\n",
       "      <td>5.50%</td>\n",
       "      <td>7.50%</td>\n",
       "    </tr>\n",
       "    <tr>\n",
       "      <th>16</th>\n",
       "      <td>5.50%</td>\n",
       "      <td>7.50%</td>\n",
       "    </tr>\n",
       "    <tr>\n",
       "      <th>17</th>\n",
       "      <td>5.50%</td>\n",
       "      <td>7.50%</td>\n",
       "    </tr>\n",
       "    <tr>\n",
       "      <th>18</th>\n",
       "      <td>5.50%</td>\n",
       "      <td>7.50%</td>\n",
       "    </tr>\n",
       "    <tr>\n",
       "      <th>19</th>\n",
       "      <td>0.75%</td>\n",
       "      <td>1.25%</td>\n",
       "    </tr>\n",
       "    <tr>\n",
       "      <th>20</th>\n",
       "      <td>3.00%</td>\n",
       "      <td>4.50%</td>\n",
       "    </tr>\n",
       "    <tr>\n",
       "      <th>21</th>\n",
       "      <td>5.50%</td>\n",
       "      <td>7.50%</td>\n",
       "    </tr>\n",
       "    <tr>\n",
       "      <th>22</th>\n",
       "      <td>0.55%</td>\n",
       "      <td>1.00%</td>\n",
       "    </tr>\n",
       "    <tr>\n",
       "      <th>23</th>\n",
       "      <td>0.55%</td>\n",
       "      <td>1.00%</td>\n",
       "    </tr>\n",
       "    <tr>\n",
       "      <th>24</th>\n",
       "      <td>0.75%</td>\n",
       "      <td>1.25%</td>\n",
       "    </tr>\n",
       "    <tr>\n",
       "      <th>25</th>\n",
       "      <td>5.50%</td>\n",
       "      <td>7.50%</td>\n",
       "    </tr>\n",
       "    <tr>\n",
       "      <th>26</th>\n",
       "      <td>3.00%</td>\n",
       "      <td>4.50%</td>\n",
       "    </tr>\n",
       "  </tbody>\n",
       "</table>\n",
       "</div>"
      ],
      "text/plain": [
       "   Utilization Rate (min) Utilization Rate (max)\n",
       "0                   5.50%                  7.50%\n",
       "1                   3.00%                  4.50%\n",
       "2                   1.70%                  2.50%\n",
       "3                   3.00%                  4.50%\n",
       "4                   5.50%                  7.50%\n",
       "5                   5.50%                  7.50%\n",
       "6                   3.00%                  4.50%\n",
       "7                   3.00%                  4.50%\n",
       "8                   5.50%                  7.50%\n",
       "9                   3.00%                  4.50%\n",
       "10                  5.50%                  7.50%\n",
       "11                  6.25%                  7.00%\n",
       "12                 12.50%                 15.00%\n",
       "13                  5.50%                  7.50%\n",
       "14                  5.50%                  7.50%\n",
       "15                  5.50%                  7.50%\n",
       "16                  5.50%                  7.50%\n",
       "17                  5.50%                  7.50%\n",
       "18                  5.50%                  7.50%\n",
       "19                  0.75%                  1.25%\n",
       "20                  3.00%                  4.50%\n",
       "21                  5.50%                  7.50%\n",
       "22                  0.55%                  1.00%\n",
       "23                  0.55%                  1.00%\n",
       "24                  0.75%                  1.25%\n",
       "25                  5.50%                  7.50%\n",
       "26                  3.00%                  4.50%"
      ]
     },
     "execution_count": 6,
     "metadata": {},
     "output_type": "execute_result"
    }
   ],
   "source": [
    "df_1500.iloc[:,7:9]"
   ]
  },
  {
   "cell_type": "code",
   "execution_count": 7,
   "metadata": {},
   "outputs": [],
   "source": [
    "df_300.iloc[:,7:9]=df_300.iloc[:,7:9].map(lambda x: x.replace('%', '')).astype(float)/100\n",
    "df_1000.iloc[:,7:9]=df_1000.iloc[:,7:9].map(lambda x: x.replace('%', '')).astype(float)/100\n",
    "df_1500.iloc[:,7:9]=df_1500.iloc[:,7:9].map(lambda x: x.replace('%', '')).astype(float)/100\n"
   ]
  },
  {
   "cell_type": "code",
   "execution_count": 8,
   "metadata": {},
   "outputs": [],
   "source": [
    "for i in range(7,len(df_300.columns)):\n",
    "    df_300[df_300.columns[i]]=df_300[df_300.columns[i]].astype('float64')\n",
    "    df_1000[df_1000.columns[i]]=df_1000[df_1000.columns[i]].astype('float64')\n",
    "    df_1500[df_1500.columns[i]]=df_1500[df_1500.columns[i]].astype('float64')\n"
   ]
  },
  {
   "cell_type": "code",
   "execution_count": null,
   "metadata": {},
   "outputs": [],
   "source": [
    "\n"
   ]
  },
  {
   "cell_type": "code",
   "execution_count": 9,
   "metadata": {},
   "outputs": [],
   "source": [
    "model_data_300 = pd.concat([df_300.iloc[:, :3], df_300.iloc[:, 26:]], axis=1)\n",
    "model_data_1000 = pd.concat([df_1000.iloc[:, :3], df_1000.iloc[:, 26:]], axis=1)\n",
    "model_data_1500 = pd.concat([df_1500.iloc[:, :3], df_1500.iloc[:, 26:]], axis=1)\n"
   ]
  },
  {
   "cell_type": "code",
   "execution_count": 10,
   "metadata": {},
   "outputs": [],
   "source": [
    "model_data_300_sorted = model_data_300.sort_values(by='Mean', ascending=False)\n",
    "model_data_1000_sorted = model_data_1000.sort_values(by='Mean', ascending=False)\n",
    "model_data_1500_sorted = model_data_1500.sort_values(by='Mean', ascending=False)\n",
    "\n"
   ]
  },
  {
   "cell_type": "markdown",
   "metadata": {},
   "source": [
    "# Overall Energy Consumption All"
   ]
  },
  {
   "cell_type": "code",
   "execution_count": 11,
   "metadata": {},
   "outputs": [
    {
     "data": {
      "text/plain": [
       "'Mean'"
      ]
     },
     "execution_count": 11,
     "metadata": {},
     "output_type": "execute_result"
    }
   ],
   "source": [
    "model_data_300.columns[53]\n"
   ]
  },
  {
   "cell_type": "code",
   "execution_count": 12,
   "metadata": {},
   "outputs": [
    {
     "data": {
      "text/html": [
       "<div>\n",
       "<style scoped>\n",
       "    .dataframe tbody tr th:only-of-type {\n",
       "        vertical-align: middle;\n",
       "    }\n",
       "\n",
       "    .dataframe tbody tr th {\n",
       "        vertical-align: top;\n",
       "    }\n",
       "\n",
       "    .dataframe thead th {\n",
       "        text-align: right;\n",
       "    }\n",
       "</style>\n",
       "<table border=\"1\" class=\"dataframe\">\n",
       "  <thead>\n",
       "    <tr style=\"text-align: right;\">\n",
       "      <th></th>\n",
       "      <th>Model</th>\n",
       "      <th>Organization</th>\n",
       "      <th>API Provider</th>\n",
       "      <th>Metric</th>\n",
       "      <th>Score</th>\n",
       "    </tr>\n",
       "  </thead>\n",
       "  <tbody>\n",
       "    <tr>\n",
       "      <th>0</th>\n",
       "      <td>Deepseek-R1</td>\n",
       "      <td>Deepseek</td>\n",
       "      <td>Deepseek</td>\n",
       "      <td>Output Speed (100 Tokens input 300 tokens outp...</td>\n",
       "      <td>0.021897</td>\n",
       "    </tr>\n",
       "    <tr>\n",
       "      <th>1</th>\n",
       "      <td>o3</td>\n",
       "      <td>OpenAI</td>\n",
       "      <td>OpenAI</td>\n",
       "      <td>Output Speed (100 Tokens input 300 tokens outp...</td>\n",
       "      <td>0.005091</td>\n",
       "    </tr>\n",
       "    <tr>\n",
       "      <th>2</th>\n",
       "      <td>GPT-4.5</td>\n",
       "      <td>OpenAI</td>\n",
       "      <td>OpenAI</td>\n",
       "      <td>Output Speed (100 Tokens input 300 tokens outp...</td>\n",
       "      <td>0.007369</td>\n",
       "    </tr>\n",
       "    <tr>\n",
       "      <th>3</th>\n",
       "      <td>o1</td>\n",
       "      <td>OpenAI</td>\n",
       "      <td>OpenAI</td>\n",
       "      <td>Output Speed (100 Tokens input 300 tokens outp...</td>\n",
       "      <td>0.003355</td>\n",
       "    </tr>\n",
       "    <tr>\n",
       "      <th>4</th>\n",
       "      <td>Deepseek-V3</td>\n",
       "      <td>Deepseek</td>\n",
       "      <td>Deepseek</td>\n",
       "      <td>Output Speed (100 Tokens input 300 tokens outp...</td>\n",
       "      <td>0.003494</td>\n",
       "    </tr>\n",
       "  </tbody>\n",
       "</table>\n",
       "</div>"
      ],
      "text/plain": [
       "         Model Organization API Provider  \\\n",
       "0  Deepseek-R1     Deepseek     Deepseek   \n",
       "1           o3       OpenAI       OpenAI   \n",
       "2      GPT-4.5       OpenAI       OpenAI   \n",
       "3           o1       OpenAI       OpenAI   \n",
       "4  Deepseek-V3     Deepseek     Deepseek   \n",
       "\n",
       "                                              Metric     Score  \n",
       "0  Output Speed (100 Tokens input 300 tokens outp...  0.021897  \n",
       "1  Output Speed (100 Tokens input 300 tokens outp...  0.005091  \n",
       "2  Output Speed (100 Tokens input 300 tokens outp...  0.007369  \n",
       "3  Output Speed (100 Tokens input 300 tokens outp...  0.003355  \n",
       "4  Output Speed (100 Tokens input 300 tokens outp...  0.003494  "
      ]
     },
     "execution_count": 12,
     "metadata": {},
     "output_type": "execute_result"
    }
   ],
   "source": [
    "# Sort the data\n",
    "\n",
    "# Prepare min and max dataframes\n",
    "model_data_sorted_300_long = model_data_300_sorted.iloc[:,:53].melt(\n",
    "    id_vars=[\"Model\",\"Organization\",\"API Provider\"], \n",
    "    var_name='Metric', \n",
    "    value_name='Score'\n",
    ")\n",
    "\n",
    "model_data_sorted_1000_long = model_data_1000_sorted.iloc[:,:53].melt(\n",
    "    id_vars=[\"Model\",\"Organization\",\"API Provider\"], \n",
    "    var_name='Metric', \n",
    "    value_name='Score'\n",
    ")\n",
    "\n",
    "model_data_sorted_1500_long = model_data_1500_sorted.iloc[:,:53].melt(\n",
    "    id_vars=[\"Model\",\"Organization\",\"API Provider\"], \n",
    "    var_name='Metric', \n",
    "    value_name='Score'\n",
    ")\n",
    "\n",
    "\n",
    "# Display the first few rows to verify\n",
    "model_data_sorted_300_long.head()"
   ]
  },
  {
   "cell_type": "code",
   "execution_count": 23,
   "metadata": {},
   "outputs": [],
   "source": [
    "gpt4o_data_300=model_data_sorted_300_long.loc[model_data_sorted_300_long[\"Model\"]==\"GPT-4o (Mar '25)\",]"
   ]
  },
  {
   "cell_type": "code",
   "execution_count": 25,
   "metadata": {},
   "outputs": [],
   "source": [
    "gpt4o_data_1000= model_data_sorted_1000_long.loc[model_data_sorted_1000_long[\"Model\"]==\"GPT-4o (Mar '25)\",]"
   ]
  },
  {
   "cell_type": "code",
   "execution_count": 24,
   "metadata": {},
   "outputs": [],
   "source": [
    "gpt4o_data_1500= model_data_sorted_1500_long.loc[model_data_sorted_1500_long[\"Model\"]==\"GPT-4o (Mar '25)\",]"
   ]
  },
  {
   "cell_type": "code",
   "execution_count": 101,
   "metadata": {},
   "outputs": [],
   "source": [
    "agg_df_300 = gpt4o_data_300.groupby(['Model', 'Organization']).agg(\n",
    "    mean_score=('Score', 'mean'),\n",
    "    std_score=('Score', 'std')\n",
    ").reset_index()\n",
    "\n",
    "agg_df_300['mean_score_Watts'] = agg_df_300['mean_score'] * 1000\n",
    "agg_df_300['std_score_Watts'] = agg_df_300['std_score'] * 1000\n",
    "agg_df_300['Model']='GPT-4o (Mar \\'25) Short Query'"
   ]
  },
  {
   "cell_type": "code",
   "execution_count": 102,
   "metadata": {},
   "outputs": [],
   "source": [
    "agg_df_1000 = gpt4o_data_1000.groupby(['Model', 'Organization']).agg(\n",
    "    mean_score=('Score', 'mean'),\n",
    "    std_score=('Score', 'std')\n",
    ").reset_index()\n",
    "\n",
    "agg_df_1000['mean_score_Watts'] = agg_df_1000['mean_score'] * 1000\n",
    "agg_df_1000['std_score_Watts'] = agg_df_1000['std_score'] * 1000\n",
    "agg_df_1000['Model']='GPT-4o (Mar \\'25) Medium Query'"
   ]
  },
  {
   "cell_type": "code",
   "execution_count": 103,
   "metadata": {},
   "outputs": [],
   "source": [
    "agg_df_1500 = gpt4o_data_1500.groupby(['Model', 'Organization']).agg(\n",
    "    mean_score=('Score', 'mean'),\n",
    "    std_score=('Score', 'std')\n",
    ").reset_index()\n",
    "\n",
    "agg_df_1500['mean_score_Watts'] = agg_df_1500['mean_score'] * 1000\n",
    "agg_df_1500['std_score_Watts'] = agg_df_1500['std_score'] * 1000\n",
    "agg_df_1500['Model']='GPT-4o (Mar \\'25) Long Query'"
   ]
  },
  {
   "cell_type": "code",
   "execution_count": 121,
   "metadata": {},
   "outputs": [],
   "source": [
    "agg_df=pd.concat([agg_df_300, agg_df_1000, agg_df_1500])"
   ]
  },
  {
   "cell_type": "code",
   "execution_count": 122,
   "metadata": {},
   "outputs": [
    {
     "data": {
      "text/html": [
       "<div>\n",
       "<style scoped>\n",
       "    .dataframe tbody tr th:only-of-type {\n",
       "        vertical-align: middle;\n",
       "    }\n",
       "\n",
       "    .dataframe tbody tr th {\n",
       "        vertical-align: top;\n",
       "    }\n",
       "\n",
       "    .dataframe thead th {\n",
       "        text-align: right;\n",
       "    }\n",
       "</style>\n",
       "<table border=\"1\" class=\"dataframe\">\n",
       "  <thead>\n",
       "    <tr style=\"text-align: right;\">\n",
       "      <th></th>\n",
       "      <th>Model</th>\n",
       "      <th>Organization</th>\n",
       "      <th>mean_score</th>\n",
       "      <th>std_score</th>\n",
       "      <th>mean_score_Watts</th>\n",
       "      <th>std_score_Watts</th>\n",
       "    </tr>\n",
       "  </thead>\n",
       "  <tbody>\n",
       "    <tr>\n",
       "      <th>0</th>\n",
       "      <td>GPT-4o (Mar '25) Short Query</td>\n",
       "      <td>OpenAI</td>\n",
       "      <td>0.000421</td>\n",
       "      <td>0.000127</td>\n",
       "      <td>0.42086</td>\n",
       "      <td>0.127460</td>\n",
       "    </tr>\n",
       "    <tr>\n",
       "      <th>0</th>\n",
       "      <td>GPT-4o (Mar '25) Medium Query</td>\n",
       "      <td>OpenAI</td>\n",
       "      <td>0.001214</td>\n",
       "      <td>0.000391</td>\n",
       "      <td>1.21384</td>\n",
       "      <td>0.391175</td>\n",
       "    </tr>\n",
       "    <tr>\n",
       "      <th>0</th>\n",
       "      <td>GPT-4o (Mar '25) Long Query</td>\n",
       "      <td>OpenAI</td>\n",
       "      <td>0.001788</td>\n",
       "      <td>0.000363</td>\n",
       "      <td>1.78804</td>\n",
       "      <td>0.363461</td>\n",
       "    </tr>\n",
       "  </tbody>\n",
       "</table>\n",
       "</div>"
      ],
      "text/plain": [
       "                           Model Organization  mean_score  std_score  \\\n",
       "0   GPT-4o (Mar '25) Short Query       OpenAI    0.000421   0.000127   \n",
       "0  GPT-4o (Mar '25) Medium Query       OpenAI    0.001214   0.000391   \n",
       "0    GPT-4o (Mar '25) Long Query       OpenAI    0.001788   0.000363   \n",
       "\n",
       "   mean_score_Watts  std_score_Watts  \n",
       "0           0.42086         0.127460  \n",
       "0           1.21384         0.391175  \n",
       "0           1.78804         0.363461  "
      ]
     },
     "execution_count": 122,
     "metadata": {},
     "output_type": "execute_result"
    }
   ],
   "source": [
    "agg_df"
   ]
  },
  {
   "cell_type": "code",
   "execution_count": null,
   "metadata": {},
   "outputs": [],
   "source": []
  },
  {
   "cell_type": "code",
   "execution_count": 123,
   "metadata": {},
   "outputs": [],
   "source": [
    "# Append \"1 Google Search\" row\n",
    "agg_df.loc[len(agg_df)] = [\n",
    "    \"1 Google Search\",    # Model\n",
    "    \"Reference\",          # Organization\n",
    "    0.0003,               # mean_score (kWh)\n",
    "    0,                    # std_score\n",
    "    0.3,                  # mean_score_Watts (Wh)\n",
    "    0                     # std_score_Watts\n",
    "]\n",
    "\n",
    "# Append \"1 Google Search\" row\n",
    "agg_df.loc[len(agg_df)] = [\n",
    "    \"Daily Session (8 Messages) (Short Queries)\",    # Model\n",
    "    \"OpenAI\",          # Organization\n",
    "    0.00373,               # mean_score (kWh)\n",
    "    0.00102,                    # std_score\n",
    "    3.73,                  # mean_score_Watts (Wh)\n",
    "    1.02                     # std_score_Watts\n",
    "]\n",
    "\n",
    "agg_df.loc[len(agg_df)] = [\n",
    "    \"Daily Session (8 Messages) (Medium Queries)\",    # Model\n",
    "    \"OpenAI\",          # Organization\n",
    "    0.00971,               # mean_score (kWh)\n",
    "    0.00312,                    # std_score\n",
    "    9.71,                  # mean_score_Watts (Wh)\n",
    "    3.12                     # std_score_Watts\n",
    "]\n",
    "\n",
    "agg_df.loc[len(agg_df)] = [\n",
    "    \"Charging 2 Phones (Energysage)\",    # Model\n",
    "    \"Real Life\",          # Organization\n",
    "    0.01,               # mean_score (kWh)\n",
    "    0.00,                    # std_score\n",
    "    10,                  # mean_score_Watts (Wh)\n",
    "    0                     # std_score_Watts\n",
    "]\n",
    "\n",
    "\n",
    "\n"
   ]
  },
  {
   "cell_type": "code",
   "execution_count": 208,
   "metadata": {},
   "outputs": [
    {
     "data": {
      "application/vnd.plotly.v1+json": {
       "config": {
        "plotlyServerURL": "https://plot.ly"
       },
       "data": [
        {
         "error_y": {
          "array": {
           "bdata": "AAAAAAAAAAA=",
           "dtype": "f8"
          }
         },
         "hovertemplate": "Organization=Reference<br>Model=%{x}<br>mean_score_Watts=%{text}<extra></extra>",
         "legendgroup": "Reference",
         "marker": {
          "color": "#F9A825",
          "pattern": {
           "shape": ""
          }
         },
         "name": "Reference",
         "orientation": "v",
         "showlegend": true,
         "text": {
          "bdata": "MzMzMzMz0z8=",
          "dtype": "f8"
         },
         "textposition": "outside",
         "texttemplate": "%{text:.2f}",
         "type": "bar",
         "x": [
          "1 Google Search"
         ],
         "xaxis": "x",
         "y": {
          "bdata": "MzMzMzMz0z8=",
          "dtype": "f8"
         },
         "yaxis": "y"
        },
        {
         "error_y": {
          "array": {
           "bdata": "BljlqZ9QwD8cZsj1AAnZP+geUerzQtc/UrgehetR8D/2KFyPwvUIQA==",
           "dtype": "f8"
          }
         },
         "hovertemplate": "Organization=OpenAI<br>Model=%{x}<br>mean_score_Watts=%{text}<extra></extra>",
         "legendgroup": "OpenAI",
         "marker": {
          "color": "#2E7D32",
          "pattern": {
           "shape": ""
          }
         },
         "name": "OpenAI",
         "orientation": "v",
         "showlegend": true,
         "text": {
          "bdata": "rHMMyF7v2j/qOel942vzP5UJv9TPm/w/16NwPQrXDUDsUbgehWsjQA==",
          "dtype": "f8"
         },
         "textposition": "outside",
         "texttemplate": "%{text:.2f}",
         "type": "bar",
         "x": [
          "GPT-4o (Mar '25) Short Query",
          "GPT-4o (Mar '25) Medium Query",
          "GPT-4o (Mar '25) Long Query",
          "Daily Session (8 Messages) (Short Queries)",
          "Daily Session (8 Messages) (Medium Queries)"
         ],
         "xaxis": "x",
         "y": {
          "bdata": "rHMMyF7v2j/qOel942vzP5UJv9TPm/w/16NwPQrXDUDsUbgehWsjQA==",
          "dtype": "f8"
         },
         "yaxis": "y"
        },
        {
         "error_y": {
          "array": {
           "bdata": "AAAAAAAAAAA=",
           "dtype": "f8"
          }
         },
         "hovertemplate": "Organization=Real Life<br>Model=%{x}<br>mean_score_Watts=%{text}<extra></extra>",
         "legendgroup": "Real Life",
         "marker": {
          "color": "#4E79A7",
          "pattern": {
           "shape": ""
          }
         },
         "name": "Real Life",
         "orientation": "v",
         "showlegend": true,
         "text": {
          "bdata": "AAAAAAAAJEA=",
          "dtype": "f8"
         },
         "textposition": "outside",
         "texttemplate": "%{text:.2f}",
         "type": "bar",
         "x": [
          "Charging 2 Phones (Energysage)"
         ],
         "xaxis": "x",
         "y": {
          "bdata": "AAAAAAAAJEA=",
          "dtype": "f8"
         },
         "yaxis": "y"
        }
       ],
       "layout": {
        "bargap": 0.4,
        "barmode": "relative",
        "legend": {
         "title": {
          "text": "Organization"
         },
         "tracegroupgap": 0
        },
        "margin": {
         "t": 60
        },
        "showlegend": false,
        "template": {
         "data": {
          "bar": [
           {
            "error_x": {
             "color": "#2a3f5f"
            },
            "error_y": {
             "color": "#2a3f5f"
            },
            "marker": {
             "line": {
              "color": "white",
              "width": 0.5
             },
             "pattern": {
              "fillmode": "overlay",
              "size": 10,
              "solidity": 0.2
             }
            },
            "type": "bar"
           }
          ],
          "barpolar": [
           {
            "marker": {
             "line": {
              "color": "white",
              "width": 0.5
             },
             "pattern": {
              "fillmode": "overlay",
              "size": 10,
              "solidity": 0.2
             }
            },
            "type": "barpolar"
           }
          ],
          "carpet": [
           {
            "aaxis": {
             "endlinecolor": "#2a3f5f",
             "gridcolor": "#C8D4E3",
             "linecolor": "#C8D4E3",
             "minorgridcolor": "#C8D4E3",
             "startlinecolor": "#2a3f5f"
            },
            "baxis": {
             "endlinecolor": "#2a3f5f",
             "gridcolor": "#C8D4E3",
             "linecolor": "#C8D4E3",
             "minorgridcolor": "#C8D4E3",
             "startlinecolor": "#2a3f5f"
            },
            "type": "carpet"
           }
          ],
          "choropleth": [
           {
            "colorbar": {
             "outlinewidth": 0,
             "ticks": ""
            },
            "type": "choropleth"
           }
          ],
          "contour": [
           {
            "colorbar": {
             "outlinewidth": 0,
             "ticks": ""
            },
            "colorscale": [
             [
              0,
              "#0d0887"
             ],
             [
              0.1111111111111111,
              "#46039f"
             ],
             [
              0.2222222222222222,
              "#7201a8"
             ],
             [
              0.3333333333333333,
              "#9c179e"
             ],
             [
              0.4444444444444444,
              "#bd3786"
             ],
             [
              0.5555555555555556,
              "#d8576b"
             ],
             [
              0.6666666666666666,
              "#ed7953"
             ],
             [
              0.7777777777777778,
              "#fb9f3a"
             ],
             [
              0.8888888888888888,
              "#fdca26"
             ],
             [
              1,
              "#f0f921"
             ]
            ],
            "type": "contour"
           }
          ],
          "contourcarpet": [
           {
            "colorbar": {
             "outlinewidth": 0,
             "ticks": ""
            },
            "type": "contourcarpet"
           }
          ],
          "heatmap": [
           {
            "colorbar": {
             "outlinewidth": 0,
             "ticks": ""
            },
            "colorscale": [
             [
              0,
              "#0d0887"
             ],
             [
              0.1111111111111111,
              "#46039f"
             ],
             [
              0.2222222222222222,
              "#7201a8"
             ],
             [
              0.3333333333333333,
              "#9c179e"
             ],
             [
              0.4444444444444444,
              "#bd3786"
             ],
             [
              0.5555555555555556,
              "#d8576b"
             ],
             [
              0.6666666666666666,
              "#ed7953"
             ],
             [
              0.7777777777777778,
              "#fb9f3a"
             ],
             [
              0.8888888888888888,
              "#fdca26"
             ],
             [
              1,
              "#f0f921"
             ]
            ],
            "type": "heatmap"
           }
          ],
          "histogram": [
           {
            "marker": {
             "pattern": {
              "fillmode": "overlay",
              "size": 10,
              "solidity": 0.2
             }
            },
            "type": "histogram"
           }
          ],
          "histogram2d": [
           {
            "colorbar": {
             "outlinewidth": 0,
             "ticks": ""
            },
            "colorscale": [
             [
              0,
              "#0d0887"
             ],
             [
              0.1111111111111111,
              "#46039f"
             ],
             [
              0.2222222222222222,
              "#7201a8"
             ],
             [
              0.3333333333333333,
              "#9c179e"
             ],
             [
              0.4444444444444444,
              "#bd3786"
             ],
             [
              0.5555555555555556,
              "#d8576b"
             ],
             [
              0.6666666666666666,
              "#ed7953"
             ],
             [
              0.7777777777777778,
              "#fb9f3a"
             ],
             [
              0.8888888888888888,
              "#fdca26"
             ],
             [
              1,
              "#f0f921"
             ]
            ],
            "type": "histogram2d"
           }
          ],
          "histogram2dcontour": [
           {
            "colorbar": {
             "outlinewidth": 0,
             "ticks": ""
            },
            "colorscale": [
             [
              0,
              "#0d0887"
             ],
             [
              0.1111111111111111,
              "#46039f"
             ],
             [
              0.2222222222222222,
              "#7201a8"
             ],
             [
              0.3333333333333333,
              "#9c179e"
             ],
             [
              0.4444444444444444,
              "#bd3786"
             ],
             [
              0.5555555555555556,
              "#d8576b"
             ],
             [
              0.6666666666666666,
              "#ed7953"
             ],
             [
              0.7777777777777778,
              "#fb9f3a"
             ],
             [
              0.8888888888888888,
              "#fdca26"
             ],
             [
              1,
              "#f0f921"
             ]
            ],
            "type": "histogram2dcontour"
           }
          ],
          "mesh3d": [
           {
            "colorbar": {
             "outlinewidth": 0,
             "ticks": ""
            },
            "type": "mesh3d"
           }
          ],
          "parcoords": [
           {
            "line": {
             "colorbar": {
              "outlinewidth": 0,
              "ticks": ""
             }
            },
            "type": "parcoords"
           }
          ],
          "pie": [
           {
            "automargin": true,
            "type": "pie"
           }
          ],
          "scatter": [
           {
            "fillpattern": {
             "fillmode": "overlay",
             "size": 10,
             "solidity": 0.2
            },
            "type": "scatter"
           }
          ],
          "scatter3d": [
           {
            "line": {
             "colorbar": {
              "outlinewidth": 0,
              "ticks": ""
             }
            },
            "marker": {
             "colorbar": {
              "outlinewidth": 0,
              "ticks": ""
             }
            },
            "type": "scatter3d"
           }
          ],
          "scattercarpet": [
           {
            "marker": {
             "colorbar": {
              "outlinewidth": 0,
              "ticks": ""
             }
            },
            "type": "scattercarpet"
           }
          ],
          "scattergeo": [
           {
            "marker": {
             "colorbar": {
              "outlinewidth": 0,
              "ticks": ""
             }
            },
            "type": "scattergeo"
           }
          ],
          "scattergl": [
           {
            "marker": {
             "colorbar": {
              "outlinewidth": 0,
              "ticks": ""
             }
            },
            "type": "scattergl"
           }
          ],
          "scattermap": [
           {
            "marker": {
             "colorbar": {
              "outlinewidth": 0,
              "ticks": ""
             }
            },
            "type": "scattermap"
           }
          ],
          "scattermapbox": [
           {
            "marker": {
             "colorbar": {
              "outlinewidth": 0,
              "ticks": ""
             }
            },
            "type": "scattermapbox"
           }
          ],
          "scatterpolar": [
           {
            "marker": {
             "colorbar": {
              "outlinewidth": 0,
              "ticks": ""
             }
            },
            "type": "scatterpolar"
           }
          ],
          "scatterpolargl": [
           {
            "marker": {
             "colorbar": {
              "outlinewidth": 0,
              "ticks": ""
             }
            },
            "type": "scatterpolargl"
           }
          ],
          "scatterternary": [
           {
            "marker": {
             "colorbar": {
              "outlinewidth": 0,
              "ticks": ""
             }
            },
            "type": "scatterternary"
           }
          ],
          "surface": [
           {
            "colorbar": {
             "outlinewidth": 0,
             "ticks": ""
            },
            "colorscale": [
             [
              0,
              "#0d0887"
             ],
             [
              0.1111111111111111,
              "#46039f"
             ],
             [
              0.2222222222222222,
              "#7201a8"
             ],
             [
              0.3333333333333333,
              "#9c179e"
             ],
             [
              0.4444444444444444,
              "#bd3786"
             ],
             [
              0.5555555555555556,
              "#d8576b"
             ],
             [
              0.6666666666666666,
              "#ed7953"
             ],
             [
              0.7777777777777778,
              "#fb9f3a"
             ],
             [
              0.8888888888888888,
              "#fdca26"
             ],
             [
              1,
              "#f0f921"
             ]
            ],
            "type": "surface"
           }
          ],
          "table": [
           {
            "cells": {
             "fill": {
              "color": "#EBF0F8"
             },
             "line": {
              "color": "white"
             }
            },
            "header": {
             "fill": {
              "color": "#C8D4E3"
             },
             "line": {
              "color": "white"
             }
            },
            "type": "table"
           }
          ]
         },
         "layout": {
          "annotationdefaults": {
           "arrowcolor": "#2a3f5f",
           "arrowhead": 0,
           "arrowwidth": 1
          },
          "autotypenumbers": "strict",
          "coloraxis": {
           "colorbar": {
            "outlinewidth": 0,
            "ticks": ""
           }
          },
          "colorscale": {
           "diverging": [
            [
             0,
             "#8e0152"
            ],
            [
             0.1,
             "#c51b7d"
            ],
            [
             0.2,
             "#de77ae"
            ],
            [
             0.3,
             "#f1b6da"
            ],
            [
             0.4,
             "#fde0ef"
            ],
            [
             0.5,
             "#f7f7f7"
            ],
            [
             0.6,
             "#e6f5d0"
            ],
            [
             0.7,
             "#b8e186"
            ],
            [
             0.8,
             "#7fbc41"
            ],
            [
             0.9,
             "#4d9221"
            ],
            [
             1,
             "#276419"
            ]
           ],
           "sequential": [
            [
             0,
             "#0d0887"
            ],
            [
             0.1111111111111111,
             "#46039f"
            ],
            [
             0.2222222222222222,
             "#7201a8"
            ],
            [
             0.3333333333333333,
             "#9c179e"
            ],
            [
             0.4444444444444444,
             "#bd3786"
            ],
            [
             0.5555555555555556,
             "#d8576b"
            ],
            [
             0.6666666666666666,
             "#ed7953"
            ],
            [
             0.7777777777777778,
             "#fb9f3a"
            ],
            [
             0.8888888888888888,
             "#fdca26"
            ],
            [
             1,
             "#f0f921"
            ]
           ],
           "sequentialminus": [
            [
             0,
             "#0d0887"
            ],
            [
             0.1111111111111111,
             "#46039f"
            ],
            [
             0.2222222222222222,
             "#7201a8"
            ],
            [
             0.3333333333333333,
             "#9c179e"
            ],
            [
             0.4444444444444444,
             "#bd3786"
            ],
            [
             0.5555555555555556,
             "#d8576b"
            ],
            [
             0.6666666666666666,
             "#ed7953"
            ],
            [
             0.7777777777777778,
             "#fb9f3a"
            ],
            [
             0.8888888888888888,
             "#fdca26"
            ],
            [
             1,
             "#f0f921"
            ]
           ]
          },
          "colorway": [
           "#636efa",
           "#EF553B",
           "#00cc96",
           "#ab63fa",
           "#FFA15A",
           "#19d3f3",
           "#FF6692",
           "#B6E880",
           "#FF97FF",
           "#FECB52"
          ],
          "font": {
           "color": "#2a3f5f"
          },
          "geo": {
           "bgcolor": "white",
           "lakecolor": "white",
           "landcolor": "white",
           "showlakes": true,
           "showland": true,
           "subunitcolor": "#C8D4E3"
          },
          "hoverlabel": {
           "align": "left"
          },
          "hovermode": "closest",
          "mapbox": {
           "style": "light"
          },
          "paper_bgcolor": "white",
          "plot_bgcolor": "white",
          "polar": {
           "angularaxis": {
            "gridcolor": "#EBF0F8",
            "linecolor": "#EBF0F8",
            "ticks": ""
           },
           "bgcolor": "white",
           "radialaxis": {
            "gridcolor": "#EBF0F8",
            "linecolor": "#EBF0F8",
            "ticks": ""
           }
          },
          "scene": {
           "xaxis": {
            "backgroundcolor": "white",
            "gridcolor": "#DFE8F3",
            "gridwidth": 2,
            "linecolor": "#EBF0F8",
            "showbackground": true,
            "ticks": "",
            "zerolinecolor": "#EBF0F8"
           },
           "yaxis": {
            "backgroundcolor": "white",
            "gridcolor": "#DFE8F3",
            "gridwidth": 2,
            "linecolor": "#EBF0F8",
            "showbackground": true,
            "ticks": "",
            "zerolinecolor": "#EBF0F8"
           },
           "zaxis": {
            "backgroundcolor": "white",
            "gridcolor": "#DFE8F3",
            "gridwidth": 2,
            "linecolor": "#EBF0F8",
            "showbackground": true,
            "ticks": "",
            "zerolinecolor": "#EBF0F8"
           }
          },
          "shapedefaults": {
           "line": {
            "color": "#2a3f5f"
           }
          },
          "ternary": {
           "aaxis": {
            "gridcolor": "#DFE8F3",
            "linecolor": "#A2B1C6",
            "ticks": ""
           },
           "baxis": {
            "gridcolor": "#DFE8F3",
            "linecolor": "#A2B1C6",
            "ticks": ""
           },
           "bgcolor": "white",
           "caxis": {
            "gridcolor": "#DFE8F3",
            "linecolor": "#A2B1C6",
            "ticks": ""
           }
          },
          "title": {
           "x": 0.05
          },
          "xaxis": {
           "automargin": true,
           "gridcolor": "#EBF0F8",
           "linecolor": "#EBF0F8",
           "ticks": "",
           "title": {
            "standoff": 15
           },
           "zerolinecolor": "#EBF0F8",
           "zerolinewidth": 2
          },
          "yaxis": {
           "automargin": true,
           "gridcolor": "#EBF0F8",
           "linecolor": "#EBF0F8",
           "ticks": "",
           "title": {
            "standoff": 15
           },
           "zerolinecolor": "#EBF0F8",
           "zerolinewidth": 2
          }
         }
        },
        "title": {
         "text": "Per-Request and Daily Energy Consumption of GPT-4o vs Web Baselines"
        },
        "width": 1000,
        "xaxis": {
         "anchor": "y",
         "domain": [
          0,
          1
         ],
         "title": {
          "text": "Model"
         }
        },
        "yaxis": {
         "anchor": "x",
         "domain": [
          0,
          1
         ],
         "dtick": 2,
         "gridcolor": "LightGrey",
         "gridwidth": 1,
         "showgrid": true,
         "tick0": 0,
         "tickmode": "linear",
         "title": {
          "text": "Energy Consumption (Wh)"
         }
        }
       }
      }
     },
     "metadata": {},
     "output_type": "display_data"
    }
   ],
   "source": [
    "color_map = {\n",
    "    'OpenAI': '#2E7D32',    \n",
    "    'Reference': '#F9A825', \n",
    "    'Real Life': '#4E79A7'  # Soft Blue (for real-world physical activities like phone charging)\n",
    "}\n",
    "\n",
    "\n",
    "\n",
    "\n",
    "fig = px.bar(\n",
    "    agg_df.sort_values(by='mean_score_Watts', ascending=True),\n",
    "    x='Model',\n",
    "    y='mean_score_Watts',\n",
    "    error_y='std_score_Watts',  \n",
    "    text='mean_score_Watts',\n",
    "    color='Organization',         \n",
    "    color_discrete_map=color_map   \n",
    ")\n",
    "\n",
    "\n",
    "fig.update_traces(texttemplate='%{text:.2f}', textposition='outside')\n",
    "fig.update_layout(\n",
    "    width=1000,\n",
    "    title='Per-Request and Daily Energy Consumption of GPT-4o vs Web Baselines',\n",
    "    yaxis_title='Energy Consumption (Wh)',\n",
    "    showlegend=False,\n",
    "    xaxis_title='Model',\n",
    "    bargap=0.4,\n",
    "    template='plotly_white',\n",
    "    yaxis=dict(\n",
    "        tickmode='linear',\n",
    "        tick0=0,\n",
    "        dtick=2, \n",
    "        showgrid=True,\n",
    "        gridwidth=1,\n",
    "        gridcolor='LightGrey'\n",
    "    ),\n",
    ")\n",
    "\n",
    "fig.show()\n"
   ]
  },
  {
   "cell_type": "code",
   "execution_count": null,
   "metadata": {},
   "outputs": [],
   "source": []
  },
  {
   "cell_type": "code",
   "execution_count": 132,
   "metadata": {},
   "outputs": [
    {
     "data": {
      "text/html": [
       "<div>\n",
       "<style scoped>\n",
       "    .dataframe tbody tr th:only-of-type {\n",
       "        vertical-align: middle;\n",
       "    }\n",
       "\n",
       "    .dataframe tbody tr th {\n",
       "        vertical-align: top;\n",
       "    }\n",
       "\n",
       "    .dataframe thead th {\n",
       "        text-align: right;\n",
       "    }\n",
       "</style>\n",
       "<table border=\"1\" class=\"dataframe\">\n",
       "  <thead>\n",
       "    <tr style=\"text-align: right;\">\n",
       "      <th></th>\n",
       "      <th>Model</th>\n",
       "      <th>Organization</th>\n",
       "      <th>mean_score</th>\n",
       "      <th>std_score</th>\n",
       "      <th>mean_score_Watts</th>\n",
       "      <th>std_score_Watts</th>\n",
       "    </tr>\n",
       "  </thead>\n",
       "  <tbody>\n",
       "    <tr>\n",
       "      <th>0</th>\n",
       "      <td>GPT-4o (Mar '25) Short Query</td>\n",
       "      <td>OpenAI</td>\n",
       "      <td>0.000421</td>\n",
       "      <td>0.000127</td>\n",
       "      <td>0.42086</td>\n",
       "      <td>0.127460</td>\n",
       "    </tr>\n",
       "    <tr>\n",
       "      <th>0</th>\n",
       "      <td>GPT-4o (Mar '25) Medium Query</td>\n",
       "      <td>OpenAI</td>\n",
       "      <td>0.001214</td>\n",
       "      <td>0.000391</td>\n",
       "      <td>1.21384</td>\n",
       "      <td>0.391175</td>\n",
       "    </tr>\n",
       "    <tr>\n",
       "      <th>0</th>\n",
       "      <td>GPT-4o (Mar '25) Long Query</td>\n",
       "      <td>OpenAI</td>\n",
       "      <td>0.001788</td>\n",
       "      <td>0.000363</td>\n",
       "      <td>1.78804</td>\n",
       "      <td>0.363461</td>\n",
       "    </tr>\n",
       "    <tr>\n",
       "      <th>3</th>\n",
       "      <td>1 Google Search</td>\n",
       "      <td>Reference</td>\n",
       "      <td>0.000300</td>\n",
       "      <td>0.000000</td>\n",
       "      <td>0.30000</td>\n",
       "      <td>0.000000</td>\n",
       "    </tr>\n",
       "    <tr>\n",
       "      <th>4</th>\n",
       "      <td>Daily Session (8 Messages) (Short Queries)</td>\n",
       "      <td>OpenAI</td>\n",
       "      <td>0.003730</td>\n",
       "      <td>0.001020</td>\n",
       "      <td>3.73000</td>\n",
       "      <td>1.020000</td>\n",
       "    </tr>\n",
       "    <tr>\n",
       "      <th>5</th>\n",
       "      <td>Daily Session (8 Messages) (Medium Queries)</td>\n",
       "      <td>OpenAI</td>\n",
       "      <td>0.009710</td>\n",
       "      <td>0.003120</td>\n",
       "      <td>9.71000</td>\n",
       "      <td>3.120000</td>\n",
       "    </tr>\n",
       "    <tr>\n",
       "      <th>6</th>\n",
       "      <td>Charging 2 Phones (Energysage)</td>\n",
       "      <td>Real Life</td>\n",
       "      <td>0.010000</td>\n",
       "      <td>0.000000</td>\n",
       "      <td>10.00000</td>\n",
       "      <td>0.000000</td>\n",
       "    </tr>\n",
       "  </tbody>\n",
       "</table>\n",
       "</div>"
      ],
      "text/plain": [
       "                                         Model Organization  mean_score  \\\n",
       "0                 GPT-4o (Mar '25) Short Query       OpenAI    0.000421   \n",
       "0                GPT-4o (Mar '25) Medium Query       OpenAI    0.001214   \n",
       "0                  GPT-4o (Mar '25) Long Query       OpenAI    0.001788   \n",
       "3                              1 Google Search    Reference    0.000300   \n",
       "4   Daily Session (8 Messages) (Short Queries)       OpenAI    0.003730   \n",
       "5  Daily Session (8 Messages) (Medium Queries)       OpenAI    0.009710   \n",
       "6               Charging 2 Phones (Energysage)    Real Life    0.010000   \n",
       "\n",
       "   std_score  mean_score_Watts  std_score_Watts  \n",
       "0   0.000127           0.42086         0.127460  \n",
       "0   0.000391           1.21384         0.391175  \n",
       "0   0.000363           1.78804         0.363461  \n",
       "3   0.000000           0.30000         0.000000  \n",
       "4   0.001020           3.73000         1.020000  \n",
       "5   0.003120           9.71000         3.120000  \n",
       "6   0.000000          10.00000         0.000000  "
      ]
     },
     "execution_count": 132,
     "metadata": {},
     "output_type": "execute_result"
    }
   ],
   "source": [
    "agg_df"
   ]
  },
  {
   "cell_type": "code",
   "execution_count": 154,
   "metadata": {},
   "outputs": [],
   "source": [
    "energy_per_year=agg_df.loc[agg_df['Model'] == 'GPT-4o (Mar \\'25) Short Query', 'mean_score']*365*700000000*0.8+agg_df.loc[agg_df['Model'] == 'GPT-4o (Mar \\'25) Medium Query', 'mean_score']*365*700000000*0.2\n",
    "energy_per_year_std=agg_df.loc[agg_df['Model'] == 'GPT-4o (Mar \\'25) Short Query', 'std_score']*365*700000000*0.8+agg_df.loc[agg_df['Model'] == 'GPT-4o (Mar \\'25) Medium Query', 'std_score']*365*700000000*0.2\n"
   ]
  },
  {
   "cell_type": "code",
   "execution_count": 155,
   "metadata": {},
   "outputs": [
    {
     "data": {
      "text/plain": [
       "0   504,832,787\n",
       "Name: mean_score, dtype: float64"
      ]
     },
     "execution_count": 155,
     "metadata": {},
     "output_type": "execute_result"
    }
   ],
   "source": [
    "water_per_year=(energy_per_year/1.12)*0.3+energy_per_year*3.142\n",
    "water_per_year_std=(energy_per_year_std/1.12)*0.3+energy_per_year_std*3.142\n",
    "water_per_year"
   ]
  },
  {
   "cell_type": "code",
   "execution_count": 156,
   "metadata": {},
   "outputs": [],
   "source": [
    "carbon_per_year=energy_per_year*0.3528\n",
    "carbon_per_year_std=energy_per_year_std*0.3528"
   ]
  },
  {
   "cell_type": "code",
   "execution_count": 157,
   "metadata": {},
   "outputs": [
    {
     "data": {
      "text/html": [
       "<div>\n",
       "<style scoped>\n",
       "    .dataframe tbody tr th:only-of-type {\n",
       "        vertical-align: middle;\n",
       "    }\n",
       "\n",
       "    .dataframe tbody tr th {\n",
       "        vertical-align: top;\n",
       "    }\n",
       "\n",
       "    .dataframe thead th {\n",
       "        text-align: right;\n",
       "    }\n",
       "</style>\n",
       "<table border=\"1\" class=\"dataframe\">\n",
       "  <thead>\n",
       "    <tr style=\"text-align: right;\">\n",
       "      <th></th>\n",
       "      <th>Model</th>\n",
       "      <th>Energy</th>\n",
       "      <th>Water</th>\n",
       "      <th>Carbon</th>\n",
       "    </tr>\n",
       "  </thead>\n",
       "  <tbody>\n",
       "    <tr>\n",
       "      <th>0</th>\n",
       "      <td>GPT-4o (Mar '25)</td>\n",
       "      <td>148,051,008</td>\n",
       "      <td>504,832,787</td>\n",
       "      <td>52,232,396</td>\n",
       "    </tr>\n",
       "  </tbody>\n",
       "</table>\n",
       "</div>"
      ],
      "text/plain": [
       "              Model      Energy       Water     Carbon\n",
       "0  GPT-4o (Mar '25) 148,051,008 504,832,787 52,232,396"
      ]
     },
     "execution_count": 157,
     "metadata": {},
     "output_type": "execute_result"
    }
   ],
   "source": [
    "df_environmental_impact=pd.DataFrame({\"Model\": \"GPT-4o (Mar \\'25)\",'Energy': energy_per_year, 'Water': water_per_year, 'Carbon': carbon_per_year})\n",
    "df_environmental_impact_std=pd.DataFrame({\"Model\": \"GPT-4o (Mar \\'25)\",'Energy': energy_per_year_std, 'Water': water_per_year_std, 'Carbon': carbon_per_year_std})\n",
    "df_environmental_impact"
   ]
  },
  {
   "cell_type": "code",
   "execution_count": 158,
   "metadata": {},
   "outputs": [
    {
     "data": {
      "text/html": [
       "<div>\n",
       "<style scoped>\n",
       "    .dataframe tbody tr th:only-of-type {\n",
       "        vertical-align: middle;\n",
       "    }\n",
       "\n",
       "    .dataframe tbody tr th {\n",
       "        vertical-align: top;\n",
       "    }\n",
       "\n",
       "    .dataframe thead th {\n",
       "        text-align: right;\n",
       "    }\n",
       "</style>\n",
       "<table border=\"1\" class=\"dataframe\">\n",
       "  <thead>\n",
       "    <tr style=\"text-align: right;\">\n",
       "      <th></th>\n",
       "      <th>Model</th>\n",
       "      <th>Energy</th>\n",
       "      <th>Water</th>\n",
       "      <th>Carbon</th>\n",
       "    </tr>\n",
       "  </thead>\n",
       "  <tbody>\n",
       "    <tr>\n",
       "      <th>0</th>\n",
       "      <td>GPT-4o (Mar '25)</td>\n",
       "      <td>46,041,933</td>\n",
       "      <td>156,996,415</td>\n",
       "      <td>16,243,594</td>\n",
       "    </tr>\n",
       "  </tbody>\n",
       "</table>\n",
       "</div>"
      ],
      "text/plain": [
       "              Model     Energy       Water     Carbon\n",
       "0  GPT-4o (Mar '25) 46,041,933 156,996,415 16,243,594"
      ]
     },
     "execution_count": 158,
     "metadata": {},
     "output_type": "execute_result"
    }
   ],
   "source": [
    "df_environmental_impact_std"
   ]
  },
  {
   "cell_type": "code",
   "execution_count": 153,
   "metadata": {},
   "outputs": [
    {
     "data": {
      "text/plain": [
       "0   52,232,396\n",
       "Name: Carbon, dtype: float64"
      ]
     },
     "execution_count": 153,
     "metadata": {},
     "output_type": "execute_result"
    }
   ],
   "source": [
    "pd.set_option('display.float_format', '{:,.0f}'.format)\n",
    "df_environmental_impact['Carbon']"
   ]
  },
  {
   "cell_type": "code",
   "execution_count": 149,
   "metadata": {},
   "outputs": [
    {
     "data": {
      "application/vnd.plotly.v1+json": {
       "config": {
        "plotlyServerURL": "https://plot.ly"
       },
       "data": [
        {
         "marker": {
          "color": "#B58900"
         },
         "text": [
          "148,051,008"
         ],
         "textposition": "outside",
         "type": "bar",
         "x": [
          "GPT-4o (Mar '25)"
         ],
         "xaxis": "x",
         "y": [
          148051008
         ],
         "yaxis": "y"
        },
        {
         "marker": {
          "color": "#004C99"
         },
         "text": [
          "504,832,787"
         ],
         "textposition": "outside",
         "type": "bar",
         "x": [
          "GPT-4o (Mar '25)"
         ],
         "xaxis": "x2",
         "y": [
          504832787.136
         ],
         "yaxis": "y2"
        },
        {
         "marker": {
          "color": "#444444"
         },
         "text": [
          "52,232,396"
         ],
         "textposition": "outside",
         "type": "bar",
         "x": [
          "GPT-4o (Mar '25)"
         ],
         "xaxis": "x3",
         "y": [
          52232395.6224
         ],
         "yaxis": "y3"
        }
       ],
       "layout": {
        "annotations": [
         {
          "font": {
           "size": 16
          },
          "showarrow": false,
          "text": "Annual Energy Consumption (kWh)",
          "x": 0.14444444444444446,
          "xanchor": "center",
          "xref": "paper",
          "y": 1,
          "yanchor": "bottom",
          "yref": "paper"
         },
         {
          "font": {
           "size": 16
          },
          "showarrow": false,
          "text": "Annual Water Consumption (L)",
          "x": 0.5,
          "xanchor": "center",
          "xref": "paper",
          "y": 1,
          "yanchor": "bottom",
          "yref": "paper"
         },
         {
          "font": {
           "size": 16
          },
          "showarrow": false,
          "text": "Annual Carbon Emissions (kg CO₂e)",
          "x": 0.8555555555555556,
          "xanchor": "center",
          "xref": "paper",
          "y": 1,
          "yanchor": "bottom",
          "yref": "paper"
         }
        ],
        "height": 450,
        "margin": {
         "t": 100
        },
        "showlegend": false,
        "template": {
         "data": {
          "bar": [
           {
            "error_x": {
             "color": "#2a3f5f"
            },
            "error_y": {
             "color": "#2a3f5f"
            },
            "marker": {
             "line": {
              "color": "white",
              "width": 0.5
             },
             "pattern": {
              "fillmode": "overlay",
              "size": 10,
              "solidity": 0.2
             }
            },
            "type": "bar"
           }
          ],
          "barpolar": [
           {
            "marker": {
             "line": {
              "color": "white",
              "width": 0.5
             },
             "pattern": {
              "fillmode": "overlay",
              "size": 10,
              "solidity": 0.2
             }
            },
            "type": "barpolar"
           }
          ],
          "carpet": [
           {
            "aaxis": {
             "endlinecolor": "#2a3f5f",
             "gridcolor": "#C8D4E3",
             "linecolor": "#C8D4E3",
             "minorgridcolor": "#C8D4E3",
             "startlinecolor": "#2a3f5f"
            },
            "baxis": {
             "endlinecolor": "#2a3f5f",
             "gridcolor": "#C8D4E3",
             "linecolor": "#C8D4E3",
             "minorgridcolor": "#C8D4E3",
             "startlinecolor": "#2a3f5f"
            },
            "type": "carpet"
           }
          ],
          "choropleth": [
           {
            "colorbar": {
             "outlinewidth": 0,
             "ticks": ""
            },
            "type": "choropleth"
           }
          ],
          "contour": [
           {
            "colorbar": {
             "outlinewidth": 0,
             "ticks": ""
            },
            "colorscale": [
             [
              0,
              "#0d0887"
             ],
             [
              0.1111111111111111,
              "#46039f"
             ],
             [
              0.2222222222222222,
              "#7201a8"
             ],
             [
              0.3333333333333333,
              "#9c179e"
             ],
             [
              0.4444444444444444,
              "#bd3786"
             ],
             [
              0.5555555555555556,
              "#d8576b"
             ],
             [
              0.6666666666666666,
              "#ed7953"
             ],
             [
              0.7777777777777778,
              "#fb9f3a"
             ],
             [
              0.8888888888888888,
              "#fdca26"
             ],
             [
              1,
              "#f0f921"
             ]
            ],
            "type": "contour"
           }
          ],
          "contourcarpet": [
           {
            "colorbar": {
             "outlinewidth": 0,
             "ticks": ""
            },
            "type": "contourcarpet"
           }
          ],
          "heatmap": [
           {
            "colorbar": {
             "outlinewidth": 0,
             "ticks": ""
            },
            "colorscale": [
             [
              0,
              "#0d0887"
             ],
             [
              0.1111111111111111,
              "#46039f"
             ],
             [
              0.2222222222222222,
              "#7201a8"
             ],
             [
              0.3333333333333333,
              "#9c179e"
             ],
             [
              0.4444444444444444,
              "#bd3786"
             ],
             [
              0.5555555555555556,
              "#d8576b"
             ],
             [
              0.6666666666666666,
              "#ed7953"
             ],
             [
              0.7777777777777778,
              "#fb9f3a"
             ],
             [
              0.8888888888888888,
              "#fdca26"
             ],
             [
              1,
              "#f0f921"
             ]
            ],
            "type": "heatmap"
           }
          ],
          "histogram": [
           {
            "marker": {
             "pattern": {
              "fillmode": "overlay",
              "size": 10,
              "solidity": 0.2
             }
            },
            "type": "histogram"
           }
          ],
          "histogram2d": [
           {
            "colorbar": {
             "outlinewidth": 0,
             "ticks": ""
            },
            "colorscale": [
             [
              0,
              "#0d0887"
             ],
             [
              0.1111111111111111,
              "#46039f"
             ],
             [
              0.2222222222222222,
              "#7201a8"
             ],
             [
              0.3333333333333333,
              "#9c179e"
             ],
             [
              0.4444444444444444,
              "#bd3786"
             ],
             [
              0.5555555555555556,
              "#d8576b"
             ],
             [
              0.6666666666666666,
              "#ed7953"
             ],
             [
              0.7777777777777778,
              "#fb9f3a"
             ],
             [
              0.8888888888888888,
              "#fdca26"
             ],
             [
              1,
              "#f0f921"
             ]
            ],
            "type": "histogram2d"
           }
          ],
          "histogram2dcontour": [
           {
            "colorbar": {
             "outlinewidth": 0,
             "ticks": ""
            },
            "colorscale": [
             [
              0,
              "#0d0887"
             ],
             [
              0.1111111111111111,
              "#46039f"
             ],
             [
              0.2222222222222222,
              "#7201a8"
             ],
             [
              0.3333333333333333,
              "#9c179e"
             ],
             [
              0.4444444444444444,
              "#bd3786"
             ],
             [
              0.5555555555555556,
              "#d8576b"
             ],
             [
              0.6666666666666666,
              "#ed7953"
             ],
             [
              0.7777777777777778,
              "#fb9f3a"
             ],
             [
              0.8888888888888888,
              "#fdca26"
             ],
             [
              1,
              "#f0f921"
             ]
            ],
            "type": "histogram2dcontour"
           }
          ],
          "mesh3d": [
           {
            "colorbar": {
             "outlinewidth": 0,
             "ticks": ""
            },
            "type": "mesh3d"
           }
          ],
          "parcoords": [
           {
            "line": {
             "colorbar": {
              "outlinewidth": 0,
              "ticks": ""
             }
            },
            "type": "parcoords"
           }
          ],
          "pie": [
           {
            "automargin": true,
            "type": "pie"
           }
          ],
          "scatter": [
           {
            "fillpattern": {
             "fillmode": "overlay",
             "size": 10,
             "solidity": 0.2
            },
            "type": "scatter"
           }
          ],
          "scatter3d": [
           {
            "line": {
             "colorbar": {
              "outlinewidth": 0,
              "ticks": ""
             }
            },
            "marker": {
             "colorbar": {
              "outlinewidth": 0,
              "ticks": ""
             }
            },
            "type": "scatter3d"
           }
          ],
          "scattercarpet": [
           {
            "marker": {
             "colorbar": {
              "outlinewidth": 0,
              "ticks": ""
             }
            },
            "type": "scattercarpet"
           }
          ],
          "scattergeo": [
           {
            "marker": {
             "colorbar": {
              "outlinewidth": 0,
              "ticks": ""
             }
            },
            "type": "scattergeo"
           }
          ],
          "scattergl": [
           {
            "marker": {
             "colorbar": {
              "outlinewidth": 0,
              "ticks": ""
             }
            },
            "type": "scattergl"
           }
          ],
          "scattermap": [
           {
            "marker": {
             "colorbar": {
              "outlinewidth": 0,
              "ticks": ""
             }
            },
            "type": "scattermap"
           }
          ],
          "scattermapbox": [
           {
            "marker": {
             "colorbar": {
              "outlinewidth": 0,
              "ticks": ""
             }
            },
            "type": "scattermapbox"
           }
          ],
          "scatterpolar": [
           {
            "marker": {
             "colorbar": {
              "outlinewidth": 0,
              "ticks": ""
             }
            },
            "type": "scatterpolar"
           }
          ],
          "scatterpolargl": [
           {
            "marker": {
             "colorbar": {
              "outlinewidth": 0,
              "ticks": ""
             }
            },
            "type": "scatterpolargl"
           }
          ],
          "scatterternary": [
           {
            "marker": {
             "colorbar": {
              "outlinewidth": 0,
              "ticks": ""
             }
            },
            "type": "scatterternary"
           }
          ],
          "surface": [
           {
            "colorbar": {
             "outlinewidth": 0,
             "ticks": ""
            },
            "colorscale": [
             [
              0,
              "#0d0887"
             ],
             [
              0.1111111111111111,
              "#46039f"
             ],
             [
              0.2222222222222222,
              "#7201a8"
             ],
             [
              0.3333333333333333,
              "#9c179e"
             ],
             [
              0.4444444444444444,
              "#bd3786"
             ],
             [
              0.5555555555555556,
              "#d8576b"
             ],
             [
              0.6666666666666666,
              "#ed7953"
             ],
             [
              0.7777777777777778,
              "#fb9f3a"
             ],
             [
              0.8888888888888888,
              "#fdca26"
             ],
             [
              1,
              "#f0f921"
             ]
            ],
            "type": "surface"
           }
          ],
          "table": [
           {
            "cells": {
             "fill": {
              "color": "#EBF0F8"
             },
             "line": {
              "color": "white"
             }
            },
            "header": {
             "fill": {
              "color": "#C8D4E3"
             },
             "line": {
              "color": "white"
             }
            },
            "type": "table"
           }
          ]
         },
         "layout": {
          "annotationdefaults": {
           "arrowcolor": "#2a3f5f",
           "arrowhead": 0,
           "arrowwidth": 1
          },
          "autotypenumbers": "strict",
          "coloraxis": {
           "colorbar": {
            "outlinewidth": 0,
            "ticks": ""
           }
          },
          "colorscale": {
           "diverging": [
            [
             0,
             "#8e0152"
            ],
            [
             0.1,
             "#c51b7d"
            ],
            [
             0.2,
             "#de77ae"
            ],
            [
             0.3,
             "#f1b6da"
            ],
            [
             0.4,
             "#fde0ef"
            ],
            [
             0.5,
             "#f7f7f7"
            ],
            [
             0.6,
             "#e6f5d0"
            ],
            [
             0.7,
             "#b8e186"
            ],
            [
             0.8,
             "#7fbc41"
            ],
            [
             0.9,
             "#4d9221"
            ],
            [
             1,
             "#276419"
            ]
           ],
           "sequential": [
            [
             0,
             "#0d0887"
            ],
            [
             0.1111111111111111,
             "#46039f"
            ],
            [
             0.2222222222222222,
             "#7201a8"
            ],
            [
             0.3333333333333333,
             "#9c179e"
            ],
            [
             0.4444444444444444,
             "#bd3786"
            ],
            [
             0.5555555555555556,
             "#d8576b"
            ],
            [
             0.6666666666666666,
             "#ed7953"
            ],
            [
             0.7777777777777778,
             "#fb9f3a"
            ],
            [
             0.8888888888888888,
             "#fdca26"
            ],
            [
             1,
             "#f0f921"
            ]
           ],
           "sequentialminus": [
            [
             0,
             "#0d0887"
            ],
            [
             0.1111111111111111,
             "#46039f"
            ],
            [
             0.2222222222222222,
             "#7201a8"
            ],
            [
             0.3333333333333333,
             "#9c179e"
            ],
            [
             0.4444444444444444,
             "#bd3786"
            ],
            [
             0.5555555555555556,
             "#d8576b"
            ],
            [
             0.6666666666666666,
             "#ed7953"
            ],
            [
             0.7777777777777778,
             "#fb9f3a"
            ],
            [
             0.8888888888888888,
             "#fdca26"
            ],
            [
             1,
             "#f0f921"
            ]
           ]
          },
          "colorway": [
           "#636efa",
           "#EF553B",
           "#00cc96",
           "#ab63fa",
           "#FFA15A",
           "#19d3f3",
           "#FF6692",
           "#B6E880",
           "#FF97FF",
           "#FECB52"
          ],
          "font": {
           "color": "#2a3f5f"
          },
          "geo": {
           "bgcolor": "white",
           "lakecolor": "white",
           "landcolor": "white",
           "showlakes": true,
           "showland": true,
           "subunitcolor": "#C8D4E3"
          },
          "hoverlabel": {
           "align": "left"
          },
          "hovermode": "closest",
          "mapbox": {
           "style": "light"
          },
          "paper_bgcolor": "white",
          "plot_bgcolor": "white",
          "polar": {
           "angularaxis": {
            "gridcolor": "#EBF0F8",
            "linecolor": "#EBF0F8",
            "ticks": ""
           },
           "bgcolor": "white",
           "radialaxis": {
            "gridcolor": "#EBF0F8",
            "linecolor": "#EBF0F8",
            "ticks": ""
           }
          },
          "scene": {
           "xaxis": {
            "backgroundcolor": "white",
            "gridcolor": "#DFE8F3",
            "gridwidth": 2,
            "linecolor": "#EBF0F8",
            "showbackground": true,
            "ticks": "",
            "zerolinecolor": "#EBF0F8"
           },
           "yaxis": {
            "backgroundcolor": "white",
            "gridcolor": "#DFE8F3",
            "gridwidth": 2,
            "linecolor": "#EBF0F8",
            "showbackground": true,
            "ticks": "",
            "zerolinecolor": "#EBF0F8"
           },
           "zaxis": {
            "backgroundcolor": "white",
            "gridcolor": "#DFE8F3",
            "gridwidth": 2,
            "linecolor": "#EBF0F8",
            "showbackground": true,
            "ticks": "",
            "zerolinecolor": "#EBF0F8"
           }
          },
          "shapedefaults": {
           "line": {
            "color": "#2a3f5f"
           }
          },
          "ternary": {
           "aaxis": {
            "gridcolor": "#DFE8F3",
            "linecolor": "#A2B1C6",
            "ticks": ""
           },
           "baxis": {
            "gridcolor": "#DFE8F3",
            "linecolor": "#A2B1C6",
            "ticks": ""
           },
           "bgcolor": "white",
           "caxis": {
            "gridcolor": "#DFE8F3",
            "linecolor": "#A2B1C6",
            "ticks": ""
           }
          },
          "title": {
           "x": 0.05
          },
          "xaxis": {
           "automargin": true,
           "gridcolor": "#EBF0F8",
           "linecolor": "#EBF0F8",
           "ticks": "",
           "title": {
            "standoff": 15
           },
           "zerolinecolor": "#EBF0F8",
           "zerolinewidth": 2
          },
          "yaxis": {
           "automargin": true,
           "gridcolor": "#EBF0F8",
           "linecolor": "#EBF0F8",
           "ticks": "",
           "title": {
            "standoff": 15
           },
           "zerolinecolor": "#EBF0F8",
           "zerolinewidth": 2
          }
         }
        },
        "title": {
         "text": "Annual Environmental Impact of GPT-4o"
        },
        "width": 1200,
        "xaxis": {
         "anchor": "y",
         "domain": [
          0,
          0.2888888888888889
         ],
         "tickangle": -45
        },
        "xaxis2": {
         "anchor": "y2",
         "domain": [
          0.35555555555555557,
          0.6444444444444445
         ],
         "tickangle": -45
        },
        "xaxis3": {
         "anchor": "y3",
         "domain": [
          0.7111111111111111,
          1
         ],
         "tickangle": -45
        },
        "yaxis": {
         "anchor": "x",
         "domain": [
          0,
          1
         ],
         "title": {
          "text": "kWh"
         }
        },
        "yaxis2": {
         "anchor": "x2",
         "domain": [
          0,
          1
         ],
         "title": {
          "text": "Liters"
         }
        },
        "yaxis3": {
         "anchor": "x3",
         "domain": [
          0,
          1
         ],
         "title": {
          "text": "kg CO₂e"
         }
        }
       }
      }
     },
     "metadata": {},
     "output_type": "display_data"
    }
   ],
   "source": [
    "import plotly.graph_objects as go\n",
    "from plotly.subplots import make_subplots\n",
    "\n",
    "# Extract values (ensure df_environmental_impact has a single row)\n",
    "model = df_environmental_impact.loc[0, 'Model']\n",
    "energy = df_environmental_impact.loc[0, 'Energy']\n",
    "water = df_environmental_impact.loc[0, 'Water']\n",
    "carbon = df_environmental_impact.loc[0, 'Carbon']\n",
    "\n",
    "# Create subplots: 1 row, 3 columns\n",
    "fig = make_subplots(\n",
    "    rows=1, cols=3,\n",
    "    subplot_titles=(\n",
    "        \"Annual Energy Consumption (kWh)\",\n",
    "        \"Annual Water Consumption (L)\",\n",
    "        \"Annual Carbon Emissions (kg CO₂e)\"\n",
    "    )\n",
    ")\n",
    "\n",
    "# Define dark colors\n",
    "energy_color = \"#B58900\"  # Dark yellow\n",
    "water_color = \"#004C99\"   # Deep blue\n",
    "carbon_color = \"#444444\"  # Dark grey\n",
    "\n",
    "# Energy bar\n",
    "fig.add_trace(\n",
    "    go.Bar(\n",
    "        x=[model], y=[energy],\n",
    "        marker_color=energy_color,\n",
    "        text=[f\"{energy:,.0f}\"],\n",
    "        textposition='outside'\n",
    "    ),\n",
    "    row=1, col=1\n",
    ")\n",
    "\n",
    "# Water bar\n",
    "fig.add_trace(\n",
    "    go.Bar(\n",
    "        x=[model], y=[water],\n",
    "        marker_color=water_color,\n",
    "        text=[f\"{water:,.0f}\"],\n",
    "        textposition='outside'\n",
    "    ),\n",
    "    row=1, col=2\n",
    ")\n",
    "\n",
    "# Carbon bar\n",
    "fig.add_trace(\n",
    "    go.Bar(\n",
    "        x=[model], y=[carbon],\n",
    "        marker_color=carbon_color,\n",
    "        text=[f\"{carbon:,.0f}\"],\n",
    "        textposition='outside'\n",
    "    ),\n",
    "    row=1, col=3\n",
    ")\n",
    "\n",
    "# Layout adjustments\n",
    "fig.update_layout(\n",
    "    width=1200,\n",
    "    height=450,\n",
    "    title_text=\"Annual Environmental Impact of GPT-4o\",\n",
    "    template=\"plotly_white\",\n",
    "    showlegend=False,\n",
    "    margin=dict(t=100)\n",
    ")\n",
    "\n",
    "# Y-axis labels\n",
    "fig.update_yaxes(title_text=\"kWh\", row=1, col=1)\n",
    "fig.update_yaxes(title_text=\"Liters\", row=1, col=2)\n",
    "fig.update_yaxes(title_text=\"kg CO₂e\", row=1, col=3)\n",
    "\n",
    "# Rotate x-axis labels for readability\n",
    "fig.update_xaxes(tickangle=-45)\n",
    "\n",
    "fig.show()\n"
   ]
  },
  {
   "cell_type": "code",
   "execution_count": null,
   "metadata": {},
   "outputs": [
    {
     "name": "stdout",
     "output_type": "stream",
     "text": [
      "                                          Label  Energy (MWh)\n",
      "0        1 Residential Household (U.S. Average)            11\n",
      "1               1 University <br>(U.S. Average)           385\n",
      "2       1 Inpatient Hospital<br> (U.S. Average)         7,631\n",
      "3  9,000 Residential<br> Households (Aggregate)        97,119\n",
      "4        13 Inpatient<br> Hospitals (Aggregate)        99,203\n",
      "5              260 Universities<br> (Aggregate)       100,100\n",
      "6       GPT-4o Inference<br> (Minimum Estimate)       102,009\n",
      "7       GPT-4o Inference<br> (Maximum Estimate)       194,093\n"
     ]
    },
    {
     "data": {
      "application/vnd.plotly.v1+json": {
       "config": {
        "plotlyServerURL": "https://plot.ly"
       },
       "data": [
        {
         "marker": {
          "color": "#F9E79F"
         },
         "name": "1 Residential Household (U.S. Average)",
         "text": "11",
         "textposition": "outside",
         "type": "bar",
         "width": 0.3,
         "x": [
          "1 Residential Household (U.S. Average)"
         ],
         "y": [
          10.791
         ]
        },
        {
         "marker": {
          "color": "#F7DC6F"
         },
         "name": "1 University <br>(U.S. Average)",
         "text": "385",
         "textposition": "outside",
         "type": "bar",
         "width": 0.3,
         "x": [
          "1 University <br>(U.S. Average)"
         ],
         "y": [
          385
         ]
        },
        {
         "marker": {
          "color": "#F4D03F"
         },
         "name": "1 Inpatient Hospital<br> (U.S. Average)",
         "text": "7,631",
         "textposition": "outside",
         "type": "bar",
         "width": 0.3,
         "x": [
          "1 Inpatient Hospital<br> (U.S. Average)"
         ],
         "y": [
          7631
         ]
        },
        {
         "marker": {
          "color": "#F1C40F"
         },
         "name": "9,000 Residential<br> Households (Aggregate)",
         "text": "97,119",
         "textposition": "outside",
         "type": "bar",
         "width": 0.3,
         "x": [
          "9,000 Residential<br> Households (Aggregate)"
         ],
         "y": [
          97119
         ]
        },
        {
         "marker": {
          "color": "#D4AC0D"
         },
         "name": "13 Inpatient<br> Hospitals (Aggregate)",
         "text": "99,203",
         "textposition": "outside",
         "type": "bar",
         "width": 0.3,
         "x": [
          "13 Inpatient<br> Hospitals (Aggregate)"
         ],
         "y": [
          99203
         ]
        },
        {
         "marker": {
          "color": "#B7950B"
         },
         "name": "260 Universities<br> (Aggregate)",
         "text": "100,100",
         "textposition": "outside",
         "type": "bar",
         "width": 0.3,
         "x": [
          "260 Universities<br> (Aggregate)"
         ],
         "y": [
          100100
         ]
        },
        {
         "marker": {
          "color": "#27AE60"
         },
         "name": "GPT-4o Inference<br> (Minimum Estimate)",
         "text": "102,009",
         "textposition": "outside",
         "type": "bar",
         "width": 0.3,
         "x": [
          "GPT-4o Inference<br> (Minimum Estimate)"
         ],
         "y": [
          102009.075
         ]
        },
        {
         "marker": {
          "color": "#145A32"
         },
         "name": "GPT-4o Inference<br> (Maximum Estimate)",
         "text": "194,093",
         "textposition": "outside",
         "type": "bar",
         "width": 0.3,
         "x": [
          "GPT-4o Inference<br> (Maximum Estimate)"
         ],
         "y": [
          194092.941
         ]
        }
       ],
       "layout": {
        "bargap": 0.01,
        "height": 1500,
        "showlegend": false,
        "template": {
         "data": {
          "bar": [
           {
            "error_x": {
             "color": "#2a3f5f"
            },
            "error_y": {
             "color": "#2a3f5f"
            },
            "marker": {
             "line": {
              "color": "white",
              "width": 0.5
             },
             "pattern": {
              "fillmode": "overlay",
              "size": 10,
              "solidity": 0.2
             }
            },
            "type": "bar"
           }
          ],
          "barpolar": [
           {
            "marker": {
             "line": {
              "color": "white",
              "width": 0.5
             },
             "pattern": {
              "fillmode": "overlay",
              "size": 10,
              "solidity": 0.2
             }
            },
            "type": "barpolar"
           }
          ],
          "carpet": [
           {
            "aaxis": {
             "endlinecolor": "#2a3f5f",
             "gridcolor": "#C8D4E3",
             "linecolor": "#C8D4E3",
             "minorgridcolor": "#C8D4E3",
             "startlinecolor": "#2a3f5f"
            },
            "baxis": {
             "endlinecolor": "#2a3f5f",
             "gridcolor": "#C8D4E3",
             "linecolor": "#C8D4E3",
             "minorgridcolor": "#C8D4E3",
             "startlinecolor": "#2a3f5f"
            },
            "type": "carpet"
           }
          ],
          "choropleth": [
           {
            "colorbar": {
             "outlinewidth": 0,
             "ticks": ""
            },
            "type": "choropleth"
           }
          ],
          "contour": [
           {
            "colorbar": {
             "outlinewidth": 0,
             "ticks": ""
            },
            "colorscale": [
             [
              0,
              "#0d0887"
             ],
             [
              0.1111111111111111,
              "#46039f"
             ],
             [
              0.2222222222222222,
              "#7201a8"
             ],
             [
              0.3333333333333333,
              "#9c179e"
             ],
             [
              0.4444444444444444,
              "#bd3786"
             ],
             [
              0.5555555555555556,
              "#d8576b"
             ],
             [
              0.6666666666666666,
              "#ed7953"
             ],
             [
              0.7777777777777778,
              "#fb9f3a"
             ],
             [
              0.8888888888888888,
              "#fdca26"
             ],
             [
              1,
              "#f0f921"
             ]
            ],
            "type": "contour"
           }
          ],
          "contourcarpet": [
           {
            "colorbar": {
             "outlinewidth": 0,
             "ticks": ""
            },
            "type": "contourcarpet"
           }
          ],
          "heatmap": [
           {
            "colorbar": {
             "outlinewidth": 0,
             "ticks": ""
            },
            "colorscale": [
             [
              0,
              "#0d0887"
             ],
             [
              0.1111111111111111,
              "#46039f"
             ],
             [
              0.2222222222222222,
              "#7201a8"
             ],
             [
              0.3333333333333333,
              "#9c179e"
             ],
             [
              0.4444444444444444,
              "#bd3786"
             ],
             [
              0.5555555555555556,
              "#d8576b"
             ],
             [
              0.6666666666666666,
              "#ed7953"
             ],
             [
              0.7777777777777778,
              "#fb9f3a"
             ],
             [
              0.8888888888888888,
              "#fdca26"
             ],
             [
              1,
              "#f0f921"
             ]
            ],
            "type": "heatmap"
           }
          ],
          "histogram": [
           {
            "marker": {
             "pattern": {
              "fillmode": "overlay",
              "size": 10,
              "solidity": 0.2
             }
            },
            "type": "histogram"
           }
          ],
          "histogram2d": [
           {
            "colorbar": {
             "outlinewidth": 0,
             "ticks": ""
            },
            "colorscale": [
             [
              0,
              "#0d0887"
             ],
             [
              0.1111111111111111,
              "#46039f"
             ],
             [
              0.2222222222222222,
              "#7201a8"
             ],
             [
              0.3333333333333333,
              "#9c179e"
             ],
             [
              0.4444444444444444,
              "#bd3786"
             ],
             [
              0.5555555555555556,
              "#d8576b"
             ],
             [
              0.6666666666666666,
              "#ed7953"
             ],
             [
              0.7777777777777778,
              "#fb9f3a"
             ],
             [
              0.8888888888888888,
              "#fdca26"
             ],
             [
              1,
              "#f0f921"
             ]
            ],
            "type": "histogram2d"
           }
          ],
          "histogram2dcontour": [
           {
            "colorbar": {
             "outlinewidth": 0,
             "ticks": ""
            },
            "colorscale": [
             [
              0,
              "#0d0887"
             ],
             [
              0.1111111111111111,
              "#46039f"
             ],
             [
              0.2222222222222222,
              "#7201a8"
             ],
             [
              0.3333333333333333,
              "#9c179e"
             ],
             [
              0.4444444444444444,
              "#bd3786"
             ],
             [
              0.5555555555555556,
              "#d8576b"
             ],
             [
              0.6666666666666666,
              "#ed7953"
             ],
             [
              0.7777777777777778,
              "#fb9f3a"
             ],
             [
              0.8888888888888888,
              "#fdca26"
             ],
             [
              1,
              "#f0f921"
             ]
            ],
            "type": "histogram2dcontour"
           }
          ],
          "mesh3d": [
           {
            "colorbar": {
             "outlinewidth": 0,
             "ticks": ""
            },
            "type": "mesh3d"
           }
          ],
          "parcoords": [
           {
            "line": {
             "colorbar": {
              "outlinewidth": 0,
              "ticks": ""
             }
            },
            "type": "parcoords"
           }
          ],
          "pie": [
           {
            "automargin": true,
            "type": "pie"
           }
          ],
          "scatter": [
           {
            "fillpattern": {
             "fillmode": "overlay",
             "size": 10,
             "solidity": 0.2
            },
            "type": "scatter"
           }
          ],
          "scatter3d": [
           {
            "line": {
             "colorbar": {
              "outlinewidth": 0,
              "ticks": ""
             }
            },
            "marker": {
             "colorbar": {
              "outlinewidth": 0,
              "ticks": ""
             }
            },
            "type": "scatter3d"
           }
          ],
          "scattercarpet": [
           {
            "marker": {
             "colorbar": {
              "outlinewidth": 0,
              "ticks": ""
             }
            },
            "type": "scattercarpet"
           }
          ],
          "scattergeo": [
           {
            "marker": {
             "colorbar": {
              "outlinewidth": 0,
              "ticks": ""
             }
            },
            "type": "scattergeo"
           }
          ],
          "scattergl": [
           {
            "marker": {
             "colorbar": {
              "outlinewidth": 0,
              "ticks": ""
             }
            },
            "type": "scattergl"
           }
          ],
          "scattermap": [
           {
            "marker": {
             "colorbar": {
              "outlinewidth": 0,
              "ticks": ""
             }
            },
            "type": "scattermap"
           }
          ],
          "scattermapbox": [
           {
            "marker": {
             "colorbar": {
              "outlinewidth": 0,
              "ticks": ""
             }
            },
            "type": "scattermapbox"
           }
          ],
          "scatterpolar": [
           {
            "marker": {
             "colorbar": {
              "outlinewidth": 0,
              "ticks": ""
             }
            },
            "type": "scatterpolar"
           }
          ],
          "scatterpolargl": [
           {
            "marker": {
             "colorbar": {
              "outlinewidth": 0,
              "ticks": ""
             }
            },
            "type": "scatterpolargl"
           }
          ],
          "scatterternary": [
           {
            "marker": {
             "colorbar": {
              "outlinewidth": 0,
              "ticks": ""
             }
            },
            "type": "scatterternary"
           }
          ],
          "surface": [
           {
            "colorbar": {
             "outlinewidth": 0,
             "ticks": ""
            },
            "colorscale": [
             [
              0,
              "#0d0887"
             ],
             [
              0.1111111111111111,
              "#46039f"
             ],
             [
              0.2222222222222222,
              "#7201a8"
             ],
             [
              0.3333333333333333,
              "#9c179e"
             ],
             [
              0.4444444444444444,
              "#bd3786"
             ],
             [
              0.5555555555555556,
              "#d8576b"
             ],
             [
              0.6666666666666666,
              "#ed7953"
             ],
             [
              0.7777777777777778,
              "#fb9f3a"
             ],
             [
              0.8888888888888888,
              "#fdca26"
             ],
             [
              1,
              "#f0f921"
             ]
            ],
            "type": "surface"
           }
          ],
          "table": [
           {
            "cells": {
             "fill": {
              "color": "#EBF0F8"
             },
             "line": {
              "color": "white"
             }
            },
            "header": {
             "fill": {
              "color": "#C8D4E3"
             },
             "line": {
              "color": "white"
             }
            },
            "type": "table"
           }
          ]
         },
         "layout": {
          "annotationdefaults": {
           "arrowcolor": "#2a3f5f",
           "arrowhead": 0,
           "arrowwidth": 1
          },
          "autotypenumbers": "strict",
          "coloraxis": {
           "colorbar": {
            "outlinewidth": 0,
            "ticks": ""
           }
          },
          "colorscale": {
           "diverging": [
            [
             0,
             "#8e0152"
            ],
            [
             0.1,
             "#c51b7d"
            ],
            [
             0.2,
             "#de77ae"
            ],
            [
             0.3,
             "#f1b6da"
            ],
            [
             0.4,
             "#fde0ef"
            ],
            [
             0.5,
             "#f7f7f7"
            ],
            [
             0.6,
             "#e6f5d0"
            ],
            [
             0.7,
             "#b8e186"
            ],
            [
             0.8,
             "#7fbc41"
            ],
            [
             0.9,
             "#4d9221"
            ],
            [
             1,
             "#276419"
            ]
           ],
           "sequential": [
            [
             0,
             "#0d0887"
            ],
            [
             0.1111111111111111,
             "#46039f"
            ],
            [
             0.2222222222222222,
             "#7201a8"
            ],
            [
             0.3333333333333333,
             "#9c179e"
            ],
            [
             0.4444444444444444,
             "#bd3786"
            ],
            [
             0.5555555555555556,
             "#d8576b"
            ],
            [
             0.6666666666666666,
             "#ed7953"
            ],
            [
             0.7777777777777778,
             "#fb9f3a"
            ],
            [
             0.8888888888888888,
             "#fdca26"
            ],
            [
             1,
             "#f0f921"
            ]
           ],
           "sequentialminus": [
            [
             0,
             "#0d0887"
            ],
            [
             0.1111111111111111,
             "#46039f"
            ],
            [
             0.2222222222222222,
             "#7201a8"
            ],
            [
             0.3333333333333333,
             "#9c179e"
            ],
            [
             0.4444444444444444,
             "#bd3786"
            ],
            [
             0.5555555555555556,
             "#d8576b"
            ],
            [
             0.6666666666666666,
             "#ed7953"
            ],
            [
             0.7777777777777778,
             "#fb9f3a"
            ],
            [
             0.8888888888888888,
             "#fdca26"
            ],
            [
             1,
             "#f0f921"
            ]
           ]
          },
          "colorway": [
           "#636efa",
           "#EF553B",
           "#00cc96",
           "#ab63fa",
           "#FFA15A",
           "#19d3f3",
           "#FF6692",
           "#B6E880",
           "#FF97FF",
           "#FECB52"
          ],
          "font": {
           "color": "#2a3f5f"
          },
          "geo": {
           "bgcolor": "white",
           "lakecolor": "white",
           "landcolor": "white",
           "showlakes": true,
           "showland": true,
           "subunitcolor": "#C8D4E3"
          },
          "hoverlabel": {
           "align": "left"
          },
          "hovermode": "closest",
          "mapbox": {
           "style": "light"
          },
          "paper_bgcolor": "white",
          "plot_bgcolor": "white",
          "polar": {
           "angularaxis": {
            "gridcolor": "#EBF0F8",
            "linecolor": "#EBF0F8",
            "ticks": ""
           },
           "bgcolor": "white",
           "radialaxis": {
            "gridcolor": "#EBF0F8",
            "linecolor": "#EBF0F8",
            "ticks": ""
           }
          },
          "scene": {
           "xaxis": {
            "backgroundcolor": "white",
            "gridcolor": "#DFE8F3",
            "gridwidth": 2,
            "linecolor": "#EBF0F8",
            "showbackground": true,
            "ticks": "",
            "zerolinecolor": "#EBF0F8"
           },
           "yaxis": {
            "backgroundcolor": "white",
            "gridcolor": "#DFE8F3",
            "gridwidth": 2,
            "linecolor": "#EBF0F8",
            "showbackground": true,
            "ticks": "",
            "zerolinecolor": "#EBF0F8"
           },
           "zaxis": {
            "backgroundcolor": "white",
            "gridcolor": "#DFE8F3",
            "gridwidth": 2,
            "linecolor": "#EBF0F8",
            "showbackground": true,
            "ticks": "",
            "zerolinecolor": "#EBF0F8"
           }
          },
          "shapedefaults": {
           "line": {
            "color": "#2a3f5f"
           }
          },
          "ternary": {
           "aaxis": {
            "gridcolor": "#DFE8F3",
            "linecolor": "#A2B1C6",
            "ticks": ""
           },
           "baxis": {
            "gridcolor": "#DFE8F3",
            "linecolor": "#A2B1C6",
            "ticks": ""
           },
           "bgcolor": "white",
           "caxis": {
            "gridcolor": "#DFE8F3",
            "linecolor": "#A2B1C6",
            "ticks": ""
           }
          },
          "title": {
           "x": 0.05
          },
          "xaxis": {
           "automargin": true,
           "gridcolor": "#EBF0F8",
           "linecolor": "#EBF0F8",
           "ticks": "",
           "title": {
            "standoff": 15
           },
           "zerolinecolor": "#EBF0F8",
           "zerolinewidth": 2
          },
          "yaxis": {
           "automargin": true,
           "gridcolor": "#EBF0F8",
           "linecolor": "#EBF0F8",
           "ticks": "",
           "title": {
            "standoff": 15
           },
           "zerolinecolor": "#EBF0F8",
           "zerolinewidth": 2
          }
         }
        },
        "title": {
         "font": {
          "size": 30
         },
         "text": "Annual GPT-4o Energy Consumption vs Real-World Electricity Usage (MWh)",
         "x": 0.5,
         "xanchor": "center"
        },
        "uniformtext": {
         "minsize": 25,
         "mode": "hide"
        },
        "width": 3000,
        "xaxis": {
         "linecolor": "black",
         "linewidth": 2,
         "mirror": false,
         "showline": true,
         "tickangle": 90,
         "tickfont": {
          "size": 30
         },
         "title": {
          "text": ""
         }
        },
        "yaxis": {
         "linecolor": "black",
         "linewidth": 2,
         "mirror": false,
         "showline": true,
         "tickfont": {
          "size": 25
         },
         "title": {
          "font": {
           "size": 25
          },
          "text": "Energy Consumption (MWh)"
         }
        }
       }
      }
     },
     "metadata": {},
     "output_type": "display_data"
    }
   ],
   "source": [
    "data = {\n",
    "    'Label': [\n",
    "                '1 Residential Household <br>(U.S. Average)',\n",
    "\n",
    "        '1 University <br>(U.S. Average)',\n",
    "        '1 Inpatient Hospital<br> (U.S. Average)',\n",
    "        '9,000 Residential<br> Households (Aggregate)',\n",
    "        '13 Inpatient<br> Hospitals (Aggregate)',\n",
    "        '260 Universities<br> (Aggregate)',\n",
    "        'GPT-4o Inference<br> (Minimum Estimate)',\n",
    "        'GPT-4o Inference<br> (Maximum Estimate)'\n",
    "    ],\n",
    "    'Energy (MWh)': [\n",
    "        10_791 / 1_000,    # 10,791 kWh → MWh\n",
    "        385_000 / 1_000,   # 385,000 kWh → MWh\n",
    "        7_631_000 / 1_000, # 7,631,000 kWh → MWh\n",
    "        97_119_000 / 1_000, # 97,119,000 kWh → MWh\n",
    "        99_203_000 / 1_000, # 99,203,000 kWh → MWh\n",
    "        100_100_000 / 1_000, # 100,100,000 kWh → MWh\n",
    "        102_009_075 / 1_000, # 102,009,075 kWh → MWh\n",
    "        194_092_941 / 1_000  # 194,092,941 kWh → MWh\n",
    "    ]\n",
    "}\n",
    "\n",
    "df_energy = pd.DataFrame(data)\n",
    "\n",
    "# Display the dataframe\n",
    "print(df_energy)\n",
    "\n",
    "# Create color palette\n",
    "reference_colors = [\n",
    "    '#F9E79F', '#F7DC6F', '#F4D03F',\n",
    "    '#F1C40F', '#D4AC0D', '#B7950B'\n",
    "]\n",
    "\n",
    "gpt_colors = ['#27AE60', '#145A32']  \n",
    "\n",
    "colors = reference_colors + gpt_colors\n",
    "\n",
    "# Create bar chart\n",
    "fig = go.Figure()\n",
    "\n",
    "for idx, row in df_energy.iterrows():\n",
    "    fig.add_trace(go.Bar(\n",
    "        x=[row['Label']],\n",
    "        y=[row['Energy (MWh)']],\n",
    "        name=row['Label'],\n",
    "        marker_color=colors[idx],\n",
    "        width=0.3,\n",
    "        text=f\"{row['Energy (MWh)']:,.0f}\", \n",
    "        textposition='outside'\n",
    "    ))\n",
    "xaxis=dict(\n",
    "    showline=True,\n",
    "    linecolor='black',\n",
    "    linewidth=2,\n",
    "    mirror=True\n",
    "),\n",
    "yaxis=dict(\n",
    "    showline=True,\n",
    "    linecolor='black',\n",
    "    linewidth=2,\n",
    "    mirror=True\n",
    ")\n",
    "# Update layout\n",
    "fig.update_layout(\n",
    "    width=3000,\n",
    "    height=1500,\n",
    "    title={\n",
    "        'text': 'Annual GPT-4o Energy Consumption vs Real-World Electricity Usage (MWh)',\n",
    "        'x': 0.5,\n",
    "        'xanchor': 'center',\n",
    "        'font': {'size': 30}\n",
    "    },\n",
    "    xaxis_title='',\n",
    "    xaxis_tickangle=90,\n",
    "    xaxis_tickfont=dict(size=30),\n",
    "    yaxis_title='Energy Consumption (MWh)',\n",
    "    yaxis_title_font=dict(size=25),\n",
    "    yaxis_tickfont=dict(size=25),\n",
    "    showlegend=False,\n",
    "    bargap=0.01,\n",
    "    template='plotly_white',\n",
    "    uniformtext_minsize=25,\n",
    "    uniformtext_mode='hide',\n",
    "    xaxis=dict(\n",
    "        showline=True,\n",
    "        linecolor='black',\n",
    "        linewidth=2,\n",
    "        mirror=False\n",
    "    ),\n",
    "    yaxis=dict(\n",
    "        showline=True,\n",
    "        linecolor='black',\n",
    "        linewidth=2,\n",
    "        mirror=False\n",
    "    )\n",
    "\n",
    "    \n",
    ")\n",
    "\n",
    "\n",
    "fig.show()\n"
   ]
  },
  {
   "cell_type": "code",
   "execution_count": 251,
   "metadata": {},
   "outputs": [
    {
     "name": "stdout",
     "output_type": "stream",
     "text": [
      "                                              Label  Water (kL)\n",
      "0   Annual Drinking Water per Person (U.S. Average)           1\n",
      "1                           1 Olympic Swimming Pool       2,500\n",
      "2            130 Olympic Swimming Pools (Aggregate)     325,000\n",
      "3  300,000 People Annual Drinking Water Consumption     328,500\n",
      "4               GPT-4o Inference (Minimum Estimate)     347,836\n",
      "5               GPT-4o Inference (Maximum Estimate)     661,829\n"
     ]
    },
    {
     "data": {
      "application/vnd.plotly.v1+json": {
       "config": {
        "plotlyServerURL": "https://plot.ly"
       },
       "data": [
        {
         "marker": {
          "color": "#AED6F1"
         },
         "name": "Annual Drinking Water per Person (U.S. Average)",
         "text": "1",
         "textposition": "outside",
         "type": "bar",
         "width": 0.3,
         "x": [
          "Annual Drinking Water per Person (U.S. Average)"
         ],
         "y": [
          1.095
         ]
        },
        {
         "marker": {
          "color": "#85C1E9"
         },
         "name": "1 Olympic Swimming Pool",
         "text": "2,500",
         "textposition": "outside",
         "type": "bar",
         "width": 0.3,
         "x": [
          "1 Olympic Swimming Pool"
         ],
         "y": [
          2500
         ]
        },
        {
         "marker": {
          "color": "#5DADE2"
         },
         "name": "130 Olympic Swimming Pools (Aggregate)",
         "text": "325,000",
         "textposition": "outside",
         "type": "bar",
         "width": 0.3,
         "x": [
          "130 Olympic Swimming Pools (Aggregate)"
         ],
         "y": [
          325000
         ]
        },
        {
         "marker": {
          "color": "#3498DB"
         },
         "name": "300,000 People Annual Drinking Water Consumption",
         "text": "328,500",
         "textposition": "outside",
         "type": "bar",
         "width": 0.3,
         "x": [
          "300,000 People Annual Drinking Water Consumption"
         ],
         "y": [
          328500
         ]
        },
        {
         "marker": {
          "color": "#27AE60"
         },
         "name": "GPT-4o Inference (Minimum Estimate)",
         "text": "347,836",
         "textposition": "outside",
         "type": "bar",
         "width": 0.3,
         "x": [
          "GPT-4o Inference (Minimum Estimate)"
         ],
         "y": [
          347836.372
         ]
        },
        {
         "marker": {
          "color": "#145A32"
         },
         "name": "GPT-4o Inference (Maximum Estimate)",
         "text": "661,829",
         "textposition": "outside",
         "type": "bar",
         "width": 0.3,
         "x": [
          "GPT-4o Inference (Maximum Estimate)"
         ],
         "y": [
          661829.202
         ]
        }
       ],
       "layout": {
        "bargap": 0.1,
        "barmode": "group",
        "height": 1500,
        "showlegend": false,
        "template": {
         "data": {
          "bar": [
           {
            "error_x": {
             "color": "#2a3f5f"
            },
            "error_y": {
             "color": "#2a3f5f"
            },
            "marker": {
             "line": {
              "color": "white",
              "width": 0.5
             },
             "pattern": {
              "fillmode": "overlay",
              "size": 10,
              "solidity": 0.2
             }
            },
            "type": "bar"
           }
          ],
          "barpolar": [
           {
            "marker": {
             "line": {
              "color": "white",
              "width": 0.5
             },
             "pattern": {
              "fillmode": "overlay",
              "size": 10,
              "solidity": 0.2
             }
            },
            "type": "barpolar"
           }
          ],
          "carpet": [
           {
            "aaxis": {
             "endlinecolor": "#2a3f5f",
             "gridcolor": "#C8D4E3",
             "linecolor": "#C8D4E3",
             "minorgridcolor": "#C8D4E3",
             "startlinecolor": "#2a3f5f"
            },
            "baxis": {
             "endlinecolor": "#2a3f5f",
             "gridcolor": "#C8D4E3",
             "linecolor": "#C8D4E3",
             "minorgridcolor": "#C8D4E3",
             "startlinecolor": "#2a3f5f"
            },
            "type": "carpet"
           }
          ],
          "choropleth": [
           {
            "colorbar": {
             "outlinewidth": 0,
             "ticks": ""
            },
            "type": "choropleth"
           }
          ],
          "contour": [
           {
            "colorbar": {
             "outlinewidth": 0,
             "ticks": ""
            },
            "colorscale": [
             [
              0,
              "#0d0887"
             ],
             [
              0.1111111111111111,
              "#46039f"
             ],
             [
              0.2222222222222222,
              "#7201a8"
             ],
             [
              0.3333333333333333,
              "#9c179e"
             ],
             [
              0.4444444444444444,
              "#bd3786"
             ],
             [
              0.5555555555555556,
              "#d8576b"
             ],
             [
              0.6666666666666666,
              "#ed7953"
             ],
             [
              0.7777777777777778,
              "#fb9f3a"
             ],
             [
              0.8888888888888888,
              "#fdca26"
             ],
             [
              1,
              "#f0f921"
             ]
            ],
            "type": "contour"
           }
          ],
          "contourcarpet": [
           {
            "colorbar": {
             "outlinewidth": 0,
             "ticks": ""
            },
            "type": "contourcarpet"
           }
          ],
          "heatmap": [
           {
            "colorbar": {
             "outlinewidth": 0,
             "ticks": ""
            },
            "colorscale": [
             [
              0,
              "#0d0887"
             ],
             [
              0.1111111111111111,
              "#46039f"
             ],
             [
              0.2222222222222222,
              "#7201a8"
             ],
             [
              0.3333333333333333,
              "#9c179e"
             ],
             [
              0.4444444444444444,
              "#bd3786"
             ],
             [
              0.5555555555555556,
              "#d8576b"
             ],
             [
              0.6666666666666666,
              "#ed7953"
             ],
             [
              0.7777777777777778,
              "#fb9f3a"
             ],
             [
              0.8888888888888888,
              "#fdca26"
             ],
             [
              1,
              "#f0f921"
             ]
            ],
            "type": "heatmap"
           }
          ],
          "histogram": [
           {
            "marker": {
             "pattern": {
              "fillmode": "overlay",
              "size": 10,
              "solidity": 0.2
             }
            },
            "type": "histogram"
           }
          ],
          "histogram2d": [
           {
            "colorbar": {
             "outlinewidth": 0,
             "ticks": ""
            },
            "colorscale": [
             [
              0,
              "#0d0887"
             ],
             [
              0.1111111111111111,
              "#46039f"
             ],
             [
              0.2222222222222222,
              "#7201a8"
             ],
             [
              0.3333333333333333,
              "#9c179e"
             ],
             [
              0.4444444444444444,
              "#bd3786"
             ],
             [
              0.5555555555555556,
              "#d8576b"
             ],
             [
              0.6666666666666666,
              "#ed7953"
             ],
             [
              0.7777777777777778,
              "#fb9f3a"
             ],
             [
              0.8888888888888888,
              "#fdca26"
             ],
             [
              1,
              "#f0f921"
             ]
            ],
            "type": "histogram2d"
           }
          ],
          "histogram2dcontour": [
           {
            "colorbar": {
             "outlinewidth": 0,
             "ticks": ""
            },
            "colorscale": [
             [
              0,
              "#0d0887"
             ],
             [
              0.1111111111111111,
              "#46039f"
             ],
             [
              0.2222222222222222,
              "#7201a8"
             ],
             [
              0.3333333333333333,
              "#9c179e"
             ],
             [
              0.4444444444444444,
              "#bd3786"
             ],
             [
              0.5555555555555556,
              "#d8576b"
             ],
             [
              0.6666666666666666,
              "#ed7953"
             ],
             [
              0.7777777777777778,
              "#fb9f3a"
             ],
             [
              0.8888888888888888,
              "#fdca26"
             ],
             [
              1,
              "#f0f921"
             ]
            ],
            "type": "histogram2dcontour"
           }
          ],
          "mesh3d": [
           {
            "colorbar": {
             "outlinewidth": 0,
             "ticks": ""
            },
            "type": "mesh3d"
           }
          ],
          "parcoords": [
           {
            "line": {
             "colorbar": {
              "outlinewidth": 0,
              "ticks": ""
             }
            },
            "type": "parcoords"
           }
          ],
          "pie": [
           {
            "automargin": true,
            "type": "pie"
           }
          ],
          "scatter": [
           {
            "fillpattern": {
             "fillmode": "overlay",
             "size": 10,
             "solidity": 0.2
            },
            "type": "scatter"
           }
          ],
          "scatter3d": [
           {
            "line": {
             "colorbar": {
              "outlinewidth": 0,
              "ticks": ""
             }
            },
            "marker": {
             "colorbar": {
              "outlinewidth": 0,
              "ticks": ""
             }
            },
            "type": "scatter3d"
           }
          ],
          "scattercarpet": [
           {
            "marker": {
             "colorbar": {
              "outlinewidth": 0,
              "ticks": ""
             }
            },
            "type": "scattercarpet"
           }
          ],
          "scattergeo": [
           {
            "marker": {
             "colorbar": {
              "outlinewidth": 0,
              "ticks": ""
             }
            },
            "type": "scattergeo"
           }
          ],
          "scattergl": [
           {
            "marker": {
             "colorbar": {
              "outlinewidth": 0,
              "ticks": ""
             }
            },
            "type": "scattergl"
           }
          ],
          "scattermap": [
           {
            "marker": {
             "colorbar": {
              "outlinewidth": 0,
              "ticks": ""
             }
            },
            "type": "scattermap"
           }
          ],
          "scattermapbox": [
           {
            "marker": {
             "colorbar": {
              "outlinewidth": 0,
              "ticks": ""
             }
            },
            "type": "scattermapbox"
           }
          ],
          "scatterpolar": [
           {
            "marker": {
             "colorbar": {
              "outlinewidth": 0,
              "ticks": ""
             }
            },
            "type": "scatterpolar"
           }
          ],
          "scatterpolargl": [
           {
            "marker": {
             "colorbar": {
              "outlinewidth": 0,
              "ticks": ""
             }
            },
            "type": "scatterpolargl"
           }
          ],
          "scatterternary": [
           {
            "marker": {
             "colorbar": {
              "outlinewidth": 0,
              "ticks": ""
             }
            },
            "type": "scatterternary"
           }
          ],
          "surface": [
           {
            "colorbar": {
             "outlinewidth": 0,
             "ticks": ""
            },
            "colorscale": [
             [
              0,
              "#0d0887"
             ],
             [
              0.1111111111111111,
              "#46039f"
             ],
             [
              0.2222222222222222,
              "#7201a8"
             ],
             [
              0.3333333333333333,
              "#9c179e"
             ],
             [
              0.4444444444444444,
              "#bd3786"
             ],
             [
              0.5555555555555556,
              "#d8576b"
             ],
             [
              0.6666666666666666,
              "#ed7953"
             ],
             [
              0.7777777777777778,
              "#fb9f3a"
             ],
             [
              0.8888888888888888,
              "#fdca26"
             ],
             [
              1,
              "#f0f921"
             ]
            ],
            "type": "surface"
           }
          ],
          "table": [
           {
            "cells": {
             "fill": {
              "color": "#EBF0F8"
             },
             "line": {
              "color": "white"
             }
            },
            "header": {
             "fill": {
              "color": "#C8D4E3"
             },
             "line": {
              "color": "white"
             }
            },
            "type": "table"
           }
          ]
         },
         "layout": {
          "annotationdefaults": {
           "arrowcolor": "#2a3f5f",
           "arrowhead": 0,
           "arrowwidth": 1
          },
          "autotypenumbers": "strict",
          "coloraxis": {
           "colorbar": {
            "outlinewidth": 0,
            "ticks": ""
           }
          },
          "colorscale": {
           "diverging": [
            [
             0,
             "#8e0152"
            ],
            [
             0.1,
             "#c51b7d"
            ],
            [
             0.2,
             "#de77ae"
            ],
            [
             0.3,
             "#f1b6da"
            ],
            [
             0.4,
             "#fde0ef"
            ],
            [
             0.5,
             "#f7f7f7"
            ],
            [
             0.6,
             "#e6f5d0"
            ],
            [
             0.7,
             "#b8e186"
            ],
            [
             0.8,
             "#7fbc41"
            ],
            [
             0.9,
             "#4d9221"
            ],
            [
             1,
             "#276419"
            ]
           ],
           "sequential": [
            [
             0,
             "#0d0887"
            ],
            [
             0.1111111111111111,
             "#46039f"
            ],
            [
             0.2222222222222222,
             "#7201a8"
            ],
            [
             0.3333333333333333,
             "#9c179e"
            ],
            [
             0.4444444444444444,
             "#bd3786"
            ],
            [
             0.5555555555555556,
             "#d8576b"
            ],
            [
             0.6666666666666666,
             "#ed7953"
            ],
            [
             0.7777777777777778,
             "#fb9f3a"
            ],
            [
             0.8888888888888888,
             "#fdca26"
            ],
            [
             1,
             "#f0f921"
            ]
           ],
           "sequentialminus": [
            [
             0,
             "#0d0887"
            ],
            [
             0.1111111111111111,
             "#46039f"
            ],
            [
             0.2222222222222222,
             "#7201a8"
            ],
            [
             0.3333333333333333,
             "#9c179e"
            ],
            [
             0.4444444444444444,
             "#bd3786"
            ],
            [
             0.5555555555555556,
             "#d8576b"
            ],
            [
             0.6666666666666666,
             "#ed7953"
            ],
            [
             0.7777777777777778,
             "#fb9f3a"
            ],
            [
             0.8888888888888888,
             "#fdca26"
            ],
            [
             1,
             "#f0f921"
            ]
           ]
          },
          "colorway": [
           "#636efa",
           "#EF553B",
           "#00cc96",
           "#ab63fa",
           "#FFA15A",
           "#19d3f3",
           "#FF6692",
           "#B6E880",
           "#FF97FF",
           "#FECB52"
          ],
          "font": {
           "color": "#2a3f5f"
          },
          "geo": {
           "bgcolor": "white",
           "lakecolor": "white",
           "landcolor": "white",
           "showlakes": true,
           "showland": true,
           "subunitcolor": "#C8D4E3"
          },
          "hoverlabel": {
           "align": "left"
          },
          "hovermode": "closest",
          "mapbox": {
           "style": "light"
          },
          "paper_bgcolor": "white",
          "plot_bgcolor": "white",
          "polar": {
           "angularaxis": {
            "gridcolor": "#EBF0F8",
            "linecolor": "#EBF0F8",
            "ticks": ""
           },
           "bgcolor": "white",
           "radialaxis": {
            "gridcolor": "#EBF0F8",
            "linecolor": "#EBF0F8",
            "ticks": ""
           }
          },
          "scene": {
           "xaxis": {
            "backgroundcolor": "white",
            "gridcolor": "#DFE8F3",
            "gridwidth": 2,
            "linecolor": "#EBF0F8",
            "showbackground": true,
            "ticks": "",
            "zerolinecolor": "#EBF0F8"
           },
           "yaxis": {
            "backgroundcolor": "white",
            "gridcolor": "#DFE8F3",
            "gridwidth": 2,
            "linecolor": "#EBF0F8",
            "showbackground": true,
            "ticks": "",
            "zerolinecolor": "#EBF0F8"
           },
           "zaxis": {
            "backgroundcolor": "white",
            "gridcolor": "#DFE8F3",
            "gridwidth": 2,
            "linecolor": "#EBF0F8",
            "showbackground": true,
            "ticks": "",
            "zerolinecolor": "#EBF0F8"
           }
          },
          "shapedefaults": {
           "line": {
            "color": "#2a3f5f"
           }
          },
          "ternary": {
           "aaxis": {
            "gridcolor": "#DFE8F3",
            "linecolor": "#A2B1C6",
            "ticks": ""
           },
           "baxis": {
            "gridcolor": "#DFE8F3",
            "linecolor": "#A2B1C6",
            "ticks": ""
           },
           "bgcolor": "white",
           "caxis": {
            "gridcolor": "#DFE8F3",
            "linecolor": "#A2B1C6",
            "ticks": ""
           }
          },
          "title": {
           "x": 0.05
          },
          "xaxis": {
           "automargin": true,
           "gridcolor": "#EBF0F8",
           "linecolor": "#EBF0F8",
           "ticks": "",
           "title": {
            "standoff": 15
           },
           "zerolinecolor": "#EBF0F8",
           "zerolinewidth": 2
          },
          "yaxis": {
           "automargin": true,
           "gridcolor": "#EBF0F8",
           "linecolor": "#EBF0F8",
           "ticks": "",
           "title": {
            "standoff": 15
           },
           "zerolinecolor": "#EBF0F8",
           "zerolinewidth": 2
          }
         }
        },
        "title": {
         "font": {
          "size": 30
         },
         "text": "Annual GPT-4o Water Consumption vs Real-World Water Usage (Thousand Liters)",
         "x": 0.5,
         "xanchor": "center"
        },
        "uniformtext": {
         "minsize": 25,
         "mode": "hide"
        },
        "width": 3500,
        "xaxis": {
         "linecolor": "black",
         "linewidth": 2,
         "mirror": false,
         "showline": true,
         "tickangle": 45,
         "tickfont": {
          "size": 30
         },
         "title": {
          "text": ""
         }
        },
        "yaxis": {
         "linecolor": "black",
         "linewidth": 2,
         "mirror": false,
         "showline": true,
         "tickfont": {
          "size": 25
         },
         "title": {
          "font": {
           "size": 25
          },
          "text": "Water Consumption (Thousand Liters)"
         }
        }
       }
      }
     },
     "metadata": {},
     "output_type": "display_data"
    }
   ],
   "source": [
    "import pandas as pd\n",
    "import plotly.graph_objects as go\n",
    "\n",
    "# Create the dataframe (convert Liters → Thousand Liters)\n",
    "data = {\n",
    "    'Label': [\n",
    "        'Annual Drinking Water per Person (U.S. Average)',\n",
    "        '1 Olympic Swimming Pool',\n",
    "        '130 Olympic Swimming Pools (Aggregate)',\n",
    "                '300,000 People Annual Drinking Water Consumption',\n",
    "\n",
    "        'GPT-4o Inference (Minimum Estimate)',\n",
    "        'GPT-4o Inference (Maximum Estimate)'\n",
    "    ],\n",
    "    'Water (kL)': [  # Divide liters by 1,000 to get kiloliters\n",
    "        1095 / 1000,             \n",
    "        2_500_000 / 1000,   \n",
    "            325_000_000 / 1000,      \n",
    "     \n",
    "        328_500_000 / 1000,      \n",
    "        347_836_372 / 1000,      \n",
    "        661_829_202 / 1000       \n",
    "    ]\n",
    "}\n",
    "\n",
    "df_water = pd.DataFrame(data)\n",
    "\n",
    "# Display the dataframe\n",
    "print(df_water)\n",
    "\n",
    "# Create color palette\n",
    "reference_colors = [\n",
    "    '#AED6F1', '#85C1E9', '#5DADE2', '#3498DB'\n",
    "]\n",
    "\n",
    "gpt_colors = ['#27AE60', '#145A32']  # GPT-4o Min and Max greens\n",
    "\n",
    "colors = reference_colors + gpt_colors\n",
    "\n",
    "# Create bar chart\n",
    "fig = go.Figure()\n",
    "\n",
    "for idx, row in df_water.iterrows():\n",
    "    fig.add_trace(go.Bar(\n",
    "        x=[row['Label']],\n",
    "        y=[row['Water (kL)']],\n",
    "        name=row['Label'],\n",
    "        marker_color=colors[idx],\n",
    "        width=0.3,\n",
    "        text=f\"{row['Water (kL)']:,.0f}\",  # Annotate in thousand liters\n",
    "        textposition='outside'\n",
    "    ))\n",
    "\n",
    "# Update layout\n",
    "fig.update_layout(\n",
    "    width=3500,\n",
    "    height=1500,\n",
    "    title={\n",
    "        'text': 'Annual GPT-4o Water Consumption vs Real-World Water Usage (Thousand Liters)',\n",
    "        'x': 0.5,\n",
    "        'xanchor': 'center',\n",
    "        'font': {'size': 30}\n",
    "    },\n",
    "    xaxis_title='',\n",
    "    xaxis_tickangle=45,\n",
    "    xaxis_tickfont=dict(size=30),\n",
    "    yaxis_title='Water Consumption (Thousand Liters)',\n",
    "    yaxis_title_font=dict(size=25),\n",
    "    yaxis_tickfont=dict(size=25),\n",
    "    showlegend=False,\n",
    "    barmode='group',\n",
    "    bargap=0.1,\n",
    "    template='plotly_white',\n",
    "    uniformtext_minsize=25,\n",
    "    uniformtext_mode='hide',\n",
    "    xaxis=dict(\n",
    "        showline=True,\n",
    "        linecolor='black',\n",
    "        linewidth=2,\n",
    "        mirror=False\n",
    "    ),\n",
    "    yaxis=dict(\n",
    "        showline=True,\n",
    "        linecolor='black',\n",
    "        linewidth=2,\n",
    "        mirror=False\n",
    "    )\n",
    ")\n",
    "\n",
    "fig.show()\n"
   ]
  },
  {
   "cell_type": "code",
   "execution_count": 253,
   "metadata": {},
   "outputs": [
    {
     "data": {
      "application/vnd.plotly.v1+json": {
       "config": {
        "plotlyServerURL": "https://plot.ly"
       },
       "data": [
        {
         "marker": {
          "color": "#D5D8DC"
         },
         "name": "1 Gasoline Car (U.S. Average)",
         "text": "5",
         "textposition": "outside",
         "type": "bar",
         "width": 0.3,
         "x": [
          "1 Gasoline Car (U.S. Average)"
         ],
         "y": [
          4.6
         ]
        },
        {
         "marker": {
          "color": "#BFC9CA"
         },
         "name": "1 Flight BOS → LHR (One Way)",
         "text": "60",
         "textposition": "outside",
         "type": "bar",
         "width": 0.3,
         "x": [
          "1 Flight BOS → LHR (One Way)"
         ],
         "y": [
          59.796
         ]
        },
        {
         "marker": {
          "color": "#AAB7B8"
         },
         "name": "100 Acres Forest Carbon Sequestration",
         "text": "100",
         "textposition": "outside",
         "type": "bar",
         "width": 0.3,
         "x": [
          "100 Acres Forest Carbon Sequestration"
         ],
         "y": [
          100
         ]
        },
        {
         "marker": {
          "color": "#85929E"
         },
         "name": "7,500 Gasoline Cars (Aggregate)",
         "text": "34,500",
         "textposition": "outside",
         "type": "bar",
         "width": 0.3,
         "x": [
          "7,500 Gasoline Cars (Aggregate)"
         ],
         "y": [
          34500
         ]
        },
        {
         "marker": {
          "color": "#707B7C"
         },
         "name": "35,000 Acres Forest Carbon Sequestration",
         "text": "35,000",
         "textposition": "outside",
         "type": "bar",
         "width": 0.3,
         "x": [
          "35,000 Acres Forest Carbon Sequestration"
         ],
         "y": [
          35000
         ]
        },
        {
         "marker": {
          "color": "#566573"
         },
         "name": "600 Flights (Aggregate)",
         "text": "35,878",
         "textposition": "outside",
         "type": "bar",
         "width": 0.3,
         "x": [
          "600 Flights (Aggregate)"
         ],
         "y": [
          35877.6
         ]
        },
        {
         "marker": {
          "color": "#27AE60"
         },
         "name": "GPT-4o Inference (Minimum Estimate)",
         "text": "35,989",
         "textposition": "outside",
         "type": "bar",
         "width": 0.3,
         "x": [
          "GPT-4o Inference (Minimum Estimate)"
         ],
         "y": [
          35988.802
         ]
        },
        {
         "marker": {
          "color": "#145A32"
         },
         "name": "GPT-4o Inference (Maximum Estimate)",
         "text": "68,476",
         "textposition": "outside",
         "type": "bar",
         "width": 0.3,
         "x": [
          "GPT-4o Inference (Maximum Estimate)"
         ],
         "y": [
          68475.99
         ]
        }
       ],
       "layout": {
        "annotations": [
         {
          "font": {
           "size": 22
          },
          "showarrow": false,
          "text": "(Miami/ Boston Size)",
          "x": 0.56,
          "xref": "paper",
          "y": 42000,
          "yref": "y",
          "yshift": 10
         }
        ],
        "bargap": 0.1,
        "barmode": "group",
        "height": 1500,
        "showlegend": false,
        "template": {
         "data": {
          "bar": [
           {
            "error_x": {
             "color": "#2a3f5f"
            },
            "error_y": {
             "color": "#2a3f5f"
            },
            "marker": {
             "line": {
              "color": "white",
              "width": 0.5
             },
             "pattern": {
              "fillmode": "overlay",
              "size": 10,
              "solidity": 0.2
             }
            },
            "type": "bar"
           }
          ],
          "barpolar": [
           {
            "marker": {
             "line": {
              "color": "white",
              "width": 0.5
             },
             "pattern": {
              "fillmode": "overlay",
              "size": 10,
              "solidity": 0.2
             }
            },
            "type": "barpolar"
           }
          ],
          "carpet": [
           {
            "aaxis": {
             "endlinecolor": "#2a3f5f",
             "gridcolor": "#C8D4E3",
             "linecolor": "#C8D4E3",
             "minorgridcolor": "#C8D4E3",
             "startlinecolor": "#2a3f5f"
            },
            "baxis": {
             "endlinecolor": "#2a3f5f",
             "gridcolor": "#C8D4E3",
             "linecolor": "#C8D4E3",
             "minorgridcolor": "#C8D4E3",
             "startlinecolor": "#2a3f5f"
            },
            "type": "carpet"
           }
          ],
          "choropleth": [
           {
            "colorbar": {
             "outlinewidth": 0,
             "ticks": ""
            },
            "type": "choropleth"
           }
          ],
          "contour": [
           {
            "colorbar": {
             "outlinewidth": 0,
             "ticks": ""
            },
            "colorscale": [
             [
              0,
              "#0d0887"
             ],
             [
              0.1111111111111111,
              "#46039f"
             ],
             [
              0.2222222222222222,
              "#7201a8"
             ],
             [
              0.3333333333333333,
              "#9c179e"
             ],
             [
              0.4444444444444444,
              "#bd3786"
             ],
             [
              0.5555555555555556,
              "#d8576b"
             ],
             [
              0.6666666666666666,
              "#ed7953"
             ],
             [
              0.7777777777777778,
              "#fb9f3a"
             ],
             [
              0.8888888888888888,
              "#fdca26"
             ],
             [
              1,
              "#f0f921"
             ]
            ],
            "type": "contour"
           }
          ],
          "contourcarpet": [
           {
            "colorbar": {
             "outlinewidth": 0,
             "ticks": ""
            },
            "type": "contourcarpet"
           }
          ],
          "heatmap": [
           {
            "colorbar": {
             "outlinewidth": 0,
             "ticks": ""
            },
            "colorscale": [
             [
              0,
              "#0d0887"
             ],
             [
              0.1111111111111111,
              "#46039f"
             ],
             [
              0.2222222222222222,
              "#7201a8"
             ],
             [
              0.3333333333333333,
              "#9c179e"
             ],
             [
              0.4444444444444444,
              "#bd3786"
             ],
             [
              0.5555555555555556,
              "#d8576b"
             ],
             [
              0.6666666666666666,
              "#ed7953"
             ],
             [
              0.7777777777777778,
              "#fb9f3a"
             ],
             [
              0.8888888888888888,
              "#fdca26"
             ],
             [
              1,
              "#f0f921"
             ]
            ],
            "type": "heatmap"
           }
          ],
          "histogram": [
           {
            "marker": {
             "pattern": {
              "fillmode": "overlay",
              "size": 10,
              "solidity": 0.2
             }
            },
            "type": "histogram"
           }
          ],
          "histogram2d": [
           {
            "colorbar": {
             "outlinewidth": 0,
             "ticks": ""
            },
            "colorscale": [
             [
              0,
              "#0d0887"
             ],
             [
              0.1111111111111111,
              "#46039f"
             ],
             [
              0.2222222222222222,
              "#7201a8"
             ],
             [
              0.3333333333333333,
              "#9c179e"
             ],
             [
              0.4444444444444444,
              "#bd3786"
             ],
             [
              0.5555555555555556,
              "#d8576b"
             ],
             [
              0.6666666666666666,
              "#ed7953"
             ],
             [
              0.7777777777777778,
              "#fb9f3a"
             ],
             [
              0.8888888888888888,
              "#fdca26"
             ],
             [
              1,
              "#f0f921"
             ]
            ],
            "type": "histogram2d"
           }
          ],
          "histogram2dcontour": [
           {
            "colorbar": {
             "outlinewidth": 0,
             "ticks": ""
            },
            "colorscale": [
             [
              0,
              "#0d0887"
             ],
             [
              0.1111111111111111,
              "#46039f"
             ],
             [
              0.2222222222222222,
              "#7201a8"
             ],
             [
              0.3333333333333333,
              "#9c179e"
             ],
             [
              0.4444444444444444,
              "#bd3786"
             ],
             [
              0.5555555555555556,
              "#d8576b"
             ],
             [
              0.6666666666666666,
              "#ed7953"
             ],
             [
              0.7777777777777778,
              "#fb9f3a"
             ],
             [
              0.8888888888888888,
              "#fdca26"
             ],
             [
              1,
              "#f0f921"
             ]
            ],
            "type": "histogram2dcontour"
           }
          ],
          "mesh3d": [
           {
            "colorbar": {
             "outlinewidth": 0,
             "ticks": ""
            },
            "type": "mesh3d"
           }
          ],
          "parcoords": [
           {
            "line": {
             "colorbar": {
              "outlinewidth": 0,
              "ticks": ""
             }
            },
            "type": "parcoords"
           }
          ],
          "pie": [
           {
            "automargin": true,
            "type": "pie"
           }
          ],
          "scatter": [
           {
            "fillpattern": {
             "fillmode": "overlay",
             "size": 10,
             "solidity": 0.2
            },
            "type": "scatter"
           }
          ],
          "scatter3d": [
           {
            "line": {
             "colorbar": {
              "outlinewidth": 0,
              "ticks": ""
             }
            },
            "marker": {
             "colorbar": {
              "outlinewidth": 0,
              "ticks": ""
             }
            },
            "type": "scatter3d"
           }
          ],
          "scattercarpet": [
           {
            "marker": {
             "colorbar": {
              "outlinewidth": 0,
              "ticks": ""
             }
            },
            "type": "scattercarpet"
           }
          ],
          "scattergeo": [
           {
            "marker": {
             "colorbar": {
              "outlinewidth": 0,
              "ticks": ""
             }
            },
            "type": "scattergeo"
           }
          ],
          "scattergl": [
           {
            "marker": {
             "colorbar": {
              "outlinewidth": 0,
              "ticks": ""
             }
            },
            "type": "scattergl"
           }
          ],
          "scattermap": [
           {
            "marker": {
             "colorbar": {
              "outlinewidth": 0,
              "ticks": ""
             }
            },
            "type": "scattermap"
           }
          ],
          "scattermapbox": [
           {
            "marker": {
             "colorbar": {
              "outlinewidth": 0,
              "ticks": ""
             }
            },
            "type": "scattermapbox"
           }
          ],
          "scatterpolar": [
           {
            "marker": {
             "colorbar": {
              "outlinewidth": 0,
              "ticks": ""
             }
            },
            "type": "scatterpolar"
           }
          ],
          "scatterpolargl": [
           {
            "marker": {
             "colorbar": {
              "outlinewidth": 0,
              "ticks": ""
             }
            },
            "type": "scatterpolargl"
           }
          ],
          "scatterternary": [
           {
            "marker": {
             "colorbar": {
              "outlinewidth": 0,
              "ticks": ""
             }
            },
            "type": "scatterternary"
           }
          ],
          "surface": [
           {
            "colorbar": {
             "outlinewidth": 0,
             "ticks": ""
            },
            "colorscale": [
             [
              0,
              "#0d0887"
             ],
             [
              0.1111111111111111,
              "#46039f"
             ],
             [
              0.2222222222222222,
              "#7201a8"
             ],
             [
              0.3333333333333333,
              "#9c179e"
             ],
             [
              0.4444444444444444,
              "#bd3786"
             ],
             [
              0.5555555555555556,
              "#d8576b"
             ],
             [
              0.6666666666666666,
              "#ed7953"
             ],
             [
              0.7777777777777778,
              "#fb9f3a"
             ],
             [
              0.8888888888888888,
              "#fdca26"
             ],
             [
              1,
              "#f0f921"
             ]
            ],
            "type": "surface"
           }
          ],
          "table": [
           {
            "cells": {
             "fill": {
              "color": "#EBF0F8"
             },
             "line": {
              "color": "white"
             }
            },
            "header": {
             "fill": {
              "color": "#C8D4E3"
             },
             "line": {
              "color": "white"
             }
            },
            "type": "table"
           }
          ]
         },
         "layout": {
          "annotationdefaults": {
           "arrowcolor": "#2a3f5f",
           "arrowhead": 0,
           "arrowwidth": 1
          },
          "autotypenumbers": "strict",
          "coloraxis": {
           "colorbar": {
            "outlinewidth": 0,
            "ticks": ""
           }
          },
          "colorscale": {
           "diverging": [
            [
             0,
             "#8e0152"
            ],
            [
             0.1,
             "#c51b7d"
            ],
            [
             0.2,
             "#de77ae"
            ],
            [
             0.3,
             "#f1b6da"
            ],
            [
             0.4,
             "#fde0ef"
            ],
            [
             0.5,
             "#f7f7f7"
            ],
            [
             0.6,
             "#e6f5d0"
            ],
            [
             0.7,
             "#b8e186"
            ],
            [
             0.8,
             "#7fbc41"
            ],
            [
             0.9,
             "#4d9221"
            ],
            [
             1,
             "#276419"
            ]
           ],
           "sequential": [
            [
             0,
             "#0d0887"
            ],
            [
             0.1111111111111111,
             "#46039f"
            ],
            [
             0.2222222222222222,
             "#7201a8"
            ],
            [
             0.3333333333333333,
             "#9c179e"
            ],
            [
             0.4444444444444444,
             "#bd3786"
            ],
            [
             0.5555555555555556,
             "#d8576b"
            ],
            [
             0.6666666666666666,
             "#ed7953"
            ],
            [
             0.7777777777777778,
             "#fb9f3a"
            ],
            [
             0.8888888888888888,
             "#fdca26"
            ],
            [
             1,
             "#f0f921"
            ]
           ],
           "sequentialminus": [
            [
             0,
             "#0d0887"
            ],
            [
             0.1111111111111111,
             "#46039f"
            ],
            [
             0.2222222222222222,
             "#7201a8"
            ],
            [
             0.3333333333333333,
             "#9c179e"
            ],
            [
             0.4444444444444444,
             "#bd3786"
            ],
            [
             0.5555555555555556,
             "#d8576b"
            ],
            [
             0.6666666666666666,
             "#ed7953"
            ],
            [
             0.7777777777777778,
             "#fb9f3a"
            ],
            [
             0.8888888888888888,
             "#fdca26"
            ],
            [
             1,
             "#f0f921"
            ]
           ]
          },
          "colorway": [
           "#636efa",
           "#EF553B",
           "#00cc96",
           "#ab63fa",
           "#FFA15A",
           "#19d3f3",
           "#FF6692",
           "#B6E880",
           "#FF97FF",
           "#FECB52"
          ],
          "font": {
           "color": "#2a3f5f"
          },
          "geo": {
           "bgcolor": "white",
           "lakecolor": "white",
           "landcolor": "white",
           "showlakes": true,
           "showland": true,
           "subunitcolor": "#C8D4E3"
          },
          "hoverlabel": {
           "align": "left"
          },
          "hovermode": "closest",
          "mapbox": {
           "style": "light"
          },
          "paper_bgcolor": "white",
          "plot_bgcolor": "white",
          "polar": {
           "angularaxis": {
            "gridcolor": "#EBF0F8",
            "linecolor": "#EBF0F8",
            "ticks": ""
           },
           "bgcolor": "white",
           "radialaxis": {
            "gridcolor": "#EBF0F8",
            "linecolor": "#EBF0F8",
            "ticks": ""
           }
          },
          "scene": {
           "xaxis": {
            "backgroundcolor": "white",
            "gridcolor": "#DFE8F3",
            "gridwidth": 2,
            "linecolor": "#EBF0F8",
            "showbackground": true,
            "ticks": "",
            "zerolinecolor": "#EBF0F8"
           },
           "yaxis": {
            "backgroundcolor": "white",
            "gridcolor": "#DFE8F3",
            "gridwidth": 2,
            "linecolor": "#EBF0F8",
            "showbackground": true,
            "ticks": "",
            "zerolinecolor": "#EBF0F8"
           },
           "zaxis": {
            "backgroundcolor": "white",
            "gridcolor": "#DFE8F3",
            "gridwidth": 2,
            "linecolor": "#EBF0F8",
            "showbackground": true,
            "ticks": "",
            "zerolinecolor": "#EBF0F8"
           }
          },
          "shapedefaults": {
           "line": {
            "color": "#2a3f5f"
           }
          },
          "ternary": {
           "aaxis": {
            "gridcolor": "#DFE8F3",
            "linecolor": "#A2B1C6",
            "ticks": ""
           },
           "baxis": {
            "gridcolor": "#DFE8F3",
            "linecolor": "#A2B1C6",
            "ticks": ""
           },
           "bgcolor": "white",
           "caxis": {
            "gridcolor": "#DFE8F3",
            "linecolor": "#A2B1C6",
            "ticks": ""
           }
          },
          "title": {
           "x": 0.05
          },
          "xaxis": {
           "automargin": true,
           "gridcolor": "#EBF0F8",
           "linecolor": "#EBF0F8",
           "ticks": "",
           "title": {
            "standoff": 15
           },
           "zerolinecolor": "#EBF0F8",
           "zerolinewidth": 2
          },
          "yaxis": {
           "automargin": true,
           "gridcolor": "#EBF0F8",
           "linecolor": "#EBF0F8",
           "ticks": "",
           "title": {
            "standoff": 15
           },
           "zerolinecolor": "#EBF0F8",
           "zerolinewidth": 2
          }
         }
        },
        "title": {
         "font": {
          "size": 30
         },
         "text": "Annual GPT-4o Carbon Emissions Equivalent vs Real-World Carbon Sequestration and Usage (Tons CO₂e)",
         "x": 0.5,
         "xanchor": "center"
        },
        "uniformtext": {
         "minsize": 25,
         "mode": "hide"
        },
        "width": 3500,
        "xaxis": {
         "linecolor": "black",
         "linewidth": 2,
         "mirror": false,
         "showline": true,
         "tickangle": 45,
         "tickfont": {
          "size": 30
         },
         "title": {
          "text": ""
         }
        },
        "yaxis": {
         "linecolor": "black",
         "linewidth": 2,
         "mirror": false,
         "showline": true,
         "tickfont": {
          "size": 25
         },
         "title": {
          "font": {
           "size": 25
          },
          "text": "Carbon Emissions Equivalent (Tons CO₂e)"
         }
        }
       }
      }
     },
     "metadata": {},
     "output_type": "display_data"
    }
   ],
   "source": [
    "import pandas as pd\n",
    "import plotly.graph_objects as go\n",
    "\n",
    "# Create the dataframe (Carbon in Kg → Convert to Tons)\n",
    "data = {\n",
    "    'Label': [\n",
    "        '100 Acres Forest Carbon Sequestration',\n",
    "        '1 Flight BOS → LHR (One Way)',\n",
    "        '1 Gasoline Car (U.S. Average)',\n",
    "        '600 Flights (Aggregate)',\n",
    "        '7,500 Gasoline Cars (Aggregate)',\n",
    "        '35,000 Acres Forest Carbon Sequestration',  # Paris/SF Equivalent\n",
    "        'GPT-4o Inference (Minimum Estimate)',\n",
    "        'GPT-4o Inference (Maximum Estimate)'\n",
    "    ],\n",
    "    'Carbon (Tons)': [\n",
    "        100_000 / 1_000,\n",
    "        59_796 / 1_000,\n",
    "        4_600 / 1_000,\n",
    "        35_877_600 / 1_000,\n",
    "        34_500_000 / 1_000,\n",
    "        35_000_000 / 1_000,\n",
    "        35_988_802 / 1_000,\n",
    "        68_475_990 / 1_000\n",
    "    ]\n",
    "}\n",
    "\n",
    "df_carbon = pd.DataFrame(data)\n",
    "\n",
    "# Sort the dataframe by Carbon Tons ascending\n",
    "df_carbon = df_carbon.sort_values(by='Carbon (Tons)', ascending=True).reset_index(drop=True)\n",
    "\n",
    "# Create color palette (now needs to match new sorted order)\n",
    "reference_colors = [\n",
    "    '#D5D8DC', '#BFC9CA', '#AAB7B8', '#85929E', '#707B7C', '#566573'\n",
    "]\n",
    "gpt_colors = ['#27AE60', '#145A32']  # GPT-4o Min and Max\n",
    "\n",
    "colors = reference_colors + gpt_colors\n",
    "\n",
    "# Because we sorted the dataframe, need to assign colors accordingly\n",
    "colors_sorted = []\n",
    "for label in df_carbon['Label']:\n",
    "    if 'GPT-4o' in label:\n",
    "        colors_sorted.append(gpt_colors.pop(0))\n",
    "    else:\n",
    "        colors_sorted.append(reference_colors.pop(0))\n",
    "\n",
    "# Create bar chart\n",
    "fig = go.Figure()\n",
    "\n",
    "for idx, row in df_carbon.iterrows():\n",
    "    fig.add_trace(go.Bar(\n",
    "        x=[row['Label']],\n",
    "        y=[row['Carbon (Tons)']],\n",
    "        name=row['Label'],\n",
    "        marker_color=colors_sorted[idx],\n",
    "        width=0.3,\n",
    "        text=f\"{row['Carbon (Tons)']:,.0f}\",\n",
    "        textposition='outside'\n",
    "    ))\n",
    "\n",
    "# Calculate y position for the Paris/San Francisco annotation\n",
    "paris_bar_height = df_carbon[df_carbon['Label'] == '35,000 Acres Forest Carbon Sequestration']['Carbon (Tons)'].values[0]\n",
    "annotation_y = paris_bar_height * 1.2  # Move it way higher (40% higher)\n",
    "\n",
    "# Update layout\n",
    "fig.update_layout(\n",
    "    width=3500,\n",
    "    height=1500,\n",
    "    title={\n",
    "        'text': 'Annual GPT-4o Carbon Emissions Equivalent vs Real-World Carbon Sequestration and Usage (Tons CO₂e)',\n",
    "        'x': 0.5,\n",
    "        'xanchor': 'center',\n",
    "        'font': {'size': 30}\n",
    "    },\n",
    "    xaxis_title='',\n",
    "    xaxis_tickangle=45,\n",
    "    xaxis_tickfont=dict(size=30),\n",
    "    yaxis_title='Carbon Emissions Equivalent (Tons CO₂e)',\n",
    "    yaxis_title_font=dict(size=25),\n",
    "    yaxis_tickfont=dict(size=25),\n",
    "    showlegend=False,\n",
    "    barmode='group',\n",
    "    bargap=0.1,\n",
    "    template='plotly_white',\n",
    "    uniformtext_minsize=25,\n",
    "    uniformtext_mode='hide',\n",
    "    xaxis=dict(\n",
    "        showline=True,\n",
    "        linecolor='black',\n",
    "        linewidth=2,\n",
    "        mirror=False\n",
    "    ),\n",
    "    yaxis=dict(\n",
    "        showline=True,\n",
    "        linecolor='black',\n",
    "        linewidth=2,\n",
    "        mirror=False\n",
    "    ),\n",
    "    annotations=[\n",
    "        dict(\n",
    "           x=0.56,  # 73% across the plot (adjust this number to fine-tune it)\n",
    "        xref='paper',\n",
    "        y=annotation_y,\n",
    "        yref='y',\n",
    "        text='(Miami/ Boston Size)',\n",
    "        showarrow=False,\n",
    "        font=dict(size=22),\n",
    "        yshift=10\n",
    "    )\n",
    "    ]\n",
    ")\n",
    "\n",
    "fig.show()\n"
   ]
  },
  {
   "cell_type": "code",
   "execution_count": null,
   "metadata": {},
   "outputs": [],
   "source": []
  }
 ],
 "metadata": {
  "kernelspec": {
   "display_name": "Python 3",
   "language": "python",
   "name": "python3"
  },
  "language_info": {
   "codemirror_mode": {
    "name": "ipython",
    "version": 3
   },
   "file_extension": ".py",
   "mimetype": "text/x-python",
   "name": "python",
   "nbconvert_exporter": "python",
   "pygments_lexer": "ipython3",
   "version": "3.9.6"
  }
 },
 "nbformat": 4,
 "nbformat_minor": 2
}
